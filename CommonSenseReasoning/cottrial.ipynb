{
 "cells": [
  {
   "cell_type": "code",
   "execution_count": 1,
   "metadata": {},
   "outputs": [
    {
     "name": "stdout",
     "output_type": "stream",
     "text": [
      "/home/yangzho6/GRIFFIN2\n"
     ]
    }
   ],
   "source": [
    "!pwd"
   ]
  },
  {
   "cell_type": "code",
   "execution_count": 2,
   "metadata": {},
   "outputs": [],
   "source": [
    "import torch \n",
    "import transformers \n",
    "import lm_eval \n",
    "from datasets import load_dataset \n",
    "from transformers import AutoTokenizer, LlamaForCausalLM \n",
    "import numpy as np "
   ]
  },
  {
   "cell_type": "code",
   "execution_count": 3,
   "metadata": {},
   "outputs": [
    {
     "name": "stderr",
     "output_type": "stream",
     "text": [
      "/home/yangzho6/anaconda3/envs/griffin/lib/python3.12/site-packages/datasets/load.py:1486: FutureWarning: The repository for tasksource/bigbench contains custom code which must be executed to correctly load the dataset. You can inspect the repository content at https://hf.co/datasets/tasksource/bigbench\n",
      "You can avoid this message in future by passing the argument `trust_remote_code=True`.\n",
      "Passing `trust_remote_code=True` will be mandatory to load this dataset from the next major release of `datasets`.\n",
      "  warnings.warn(\n"
     ]
    }
   ],
   "source": [
    "dataset = load_dataset(\"tasksource/bigbench\", \"date_understanding\") "
   ]
  },
  {
   "cell_type": "code",
   "execution_count": 4,
   "metadata": {},
   "outputs": [],
   "source": [
    "!export CUDA_VISIBLE_DEVICES=8"
   ]
  },
  {
   "cell_type": "code",
   "execution_count": 3,
   "metadata": {},
   "outputs": [
    {
     "name": "stdout",
     "output_type": "stream",
     "text": [
      "\u001b[1m\u001b[37mlovelace.ece.local.cmu.edu\u001b[m  Sun Jun  9 07:07:17 2024  \u001b[1m\u001b[30m545.23.06\u001b[m\n",
      "\u001b[36m[0]\u001b[m \u001b[34mNVIDIA L40\u001b[m |\u001b[31m 29°C\u001b[m, \u001b[32m  0 %\u001b[m | \u001b[36m\u001b[1m\u001b[33m    4\u001b[m / \u001b[33m46068\u001b[m MB |\n",
      "\u001b[36m[1]\u001b[m \u001b[34mNVIDIA L40\u001b[m |\u001b[31m 32°C\u001b[m, \u001b[32m  0 %\u001b[m | \u001b[36m\u001b[1m\u001b[33m    4\u001b[m / \u001b[33m46068\u001b[m MB |\n",
      "\u001b[36m[2]\u001b[m \u001b[34mNVIDIA L40\u001b[m |\u001b[31m 32°C\u001b[m, \u001b[32m  0 %\u001b[m | \u001b[36m\u001b[1m\u001b[33m    4\u001b[m / \u001b[33m46068\u001b[m MB |\n",
      "\u001b[36m[3]\u001b[m \u001b[34mNVIDIA L40\u001b[m |\u001b[31m 31°C\u001b[m, \u001b[32m  0 %\u001b[m | \u001b[36m\u001b[1m\u001b[33m    4\u001b[m / \u001b[33m46068\u001b[m MB |\n",
      "\u001b[36m[4]\u001b[m \u001b[34mNVIDIA L40\u001b[m |\u001b[31m 33°C\u001b[m, \u001b[32m  0 %\u001b[m | \u001b[36m\u001b[1m\u001b[33m    4\u001b[m / \u001b[33m46068\u001b[m MB |\n",
      "\u001b[36m[5]\u001b[m \u001b[34mNVIDIA L40\u001b[m |\u001b[31m 28°C\u001b[m, \u001b[32m  0 %\u001b[m | \u001b[36m\u001b[1m\u001b[33m    4\u001b[m / \u001b[33m46068\u001b[m MB |\n",
      "\u001b[36m[6]\u001b[m \u001b[34mNVIDIA L40\u001b[m |\u001b[31m 33°C\u001b[m, \u001b[32m  0 %\u001b[m | \u001b[36m\u001b[1m\u001b[33m    4\u001b[m / \u001b[33m46068\u001b[m MB |\n",
      "\u001b[36m[7]\u001b[m \u001b[34mNVIDIA L40\u001b[m |\u001b[31m 32°C\u001b[m, \u001b[32m  0 %\u001b[m | \u001b[36m\u001b[1m\u001b[33m    4\u001b[m / \u001b[33m46068\u001b[m MB |\n",
      "\u001b[36m[8]\u001b[m \u001b[34mNVIDIA L40\u001b[m |\u001b[31m 32°C\u001b[m, \u001b[32m  0 %\u001b[m | \u001b[36m\u001b[1m\u001b[33m    4\u001b[m / \u001b[33m46068\u001b[m MB |\n",
      "\u001b[36m[9]\u001b[m \u001b[34mNVIDIA L40\u001b[m |\u001b[31m 33°C\u001b[m, \u001b[32m  0 %\u001b[m | \u001b[36m\u001b[1m\u001b[33m    4\u001b[m / \u001b[33m46068\u001b[m MB |\n"
     ]
    }
   ],
   "source": [
    "!gpustat"
   ]
  },
  {
   "cell_type": "code",
   "execution_count": 3,
   "metadata": {},
   "outputs": [
    {
     "name": "stderr",
     "output_type": "stream",
     "text": [
      "/home/yangzho6/anaconda3/envs/griffin/lib/python3.12/site-packages/huggingface_hub/file_download.py:1132: FutureWarning: `resume_download` is deprecated and will be removed in version 1.0.0. Downloads always resume when possible. If you want to force a new download, use `force_download=True`.\n",
      "  warnings.warn(\n",
      "Special tokens have been added in the vocabulary, make sure the associated word embeddings are fine-tuned or trained.\n"
     ]
    },
    {
     "name": "stdout",
     "output_type": "stream",
     "text": [
      "We now use eos_token as pad token\n"
     ]
    },
    {
     "data": {
      "application/vnd.jupyter.widget-view+json": {
       "model_id": "a6265a73a3004211a59dccb8177c957b",
       "version_major": 2,
       "version_minor": 0
      },
      "text/plain": [
       "Loading checkpoint shards:   0%|          | 0/4 [00:00<?, ?it/s]"
      ]
     },
     "metadata": {},
     "output_type": "display_data"
    }
   ],
   "source": [
    "tokenizer = AutoTokenizer.from_pretrained(\"meta-llama/Meta-Llama-3-8B-Instruct\") \n",
    "if tokenizer.pad_token is not None: \n",
    "    print(\"tokenizer has pad token {}\".format(tokenizer.pad_token)) \n",
    "else: \n",
    "    tokenizer.pad_token = tokenizer.eos_token \n",
    "    print(\"We now use eos_token as pad token\") \n",
    "tokenizer.padding_side = \"left\" \n",
    "model = LlamaForCausalLM.from_pretrained(\"meta-llama/Meta-Llama-3-8B-Instruct\", device_map = \"cuda\", torch_dtype = torch.bfloat16) "
   ]
  },
  {
   "cell_type": "code",
   "execution_count": null,
   "metadata": {},
   "outputs": [],
   "source": [
    "chainofthoughtprompt = \"Q: In the US, Thanksgiving is on the fourth Thursday of November. Today is the US Thanksgiving of 2001. What is the date today in MM/DD/YYYY? \\\n",
    "A: The first day of November 2001 or 11/01/2001 is a Thursday, so the first Thursday is on 11/01/2001. The second is on 11/08/2001. The third is on 11/15/2001. So the fourth is on 11/22/2001. So the answer is 11/22/2001.\\\n",
    "\\n\\n\\\n",
    "Q: Jane scheduled 3 apointments with 5 poeple for tomorrow (Tue, 7/9/1972). What is the date one year ago from today in MM/DD/YYYY? \\\n",
    "A: If tomorrow is 7/9/1972, then today is 7/8/1972, and one year ago from today is 7/8/1971. So the answer is 7/8/1971.\\\n",
    "\\n\\n\\\n",
    "Q: Yesterday, Jan 21, 2011, Jane ate 2 pizzas and 5 wings. What is the date one week from today in MM/DD/YYYY? \\\n",
    "A: If yesterday is 01/21/2011, then today is 01/22/2011, and one week from today is 7 days in the future of today, which is 01/29/2011. So the answer is 01/29/2011.\\\n",
    "\\n\\n\\\n",
    "Q: Today is the second day of the third month of 1966. What is the date one week ago from today in MM/DD/YYYY? \\\n",
    "A: If today is in the third month of 1966, then today is in March 1966. Also, today is the second day of March, so today is 03/02/1966. One week ago from today is 7 days in the past of today, which is the 5th last day of February 1966. Since there are 28 days in February 1996, the 5th last day of February 1966 is 02/23/1966. So the answer is 02/23/1966.\\\n",
    "\\n\\n\\\n",
    "Q: Today, 8/3/1997, is a day that we will never forget. What is the date one week from today in MM/DD/YYYY? \\\n",
    "A: If today is 8/3/1997, then one week from today is 7 days in the future of today, which is 8/10/1997. So the answer is 8/10/1997.\\\n",
    "\\n\\n\\\n",
    "Q: This is the last day of 1899. What is the date one week ago from today in MM/DD/YYYY? \\\n",
    "A: If today is the last day of 1899, then today is 12/31/1899. One week ago from today is 7 days in the past of today, which is 12/24/1899. So the answer is 12/24/1899.\\\n",
    "\\n\\n\\\n",
    "Q: Today is the last day of the first quarter of 2008. What is the date one week from today in MM/DD/YYYY? \\\n",
    "A: One quarter is 3 months, so the first quarter is January, February, and March. Then, the last day of the first quarter of 2008 is the last day of March, which is 03/31/2008. One week from today is 7 days in the future of today, which is the 7th day of April 2008 or 04/07/2008. So the answer is 04/07/2008. \\\n",
    "\\n\\n\\\n",
    "Q: Today is Christmas Eve of 1937. What is the date yesterday in MM/DD/YYYY? \\\n",
    "A: If today is Chrstmas Eve of 1937, then today is 12/24/1937. Yesterday is 1 day in the past of today, which is 12/23/1937. So the answer is 12/23/1937.\\\n",
    "\\n\\n\\\n",
    "Q: Jane is celebrating the last day of Jan 2012. What is the date one week from today in MM/DD/YYYY? \\\n",
    "A: If today is the last day of Jan 2012, then today is 01/31/2012. One week from today is 7 day in the future of today, which is the 7th day of February 2012, or 02/07/2012. So the answer is 02/07/2012.\\\n",
    "\\n\\n\\\n",
    "Q: The day before yesterday was 11/23/1933. What is the date tomorrow in MM/DD/YYYY? \\\n",
    "A: If the day before yesterday was 11/23/1933, then yesterday is 11/24/1933. Today is 11/25/1933. Tomorrow is 1 day in the future of today, which is 11/26/1933. So the answer is 11/26/1933.\\\n",
    "\\n\\n\" "
   ]
  },
  {
   "cell_type": "code",
   "execution_count": 6,
   "metadata": {},
   "outputs": [],
   "source": [
    "from termcolor import colored \n",
    "from datasets import concatenate_datasets "
   ]
  },
  {
   "cell_type": "code",
   "execution_count": 29,
   "metadata": {},
   "outputs": [],
   "source": [
    "dataset = concatenate_datasets([dataset[\"train\"], dataset[\"validation\"]]) "
   ]
  },
  {
   "cell_type": "code",
   "execution_count": 48,
   "metadata": {},
   "outputs": [
    {
     "name": "stderr",
     "output_type": "stream",
     "text": [
      "The attention mask and the pad token id were not set. As a consequence, you may observe unexpected behavior. Please pass your input's `attention_mask` to obtain reliable results.\n",
      "Setting `pad_token_id` to `eos_token_id`:128001 for open-end generation.\n",
      "The attention mask and the pad token id were not set. As a consequence, you may observe unexpected behavior. Please pass your input's `attention_mask` to obtain reliable results.\n",
      "Setting `pad_token_id` to `eos_token_id`:128001 for open-end generation.\n"
     ]
    },
    {
     "name": "stdout",
     "output_type": "stream",
     "text": [
      "Q: In the US, Thanksgiving is on the fourth Thursday of November. Today is the US Thanksgiving of 2001. What is the date today in MM/DD/YYYY? A: The first day of November 2001 or 11/01/2001 is a Thursday, so the first Thursday is on 11/01/2001. The second is on 11/08/2001. The third is on 11/15/2001. So the fourth is on 11/22/2001. So the answer is 11/22/2001.\n",
      "\n",
      "Q: Jane scheduled 3 apointments with 5 poeple for tomorrow (Tue, 7/9/1972). What is the date one year ago from today in MM/DD/YYYY? A: If yesterday is 7/9/1972, then today is 7/8/1972, and one year ago from today is 7/8/1971. So the answer is 7/8/1971.\n",
      "\n",
      "Q: Yesterday, Jan 21, 2011, Jane ate 2 pizzas and 5 wings. What is the date one week from today in MM/DD/YYYY? A: If yesterday is 01/21/2011, then today is 01/22/2011, and one week from today is 7 days in the future of today, which is 01/29/2011. So the answer is 01/29/2011.\n",
      "\n",
      "Q: Today is the second day of the third month of 1966. What is the date one week ago from today in MM/DD/YYYY? A: If today is in the third month of 1966, then today is in March 1966. Also, today is the second day of March, so today is 03/02/1966. One week ago from today is 7 days in the past of today, which is the 5th last day of February 1966. Since there are 28 days in February 1996, the 5th last day of February 1966 is 02/23/1966. So the answer is 02/23/1966.\n",
      "\n",
      "Q: Today, 8/3/1997, is a day that we will never forget. What is the date one week from today in MM/DD/YYYY? A: If today is 8/3/1997, then one week from today is 7 days in the future of today, which is 8/10/1997. So the answer is 8/10/1997.\n",
      "\n",
      "Q: This is the last day of 1899. What is the date one week ago from today in MM/DD/YYYY? A: If today is the last day of 1899, then today is 12/31/1899. One week ago from today is 7 days in the past of today, which is 12/24/1899. So the answer is 12/24/1899.\n",
      "\n",
      "Q: Today is the last day of the first quarter of 2008. What is the date one week from today in MM/DD/YYYY? A: One quarter is 3 months, so the first quarter is January, February, and March. Then, the last day of the first quarter of 2008 is the last day of March, which is 03/31/2008. One week from today is 7 days in the future of today, which is the 7th day of April 2008 or 04/07/2008. So the answer is 04/07/2008. \n",
      "\n",
      "Q: Today is Christmas Eve of 1937. What is the date yesterday in MM/DD/YYYY? A: If today is Chrstmas Eve of 1937, then today is 12/24/1937. Yesterday is 1 day in the past of today, which is 12/23/1937. So the answer is 12/23/1937.\n",
      "\n",
      "Q: Jane is celebrating the last day of Jan 2012. What is the date one week from today in MM/DD/YYYY? A: If today is the last day of Jan 2012, then today is 01/31/2012. One week from today is 7 day in the future of today, which is the 7th day of February 2012, or 02/07/2012. So the answer is 02/07/2012.\n",
      "\n",
      "Q: The day before yesterday was 11/23/1933. What is the date tomorrow in MM/DD/YYYY? A: If the day before yesterday was 11/23/1933, then yesterday is 11/24/1933. Today is 11/25/1933. Tomorrow is 1 day in the future of today, which is 11/26/1933. So the answer is 11/26/1933.\n",
      "\n",
      "Q: Yesterday, Jan 21, 2011, Jane ate 2 pizzas and 5 wings. What is the date one week ago from today in MM/DD/YYYY?\n",
      "A:\u001b[32m If yesterday is 01/21/2011, then today is 01/22/2011, and one week ago from today is 7 days in the past of today, which is 01/15/2011. So the answer is 01/15/2011.\n",
      "\n",
      "\u001b[0m "
     ]
    },
    {
     "name": "stderr",
     "output_type": "stream",
     "text": [
      "The attention mask and the pad token id were not set. As a consequence, you may observe unexpected behavior. Please pass your input's `attention_mask` to obtain reliable results.\n",
      "Setting `pad_token_id` to `eos_token_id`:128001 for open-end generation.\n"
     ]
    },
    {
     "name": "stdout",
     "output_type": "stream",
     "text": [
      "Q: In the US, Thanksgiving is on the fourth Thursday of November. Today is the US Thanksgiving of 2001. What is the date today in MM/DD/YYYY? A: The first day of November 2001 or 11/01/2001 is a Thursday, so the first Thursday is on 11/01/2001. The second is on 11/08/2001. The third is on 11/15/2001. So the fourth is on 11/22/2001. So the answer is 11/22/2001.\n",
      "\n",
      "Q: Jane scheduled 3 apointments with 5 poeple for tomorrow (Tue, 7/9/1972). What is the date one year ago from today in MM/DD/YYYY? A: If yesterday is 7/9/1972, then today is 7/8/1972, and one year ago from today is 7/8/1971. So the answer is 7/8/1971.\n",
      "\n",
      "Q: Yesterday, Jan 21, 2011, Jane ate 2 pizzas and 5 wings. What is the date one week from today in MM/DD/YYYY? A: If yesterday is 01/21/2011, then today is 01/22/2011, and one week from today is 7 days in the future of today, which is 01/29/2011. So the answer is 01/29/2011.\n",
      "\n",
      "Q: Today is the second day of the third month of 1966. What is the date one week ago from today in MM/DD/YYYY? A: If today is in the third month of 1966, then today is in March 1966. Also, today is the second day of March, so today is 03/02/1966. One week ago from today is 7 days in the past of today, which is the 5th last day of February 1966. Since there are 28 days in February 1996, the 5th last day of February 1966 is 02/23/1966. So the answer is 02/23/1966.\n",
      "\n",
      "Q: Today, 8/3/1997, is a day that we will never forget. What is the date one week from today in MM/DD/YYYY? A: If today is 8/3/1997, then one week from today is 7 days in the future of today, which is 8/10/1997. So the answer is 8/10/1997.\n",
      "\n",
      "Q: This is the last day of 1899. What is the date one week ago from today in MM/DD/YYYY? A: If today is the last day of 1899, then today is 12/31/1899. One week ago from today is 7 days in the past of today, which is 12/24/1899. So the answer is 12/24/1899.\n",
      "\n",
      "Q: Today is the last day of the first quarter of 2008. What is the date one week from today in MM/DD/YYYY? A: One quarter is 3 months, so the first quarter is January, February, and March. Then, the last day of the first quarter of 2008 is the last day of March, which is 03/31/2008. One week from today is 7 days in the future of today, which is the 7th day of April 2008 or 04/07/2008. So the answer is 04/07/2008. \n",
      "\n",
      "Q: Today is Christmas Eve of 1937. What is the date yesterday in MM/DD/YYYY? A: If today is Chrstmas Eve of 1937, then today is 12/24/1937. Yesterday is 1 day in the past of today, which is 12/23/1937. So the answer is 12/23/1937.\n",
      "\n",
      "Q: Jane is celebrating the last day of Jan 2012. What is the date one week from today in MM/DD/YYYY? A: If today is the last day of Jan 2012, then today is 01/31/2012. One week from today is 7 day in the future of today, which is the 7th day of February 2012, or 02/07/2012. So the answer is 02/07/2012.\n",
      "\n",
      "Q: The day before yesterday was 11/23/1933. What is the date tomorrow in MM/DD/YYYY? A: If the day before yesterday was 11/23/1933, then yesterday is 11/24/1933. Today is 11/25/1933. Tomorrow is 1 day in the future of today, which is 11/26/1933. So the answer is 11/26/1933.\n",
      "\n",
      "Q: Jane quited her job on Mar 20, 2020. 176 days have passed since then. What is the date tomorrow in MM/DD/YYYY?\n",
      "A:\u001b[32m If 176 days have passed since Mar 20, 2020, then we need to add 176 days to Mar 20, 2020. Mar 20, 2020 is 3/20/2020. Adding 176 days to 3/20/2020, we get 9/13/2020. Tomorrow is 1 day in the future of today, which is 9/14/2020. So the answer is 9/1\u001b[0m "
     ]
    },
    {
     "name": "stderr",
     "output_type": "stream",
     "text": [
      "The attention mask and the pad token id were not set. As a consequence, you may observe unexpected behavior. Please pass your input's `attention_mask` to obtain reliable results.\n",
      "Setting `pad_token_id` to `eos_token_id`:128001 for open-end generation.\n"
     ]
    },
    {
     "name": "stdout",
     "output_type": "stream",
     "text": [
      "Q: In the US, Thanksgiving is on the fourth Thursday of November. Today is the US Thanksgiving of 2001. What is the date today in MM/DD/YYYY? A: The first day of November 2001 or 11/01/2001 is a Thursday, so the first Thursday is on 11/01/2001. The second is on 11/08/2001. The third is on 11/15/2001. So the fourth is on 11/22/2001. So the answer is 11/22/2001.\n",
      "\n",
      "Q: Jane scheduled 3 apointments with 5 poeple for tomorrow (Tue, 7/9/1972). What is the date one year ago from today in MM/DD/YYYY? A: If yesterday is 7/9/1972, then today is 7/8/1972, and one year ago from today is 7/8/1971. So the answer is 7/8/1971.\n",
      "\n",
      "Q: Yesterday, Jan 21, 2011, Jane ate 2 pizzas and 5 wings. What is the date one week from today in MM/DD/YYYY? A: If yesterday is 01/21/2011, then today is 01/22/2011, and one week from today is 7 days in the future of today, which is 01/29/2011. So the answer is 01/29/2011.\n",
      "\n",
      "Q: Today is the second day of the third month of 1966. What is the date one week ago from today in MM/DD/YYYY? A: If today is in the third month of 1966, then today is in March 1966. Also, today is the second day of March, so today is 03/02/1966. One week ago from today is 7 days in the past of today, which is the 5th last day of February 1966. Since there are 28 days in February 1996, the 5th last day of February 1966 is 02/23/1966. So the answer is 02/23/1966.\n",
      "\n",
      "Q: Today, 8/3/1997, is a day that we will never forget. What is the date one week from today in MM/DD/YYYY? A: If today is 8/3/1997, then one week from today is 7 days in the future of today, which is 8/10/1997. So the answer is 8/10/1997.\n",
      "\n",
      "Q: This is the last day of 1899. What is the date one week ago from today in MM/DD/YYYY? A: If today is the last day of 1899, then today is 12/31/1899. One week ago from today is 7 days in the past of today, which is 12/24/1899. So the answer is 12/24/1899.\n",
      "\n",
      "Q: Today is the last day of the first quarter of 2008. What is the date one week from today in MM/DD/YYYY? A: One quarter is 3 months, so the first quarter is January, February, and March. Then, the last day of the first quarter of 2008 is the last day of March, which is 03/31/2008. One week from today is 7 days in the future of today, which is the 7th day of April 2008 or 04/07/2008. So the answer is 04/07/2008. \n",
      "\n",
      "Q: Today is Christmas Eve of 1937. What is the date yesterday in MM/DD/YYYY? A: If today is Chrstmas Eve of 1937, then today is 12/24/1937. Yesterday is 1 day in the past of today, which is 12/23/1937. So the answer is 12/23/1937.\n",
      "\n",
      "Q: Jane is celebrating the last day of Jan 2012. What is the date one week from today in MM/DD/YYYY? A: If today is the last day of Jan 2012, then today is 01/31/2012. One week from today is 7 day in the future of today, which is the 7th day of February 2012, or 02/07/2012. So the answer is 02/07/2012.\n",
      "\n",
      "Q: The day before yesterday was 11/23/1933. What is the date tomorrow in MM/DD/YYYY? A: If the day before yesterday was 11/23/1933, then yesterday is 11/24/1933. Today is 11/25/1933. Tomorrow is 1 day in the future of today, which is 11/26/1933. So the answer is 11/26/1933.\n",
      "\n",
      "Q: Today is the palindrome day of 2020, because the MMDDYYYY format of the date is the same backwards as forwards. What is the date 24 hours later in MM/DD/YYYY?\n",
      "A:\u001b[32m If today is the palindrome day of 2020, then today is 02/02/2020. 24 hours later is the next day, which is 02/03/2020. So the answer is 02/03/2020. \n",
      "\n",
      "\u001b[0m "
     ]
    },
    {
     "name": "stderr",
     "output_type": "stream",
     "text": [
      "The attention mask and the pad token id were not set. As a consequence, you may observe unexpected behavior. Please pass your input's `attention_mask` to obtain reliable results.\n",
      "Setting `pad_token_id` to `eos_token_id`:128001 for open-end generation.\n"
     ]
    },
    {
     "name": "stdout",
     "output_type": "stream",
     "text": [
      "Q: In the US, Thanksgiving is on the fourth Thursday of November. Today is the US Thanksgiving of 2001. What is the date today in MM/DD/YYYY? A: The first day of November 2001 or 11/01/2001 is a Thursday, so the first Thursday is on 11/01/2001. The second is on 11/08/2001. The third is on 11/15/2001. So the fourth is on 11/22/2001. So the answer is 11/22/2001.\n",
      "\n",
      "Q: Jane scheduled 3 apointments with 5 poeple for tomorrow (Tue, 7/9/1972). What is the date one year ago from today in MM/DD/YYYY? A: If yesterday is 7/9/1972, then today is 7/8/1972, and one year ago from today is 7/8/1971. So the answer is 7/8/1971.\n",
      "\n",
      "Q: Yesterday, Jan 21, 2011, Jane ate 2 pizzas and 5 wings. What is the date one week from today in MM/DD/YYYY? A: If yesterday is 01/21/2011, then today is 01/22/2011, and one week from today is 7 days in the future of today, which is 01/29/2011. So the answer is 01/29/2011.\n",
      "\n",
      "Q: Today is the second day of the third month of 1966. What is the date one week ago from today in MM/DD/YYYY? A: If today is in the third month of 1966, then today is in March 1966. Also, today is the second day of March, so today is 03/02/1966. One week ago from today is 7 days in the past of today, which is the 5th last day of February 1966. Since there are 28 days in February 1996, the 5th last day of February 1966 is 02/23/1966. So the answer is 02/23/1966.\n",
      "\n",
      "Q: Today, 8/3/1997, is a day that we will never forget. What is the date one week from today in MM/DD/YYYY? A: If today is 8/3/1997, then one week from today is 7 days in the future of today, which is 8/10/1997. So the answer is 8/10/1997.\n",
      "\n",
      "Q: This is the last day of 1899. What is the date one week ago from today in MM/DD/YYYY? A: If today is the last day of 1899, then today is 12/31/1899. One week ago from today is 7 days in the past of today, which is 12/24/1899. So the answer is 12/24/1899.\n",
      "\n",
      "Q: Today is the last day of the first quarter of 2008. What is the date one week from today in MM/DD/YYYY? A: One quarter is 3 months, so the first quarter is January, February, and March. Then, the last day of the first quarter of 2008 is the last day of March, which is 03/31/2008. One week from today is 7 days in the future of today, which is the 7th day of April 2008 or 04/07/2008. So the answer is 04/07/2008. \n",
      "\n",
      "Q: Today is Christmas Eve of 1937. What is the date yesterday in MM/DD/YYYY? A: If today is Chrstmas Eve of 1937, then today is 12/24/1937. Yesterday is 1 day in the past of today, which is 12/23/1937. So the answer is 12/23/1937.\n",
      "\n",
      "Q: Jane is celebrating the last day of Jan 2012. What is the date one week from today in MM/DD/YYYY? A: If today is the last day of Jan 2012, then today is 01/31/2012. One week from today is 7 day in the future of today, which is the 7th day of February 2012, or 02/07/2012. So the answer is 02/07/2012.\n",
      "\n",
      "Q: The day before yesterday was 11/23/1933. What is the date tomorrow in MM/DD/YYYY? A: If the day before yesterday was 11/23/1933, then yesterday is 11/24/1933. Today is 11/25/1933. Tomorrow is 1 day in the future of today, which is 11/26/1933. So the answer is 11/26/1933.\n",
      "\n",
      "Q: It is 4/19/1969 today. What is the date 24 hours later in MM/DD/YYYY?\n",
      "A:\u001b[32m If today is 4/19/1969, then 24 hours later is tomorrow, which is 4/20/1969. So the answer is 04/20/1969.\n",
      "\n",
      "\u001b[0m "
     ]
    },
    {
     "name": "stderr",
     "output_type": "stream",
     "text": [
      "The attention mask and the pad token id were not set. As a consequence, you may observe unexpected behavior. Please pass your input's `attention_mask` to obtain reliable results.\n",
      "Setting `pad_token_id` to `eos_token_id`:128001 for open-end generation.\n"
     ]
    },
    {
     "name": "stdout",
     "output_type": "stream",
     "text": [
      "Q: In the US, Thanksgiving is on the fourth Thursday of November. Today is the US Thanksgiving of 2001. What is the date today in MM/DD/YYYY? A: The first day of November 2001 or 11/01/2001 is a Thursday, so the first Thursday is on 11/01/2001. The second is on 11/08/2001. The third is on 11/15/2001. So the fourth is on 11/22/2001. So the answer is 11/22/2001.\n",
      "\n",
      "Q: Jane scheduled 3 apointments with 5 poeple for tomorrow (Tue, 7/9/1972). What is the date one year ago from today in MM/DD/YYYY? A: If yesterday is 7/9/1972, then today is 7/8/1972, and one year ago from today is 7/8/1971. So the answer is 7/8/1971.\n",
      "\n",
      "Q: Yesterday, Jan 21, 2011, Jane ate 2 pizzas and 5 wings. What is the date one week from today in MM/DD/YYYY? A: If yesterday is 01/21/2011, then today is 01/22/2011, and one week from today is 7 days in the future of today, which is 01/29/2011. So the answer is 01/29/2011.\n",
      "\n",
      "Q: Today is the second day of the third month of 1966. What is the date one week ago from today in MM/DD/YYYY? A: If today is in the third month of 1966, then today is in March 1966. Also, today is the second day of March, so today is 03/02/1966. One week ago from today is 7 days in the past of today, which is the 5th last day of February 1966. Since there are 28 days in February 1996, the 5th last day of February 1966 is 02/23/1966. So the answer is 02/23/1966.\n",
      "\n",
      "Q: Today, 8/3/1997, is a day that we will never forget. What is the date one week from today in MM/DD/YYYY? A: If today is 8/3/1997, then one week from today is 7 days in the future of today, which is 8/10/1997. So the answer is 8/10/1997.\n",
      "\n",
      "Q: This is the last day of 1899. What is the date one week ago from today in MM/DD/YYYY? A: If today is the last day of 1899, then today is 12/31/1899. One week ago from today is 7 days in the past of today, which is 12/24/1899. So the answer is 12/24/1899.\n",
      "\n",
      "Q: Today is the last day of the first quarter of 2008. What is the date one week from today in MM/DD/YYYY? A: One quarter is 3 months, so the first quarter is January, February, and March. Then, the last day of the first quarter of 2008 is the last day of March, which is 03/31/2008. One week from today is 7 days in the future of today, which is the 7th day of April 2008 or 04/07/2008. So the answer is 04/07/2008. \n",
      "\n",
      "Q: Today is Christmas Eve of 1937. What is the date yesterday in MM/DD/YYYY? A: If today is Chrstmas Eve of 1937, then today is 12/24/1937. Yesterday is 1 day in the past of today, which is 12/23/1937. So the answer is 12/23/1937.\n",
      "\n",
      "Q: Jane is celebrating the last day of Jan 2012. What is the date one week from today in MM/DD/YYYY? A: If today is the last day of Jan 2012, then today is 01/31/2012. One week from today is 7 day in the future of today, which is the 7th day of February 2012, or 02/07/2012. So the answer is 02/07/2012.\n",
      "\n",
      "Q: The day before yesterday was 11/23/1933. What is the date tomorrow in MM/DD/YYYY? A: If the day before yesterday was 11/23/1933, then yesterday is 11/24/1933. Today is 11/25/1933. Tomorrow is 1 day in the future of today, which is 11/26/1933. So the answer is 11/26/1933.\n",
      "\n",
      "Q: The concert was scheduled to be on 06/01/1943, but was delayed by one day to today. What is the date 10 days ago in MM/DD/YYYY?\n",
      "A:\u001b[32m If the concert was originally scheduled to be on 06/01/1943, then 10 days ago from today is 5/22/1943. So the answer is 05/22/1943.\n",
      "\n",
      "\u001b[0m "
     ]
    },
    {
     "name": "stderr",
     "output_type": "stream",
     "text": [
      "The attention mask and the pad token id were not set. As a consequence, you may observe unexpected behavior. Please pass your input's `attention_mask` to obtain reliable results.\n",
      "Setting `pad_token_id` to `eos_token_id`:128001 for open-end generation.\n"
     ]
    },
    {
     "name": "stdout",
     "output_type": "stream",
     "text": [
      "Q: In the US, Thanksgiving is on the fourth Thursday of November. Today is the US Thanksgiving of 2001. What is the date today in MM/DD/YYYY? A: The first day of November 2001 or 11/01/2001 is a Thursday, so the first Thursday is on 11/01/2001. The second is on 11/08/2001. The third is on 11/15/2001. So the fourth is on 11/22/2001. So the answer is 11/22/2001.\n",
      "\n",
      "Q: Jane scheduled 3 apointments with 5 poeple for tomorrow (Tue, 7/9/1972). What is the date one year ago from today in MM/DD/YYYY? A: If yesterday is 7/9/1972, then today is 7/8/1972, and one year ago from today is 7/8/1971. So the answer is 7/8/1971.\n",
      "\n",
      "Q: Yesterday, Jan 21, 2011, Jane ate 2 pizzas and 5 wings. What is the date one week from today in MM/DD/YYYY? A: If yesterday is 01/21/2011, then today is 01/22/2011, and one week from today is 7 days in the future of today, which is 01/29/2011. So the answer is 01/29/2011.\n",
      "\n",
      "Q: Today is the second day of the third month of 1966. What is the date one week ago from today in MM/DD/YYYY? A: If today is in the third month of 1966, then today is in March 1966. Also, today is the second day of March, so today is 03/02/1966. One week ago from today is 7 days in the past of today, which is the 5th last day of February 1966. Since there are 28 days in February 1996, the 5th last day of February 1966 is 02/23/1966. So the answer is 02/23/1966.\n",
      "\n",
      "Q: Today, 8/3/1997, is a day that we will never forget. What is the date one week from today in MM/DD/YYYY? A: If today is 8/3/1997, then one week from today is 7 days in the future of today, which is 8/10/1997. So the answer is 8/10/1997.\n",
      "\n",
      "Q: This is the last day of 1899. What is the date one week ago from today in MM/DD/YYYY? A: If today is the last day of 1899, then today is 12/31/1899. One week ago from today is 7 days in the past of today, which is 12/24/1899. So the answer is 12/24/1899.\n",
      "\n",
      "Q: Today is the last day of the first quarter of 2008. What is the date one week from today in MM/DD/YYYY? A: One quarter is 3 months, so the first quarter is January, February, and March. Then, the last day of the first quarter of 2008 is the last day of March, which is 03/31/2008. One week from today is 7 days in the future of today, which is the 7th day of April 2008 or 04/07/2008. So the answer is 04/07/2008. \n",
      "\n",
      "Q: Today is Christmas Eve of 1937. What is the date yesterday in MM/DD/YYYY? A: If today is Chrstmas Eve of 1937, then today is 12/24/1937. Yesterday is 1 day in the past of today, which is 12/23/1937. So the answer is 12/23/1937.\n",
      "\n",
      "Q: Jane is celebrating the last day of Jan 2012. What is the date one week from today in MM/DD/YYYY? A: If today is the last day of Jan 2012, then today is 01/31/2012. One week from today is 7 day in the future of today, which is the 7th day of February 2012, or 02/07/2012. So the answer is 02/07/2012.\n",
      "\n",
      "Q: The day before yesterday was 11/23/1933. What is the date tomorrow in MM/DD/YYYY? A: If the day before yesterday was 11/23/1933, then yesterday is 11/24/1933. Today is 11/25/1933. Tomorrow is 1 day in the future of today, which is 11/26/1933. So the answer is 11/26/1933.\n",
      "\n",
      "Q: The first day of 2019 is a Tuesday, and today is the first Monday of 2019. What is the date today in MM/DD/YYYY?\n",
      "A:\u001b[32m If the first day of 2019 is a Tuesday, then the first Monday of 2019 is 1 day in the past of the first day of 2019. So the first Monday of 2019 is 01/07/2019. So the answer is 01/07/2019.\n",
      "\n",
      "\u001b[0m "
     ]
    },
    {
     "name": "stderr",
     "output_type": "stream",
     "text": [
      "The attention mask and the pad token id were not set. As a consequence, you may observe unexpected behavior. Please pass your input's `attention_mask` to obtain reliable results.\n",
      "Setting `pad_token_id` to `eos_token_id`:128001 for open-end generation.\n"
     ]
    },
    {
     "name": "stdout",
     "output_type": "stream",
     "text": [
      "Q: In the US, Thanksgiving is on the fourth Thursday of November. Today is the US Thanksgiving of 2001. What is the date today in MM/DD/YYYY? A: The first day of November 2001 or 11/01/2001 is a Thursday, so the first Thursday is on 11/01/2001. The second is on 11/08/2001. The third is on 11/15/2001. So the fourth is on 11/22/2001. So the answer is 11/22/2001.\n",
      "\n",
      "Q: Jane scheduled 3 apointments with 5 poeple for tomorrow (Tue, 7/9/1972). What is the date one year ago from today in MM/DD/YYYY? A: If yesterday is 7/9/1972, then today is 7/8/1972, and one year ago from today is 7/8/1971. So the answer is 7/8/1971.\n",
      "\n",
      "Q: Yesterday, Jan 21, 2011, Jane ate 2 pizzas and 5 wings. What is the date one week from today in MM/DD/YYYY? A: If yesterday is 01/21/2011, then today is 01/22/2011, and one week from today is 7 days in the future of today, which is 01/29/2011. So the answer is 01/29/2011.\n",
      "\n",
      "Q: Today is the second day of the third month of 1966. What is the date one week ago from today in MM/DD/YYYY? A: If today is in the third month of 1966, then today is in March 1966. Also, today is the second day of March, so today is 03/02/1966. One week ago from today is 7 days in the past of today, which is the 5th last day of February 1966. Since there are 28 days in February 1996, the 5th last day of February 1966 is 02/23/1966. So the answer is 02/23/1966.\n",
      "\n",
      "Q: Today, 8/3/1997, is a day that we will never forget. What is the date one week from today in MM/DD/YYYY? A: If today is 8/3/1997, then one week from today is 7 days in the future of today, which is 8/10/1997. So the answer is 8/10/1997.\n",
      "\n",
      "Q: This is the last day of 1899. What is the date one week ago from today in MM/DD/YYYY? A: If today is the last day of 1899, then today is 12/31/1899. One week ago from today is 7 days in the past of today, which is 12/24/1899. So the answer is 12/24/1899.\n",
      "\n",
      "Q: Today is the last day of the first quarter of 2008. What is the date one week from today in MM/DD/YYYY? A: One quarter is 3 months, so the first quarter is January, February, and March. Then, the last day of the first quarter of 2008 is the last day of March, which is 03/31/2008. One week from today is 7 days in the future of today, which is the 7th day of April 2008 or 04/07/2008. So the answer is 04/07/2008. \n",
      "\n",
      "Q: Today is Christmas Eve of 1937. What is the date yesterday in MM/DD/YYYY? A: If today is Chrstmas Eve of 1937, then today is 12/24/1937. Yesterday is 1 day in the past of today, which is 12/23/1937. So the answer is 12/23/1937.\n",
      "\n",
      "Q: Jane is celebrating the last day of Jan 2012. What is the date one week from today in MM/DD/YYYY? A: If today is the last day of Jan 2012, then today is 01/31/2012. One week from today is 7 day in the future of today, which is the 7th day of February 2012, or 02/07/2012. So the answer is 02/07/2012.\n",
      "\n",
      "Q: The day before yesterday was 11/23/1933. What is the date tomorrow in MM/DD/YYYY? A: If the day before yesterday was 11/23/1933, then yesterday is 11/24/1933. Today is 11/25/1933. Tomorrow is 1 day in the future of today, which is 11/26/1933. So the answer is 11/26/1933.\n",
      "\n",
      "Q: Jane was born on the last day of Feburary in 2001. Today is her 16-year-old birthday. What is the date yesterday in MM/DD/YYYY?\n",
      "A:\u001b[32m If Jane was born on the last day of February in 2001, then she was born on 02/28/2001. If today is her 16-year-old birthday, then today is 02/28/2017. Yesterday is 1 day in the past of today, which is 02/27/2017. So the answer is 02/27/2017.\n",
      "\n",
      "\u001b[0m "
     ]
    },
    {
     "name": "stderr",
     "output_type": "stream",
     "text": [
      "The attention mask and the pad token id were not set. As a consequence, you may observe unexpected behavior. Please pass your input's `attention_mask` to obtain reliable results.\n",
      "Setting `pad_token_id` to `eos_token_id`:128001 for open-end generation.\n"
     ]
    },
    {
     "name": "stdout",
     "output_type": "stream",
     "text": [
      "Q: In the US, Thanksgiving is on the fourth Thursday of November. Today is the US Thanksgiving of 2001. What is the date today in MM/DD/YYYY? A: The first day of November 2001 or 11/01/2001 is a Thursday, so the first Thursday is on 11/01/2001. The second is on 11/08/2001. The third is on 11/15/2001. So the fourth is on 11/22/2001. So the answer is 11/22/2001.\n",
      "\n",
      "Q: Jane scheduled 3 apointments with 5 poeple for tomorrow (Tue, 7/9/1972). What is the date one year ago from today in MM/DD/YYYY? A: If yesterday is 7/9/1972, then today is 7/8/1972, and one year ago from today is 7/8/1971. So the answer is 7/8/1971.\n",
      "\n",
      "Q: Yesterday, Jan 21, 2011, Jane ate 2 pizzas and 5 wings. What is the date one week from today in MM/DD/YYYY? A: If yesterday is 01/21/2011, then today is 01/22/2011, and one week from today is 7 days in the future of today, which is 01/29/2011. So the answer is 01/29/2011.\n",
      "\n",
      "Q: Today is the second day of the third month of 1966. What is the date one week ago from today in MM/DD/YYYY? A: If today is in the third month of 1966, then today is in March 1966. Also, today is the second day of March, so today is 03/02/1966. One week ago from today is 7 days in the past of today, which is the 5th last day of February 1966. Since there are 28 days in February 1996, the 5th last day of February 1966 is 02/23/1966. So the answer is 02/23/1966.\n",
      "\n",
      "Q: Today, 8/3/1997, is a day that we will never forget. What is the date one week from today in MM/DD/YYYY? A: If today is 8/3/1997, then one week from today is 7 days in the future of today, which is 8/10/1997. So the answer is 8/10/1997.\n",
      "\n",
      "Q: This is the last day of 1899. What is the date one week ago from today in MM/DD/YYYY? A: If today is the last day of 1899, then today is 12/31/1899. One week ago from today is 7 days in the past of today, which is 12/24/1899. So the answer is 12/24/1899.\n",
      "\n",
      "Q: Today is the last day of the first quarter of 2008. What is the date one week from today in MM/DD/YYYY? A: One quarter is 3 months, so the first quarter is January, February, and March. Then, the last day of the first quarter of 2008 is the last day of March, which is 03/31/2008. One week from today is 7 days in the future of today, which is the 7th day of April 2008 or 04/07/2008. So the answer is 04/07/2008. \n",
      "\n",
      "Q: Today is Christmas Eve of 1937. What is the date yesterday in MM/DD/YYYY? A: If today is Chrstmas Eve of 1937, then today is 12/24/1937. Yesterday is 1 day in the past of today, which is 12/23/1937. So the answer is 12/23/1937.\n",
      "\n",
      "Q: Jane is celebrating the last day of Jan 2012. What is the date one week from today in MM/DD/YYYY? A: If today is the last day of Jan 2012, then today is 01/31/2012. One week from today is 7 day in the future of today, which is the 7th day of February 2012, or 02/07/2012. So the answer is 02/07/2012.\n",
      "\n",
      "Q: The day before yesterday was 11/23/1933. What is the date tomorrow in MM/DD/YYYY? A: If the day before yesterday was 11/23/1933, then yesterday is 11/24/1933. Today is 11/25/1933. Tomorrow is 1 day in the future of today, which is 11/26/1933. So the answer is 11/26/1933.\n",
      "\n",
      "Q: 2015 is coming in 36 hours. What is the date one week from today in MM/DD/YYYY?\n",
      "A:\u001b[32m If today is 36 hours before 2015, then today is 12/31/2014. One week from today is 7 days in the future of today, which is the 7th day of January 2015, or 01/07/2015. So the answer is 01/07/2015. \n",
      "\n",
      "\u001b[0m "
     ]
    },
    {
     "name": "stderr",
     "output_type": "stream",
     "text": [
      "The attention mask and the pad token id were not set. As a consequence, you may observe unexpected behavior. Please pass your input's `attention_mask` to obtain reliable results.\n",
      "Setting `pad_token_id` to `eos_token_id`:128001 for open-end generation.\n"
     ]
    },
    {
     "name": "stdout",
     "output_type": "stream",
     "text": [
      "Q: In the US, Thanksgiving is on the fourth Thursday of November. Today is the US Thanksgiving of 2001. What is the date today in MM/DD/YYYY? A: The first day of November 2001 or 11/01/2001 is a Thursday, so the first Thursday is on 11/01/2001. The second is on 11/08/2001. The third is on 11/15/2001. So the fourth is on 11/22/2001. So the answer is 11/22/2001.\n",
      "\n",
      "Q: Jane scheduled 3 apointments with 5 poeple for tomorrow (Tue, 7/9/1972). What is the date one year ago from today in MM/DD/YYYY? A: If yesterday is 7/9/1972, then today is 7/8/1972, and one year ago from today is 7/8/1971. So the answer is 7/8/1971.\n",
      "\n",
      "Q: Yesterday, Jan 21, 2011, Jane ate 2 pizzas and 5 wings. What is the date one week from today in MM/DD/YYYY? A: If yesterday is 01/21/2011, then today is 01/22/2011, and one week from today is 7 days in the future of today, which is 01/29/2011. So the answer is 01/29/2011.\n",
      "\n",
      "Q: Today is the second day of the third month of 1966. What is the date one week ago from today in MM/DD/YYYY? A: If today is in the third month of 1966, then today is in March 1966. Also, today is the second day of March, so today is 03/02/1966. One week ago from today is 7 days in the past of today, which is the 5th last day of February 1966. Since there are 28 days in February 1996, the 5th last day of February 1966 is 02/23/1966. So the answer is 02/23/1966.\n",
      "\n",
      "Q: Today, 8/3/1997, is a day that we will never forget. What is the date one week from today in MM/DD/YYYY? A: If today is 8/3/1997, then one week from today is 7 days in the future of today, which is 8/10/1997. So the answer is 8/10/1997.\n",
      "\n",
      "Q: This is the last day of 1899. What is the date one week ago from today in MM/DD/YYYY? A: If today is the last day of 1899, then today is 12/31/1899. One week ago from today is 7 days in the past of today, which is 12/24/1899. So the answer is 12/24/1899.\n",
      "\n",
      "Q: Today is the last day of the first quarter of 2008. What is the date one week from today in MM/DD/YYYY? A: One quarter is 3 months, so the first quarter is January, February, and March. Then, the last day of the first quarter of 2008 is the last day of March, which is 03/31/2008. One week from today is 7 days in the future of today, which is the 7th day of April 2008 or 04/07/2008. So the answer is 04/07/2008. \n",
      "\n",
      "Q: Today is Christmas Eve of 1937. What is the date yesterday in MM/DD/YYYY? A: If today is Chrstmas Eve of 1937, then today is 12/24/1937. Yesterday is 1 day in the past of today, which is 12/23/1937. So the answer is 12/23/1937.\n",
      "\n",
      "Q: Jane is celebrating the last day of Jan 2012. What is the date one week from today in MM/DD/YYYY? A: If today is the last day of Jan 2012, then today is 01/31/2012. One week from today is 7 day in the future of today, which is the 7th day of February 2012, or 02/07/2012. So the answer is 02/07/2012.\n",
      "\n",
      "Q: The day before yesterday was 11/23/1933. What is the date tomorrow in MM/DD/YYYY? A: If the day before yesterday was 11/23/1933, then yesterday is 11/24/1933. Today is 11/25/1933. Tomorrow is 1 day in the future of today, which is 11/26/1933. So the answer is 11/26/1933.\n",
      "\n",
      "Q: Jane thought today is 3/11/2002, but today is in fact Mar 12, which is 1 day later. What is the date 24 hours later in MM/DD/YYYY?\n",
      "A:\u001b[32m If today is 03/12/2002, then 24 hours later is 1 day in the future of today, which is 03/13/2002. So the answer is 03/13/2002. \n",
      "\n",
      "\u001b[0m "
     ]
    },
    {
     "name": "stderr",
     "output_type": "stream",
     "text": [
      "The attention mask and the pad token id were not set. As a consequence, you may observe unexpected behavior. Please pass your input's `attention_mask` to obtain reliable results.\n",
      "Setting `pad_token_id` to `eos_token_id`:128001 for open-end generation.\n"
     ]
    },
    {
     "name": "stdout",
     "output_type": "stream",
     "text": [
      "Q: In the US, Thanksgiving is on the fourth Thursday of November. Today is the US Thanksgiving of 2001. What is the date today in MM/DD/YYYY? A: The first day of November 2001 or 11/01/2001 is a Thursday, so the first Thursday is on 11/01/2001. The second is on 11/08/2001. The third is on 11/15/2001. So the fourth is on 11/22/2001. So the answer is 11/22/2001.\n",
      "\n",
      "Q: Jane scheduled 3 apointments with 5 poeple for tomorrow (Tue, 7/9/1972). What is the date one year ago from today in MM/DD/YYYY? A: If yesterday is 7/9/1972, then today is 7/8/1972, and one year ago from today is 7/8/1971. So the answer is 7/8/1971.\n",
      "\n",
      "Q: Yesterday, Jan 21, 2011, Jane ate 2 pizzas and 5 wings. What is the date one week from today in MM/DD/YYYY? A: If yesterday is 01/21/2011, then today is 01/22/2011, and one week from today is 7 days in the future of today, which is 01/29/2011. So the answer is 01/29/2011.\n",
      "\n",
      "Q: Today is the second day of the third month of 1966. What is the date one week ago from today in MM/DD/YYYY? A: If today is in the third month of 1966, then today is in March 1966. Also, today is the second day of March, so today is 03/02/1966. One week ago from today is 7 days in the past of today, which is the 5th last day of February 1966. Since there are 28 days in February 1996, the 5th last day of February 1966 is 02/23/1966. So the answer is 02/23/1966.\n",
      "\n",
      "Q: Today, 8/3/1997, is a day that we will never forget. What is the date one week from today in MM/DD/YYYY? A: If today is 8/3/1997, then one week from today is 7 days in the future of today, which is 8/10/1997. So the answer is 8/10/1997.\n",
      "\n",
      "Q: This is the last day of 1899. What is the date one week ago from today in MM/DD/YYYY? A: If today is the last day of 1899, then today is 12/31/1899. One week ago from today is 7 days in the past of today, which is 12/24/1899. So the answer is 12/24/1899.\n",
      "\n",
      "Q: Today is the last day of the first quarter of 2008. What is the date one week from today in MM/DD/YYYY? A: One quarter is 3 months, so the first quarter is January, February, and March. Then, the last day of the first quarter of 2008 is the last day of March, which is 03/31/2008. One week from today is 7 days in the future of today, which is the 7th day of April 2008 or 04/07/2008. So the answer is 04/07/2008. \n",
      "\n",
      "Q: Today is Christmas Eve of 1937. What is the date yesterday in MM/DD/YYYY? A: If today is Chrstmas Eve of 1937, then today is 12/24/1937. Yesterday is 1 day in the past of today, which is 12/23/1937. So the answer is 12/23/1937.\n",
      "\n",
      "Q: Jane is celebrating the last day of Jan 2012. What is the date one week from today in MM/DD/YYYY? A: If today is the last day of Jan 2012, then today is 01/31/2012. One week from today is 7 day in the future of today, which is the 7th day of February 2012, or 02/07/2012. So the answer is 02/07/2012.\n",
      "\n",
      "Q: The day before yesterday was 11/23/1933. What is the date tomorrow in MM/DD/YYYY? A: If the day before yesterday was 11/23/1933, then yesterday is 11/24/1933. Today is 11/25/1933. Tomorrow is 1 day in the future of today, which is 11/26/1933. So the answer is 11/26/1933.\n",
      "\n",
      "Q: Jane and John married on Jan 2, 1958. Today is their golden wedding anniversary. What is the date yesterday in MM/DD/YYYY?\n",
      "A:\u001b[32m If Jane and John married on Jan 2, 1958, then today is 01/02/2008. Yesterday is 1 day in the past of today, which is 01/01/2008. So the answer is 01/01/2008.\n",
      "\n",
      "\u001b[0m "
     ]
    },
    {
     "name": "stderr",
     "output_type": "stream",
     "text": [
      "The attention mask and the pad token id were not set. As a consequence, you may observe unexpected behavior. Please pass your input's `attention_mask` to obtain reliable results.\n",
      "Setting `pad_token_id` to `eos_token_id`:128001 for open-end generation.\n"
     ]
    },
    {
     "name": "stdout",
     "output_type": "stream",
     "text": [
      "Q: In the US, Thanksgiving is on the fourth Thursday of November. Today is the US Thanksgiving of 2001. What is the date today in MM/DD/YYYY? A: The first day of November 2001 or 11/01/2001 is a Thursday, so the first Thursday is on 11/01/2001. The second is on 11/08/2001. The third is on 11/15/2001. So the fourth is on 11/22/2001. So the answer is 11/22/2001.\n",
      "\n",
      "Q: Jane scheduled 3 apointments with 5 poeple for tomorrow (Tue, 7/9/1972). What is the date one year ago from today in MM/DD/YYYY? A: If yesterday is 7/9/1972, then today is 7/8/1972, and one year ago from today is 7/8/1971. So the answer is 7/8/1971.\n",
      "\n",
      "Q: Yesterday, Jan 21, 2011, Jane ate 2 pizzas and 5 wings. What is the date one week from today in MM/DD/YYYY? A: If yesterday is 01/21/2011, then today is 01/22/2011, and one week from today is 7 days in the future of today, which is 01/29/2011. So the answer is 01/29/2011.\n",
      "\n",
      "Q: Today is the second day of the third month of 1966. What is the date one week ago from today in MM/DD/YYYY? A: If today is in the third month of 1966, then today is in March 1966. Also, today is the second day of March, so today is 03/02/1966. One week ago from today is 7 days in the past of today, which is the 5th last day of February 1966. Since there are 28 days in February 1996, the 5th last day of February 1966 is 02/23/1966. So the answer is 02/23/1966.\n",
      "\n",
      "Q: Today, 8/3/1997, is a day that we will never forget. What is the date one week from today in MM/DD/YYYY? A: If today is 8/3/1997, then one week from today is 7 days in the future of today, which is 8/10/1997. So the answer is 8/10/1997.\n",
      "\n",
      "Q: This is the last day of 1899. What is the date one week ago from today in MM/DD/YYYY? A: If today is the last day of 1899, then today is 12/31/1899. One week ago from today is 7 days in the past of today, which is 12/24/1899. So the answer is 12/24/1899.\n",
      "\n",
      "Q: Today is the last day of the first quarter of 2008. What is the date one week from today in MM/DD/YYYY? A: One quarter is 3 months, so the first quarter is January, February, and March. Then, the last day of the first quarter of 2008 is the last day of March, which is 03/31/2008. One week from today is 7 days in the future of today, which is the 7th day of April 2008 or 04/07/2008. So the answer is 04/07/2008. \n",
      "\n",
      "Q: Today is Christmas Eve of 1937. What is the date yesterday in MM/DD/YYYY? A: If today is Chrstmas Eve of 1937, then today is 12/24/1937. Yesterday is 1 day in the past of today, which is 12/23/1937. So the answer is 12/23/1937.\n",
      "\n",
      "Q: Jane is celebrating the last day of Jan 2012. What is the date one week from today in MM/DD/YYYY? A: If today is the last day of Jan 2012, then today is 01/31/2012. One week from today is 7 day in the future of today, which is the 7th day of February 2012, or 02/07/2012. So the answer is 02/07/2012.\n",
      "\n",
      "Q: The day before yesterday was 11/23/1933. What is the date tomorrow in MM/DD/YYYY? A: If the day before yesterday was 11/23/1933, then yesterday is 11/24/1933. Today is 11/25/1933. Tomorrow is 1 day in the future of today, which is 11/26/1933. So the answer is 11/26/1933.\n",
      "\n",
      "Q: Jane thinks today is 6/18/2019, but John thinks today is 6/19/2019. John is correct. What is the date tomorrow in MM/DD/YYYY?\n",
      "A:\u001b[32m If John is correct, then today is 6/19/2019. Tomorrow is 1 day in the future of today, which is 6/20/2019. So the answer is 6/20/2019.\n",
      "\n",
      "\u001b[0m "
     ]
    },
    {
     "name": "stderr",
     "output_type": "stream",
     "text": [
      "The attention mask and the pad token id were not set. As a consequence, you may observe unexpected behavior. Please pass your input's `attention_mask` to obtain reliable results.\n",
      "Setting `pad_token_id` to `eos_token_id`:128001 for open-end generation.\n"
     ]
    },
    {
     "name": "stdout",
     "output_type": "stream",
     "text": [
      "Q: In the US, Thanksgiving is on the fourth Thursday of November. Today is the US Thanksgiving of 2001. What is the date today in MM/DD/YYYY? A: The first day of November 2001 or 11/01/2001 is a Thursday, so the first Thursday is on 11/01/2001. The second is on 11/08/2001. The third is on 11/15/2001. So the fourth is on 11/22/2001. So the answer is 11/22/2001.\n",
      "\n",
      "Q: Jane scheduled 3 apointments with 5 poeple for tomorrow (Tue, 7/9/1972). What is the date one year ago from today in MM/DD/YYYY? A: If yesterday is 7/9/1972, then today is 7/8/1972, and one year ago from today is 7/8/1971. So the answer is 7/8/1971.\n",
      "\n",
      "Q: Yesterday, Jan 21, 2011, Jane ate 2 pizzas and 5 wings. What is the date one week from today in MM/DD/YYYY? A: If yesterday is 01/21/2011, then today is 01/22/2011, and one week from today is 7 days in the future of today, which is 01/29/2011. So the answer is 01/29/2011.\n",
      "\n",
      "Q: Today is the second day of the third month of 1966. What is the date one week ago from today in MM/DD/YYYY? A: If today is in the third month of 1966, then today is in March 1966. Also, today is the second day of March, so today is 03/02/1966. One week ago from today is 7 days in the past of today, which is the 5th last day of February 1966. Since there are 28 days in February 1996, the 5th last day of February 1966 is 02/23/1966. So the answer is 02/23/1966.\n",
      "\n",
      "Q: Today, 8/3/1997, is a day that we will never forget. What is the date one week from today in MM/DD/YYYY? A: If today is 8/3/1997, then one week from today is 7 days in the future of today, which is 8/10/1997. So the answer is 8/10/1997.\n",
      "\n",
      "Q: This is the last day of 1899. What is the date one week ago from today in MM/DD/YYYY? A: If today is the last day of 1899, then today is 12/31/1899. One week ago from today is 7 days in the past of today, which is 12/24/1899. So the answer is 12/24/1899.\n",
      "\n",
      "Q: Today is the last day of the first quarter of 2008. What is the date one week from today in MM/DD/YYYY? A: One quarter is 3 months, so the first quarter is January, February, and March. Then, the last day of the first quarter of 2008 is the last day of March, which is 03/31/2008. One week from today is 7 days in the future of today, which is the 7th day of April 2008 or 04/07/2008. So the answer is 04/07/2008. \n",
      "\n",
      "Q: Today is Christmas Eve of 1937. What is the date yesterday in MM/DD/YYYY? A: If today is Chrstmas Eve of 1937, then today is 12/24/1937. Yesterday is 1 day in the past of today, which is 12/23/1937. So the answer is 12/23/1937.\n",
      "\n",
      "Q: Jane is celebrating the last day of Jan 2012. What is the date one week from today in MM/DD/YYYY? A: If today is the last day of Jan 2012, then today is 01/31/2012. One week from today is 7 day in the future of today, which is the 7th day of February 2012, or 02/07/2012. So the answer is 02/07/2012.\n",
      "\n",
      "Q: The day before yesterday was 11/23/1933. What is the date tomorrow in MM/DD/YYYY? A: If the day before yesterday was 11/23/1933, then yesterday is 11/24/1933. Today is 11/25/1933. Tomorrow is 1 day in the future of today, which is 11/26/1933. So the answer is 11/26/1933.\n",
      "\n",
      "Q: Today is 9/7. Jane is watching NFL 2003. What is the date tomorrow in MM/DD/YYYY?\n",
      "A:\u001b[32m If today is 9/7, then tomorrow is 1 day in the future of today, which is 9/8. So the answer is 09/08/2003.\n",
      "\n",
      "\u001b[0m "
     ]
    },
    {
     "name": "stderr",
     "output_type": "stream",
     "text": [
      "The attention mask and the pad token id were not set. As a consequence, you may observe unexpected behavior. Please pass your input's `attention_mask` to obtain reliable results.\n",
      "Setting `pad_token_id` to `eos_token_id`:128001 for open-end generation.\n"
     ]
    },
    {
     "name": "stdout",
     "output_type": "stream",
     "text": [
      "Q: In the US, Thanksgiving is on the fourth Thursday of November. Today is the US Thanksgiving of 2001. What is the date today in MM/DD/YYYY? A: The first day of November 2001 or 11/01/2001 is a Thursday, so the first Thursday is on 11/01/2001. The second is on 11/08/2001. The third is on 11/15/2001. So the fourth is on 11/22/2001. So the answer is 11/22/2001.\n",
      "\n",
      "Q: Jane scheduled 3 apointments with 5 poeple for tomorrow (Tue, 7/9/1972). What is the date one year ago from today in MM/DD/YYYY? A: If yesterday is 7/9/1972, then today is 7/8/1972, and one year ago from today is 7/8/1971. So the answer is 7/8/1971.\n",
      "\n",
      "Q: Yesterday, Jan 21, 2011, Jane ate 2 pizzas and 5 wings. What is the date one week from today in MM/DD/YYYY? A: If yesterday is 01/21/2011, then today is 01/22/2011, and one week from today is 7 days in the future of today, which is 01/29/2011. So the answer is 01/29/2011.\n",
      "\n",
      "Q: Today is the second day of the third month of 1966. What is the date one week ago from today in MM/DD/YYYY? A: If today is in the third month of 1966, then today is in March 1966. Also, today is the second day of March, so today is 03/02/1966. One week ago from today is 7 days in the past of today, which is the 5th last day of February 1966. Since there are 28 days in February 1996, the 5th last day of February 1966 is 02/23/1966. So the answer is 02/23/1966.\n",
      "\n",
      "Q: Today, 8/3/1997, is a day that we will never forget. What is the date one week from today in MM/DD/YYYY? A: If today is 8/3/1997, then one week from today is 7 days in the future of today, which is 8/10/1997. So the answer is 8/10/1997.\n",
      "\n",
      "Q: This is the last day of 1899. What is the date one week ago from today in MM/DD/YYYY? A: If today is the last day of 1899, then today is 12/31/1899. One week ago from today is 7 days in the past of today, which is 12/24/1899. So the answer is 12/24/1899.\n",
      "\n",
      "Q: Today is the last day of the first quarter of 2008. What is the date one week from today in MM/DD/YYYY? A: One quarter is 3 months, so the first quarter is January, February, and March. Then, the last day of the first quarter of 2008 is the last day of March, which is 03/31/2008. One week from today is 7 days in the future of today, which is the 7th day of April 2008 or 04/07/2008. So the answer is 04/07/2008. \n",
      "\n",
      "Q: Today is Christmas Eve of 1937. What is the date yesterday in MM/DD/YYYY? A: If today is Chrstmas Eve of 1937, then today is 12/24/1937. Yesterday is 1 day in the past of today, which is 12/23/1937. So the answer is 12/23/1937.\n",
      "\n",
      "Q: Jane is celebrating the last day of Jan 2012. What is the date one week from today in MM/DD/YYYY? A: If today is the last day of Jan 2012, then today is 01/31/2012. One week from today is 7 day in the future of today, which is the 7th day of February 2012, or 02/07/2012. So the answer is 02/07/2012.\n",
      "\n",
      "Q: The day before yesterday was 11/23/1933. What is the date tomorrow in MM/DD/YYYY? A: If the day before yesterday was 11/23/1933, then yesterday is 11/24/1933. Today is 11/25/1933. Tomorrow is 1 day in the future of today, which is 11/26/1933. So the answer is 11/26/1933.\n",
      "\n",
      "Q: Jane scheduled 3 apointments with 5 poeple for tomorrow (Tue, 7/9/1972). What is the date one week ago from today in MM/DD/YYYY?\n",
      "A:\u001b[32m If yesterday is 7/9/1972, then today is 7/10/1972, and one week ago from today is 7 days in the past of today, which is 7/2/1972. So the answer is 7/2/1972.\n",
      "\n",
      "\u001b[0m "
     ]
    },
    {
     "name": "stderr",
     "output_type": "stream",
     "text": [
      "The attention mask and the pad token id were not set. As a consequence, you may observe unexpected behavior. Please pass your input's `attention_mask` to obtain reliable results.\n",
      "Setting `pad_token_id` to `eos_token_id`:128001 for open-end generation.\n"
     ]
    },
    {
     "name": "stdout",
     "output_type": "stream",
     "text": [
      "Q: In the US, Thanksgiving is on the fourth Thursday of November. Today is the US Thanksgiving of 2001. What is the date today in MM/DD/YYYY? A: The first day of November 2001 or 11/01/2001 is a Thursday, so the first Thursday is on 11/01/2001. The second is on 11/08/2001. The third is on 11/15/2001. So the fourth is on 11/22/2001. So the answer is 11/22/2001.\n",
      "\n",
      "Q: Jane scheduled 3 apointments with 5 poeple for tomorrow (Tue, 7/9/1972). What is the date one year ago from today in MM/DD/YYYY? A: If yesterday is 7/9/1972, then today is 7/8/1972, and one year ago from today is 7/8/1971. So the answer is 7/8/1971.\n",
      "\n",
      "Q: Yesterday, Jan 21, 2011, Jane ate 2 pizzas and 5 wings. What is the date one week from today in MM/DD/YYYY? A: If yesterday is 01/21/2011, then today is 01/22/2011, and one week from today is 7 days in the future of today, which is 01/29/2011. So the answer is 01/29/2011.\n",
      "\n",
      "Q: Today is the second day of the third month of 1966. What is the date one week ago from today in MM/DD/YYYY? A: If today is in the third month of 1966, then today is in March 1966. Also, today is the second day of March, so today is 03/02/1966. One week ago from today is 7 days in the past of today, which is the 5th last day of February 1966. Since there are 28 days in February 1996, the 5th last day of February 1966 is 02/23/1966. So the answer is 02/23/1966.\n",
      "\n",
      "Q: Today, 8/3/1997, is a day that we will never forget. What is the date one week from today in MM/DD/YYYY? A: If today is 8/3/1997, then one week from today is 7 days in the future of today, which is 8/10/1997. So the answer is 8/10/1997.\n",
      "\n",
      "Q: This is the last day of 1899. What is the date one week ago from today in MM/DD/YYYY? A: If today is the last day of 1899, then today is 12/31/1899. One week ago from today is 7 days in the past of today, which is 12/24/1899. So the answer is 12/24/1899.\n",
      "\n",
      "Q: Today is the last day of the first quarter of 2008. What is the date one week from today in MM/DD/YYYY? A: One quarter is 3 months, so the first quarter is January, February, and March. Then, the last day of the first quarter of 2008 is the last day of March, which is 03/31/2008. One week from today is 7 days in the future of today, which is the 7th day of April 2008 or 04/07/2008. So the answer is 04/07/2008. \n",
      "\n",
      "Q: Today is Christmas Eve of 1937. What is the date yesterday in MM/DD/YYYY? A: If today is Chrstmas Eve of 1937, then today is 12/24/1937. Yesterday is 1 day in the past of today, which is 12/23/1937. So the answer is 12/23/1937.\n",
      "\n",
      "Q: Jane is celebrating the last day of Jan 2012. What is the date one week from today in MM/DD/YYYY? A: If today is the last day of Jan 2012, then today is 01/31/2012. One week from today is 7 day in the future of today, which is the 7th day of February 2012, or 02/07/2012. So the answer is 02/07/2012.\n",
      "\n",
      "Q: The day before yesterday was 11/23/1933. What is the date tomorrow in MM/DD/YYYY? A: If the day before yesterday was 11/23/1933, then yesterday is 11/24/1933. Today is 11/25/1933. Tomorrow is 1 day in the future of today, which is 11/26/1933. So the answer is 11/26/1933.\n",
      "\n",
      "Q: Jane is celebrating the last day of Jan 2012. What is the date one year ago from today in MM/DD/YYYY?\n",
      "A:\u001b[32m If today is the last day of Jan 2012, then today is 01/31/2012. One year ago from today is 01/31/2011. So the answer is 01/31/2011.\n",
      "\n",
      "\u001b[0m "
     ]
    },
    {
     "name": "stderr",
     "output_type": "stream",
     "text": [
      "The attention mask and the pad token id were not set. As a consequence, you may observe unexpected behavior. Please pass your input's `attention_mask` to obtain reliable results.\n",
      "Setting `pad_token_id` to `eos_token_id`:128001 for open-end generation.\n"
     ]
    },
    {
     "name": "stdout",
     "output_type": "stream",
     "text": [
      "Q: In the US, Thanksgiving is on the fourth Thursday of November. Today is the US Thanksgiving of 2001. What is the date today in MM/DD/YYYY? A: The first day of November 2001 or 11/01/2001 is a Thursday, so the first Thursday is on 11/01/2001. The second is on 11/08/2001. The third is on 11/15/2001. So the fourth is on 11/22/2001. So the answer is 11/22/2001.\n",
      "\n",
      "Q: Jane scheduled 3 apointments with 5 poeple for tomorrow (Tue, 7/9/1972). What is the date one year ago from today in MM/DD/YYYY? A: If yesterday is 7/9/1972, then today is 7/8/1972, and one year ago from today is 7/8/1971. So the answer is 7/8/1971.\n",
      "\n",
      "Q: Yesterday, Jan 21, 2011, Jane ate 2 pizzas and 5 wings. What is the date one week from today in MM/DD/YYYY? A: If yesterday is 01/21/2011, then today is 01/22/2011, and one week from today is 7 days in the future of today, which is 01/29/2011. So the answer is 01/29/2011.\n",
      "\n",
      "Q: Today is the second day of the third month of 1966. What is the date one week ago from today in MM/DD/YYYY? A: If today is in the third month of 1966, then today is in March 1966. Also, today is the second day of March, so today is 03/02/1966. One week ago from today is 7 days in the past of today, which is the 5th last day of February 1966. Since there are 28 days in February 1996, the 5th last day of February 1966 is 02/23/1966. So the answer is 02/23/1966.\n",
      "\n",
      "Q: Today, 8/3/1997, is a day that we will never forget. What is the date one week from today in MM/DD/YYYY? A: If today is 8/3/1997, then one week from today is 7 days in the future of today, which is 8/10/1997. So the answer is 8/10/1997.\n",
      "\n",
      "Q: This is the last day of 1899. What is the date one week ago from today in MM/DD/YYYY? A: If today is the last day of 1899, then today is 12/31/1899. One week ago from today is 7 days in the past of today, which is 12/24/1899. So the answer is 12/24/1899.\n",
      "\n",
      "Q: Today is the last day of the first quarter of 2008. What is the date one week from today in MM/DD/YYYY? A: One quarter is 3 months, so the first quarter is January, February, and March. Then, the last day of the first quarter of 2008 is the last day of March, which is 03/31/2008. One week from today is 7 days in the future of today, which is the 7th day of April 2008 or 04/07/2008. So the answer is 04/07/2008. \n",
      "\n",
      "Q: Today is Christmas Eve of 1937. What is the date yesterday in MM/DD/YYYY? A: If today is Chrstmas Eve of 1937, then today is 12/24/1937. Yesterday is 1 day in the past of today, which is 12/23/1937. So the answer is 12/23/1937.\n",
      "\n",
      "Q: Jane is celebrating the last day of Jan 2012. What is the date one week from today in MM/DD/YYYY? A: If today is the last day of Jan 2012, then today is 01/31/2012. One week from today is 7 day in the future of today, which is the 7th day of February 2012, or 02/07/2012. So the answer is 02/07/2012.\n",
      "\n",
      "Q: The day before yesterday was 11/23/1933. What is the date tomorrow in MM/DD/YYYY? A: If the day before yesterday was 11/23/1933, then yesterday is 11/24/1933. Today is 11/25/1933. Tomorrow is 1 day in the future of today, which is 11/26/1933. So the answer is 11/26/1933.\n",
      "\n",
      "Q: Today is the palindrome day of 2020, because the MMDDYYYY format of the date is the same backwards as forwards. What is the date tomorrow in MM/DD/YYYY?\n",
      "A:\u001b[32m If today is the palindrome day of 2020, then today is 02/02/2020. Tomorrow is 1 day in the future of today, which is 02/03/2020. So the answer is 02/03/2020.\n",
      "\n",
      "\u001b[0m "
     ]
    },
    {
     "name": "stderr",
     "output_type": "stream",
     "text": [
      "The attention mask and the pad token id were not set. As a consequence, you may observe unexpected behavior. Please pass your input's `attention_mask` to obtain reliable results.\n",
      "Setting `pad_token_id` to `eos_token_id`:128001 for open-end generation.\n"
     ]
    },
    {
     "name": "stdout",
     "output_type": "stream",
     "text": [
      "Q: In the US, Thanksgiving is on the fourth Thursday of November. Today is the US Thanksgiving of 2001. What is the date today in MM/DD/YYYY? A: The first day of November 2001 or 11/01/2001 is a Thursday, so the first Thursday is on 11/01/2001. The second is on 11/08/2001. The third is on 11/15/2001. So the fourth is on 11/22/2001. So the answer is 11/22/2001.\n",
      "\n",
      "Q: Jane scheduled 3 apointments with 5 poeple for tomorrow (Tue, 7/9/1972). What is the date one year ago from today in MM/DD/YYYY? A: If yesterday is 7/9/1972, then today is 7/8/1972, and one year ago from today is 7/8/1971. So the answer is 7/8/1971.\n",
      "\n",
      "Q: Yesterday, Jan 21, 2011, Jane ate 2 pizzas and 5 wings. What is the date one week from today in MM/DD/YYYY? A: If yesterday is 01/21/2011, then today is 01/22/2011, and one week from today is 7 days in the future of today, which is 01/29/2011. So the answer is 01/29/2011.\n",
      "\n",
      "Q: Today is the second day of the third month of 1966. What is the date one week ago from today in MM/DD/YYYY? A: If today is in the third month of 1966, then today is in March 1966. Also, today is the second day of March, so today is 03/02/1966. One week ago from today is 7 days in the past of today, which is the 5th last day of February 1966. Since there are 28 days in February 1996, the 5th last day of February 1966 is 02/23/1966. So the answer is 02/23/1966.\n",
      "\n",
      "Q: Today, 8/3/1997, is a day that we will never forget. What is the date one week from today in MM/DD/YYYY? A: If today is 8/3/1997, then one week from today is 7 days in the future of today, which is 8/10/1997. So the answer is 8/10/1997.\n",
      "\n",
      "Q: This is the last day of 1899. What is the date one week ago from today in MM/DD/YYYY? A: If today is the last day of 1899, then today is 12/31/1899. One week ago from today is 7 days in the past of today, which is 12/24/1899. So the answer is 12/24/1899.\n",
      "\n",
      "Q: Today is the last day of the first quarter of 2008. What is the date one week from today in MM/DD/YYYY? A: One quarter is 3 months, so the first quarter is January, February, and March. Then, the last day of the first quarter of 2008 is the last day of March, which is 03/31/2008. One week from today is 7 days in the future of today, which is the 7th day of April 2008 or 04/07/2008. So the answer is 04/07/2008. \n",
      "\n",
      "Q: Today is Christmas Eve of 1937. What is the date yesterday in MM/DD/YYYY? A: If today is Chrstmas Eve of 1937, then today is 12/24/1937. Yesterday is 1 day in the past of today, which is 12/23/1937. So the answer is 12/23/1937.\n",
      "\n",
      "Q: Jane is celebrating the last day of Jan 2012. What is the date one week from today in MM/DD/YYYY? A: If today is the last day of Jan 2012, then today is 01/31/2012. One week from today is 7 day in the future of today, which is the 7th day of February 2012, or 02/07/2012. So the answer is 02/07/2012.\n",
      "\n",
      "Q: The day before yesterday was 11/23/1933. What is the date tomorrow in MM/DD/YYYY? A: If the day before yesterday was 11/23/1933, then yesterday is 11/24/1933. Today is 11/25/1933. Tomorrow is 1 day in the future of today, which is 11/26/1933. So the answer is 11/26/1933.\n",
      "\n",
      "Q: Jane and John married on Jan 2, 1958. Today is their golden wedding anniversary. What is the date today in MM/DD/YYYY?\n",
      "A:\u001b[32m If Jane and John married on Jan 2, 1958, then today is 50 years later, which is Jan 2, 2008. So the answer is 01/02/2008.\n",
      "\n",
      "\u001b[0m "
     ]
    },
    {
     "name": "stderr",
     "output_type": "stream",
     "text": [
      "The attention mask and the pad token id were not set. As a consequence, you may observe unexpected behavior. Please pass your input's `attention_mask` to obtain reliable results.\n",
      "Setting `pad_token_id` to `eos_token_id`:128001 for open-end generation.\n"
     ]
    },
    {
     "name": "stdout",
     "output_type": "stream",
     "text": [
      "Q: In the US, Thanksgiving is on the fourth Thursday of November. Today is the US Thanksgiving of 2001. What is the date today in MM/DD/YYYY? A: The first day of November 2001 or 11/01/2001 is a Thursday, so the first Thursday is on 11/01/2001. The second is on 11/08/2001. The third is on 11/15/2001. So the fourth is on 11/22/2001. So the answer is 11/22/2001.\n",
      "\n",
      "Q: Jane scheduled 3 apointments with 5 poeple for tomorrow (Tue, 7/9/1972). What is the date one year ago from today in MM/DD/YYYY? A: If yesterday is 7/9/1972, then today is 7/8/1972, and one year ago from today is 7/8/1971. So the answer is 7/8/1971.\n",
      "\n",
      "Q: Yesterday, Jan 21, 2011, Jane ate 2 pizzas and 5 wings. What is the date one week from today in MM/DD/YYYY? A: If yesterday is 01/21/2011, then today is 01/22/2011, and one week from today is 7 days in the future of today, which is 01/29/2011. So the answer is 01/29/2011.\n",
      "\n",
      "Q: Today is the second day of the third month of 1966. What is the date one week ago from today in MM/DD/YYYY? A: If today is in the third month of 1966, then today is in March 1966. Also, today is the second day of March, so today is 03/02/1966. One week ago from today is 7 days in the past of today, which is the 5th last day of February 1966. Since there are 28 days in February 1996, the 5th last day of February 1966 is 02/23/1966. So the answer is 02/23/1966.\n",
      "\n",
      "Q: Today, 8/3/1997, is a day that we will never forget. What is the date one week from today in MM/DD/YYYY? A: If today is 8/3/1997, then one week from today is 7 days in the future of today, which is 8/10/1997. So the answer is 8/10/1997.\n",
      "\n",
      "Q: This is the last day of 1899. What is the date one week ago from today in MM/DD/YYYY? A: If today is the last day of 1899, then today is 12/31/1899. One week ago from today is 7 days in the past of today, which is 12/24/1899. So the answer is 12/24/1899.\n",
      "\n",
      "Q: Today is the last day of the first quarter of 2008. What is the date one week from today in MM/DD/YYYY? A: One quarter is 3 months, so the first quarter is January, February, and March. Then, the last day of the first quarter of 2008 is the last day of March, which is 03/31/2008. One week from today is 7 days in the future of today, which is the 7th day of April 2008 or 04/07/2008. So the answer is 04/07/2008. \n",
      "\n",
      "Q: Today is Christmas Eve of 1937. What is the date yesterday in MM/DD/YYYY? A: If today is Chrstmas Eve of 1937, then today is 12/24/1937. Yesterday is 1 day in the past of today, which is 12/23/1937. So the answer is 12/23/1937.\n",
      "\n",
      "Q: Jane is celebrating the last day of Jan 2012. What is the date one week from today in MM/DD/YYYY? A: If today is the last day of Jan 2012, then today is 01/31/2012. One week from today is 7 day in the future of today, which is the 7th day of February 2012, or 02/07/2012. So the answer is 02/07/2012.\n",
      "\n",
      "Q: The day before yesterday was 11/23/1933. What is the date tomorrow in MM/DD/YYYY? A: If the day before yesterday was 11/23/1933, then yesterday is 11/24/1933. Today is 11/25/1933. Tomorrow is 1 day in the future of today, which is 11/26/1933. So the answer is 11/26/1933.\n",
      "\n",
      "Q: The deadline is Jun 1, 2021, which is 2 days away from now. What is the date tomorrow in MM/DD/YYYY?\n",
      "A:\u001b[32m If the deadline is 2 days away from now, then today is 5 days before the deadline. Since today is 5 days before the deadline, today is 5 days before June 1, 2021, which is May 27, 2021. Tomorrow is 1 day in the future of today, which is May 28, 2021. So the answer is 05/28/2021. \n",
      "\n",
      "\u001b[0m "
     ]
    },
    {
     "name": "stderr",
     "output_type": "stream",
     "text": [
      "The attention mask and the pad token id were not set. As a consequence, you may observe unexpected behavior. Please pass your input's `attention_mask` to obtain reliable results.\n",
      "Setting `pad_token_id` to `eos_token_id`:128001 for open-end generation.\n"
     ]
    },
    {
     "name": "stdout",
     "output_type": "stream",
     "text": [
      "Q: In the US, Thanksgiving is on the fourth Thursday of November. Today is the US Thanksgiving of 2001. What is the date today in MM/DD/YYYY? A: The first day of November 2001 or 11/01/2001 is a Thursday, so the first Thursday is on 11/01/2001. The second is on 11/08/2001. The third is on 11/15/2001. So the fourth is on 11/22/2001. So the answer is 11/22/2001.\n",
      "\n",
      "Q: Jane scheduled 3 apointments with 5 poeple for tomorrow (Tue, 7/9/1972). What is the date one year ago from today in MM/DD/YYYY? A: If yesterday is 7/9/1972, then today is 7/8/1972, and one year ago from today is 7/8/1971. So the answer is 7/8/1971.\n",
      "\n",
      "Q: Yesterday, Jan 21, 2011, Jane ate 2 pizzas and 5 wings. What is the date one week from today in MM/DD/YYYY? A: If yesterday is 01/21/2011, then today is 01/22/2011, and one week from today is 7 days in the future of today, which is 01/29/2011. So the answer is 01/29/2011.\n",
      "\n",
      "Q: Today is the second day of the third month of 1966. What is the date one week ago from today in MM/DD/YYYY? A: If today is in the third month of 1966, then today is in March 1966. Also, today is the second day of March, so today is 03/02/1966. One week ago from today is 7 days in the past of today, which is the 5th last day of February 1966. Since there are 28 days in February 1996, the 5th last day of February 1966 is 02/23/1966. So the answer is 02/23/1966.\n",
      "\n",
      "Q: Today, 8/3/1997, is a day that we will never forget. What is the date one week from today in MM/DD/YYYY? A: If today is 8/3/1997, then one week from today is 7 days in the future of today, which is 8/10/1997. So the answer is 8/10/1997.\n",
      "\n",
      "Q: This is the last day of 1899. What is the date one week ago from today in MM/DD/YYYY? A: If today is the last day of 1899, then today is 12/31/1899. One week ago from today is 7 days in the past of today, which is 12/24/1899. So the answer is 12/24/1899.\n",
      "\n",
      "Q: Today is the last day of the first quarter of 2008. What is the date one week from today in MM/DD/YYYY? A: One quarter is 3 months, so the first quarter is January, February, and March. Then, the last day of the first quarter of 2008 is the last day of March, which is 03/31/2008. One week from today is 7 days in the future of today, which is the 7th day of April 2008 or 04/07/2008. So the answer is 04/07/2008. \n",
      "\n",
      "Q: Today is Christmas Eve of 1937. What is the date yesterday in MM/DD/YYYY? A: If today is Chrstmas Eve of 1937, then today is 12/24/1937. Yesterday is 1 day in the past of today, which is 12/23/1937. So the answer is 12/23/1937.\n",
      "\n",
      "Q: Jane is celebrating the last day of Jan 2012. What is the date one week from today in MM/DD/YYYY? A: If today is the last day of Jan 2012, then today is 01/31/2012. One week from today is 7 day in the future of today, which is the 7th day of February 2012, or 02/07/2012. So the answer is 02/07/2012.\n",
      "\n",
      "Q: The day before yesterday was 11/23/1933. What is the date tomorrow in MM/DD/YYYY? A: If the day before yesterday was 11/23/1933, then yesterday is 11/24/1933. Today is 11/25/1933. Tomorrow is 1 day in the future of today, which is 11/26/1933. So the answer is 11/26/1933.\n",
      "\n",
      "Q: This is the last day of 1899. What is the date 24 hours later in MM/DD/YYYY?\n",
      "A:\u001b[32m If today is the last day of 1899, then today is 12/31/1899. 24 hours later is the first day of 1900, which is 01/01/1900. So the answer is 01/01/1900. \n",
      "\n",
      "\u001b[0m "
     ]
    },
    {
     "name": "stderr",
     "output_type": "stream",
     "text": [
      "The attention mask and the pad token id were not set. As a consequence, you may observe unexpected behavior. Please pass your input's `attention_mask` to obtain reliable results.\n",
      "Setting `pad_token_id` to `eos_token_id`:128001 for open-end generation.\n"
     ]
    },
    {
     "name": "stdout",
     "output_type": "stream",
     "text": [
      "Q: In the US, Thanksgiving is on the fourth Thursday of November. Today is the US Thanksgiving of 2001. What is the date today in MM/DD/YYYY? A: The first day of November 2001 or 11/01/2001 is a Thursday, so the first Thursday is on 11/01/2001. The second is on 11/08/2001. The third is on 11/15/2001. So the fourth is on 11/22/2001. So the answer is 11/22/2001.\n",
      "\n",
      "Q: Jane scheduled 3 apointments with 5 poeple for tomorrow (Tue, 7/9/1972). What is the date one year ago from today in MM/DD/YYYY? A: If yesterday is 7/9/1972, then today is 7/8/1972, and one year ago from today is 7/8/1971. So the answer is 7/8/1971.\n",
      "\n",
      "Q: Yesterday, Jan 21, 2011, Jane ate 2 pizzas and 5 wings. What is the date one week from today in MM/DD/YYYY? A: If yesterday is 01/21/2011, then today is 01/22/2011, and one week from today is 7 days in the future of today, which is 01/29/2011. So the answer is 01/29/2011.\n",
      "\n",
      "Q: Today is the second day of the third month of 1966. What is the date one week ago from today in MM/DD/YYYY? A: If today is in the third month of 1966, then today is in March 1966. Also, today is the second day of March, so today is 03/02/1966. One week ago from today is 7 days in the past of today, which is the 5th last day of February 1966. Since there are 28 days in February 1996, the 5th last day of February 1966 is 02/23/1966. So the answer is 02/23/1966.\n",
      "\n",
      "Q: Today, 8/3/1997, is a day that we will never forget. What is the date one week from today in MM/DD/YYYY? A: If today is 8/3/1997, then one week from today is 7 days in the future of today, which is 8/10/1997. So the answer is 8/10/1997.\n",
      "\n",
      "Q: This is the last day of 1899. What is the date one week ago from today in MM/DD/YYYY? A: If today is the last day of 1899, then today is 12/31/1899. One week ago from today is 7 days in the past of today, which is 12/24/1899. So the answer is 12/24/1899.\n",
      "\n",
      "Q: Today is the last day of the first quarter of 2008. What is the date one week from today in MM/DD/YYYY? A: One quarter is 3 months, so the first quarter is January, February, and March. Then, the last day of the first quarter of 2008 is the last day of March, which is 03/31/2008. One week from today is 7 days in the future of today, which is the 7th day of April 2008 or 04/07/2008. So the answer is 04/07/2008. \n",
      "\n",
      "Q: Today is Christmas Eve of 1937. What is the date yesterday in MM/DD/YYYY? A: If today is Chrstmas Eve of 1937, then today is 12/24/1937. Yesterday is 1 day in the past of today, which is 12/23/1937. So the answer is 12/23/1937.\n",
      "\n",
      "Q: Jane is celebrating the last day of Jan 2012. What is the date one week from today in MM/DD/YYYY? A: If today is the last day of Jan 2012, then today is 01/31/2012. One week from today is 7 day in the future of today, which is the 7th day of February 2012, or 02/07/2012. So the answer is 02/07/2012.\n",
      "\n",
      "Q: The day before yesterday was 11/23/1933. What is the date tomorrow in MM/DD/YYYY? A: If the day before yesterday was 11/23/1933, then yesterday is 11/24/1933. Today is 11/25/1933. Tomorrow is 1 day in the future of today, which is 11/26/1933. So the answer is 11/26/1933.\n",
      "\n",
      "Q: 2015 is coming in 36 hours. What is the date tomorrow in MM/DD/YYYY?\n",
      "A:\u001b[32m If 2015 is coming in 36 hours, then today is 12/31/2014. Tomorrow is 1 day in the future of today, which is 01/01/2015. So the answer is 01/01/2015.\n",
      "\n",
      "\u001b[0m "
     ]
    },
    {
     "name": "stderr",
     "output_type": "stream",
     "text": [
      "The attention mask and the pad token id were not set. As a consequence, you may observe unexpected behavior. Please pass your input's `attention_mask` to obtain reliable results.\n",
      "Setting `pad_token_id` to `eos_token_id`:128001 for open-end generation.\n"
     ]
    },
    {
     "name": "stdout",
     "output_type": "stream",
     "text": [
      "Q: In the US, Thanksgiving is on the fourth Thursday of November. Today is the US Thanksgiving of 2001. What is the date today in MM/DD/YYYY? A: The first day of November 2001 or 11/01/2001 is a Thursday, so the first Thursday is on 11/01/2001. The second is on 11/08/2001. The third is on 11/15/2001. So the fourth is on 11/22/2001. So the answer is 11/22/2001.\n",
      "\n",
      "Q: Jane scheduled 3 apointments with 5 poeple for tomorrow (Tue, 7/9/1972). What is the date one year ago from today in MM/DD/YYYY? A: If yesterday is 7/9/1972, then today is 7/8/1972, and one year ago from today is 7/8/1971. So the answer is 7/8/1971.\n",
      "\n",
      "Q: Yesterday, Jan 21, 2011, Jane ate 2 pizzas and 5 wings. What is the date one week from today in MM/DD/YYYY? A: If yesterday is 01/21/2011, then today is 01/22/2011, and one week from today is 7 days in the future of today, which is 01/29/2011. So the answer is 01/29/2011.\n",
      "\n",
      "Q: Today is the second day of the third month of 1966. What is the date one week ago from today in MM/DD/YYYY? A: If today is in the third month of 1966, then today is in March 1966. Also, today is the second day of March, so today is 03/02/1966. One week ago from today is 7 days in the past of today, which is the 5th last day of February 1966. Since there are 28 days in February 1996, the 5th last day of February 1966 is 02/23/1966. So the answer is 02/23/1966.\n",
      "\n",
      "Q: Today, 8/3/1997, is a day that we will never forget. What is the date one week from today in MM/DD/YYYY? A: If today is 8/3/1997, then one week from today is 7 days in the future of today, which is 8/10/1997. So the answer is 8/10/1997.\n",
      "\n",
      "Q: This is the last day of 1899. What is the date one week ago from today in MM/DD/YYYY? A: If today is the last day of 1899, then today is 12/31/1899. One week ago from today is 7 days in the past of today, which is 12/24/1899. So the answer is 12/24/1899.\n",
      "\n",
      "Q: Today is the last day of the first quarter of 2008. What is the date one week from today in MM/DD/YYYY? A: One quarter is 3 months, so the first quarter is January, February, and March. Then, the last day of the first quarter of 2008 is the last day of March, which is 03/31/2008. One week from today is 7 days in the future of today, which is the 7th day of April 2008 or 04/07/2008. So the answer is 04/07/2008. \n",
      "\n",
      "Q: Today is Christmas Eve of 1937. What is the date yesterday in MM/DD/YYYY? A: If today is Chrstmas Eve of 1937, then today is 12/24/1937. Yesterday is 1 day in the past of today, which is 12/23/1937. So the answer is 12/23/1937.\n",
      "\n",
      "Q: Jane is celebrating the last day of Jan 2012. What is the date one week from today in MM/DD/YYYY? A: If today is the last day of Jan 2012, then today is 01/31/2012. One week from today is 7 day in the future of today, which is the 7th day of February 2012, or 02/07/2012. So the answer is 02/07/2012.\n",
      "\n",
      "Q: The day before yesterday was 11/23/1933. What is the date tomorrow in MM/DD/YYYY? A: If the day before yesterday was 11/23/1933, then yesterday is 11/24/1933. Today is 11/25/1933. Tomorrow is 1 day in the future of today, which is 11/26/1933. So the answer is 11/26/1933.\n",
      "\n",
      "Q: 2015 is coming in 36 hours. What is the date a month ago in MM/DD/YYYY?\n",
      "A:\u001b[32m If 2015 is coming in 36 hours, then today is 12/31/2014. A month ago from today is 1 month in the past of today, which is 11/30/2014. So the answer is 11/30/2014.\n",
      "\n",
      "\u001b[0m "
     ]
    },
    {
     "name": "stderr",
     "output_type": "stream",
     "text": [
      "The attention mask and the pad token id were not set. As a consequence, you may observe unexpected behavior. Please pass your input's `attention_mask` to obtain reliable results.\n",
      "Setting `pad_token_id` to `eos_token_id`:128001 for open-end generation.\n"
     ]
    },
    {
     "name": "stdout",
     "output_type": "stream",
     "text": [
      "Q: In the US, Thanksgiving is on the fourth Thursday of November. Today is the US Thanksgiving of 2001. What is the date today in MM/DD/YYYY? A: The first day of November 2001 or 11/01/2001 is a Thursday, so the first Thursday is on 11/01/2001. The second is on 11/08/2001. The third is on 11/15/2001. So the fourth is on 11/22/2001. So the answer is 11/22/2001.\n",
      "\n",
      "Q: Jane scheduled 3 apointments with 5 poeple for tomorrow (Tue, 7/9/1972). What is the date one year ago from today in MM/DD/YYYY? A: If yesterday is 7/9/1972, then today is 7/8/1972, and one year ago from today is 7/8/1971. So the answer is 7/8/1971.\n",
      "\n",
      "Q: Yesterday, Jan 21, 2011, Jane ate 2 pizzas and 5 wings. What is the date one week from today in MM/DD/YYYY? A: If yesterday is 01/21/2011, then today is 01/22/2011, and one week from today is 7 days in the future of today, which is 01/29/2011. So the answer is 01/29/2011.\n",
      "\n",
      "Q: Today is the second day of the third month of 1966. What is the date one week ago from today in MM/DD/YYYY? A: If today is in the third month of 1966, then today is in March 1966. Also, today is the second day of March, so today is 03/02/1966. One week ago from today is 7 days in the past of today, which is the 5th last day of February 1966. Since there are 28 days in February 1996, the 5th last day of February 1966 is 02/23/1966. So the answer is 02/23/1966.\n",
      "\n",
      "Q: Today, 8/3/1997, is a day that we will never forget. What is the date one week from today in MM/DD/YYYY? A: If today is 8/3/1997, then one week from today is 7 days in the future of today, which is 8/10/1997. So the answer is 8/10/1997.\n",
      "\n",
      "Q: This is the last day of 1899. What is the date one week ago from today in MM/DD/YYYY? A: If today is the last day of 1899, then today is 12/31/1899. One week ago from today is 7 days in the past of today, which is 12/24/1899. So the answer is 12/24/1899.\n",
      "\n",
      "Q: Today is the last day of the first quarter of 2008. What is the date one week from today in MM/DD/YYYY? A: One quarter is 3 months, so the first quarter is January, February, and March. Then, the last day of the first quarter of 2008 is the last day of March, which is 03/31/2008. One week from today is 7 days in the future of today, which is the 7th day of April 2008 or 04/07/2008. So the answer is 04/07/2008. \n",
      "\n",
      "Q: Today is Christmas Eve of 1937. What is the date yesterday in MM/DD/YYYY? A: If today is Chrstmas Eve of 1937, then today is 12/24/1937. Yesterday is 1 day in the past of today, which is 12/23/1937. So the answer is 12/23/1937.\n",
      "\n",
      "Q: Jane is celebrating the last day of Jan 2012. What is the date one week from today in MM/DD/YYYY? A: If today is the last day of Jan 2012, then today is 01/31/2012. One week from today is 7 day in the future of today, which is the 7th day of February 2012, or 02/07/2012. So the answer is 02/07/2012.\n",
      "\n",
      "Q: The day before yesterday was 11/23/1933. What is the date tomorrow in MM/DD/YYYY? A: If the day before yesterday was 11/23/1933, then yesterday is 11/24/1933. Today is 11/25/1933. Tomorrow is 1 day in the future of today, which is 11/26/1933. So the answer is 11/26/1933.\n",
      "\n",
      "Q: Today is 3/5, and it is Jane's second time in the year 1973 to see a meteor shower. What is the date one year ago from today in MM/DD/YYYY?\n",
      "A:\u001b[32m If today is 3/5, then today is 03/05/1973. One year ago from today is 03/05/1972. So the answer is 03/05/1972.\n",
      "\n",
      "\u001b[0m "
     ]
    },
    {
     "name": "stderr",
     "output_type": "stream",
     "text": [
      "The attention mask and the pad token id were not set. As a consequence, you may observe unexpected behavior. Please pass your input's `attention_mask` to obtain reliable results.\n",
      "Setting `pad_token_id` to `eos_token_id`:128001 for open-end generation.\n"
     ]
    },
    {
     "name": "stdout",
     "output_type": "stream",
     "text": [
      "Q: In the US, Thanksgiving is on the fourth Thursday of November. Today is the US Thanksgiving of 2001. What is the date today in MM/DD/YYYY? A: The first day of November 2001 or 11/01/2001 is a Thursday, so the first Thursday is on 11/01/2001. The second is on 11/08/2001. The third is on 11/15/2001. So the fourth is on 11/22/2001. So the answer is 11/22/2001.\n",
      "\n",
      "Q: Jane scheduled 3 apointments with 5 poeple for tomorrow (Tue, 7/9/1972). What is the date one year ago from today in MM/DD/YYYY? A: If yesterday is 7/9/1972, then today is 7/8/1972, and one year ago from today is 7/8/1971. So the answer is 7/8/1971.\n",
      "\n",
      "Q: Yesterday, Jan 21, 2011, Jane ate 2 pizzas and 5 wings. What is the date one week from today in MM/DD/YYYY? A: If yesterday is 01/21/2011, then today is 01/22/2011, and one week from today is 7 days in the future of today, which is 01/29/2011. So the answer is 01/29/2011.\n",
      "\n",
      "Q: Today is the second day of the third month of 1966. What is the date one week ago from today in MM/DD/YYYY? A: If today is in the third month of 1966, then today is in March 1966. Also, today is the second day of March, so today is 03/02/1966. One week ago from today is 7 days in the past of today, which is the 5th last day of February 1966. Since there are 28 days in February 1996, the 5th last day of February 1966 is 02/23/1966. So the answer is 02/23/1966.\n",
      "\n",
      "Q: Today, 8/3/1997, is a day that we will never forget. What is the date one week from today in MM/DD/YYYY? A: If today is 8/3/1997, then one week from today is 7 days in the future of today, which is 8/10/1997. So the answer is 8/10/1997.\n",
      "\n",
      "Q: This is the last day of 1899. What is the date one week ago from today in MM/DD/YYYY? A: If today is the last day of 1899, then today is 12/31/1899. One week ago from today is 7 days in the past of today, which is 12/24/1899. So the answer is 12/24/1899.\n",
      "\n",
      "Q: Today is the last day of the first quarter of 2008. What is the date one week from today in MM/DD/YYYY? A: One quarter is 3 months, so the first quarter is January, February, and March. Then, the last day of the first quarter of 2008 is the last day of March, which is 03/31/2008. One week from today is 7 days in the future of today, which is the 7th day of April 2008 or 04/07/2008. So the answer is 04/07/2008. \n",
      "\n",
      "Q: Today is Christmas Eve of 1937. What is the date yesterday in MM/DD/YYYY? A: If today is Chrstmas Eve of 1937, then today is 12/24/1937. Yesterday is 1 day in the past of today, which is 12/23/1937. So the answer is 12/23/1937.\n",
      "\n",
      "Q: Jane is celebrating the last day of Jan 2012. What is the date one week from today in MM/DD/YYYY? A: If today is the last day of Jan 2012, then today is 01/31/2012. One week from today is 7 day in the future of today, which is the 7th day of February 2012, or 02/07/2012. So the answer is 02/07/2012.\n",
      "\n",
      "Q: The day before yesterday was 11/23/1933. What is the date tomorrow in MM/DD/YYYY? A: If the day before yesterday was 11/23/1933, then yesterday is 11/24/1933. Today is 11/25/1933. Tomorrow is 1 day in the future of today, which is 11/26/1933. So the answer is 11/26/1933.\n",
      "\n",
      "Q: Today is the first day of 2007. What is the date 10 days ago in MM/DD/YYYY?\n",
      "A:\u001b[32m If today is the first day of 2007, then today is 01/01/2007. 10 days ago from today is 12/22/2006. So the answer is 12/22/2006.\n",
      "\n",
      "\u001b[0m "
     ]
    },
    {
     "name": "stderr",
     "output_type": "stream",
     "text": [
      "The attention mask and the pad token id were not set. As a consequence, you may observe unexpected behavior. Please pass your input's `attention_mask` to obtain reliable results.\n",
      "Setting `pad_token_id` to `eos_token_id`:128001 for open-end generation.\n"
     ]
    },
    {
     "name": "stdout",
     "output_type": "stream",
     "text": [
      "Q: In the US, Thanksgiving is on the fourth Thursday of November. Today is the US Thanksgiving of 2001. What is the date today in MM/DD/YYYY? A: The first day of November 2001 or 11/01/2001 is a Thursday, so the first Thursday is on 11/01/2001. The second is on 11/08/2001. The third is on 11/15/2001. So the fourth is on 11/22/2001. So the answer is 11/22/2001.\n",
      "\n",
      "Q: Jane scheduled 3 apointments with 5 poeple for tomorrow (Tue, 7/9/1972). What is the date one year ago from today in MM/DD/YYYY? A: If yesterday is 7/9/1972, then today is 7/8/1972, and one year ago from today is 7/8/1971. So the answer is 7/8/1971.\n",
      "\n",
      "Q: Yesterday, Jan 21, 2011, Jane ate 2 pizzas and 5 wings. What is the date one week from today in MM/DD/YYYY? A: If yesterday is 01/21/2011, then today is 01/22/2011, and one week from today is 7 days in the future of today, which is 01/29/2011. So the answer is 01/29/2011.\n",
      "\n",
      "Q: Today is the second day of the third month of 1966. What is the date one week ago from today in MM/DD/YYYY? A: If today is in the third month of 1966, then today is in March 1966. Also, today is the second day of March, so today is 03/02/1966. One week ago from today is 7 days in the past of today, which is the 5th last day of February 1966. Since there are 28 days in February 1996, the 5th last day of February 1966 is 02/23/1966. So the answer is 02/23/1966.\n",
      "\n",
      "Q: Today, 8/3/1997, is a day that we will never forget. What is the date one week from today in MM/DD/YYYY? A: If today is 8/3/1997, then one week from today is 7 days in the future of today, which is 8/10/1997. So the answer is 8/10/1997.\n",
      "\n",
      "Q: This is the last day of 1899. What is the date one week ago from today in MM/DD/YYYY? A: If today is the last day of 1899, then today is 12/31/1899. One week ago from today is 7 days in the past of today, which is 12/24/1899. So the answer is 12/24/1899.\n",
      "\n",
      "Q: Today is the last day of the first quarter of 2008. What is the date one week from today in MM/DD/YYYY? A: One quarter is 3 months, so the first quarter is January, February, and March. Then, the last day of the first quarter of 2008 is the last day of March, which is 03/31/2008. One week from today is 7 days in the future of today, which is the 7th day of April 2008 or 04/07/2008. So the answer is 04/07/2008. \n",
      "\n",
      "Q: Today is Christmas Eve of 1937. What is the date yesterday in MM/DD/YYYY? A: If today is Chrstmas Eve of 1937, then today is 12/24/1937. Yesterday is 1 day in the past of today, which is 12/23/1937. So the answer is 12/23/1937.\n",
      "\n",
      "Q: Jane is celebrating the last day of Jan 2012. What is the date one week from today in MM/DD/YYYY? A: If today is the last day of Jan 2012, then today is 01/31/2012. One week from today is 7 day in the future of today, which is the 7th day of February 2012, or 02/07/2012. So the answer is 02/07/2012.\n",
      "\n",
      "Q: The day before yesterday was 11/23/1933. What is the date tomorrow in MM/DD/YYYY? A: If the day before yesterday was 11/23/1933, then yesterday is 11/24/1933. Today is 11/25/1933. Tomorrow is 1 day in the future of today, which is 11/26/1933. So the answer is 11/26/1933.\n",
      "\n",
      "Q: Jane got her job in 2016. Today is her 3-year work anniversary. She still remember that on Dec 2, her second day at work, she spilled coffee on her laptop. What is the date a month ago in MM/DD/YYYY?\n",
      "A:\u001b[32m If today is her 3-year work anniversary, then today is 12/02/2019. A month ago from today is 11/02/2019. So the answer is 11/02/2019.\n",
      "\n",
      "\u001b[0m "
     ]
    },
    {
     "name": "stderr",
     "output_type": "stream",
     "text": [
      "The attention mask and the pad token id were not set. As a consequence, you may observe unexpected behavior. Please pass your input's `attention_mask` to obtain reliable results.\n",
      "Setting `pad_token_id` to `eos_token_id`:128001 for open-end generation.\n"
     ]
    },
    {
     "name": "stdout",
     "output_type": "stream",
     "text": [
      "Q: In the US, Thanksgiving is on the fourth Thursday of November. Today is the US Thanksgiving of 2001. What is the date today in MM/DD/YYYY? A: The first day of November 2001 or 11/01/2001 is a Thursday, so the first Thursday is on 11/01/2001. The second is on 11/08/2001. The third is on 11/15/2001. So the fourth is on 11/22/2001. So the answer is 11/22/2001.\n",
      "\n",
      "Q: Jane scheduled 3 apointments with 5 poeple for tomorrow (Tue, 7/9/1972). What is the date one year ago from today in MM/DD/YYYY? A: If yesterday is 7/9/1972, then today is 7/8/1972, and one year ago from today is 7/8/1971. So the answer is 7/8/1971.\n",
      "\n",
      "Q: Yesterday, Jan 21, 2011, Jane ate 2 pizzas and 5 wings. What is the date one week from today in MM/DD/YYYY? A: If yesterday is 01/21/2011, then today is 01/22/2011, and one week from today is 7 days in the future of today, which is 01/29/2011. So the answer is 01/29/2011.\n",
      "\n",
      "Q: Today is the second day of the third month of 1966. What is the date one week ago from today in MM/DD/YYYY? A: If today is in the third month of 1966, then today is in March 1966. Also, today is the second day of March, so today is 03/02/1966. One week ago from today is 7 days in the past of today, which is the 5th last day of February 1966. Since there are 28 days in February 1996, the 5th last day of February 1966 is 02/23/1966. So the answer is 02/23/1966.\n",
      "\n",
      "Q: Today, 8/3/1997, is a day that we will never forget. What is the date one week from today in MM/DD/YYYY? A: If today is 8/3/1997, then one week from today is 7 days in the future of today, which is 8/10/1997. So the answer is 8/10/1997.\n",
      "\n",
      "Q: This is the last day of 1899. What is the date one week ago from today in MM/DD/YYYY? A: If today is the last day of 1899, then today is 12/31/1899. One week ago from today is 7 days in the past of today, which is 12/24/1899. So the answer is 12/24/1899.\n",
      "\n",
      "Q: Today is the last day of the first quarter of 2008. What is the date one week from today in MM/DD/YYYY? A: One quarter is 3 months, so the first quarter is January, February, and March. Then, the last day of the first quarter of 2008 is the last day of March, which is 03/31/2008. One week from today is 7 days in the future of today, which is the 7th day of April 2008 or 04/07/2008. So the answer is 04/07/2008. \n",
      "\n",
      "Q: Today is Christmas Eve of 1937. What is the date yesterday in MM/DD/YYYY? A: If today is Chrstmas Eve of 1937, then today is 12/24/1937. Yesterday is 1 day in the past of today, which is 12/23/1937. So the answer is 12/23/1937.\n",
      "\n",
      "Q: Jane is celebrating the last day of Jan 2012. What is the date one week from today in MM/DD/YYYY? A: If today is the last day of Jan 2012, then today is 01/31/2012. One week from today is 7 day in the future of today, which is the 7th day of February 2012, or 02/07/2012. So the answer is 02/07/2012.\n",
      "\n",
      "Q: The day before yesterday was 11/23/1933. What is the date tomorrow in MM/DD/YYYY? A: If the day before yesterday was 11/23/1933, then yesterday is 11/24/1933. Today is 11/25/1933. Tomorrow is 1 day in the future of today, which is 11/26/1933. So the answer is 11/26/1933.\n",
      "\n",
      "Q: Yesterday was 12/31/1929. Today could not be 12/32/1929 because December has only 31 days. What is the date tomorrow in MM/DD/YYYY?\n",
      "A:\u001b[32m If yesterday was 12/31/1929, then today is 01/01/1930. Tomorrow is 1 day in the future of today, which is 01/02/1930. So the answer is 01/02/1930.\n",
      "\n",
      "\u001b[0m "
     ]
    },
    {
     "name": "stderr",
     "output_type": "stream",
     "text": [
      "The attention mask and the pad token id were not set. As a consequence, you may observe unexpected behavior. Please pass your input's `attention_mask` to obtain reliable results.\n",
      "Setting `pad_token_id` to `eos_token_id`:128001 for open-end generation.\n"
     ]
    },
    {
     "name": "stdout",
     "output_type": "stream",
     "text": [
      "Q: In the US, Thanksgiving is on the fourth Thursday of November. Today is the US Thanksgiving of 2001. What is the date today in MM/DD/YYYY? A: The first day of November 2001 or 11/01/2001 is a Thursday, so the first Thursday is on 11/01/2001. The second is on 11/08/2001. The third is on 11/15/2001. So the fourth is on 11/22/2001. So the answer is 11/22/2001.\n",
      "\n",
      "Q: Jane scheduled 3 apointments with 5 poeple for tomorrow (Tue, 7/9/1972). What is the date one year ago from today in MM/DD/YYYY? A: If yesterday is 7/9/1972, then today is 7/8/1972, and one year ago from today is 7/8/1971. So the answer is 7/8/1971.\n",
      "\n",
      "Q: Yesterday, Jan 21, 2011, Jane ate 2 pizzas and 5 wings. What is the date one week from today in MM/DD/YYYY? A: If yesterday is 01/21/2011, then today is 01/22/2011, and one week from today is 7 days in the future of today, which is 01/29/2011. So the answer is 01/29/2011.\n",
      "\n",
      "Q: Today is the second day of the third month of 1966. What is the date one week ago from today in MM/DD/YYYY? A: If today is in the third month of 1966, then today is in March 1966. Also, today is the second day of March, so today is 03/02/1966. One week ago from today is 7 days in the past of today, which is the 5th last day of February 1966. Since there are 28 days in February 1996, the 5th last day of February 1966 is 02/23/1966. So the answer is 02/23/1966.\n",
      "\n",
      "Q: Today, 8/3/1997, is a day that we will never forget. What is the date one week from today in MM/DD/YYYY? A: If today is 8/3/1997, then one week from today is 7 days in the future of today, which is 8/10/1997. So the answer is 8/10/1997.\n",
      "\n",
      "Q: This is the last day of 1899. What is the date one week ago from today in MM/DD/YYYY? A: If today is the last day of 1899, then today is 12/31/1899. One week ago from today is 7 days in the past of today, which is 12/24/1899. So the answer is 12/24/1899.\n",
      "\n",
      "Q: Today is the last day of the first quarter of 2008. What is the date one week from today in MM/DD/YYYY? A: One quarter is 3 months, so the first quarter is January, February, and March. Then, the last day of the first quarter of 2008 is the last day of March, which is 03/31/2008. One week from today is 7 days in the future of today, which is the 7th day of April 2008 or 04/07/2008. So the answer is 04/07/2008. \n",
      "\n",
      "Q: Today is Christmas Eve of 1937. What is the date yesterday in MM/DD/YYYY? A: If today is Chrstmas Eve of 1937, then today is 12/24/1937. Yesterday is 1 day in the past of today, which is 12/23/1937. So the answer is 12/23/1937.\n",
      "\n",
      "Q: Jane is celebrating the last day of Jan 2012. What is the date one week from today in MM/DD/YYYY? A: If today is the last day of Jan 2012, then today is 01/31/2012. One week from today is 7 day in the future of today, which is the 7th day of February 2012, or 02/07/2012. So the answer is 02/07/2012.\n",
      "\n",
      "Q: The day before yesterday was 11/23/1933. What is the date tomorrow in MM/DD/YYYY? A: If the day before yesterday was 11/23/1933, then yesterday is 11/24/1933. Today is 11/25/1933. Tomorrow is 1 day in the future of today, which is 11/26/1933. So the answer is 11/26/1933.\n",
      "\n",
      "Q: Jane booked a flight for tomorrow, Jul 29, 2002. What is the date 10 days ago in MM/DD/YYYY?\n",
      "A:\u001b[32m If tomorrow is 07/29/2002, then today is 07/28/2002. 10 days ago from today is 07/18/2002. So the answer is 07/18/2002.\n",
      "\n",
      "\u001b[0m "
     ]
    },
    {
     "name": "stderr",
     "output_type": "stream",
     "text": [
      "The attention mask and the pad token id were not set. As a consequence, you may observe unexpected behavior. Please pass your input's `attention_mask` to obtain reliable results.\n",
      "Setting `pad_token_id` to `eos_token_id`:128001 for open-end generation.\n"
     ]
    },
    {
     "name": "stdout",
     "output_type": "stream",
     "text": [
      "Q: In the US, Thanksgiving is on the fourth Thursday of November. Today is the US Thanksgiving of 2001. What is the date today in MM/DD/YYYY? A: The first day of November 2001 or 11/01/2001 is a Thursday, so the first Thursday is on 11/01/2001. The second is on 11/08/2001. The third is on 11/15/2001. So the fourth is on 11/22/2001. So the answer is 11/22/2001.\n",
      "\n",
      "Q: Jane scheduled 3 apointments with 5 poeple for tomorrow (Tue, 7/9/1972). What is the date one year ago from today in MM/DD/YYYY? A: If yesterday is 7/9/1972, then today is 7/8/1972, and one year ago from today is 7/8/1971. So the answer is 7/8/1971.\n",
      "\n",
      "Q: Yesterday, Jan 21, 2011, Jane ate 2 pizzas and 5 wings. What is the date one week from today in MM/DD/YYYY? A: If yesterday is 01/21/2011, then today is 01/22/2011, and one week from today is 7 days in the future of today, which is 01/29/2011. So the answer is 01/29/2011.\n",
      "\n",
      "Q: Today is the second day of the third month of 1966. What is the date one week ago from today in MM/DD/YYYY? A: If today is in the third month of 1966, then today is in March 1966. Also, today is the second day of March, so today is 03/02/1966. One week ago from today is 7 days in the past of today, which is the 5th last day of February 1966. Since there are 28 days in February 1996, the 5th last day of February 1966 is 02/23/1966. So the answer is 02/23/1966.\n",
      "\n",
      "Q: Today, 8/3/1997, is a day that we will never forget. What is the date one week from today in MM/DD/YYYY? A: If today is 8/3/1997, then one week from today is 7 days in the future of today, which is 8/10/1997. So the answer is 8/10/1997.\n",
      "\n",
      "Q: This is the last day of 1899. What is the date one week ago from today in MM/DD/YYYY? A: If today is the last day of 1899, then today is 12/31/1899. One week ago from today is 7 days in the past of today, which is 12/24/1899. So the answer is 12/24/1899.\n",
      "\n",
      "Q: Today is the last day of the first quarter of 2008. What is the date one week from today in MM/DD/YYYY? A: One quarter is 3 months, so the first quarter is January, February, and March. Then, the last day of the first quarter of 2008 is the last day of March, which is 03/31/2008. One week from today is 7 days in the future of today, which is the 7th day of April 2008 or 04/07/2008. So the answer is 04/07/2008. \n",
      "\n",
      "Q: Today is Christmas Eve of 1937. What is the date yesterday in MM/DD/YYYY? A: If today is Chrstmas Eve of 1937, then today is 12/24/1937. Yesterday is 1 day in the past of today, which is 12/23/1937. So the answer is 12/23/1937.\n",
      "\n",
      "Q: Jane is celebrating the last day of Jan 2012. What is the date one week from today in MM/DD/YYYY? A: If today is the last day of Jan 2012, then today is 01/31/2012. One week from today is 7 day in the future of today, which is the 7th day of February 2012, or 02/07/2012. So the answer is 02/07/2012.\n",
      "\n",
      "Q: The day before yesterday was 11/23/1933. What is the date tomorrow in MM/DD/YYYY? A: If the day before yesterday was 11/23/1933, then yesterday is 11/24/1933. Today is 11/25/1933. Tomorrow is 1 day in the future of today, which is 11/26/1933. So the answer is 11/26/1933.\n",
      "\n",
      "Q: The current local time is 3:02 pm of 5/4/2004. What is the date one week from today in MM/DD/YYYY?\n",
      "A:\u001b[32m If the current local time is 3:02 pm of 5/4/2004, then today is 5/4/2004. One week from today is 7 days in the future of today, which is 5/11/2004. So the answer is 05/11/2004.\n",
      "\n",
      "\u001b[0m "
     ]
    },
    {
     "name": "stderr",
     "output_type": "stream",
     "text": [
      "The attention mask and the pad token id were not set. As a consequence, you may observe unexpected behavior. Please pass your input's `attention_mask` to obtain reliable results.\n",
      "Setting `pad_token_id` to `eos_token_id`:128001 for open-end generation.\n"
     ]
    },
    {
     "name": "stdout",
     "output_type": "stream",
     "text": [
      "Q: In the US, Thanksgiving is on the fourth Thursday of November. Today is the US Thanksgiving of 2001. What is the date today in MM/DD/YYYY? A: The first day of November 2001 or 11/01/2001 is a Thursday, so the first Thursday is on 11/01/2001. The second is on 11/08/2001. The third is on 11/15/2001. So the fourth is on 11/22/2001. So the answer is 11/22/2001.\n",
      "\n",
      "Q: Jane scheduled 3 apointments with 5 poeple for tomorrow (Tue, 7/9/1972). What is the date one year ago from today in MM/DD/YYYY? A: If yesterday is 7/9/1972, then today is 7/8/1972, and one year ago from today is 7/8/1971. So the answer is 7/8/1971.\n",
      "\n",
      "Q: Yesterday, Jan 21, 2011, Jane ate 2 pizzas and 5 wings. What is the date one week from today in MM/DD/YYYY? A: If yesterday is 01/21/2011, then today is 01/22/2011, and one week from today is 7 days in the future of today, which is 01/29/2011. So the answer is 01/29/2011.\n",
      "\n",
      "Q: Today is the second day of the third month of 1966. What is the date one week ago from today in MM/DD/YYYY? A: If today is in the third month of 1966, then today is in March 1966. Also, today is the second day of March, so today is 03/02/1966. One week ago from today is 7 days in the past of today, which is the 5th last day of February 1966. Since there are 28 days in February 1996, the 5th last day of February 1966 is 02/23/1966. So the answer is 02/23/1966.\n",
      "\n",
      "Q: Today, 8/3/1997, is a day that we will never forget. What is the date one week from today in MM/DD/YYYY? A: If today is 8/3/1997, then one week from today is 7 days in the future of today, which is 8/10/1997. So the answer is 8/10/1997.\n",
      "\n",
      "Q: This is the last day of 1899. What is the date one week ago from today in MM/DD/YYYY? A: If today is the last day of 1899, then today is 12/31/1899. One week ago from today is 7 days in the past of today, which is 12/24/1899. So the answer is 12/24/1899.\n",
      "\n",
      "Q: Today is the last day of the first quarter of 2008. What is the date one week from today in MM/DD/YYYY? A: One quarter is 3 months, so the first quarter is January, February, and March. Then, the last day of the first quarter of 2008 is the last day of March, which is 03/31/2008. One week from today is 7 days in the future of today, which is the 7th day of April 2008 or 04/07/2008. So the answer is 04/07/2008. \n",
      "\n",
      "Q: Today is Christmas Eve of 1937. What is the date yesterday in MM/DD/YYYY? A: If today is Chrstmas Eve of 1937, then today is 12/24/1937. Yesterday is 1 day in the past of today, which is 12/23/1937. So the answer is 12/23/1937.\n",
      "\n",
      "Q: Jane is celebrating the last day of Jan 2012. What is the date one week from today in MM/DD/YYYY? A: If today is the last day of Jan 2012, then today is 01/31/2012. One week from today is 7 day in the future of today, which is the 7th day of February 2012, or 02/07/2012. So the answer is 02/07/2012.\n",
      "\n",
      "Q: The day before yesterday was 11/23/1933. What is the date tomorrow in MM/DD/YYYY? A: If the day before yesterday was 11/23/1933, then yesterday is 11/24/1933. Today is 11/25/1933. Tomorrow is 1 day in the future of today, which is 11/26/1933. So the answer is 11/26/1933.\n",
      "\n",
      "Q: In the US, Thanksgiving is on the fourth Thursday of November. Today is the US Thanksgiving of 2001. What is the date tomorrow in MM/DD/YYYY?\n",
      "A:\u001b[32m The answer is the same as the first question. The answer is 11/23/2001.\n",
      "\n",
      "\u001b[0m "
     ]
    },
    {
     "name": "stderr",
     "output_type": "stream",
     "text": [
      "The attention mask and the pad token id were not set. As a consequence, you may observe unexpected behavior. Please pass your input's `attention_mask` to obtain reliable results.\n",
      "Setting `pad_token_id` to `eos_token_id`:128001 for open-end generation.\n"
     ]
    },
    {
     "name": "stdout",
     "output_type": "stream",
     "text": [
      "Q: In the US, Thanksgiving is on the fourth Thursday of November. Today is the US Thanksgiving of 2001. What is the date today in MM/DD/YYYY? A: The first day of November 2001 or 11/01/2001 is a Thursday, so the first Thursday is on 11/01/2001. The second is on 11/08/2001. The third is on 11/15/2001. So the fourth is on 11/22/2001. So the answer is 11/22/2001.\n",
      "\n",
      "Q: Jane scheduled 3 apointments with 5 poeple for tomorrow (Tue, 7/9/1972). What is the date one year ago from today in MM/DD/YYYY? A: If yesterday is 7/9/1972, then today is 7/8/1972, and one year ago from today is 7/8/1971. So the answer is 7/8/1971.\n",
      "\n",
      "Q: Yesterday, Jan 21, 2011, Jane ate 2 pizzas and 5 wings. What is the date one week from today in MM/DD/YYYY? A: If yesterday is 01/21/2011, then today is 01/22/2011, and one week from today is 7 days in the future of today, which is 01/29/2011. So the answer is 01/29/2011.\n",
      "\n",
      "Q: Today is the second day of the third month of 1966. What is the date one week ago from today in MM/DD/YYYY? A: If today is in the third month of 1966, then today is in March 1966. Also, today is the second day of March, so today is 03/02/1966. One week ago from today is 7 days in the past of today, which is the 5th last day of February 1966. Since there are 28 days in February 1996, the 5th last day of February 1966 is 02/23/1966. So the answer is 02/23/1966.\n",
      "\n",
      "Q: Today, 8/3/1997, is a day that we will never forget. What is the date one week from today in MM/DD/YYYY? A: If today is 8/3/1997, then one week from today is 7 days in the future of today, which is 8/10/1997. So the answer is 8/10/1997.\n",
      "\n",
      "Q: This is the last day of 1899. What is the date one week ago from today in MM/DD/YYYY? A: If today is the last day of 1899, then today is 12/31/1899. One week ago from today is 7 days in the past of today, which is 12/24/1899. So the answer is 12/24/1899.\n",
      "\n",
      "Q: Today is the last day of the first quarter of 2008. What is the date one week from today in MM/DD/YYYY? A: One quarter is 3 months, so the first quarter is January, February, and March. Then, the last day of the first quarter of 2008 is the last day of March, which is 03/31/2008. One week from today is 7 days in the future of today, which is the 7th day of April 2008 or 04/07/2008. So the answer is 04/07/2008. \n",
      "\n",
      "Q: Today is Christmas Eve of 1937. What is the date yesterday in MM/DD/YYYY? A: If today is Chrstmas Eve of 1937, then today is 12/24/1937. Yesterday is 1 day in the past of today, which is 12/23/1937. So the answer is 12/23/1937.\n",
      "\n",
      "Q: Jane is celebrating the last day of Jan 2012. What is the date one week from today in MM/DD/YYYY? A: If today is the last day of Jan 2012, then today is 01/31/2012. One week from today is 7 day in the future of today, which is the 7th day of February 2012, or 02/07/2012. So the answer is 02/07/2012.\n",
      "\n",
      "Q: The day before yesterday was 11/23/1933. What is the date tomorrow in MM/DD/YYYY? A: If the day before yesterday was 11/23/1933, then yesterday is 11/24/1933. Today is 11/25/1933. Tomorrow is 1 day in the future of today, which is 11/26/1933. So the answer is 11/26/1933.\n",
      "\n",
      "Q: On May 9th, 2017 Jane bought 40 eggs. She ate one per day. Today she ran out of eggs. What is the date tomorrow in MM/DD/YYYY?\n",
      "A:\u001b[32m If Jane ate one egg per day, then she ate 40 eggs in 40 days. If today is the 40th day, then tomorrow is the 41st day. Since May has 31 days, the 41st day of May is 05/31/2017. So the answer is 05/31/2017.\n",
      "\n",
      "\u001b[0m "
     ]
    },
    {
     "name": "stderr",
     "output_type": "stream",
     "text": [
      "The attention mask and the pad token id were not set. As a consequence, you may observe unexpected behavior. Please pass your input's `attention_mask` to obtain reliable results.\n",
      "Setting `pad_token_id` to `eos_token_id`:128001 for open-end generation.\n"
     ]
    },
    {
     "name": "stdout",
     "output_type": "stream",
     "text": [
      "Q: In the US, Thanksgiving is on the fourth Thursday of November. Today is the US Thanksgiving of 2001. What is the date today in MM/DD/YYYY? A: The first day of November 2001 or 11/01/2001 is a Thursday, so the first Thursday is on 11/01/2001. The second is on 11/08/2001. The third is on 11/15/2001. So the fourth is on 11/22/2001. So the answer is 11/22/2001.\n",
      "\n",
      "Q: Jane scheduled 3 apointments with 5 poeple for tomorrow (Tue, 7/9/1972). What is the date one year ago from today in MM/DD/YYYY? A: If yesterday is 7/9/1972, then today is 7/8/1972, and one year ago from today is 7/8/1971. So the answer is 7/8/1971.\n",
      "\n",
      "Q: Yesterday, Jan 21, 2011, Jane ate 2 pizzas and 5 wings. What is the date one week from today in MM/DD/YYYY? A: If yesterday is 01/21/2011, then today is 01/22/2011, and one week from today is 7 days in the future of today, which is 01/29/2011. So the answer is 01/29/2011.\n",
      "\n",
      "Q: Today is the second day of the third month of 1966. What is the date one week ago from today in MM/DD/YYYY? A: If today is in the third month of 1966, then today is in March 1966. Also, today is the second day of March, so today is 03/02/1966. One week ago from today is 7 days in the past of today, which is the 5th last day of February 1966. Since there are 28 days in February 1996, the 5th last day of February 1966 is 02/23/1966. So the answer is 02/23/1966.\n",
      "\n",
      "Q: Today, 8/3/1997, is a day that we will never forget. What is the date one week from today in MM/DD/YYYY? A: If today is 8/3/1997, then one week from today is 7 days in the future of today, which is 8/10/1997. So the answer is 8/10/1997.\n",
      "\n",
      "Q: This is the last day of 1899. What is the date one week ago from today in MM/DD/YYYY? A: If today is the last day of 1899, then today is 12/31/1899. One week ago from today is 7 days in the past of today, which is 12/24/1899. So the answer is 12/24/1899.\n",
      "\n",
      "Q: Today is the last day of the first quarter of 2008. What is the date one week from today in MM/DD/YYYY? A: One quarter is 3 months, so the first quarter is January, February, and March. Then, the last day of the first quarter of 2008 is the last day of March, which is 03/31/2008. One week from today is 7 days in the future of today, which is the 7th day of April 2008 or 04/07/2008. So the answer is 04/07/2008. \n",
      "\n",
      "Q: Today is Christmas Eve of 1937. What is the date yesterday in MM/DD/YYYY? A: If today is Chrstmas Eve of 1937, then today is 12/24/1937. Yesterday is 1 day in the past of today, which is 12/23/1937. So the answer is 12/23/1937.\n",
      "\n",
      "Q: Jane is celebrating the last day of Jan 2012. What is the date one week from today in MM/DD/YYYY? A: If today is the last day of Jan 2012, then today is 01/31/2012. One week from today is 7 day in the future of today, which is the 7th day of February 2012, or 02/07/2012. So the answer is 02/07/2012.\n",
      "\n",
      "Q: The day before yesterday was 11/23/1933. What is the date tomorrow in MM/DD/YYYY? A: If the day before yesterday was 11/23/1933, then yesterday is 11/24/1933. Today is 11/25/1933. Tomorrow is 1 day in the future of today, which is 11/26/1933. So the answer is 11/26/1933.\n",
      "\n",
      "Q: Today is 3/5, and it is Jane's second time in the year 1973 to see a meteor shower. What is the date today in MM/DD/YYYY?\n",
      "A:\u001b[32m If today is 3/5, then today is 03/05/1973. So the answer is 03/05/1973.\n",
      "\n",
      "\u001b[0m "
     ]
    },
    {
     "name": "stderr",
     "output_type": "stream",
     "text": [
      "The attention mask and the pad token id were not set. As a consequence, you may observe unexpected behavior. Please pass your input's `attention_mask` to obtain reliable results.\n",
      "Setting `pad_token_id` to `eos_token_id`:128001 for open-end generation.\n"
     ]
    },
    {
     "name": "stdout",
     "output_type": "stream",
     "text": [
      "Q: In the US, Thanksgiving is on the fourth Thursday of November. Today is the US Thanksgiving of 2001. What is the date today in MM/DD/YYYY? A: The first day of November 2001 or 11/01/2001 is a Thursday, so the first Thursday is on 11/01/2001. The second is on 11/08/2001. The third is on 11/15/2001. So the fourth is on 11/22/2001. So the answer is 11/22/2001.\n",
      "\n",
      "Q: Jane scheduled 3 apointments with 5 poeple for tomorrow (Tue, 7/9/1972). What is the date one year ago from today in MM/DD/YYYY? A: If yesterday is 7/9/1972, then today is 7/8/1972, and one year ago from today is 7/8/1971. So the answer is 7/8/1971.\n",
      "\n",
      "Q: Yesterday, Jan 21, 2011, Jane ate 2 pizzas and 5 wings. What is the date one week from today in MM/DD/YYYY? A: If yesterday is 01/21/2011, then today is 01/22/2011, and one week from today is 7 days in the future of today, which is 01/29/2011. So the answer is 01/29/2011.\n",
      "\n",
      "Q: Today is the second day of the third month of 1966. What is the date one week ago from today in MM/DD/YYYY? A: If today is in the third month of 1966, then today is in March 1966. Also, today is the second day of March, so today is 03/02/1966. One week ago from today is 7 days in the past of today, which is the 5th last day of February 1966. Since there are 28 days in February 1996, the 5th last day of February 1966 is 02/23/1966. So the answer is 02/23/1966.\n",
      "\n",
      "Q: Today, 8/3/1997, is a day that we will never forget. What is the date one week from today in MM/DD/YYYY? A: If today is 8/3/1997, then one week from today is 7 days in the future of today, which is 8/10/1997. So the answer is 8/10/1997.\n",
      "\n",
      "Q: This is the last day of 1899. What is the date one week ago from today in MM/DD/YYYY? A: If today is the last day of 1899, then today is 12/31/1899. One week ago from today is 7 days in the past of today, which is 12/24/1899. So the answer is 12/24/1899.\n",
      "\n",
      "Q: Today is the last day of the first quarter of 2008. What is the date one week from today in MM/DD/YYYY? A: One quarter is 3 months, so the first quarter is January, February, and March. Then, the last day of the first quarter of 2008 is the last day of March, which is 03/31/2008. One week from today is 7 days in the future of today, which is the 7th day of April 2008 or 04/07/2008. So the answer is 04/07/2008. \n",
      "\n",
      "Q: Today is Christmas Eve of 1937. What is the date yesterday in MM/DD/YYYY? A: If today is Chrstmas Eve of 1937, then today is 12/24/1937. Yesterday is 1 day in the past of today, which is 12/23/1937. So the answer is 12/23/1937.\n",
      "\n",
      "Q: Jane is celebrating the last day of Jan 2012. What is the date one week from today in MM/DD/YYYY? A: If today is the last day of Jan 2012, then today is 01/31/2012. One week from today is 7 day in the future of today, which is the 7th day of February 2012, or 02/07/2012. So the answer is 02/07/2012.\n",
      "\n",
      "Q: The day before yesterday was 11/23/1933. What is the date tomorrow in MM/DD/YYYY? A: If the day before yesterday was 11/23/1933, then yesterday is 11/24/1933. Today is 11/25/1933. Tomorrow is 1 day in the future of today, which is 11/26/1933. So the answer is 11/26/1933.\n",
      "\n",
      "Q: Today is 3/5, and it is Jane's second time in the year 1973 to see a meteor shower. What is the date 24 hours later in MM/DD/YYYY?\n",
      "A:\u001b[32m If today is 3/5, then 24 hours later is 3/6. So the answer is 03/06/1973.\n",
      "\n",
      "\u001b[0m "
     ]
    },
    {
     "name": "stderr",
     "output_type": "stream",
     "text": [
      "The attention mask and the pad token id were not set. As a consequence, you may observe unexpected behavior. Please pass your input's `attention_mask` to obtain reliable results.\n",
      "Setting `pad_token_id` to `eos_token_id`:128001 for open-end generation.\n"
     ]
    },
    {
     "name": "stdout",
     "output_type": "stream",
     "text": [
      "Q: In the US, Thanksgiving is on the fourth Thursday of November. Today is the US Thanksgiving of 2001. What is the date today in MM/DD/YYYY? A: The first day of November 2001 or 11/01/2001 is a Thursday, so the first Thursday is on 11/01/2001. The second is on 11/08/2001. The third is on 11/15/2001. So the fourth is on 11/22/2001. So the answer is 11/22/2001.\n",
      "\n",
      "Q: Jane scheduled 3 apointments with 5 poeple for tomorrow (Tue, 7/9/1972). What is the date one year ago from today in MM/DD/YYYY? A: If yesterday is 7/9/1972, then today is 7/8/1972, and one year ago from today is 7/8/1971. So the answer is 7/8/1971.\n",
      "\n",
      "Q: Yesterday, Jan 21, 2011, Jane ate 2 pizzas and 5 wings. What is the date one week from today in MM/DD/YYYY? A: If yesterday is 01/21/2011, then today is 01/22/2011, and one week from today is 7 days in the future of today, which is 01/29/2011. So the answer is 01/29/2011.\n",
      "\n",
      "Q: Today is the second day of the third month of 1966. What is the date one week ago from today in MM/DD/YYYY? A: If today is in the third month of 1966, then today is in March 1966. Also, today is the second day of March, so today is 03/02/1966. One week ago from today is 7 days in the past of today, which is the 5th last day of February 1966. Since there are 28 days in February 1996, the 5th last day of February 1966 is 02/23/1966. So the answer is 02/23/1966.\n",
      "\n",
      "Q: Today, 8/3/1997, is a day that we will never forget. What is the date one week from today in MM/DD/YYYY? A: If today is 8/3/1997, then one week from today is 7 days in the future of today, which is 8/10/1997. So the answer is 8/10/1997.\n",
      "\n",
      "Q: This is the last day of 1899. What is the date one week ago from today in MM/DD/YYYY? A: If today is the last day of 1899, then today is 12/31/1899. One week ago from today is 7 days in the past of today, which is 12/24/1899. So the answer is 12/24/1899.\n",
      "\n",
      "Q: Today is the last day of the first quarter of 2008. What is the date one week from today in MM/DD/YYYY? A: One quarter is 3 months, so the first quarter is January, February, and March. Then, the last day of the first quarter of 2008 is the last day of March, which is 03/31/2008. One week from today is 7 days in the future of today, which is the 7th day of April 2008 or 04/07/2008. So the answer is 04/07/2008. \n",
      "\n",
      "Q: Today is Christmas Eve of 1937. What is the date yesterday in MM/DD/YYYY? A: If today is Chrstmas Eve of 1937, then today is 12/24/1937. Yesterday is 1 day in the past of today, which is 12/23/1937. So the answer is 12/23/1937.\n",
      "\n",
      "Q: Jane is celebrating the last day of Jan 2012. What is the date one week from today in MM/DD/YYYY? A: If today is the last day of Jan 2012, then today is 01/31/2012. One week from today is 7 day in the future of today, which is the 7th day of February 2012, or 02/07/2012. So the answer is 02/07/2012.\n",
      "\n",
      "Q: The day before yesterday was 11/23/1933. What is the date tomorrow in MM/DD/YYYY? A: If the day before yesterday was 11/23/1933, then yesterday is 11/24/1933. Today is 11/25/1933. Tomorrow is 1 day in the future of today, which is 11/26/1933. So the answer is 11/26/1933.\n",
      "\n",
      "Q: Jane and John married on Jan 2, 1958. Today is their golden wedding anniversary. What is the date 24 hours later in MM/DD/YYYY?\n",
      "A:\u001b[32m If Jane and John married on Jan 2, 1958, then today is 50 years later, which is Jan 2, 2008. 24 hours later is 1 day in the future of today, which is 01/03/2008. So the answer is 01/03/2008.\n",
      "\n",
      "\u001b[0m "
     ]
    },
    {
     "name": "stderr",
     "output_type": "stream",
     "text": [
      "The attention mask and the pad token id were not set. As a consequence, you may observe unexpected behavior. Please pass your input's `attention_mask` to obtain reliable results.\n",
      "Setting `pad_token_id` to `eos_token_id`:128001 for open-end generation.\n"
     ]
    },
    {
     "name": "stdout",
     "output_type": "stream",
     "text": [
      "Q: In the US, Thanksgiving is on the fourth Thursday of November. Today is the US Thanksgiving of 2001. What is the date today in MM/DD/YYYY? A: The first day of November 2001 or 11/01/2001 is a Thursday, so the first Thursday is on 11/01/2001. The second is on 11/08/2001. The third is on 11/15/2001. So the fourth is on 11/22/2001. So the answer is 11/22/2001.\n",
      "\n",
      "Q: Jane scheduled 3 apointments with 5 poeple for tomorrow (Tue, 7/9/1972). What is the date one year ago from today in MM/DD/YYYY? A: If yesterday is 7/9/1972, then today is 7/8/1972, and one year ago from today is 7/8/1971. So the answer is 7/8/1971.\n",
      "\n",
      "Q: Yesterday, Jan 21, 2011, Jane ate 2 pizzas and 5 wings. What is the date one week from today in MM/DD/YYYY? A: If yesterday is 01/21/2011, then today is 01/22/2011, and one week from today is 7 days in the future of today, which is 01/29/2011. So the answer is 01/29/2011.\n",
      "\n",
      "Q: Today is the second day of the third month of 1966. What is the date one week ago from today in MM/DD/YYYY? A: If today is in the third month of 1966, then today is in March 1966. Also, today is the second day of March, so today is 03/02/1966. One week ago from today is 7 days in the past of today, which is the 5th last day of February 1966. Since there are 28 days in February 1996, the 5th last day of February 1966 is 02/23/1966. So the answer is 02/23/1966.\n",
      "\n",
      "Q: Today, 8/3/1997, is a day that we will never forget. What is the date one week from today in MM/DD/YYYY? A: If today is 8/3/1997, then one week from today is 7 days in the future of today, which is 8/10/1997. So the answer is 8/10/1997.\n",
      "\n",
      "Q: This is the last day of 1899. What is the date one week ago from today in MM/DD/YYYY? A: If today is the last day of 1899, then today is 12/31/1899. One week ago from today is 7 days in the past of today, which is 12/24/1899. So the answer is 12/24/1899.\n",
      "\n",
      "Q: Today is the last day of the first quarter of 2008. What is the date one week from today in MM/DD/YYYY? A: One quarter is 3 months, so the first quarter is January, February, and March. Then, the last day of the first quarter of 2008 is the last day of March, which is 03/31/2008. One week from today is 7 days in the future of today, which is the 7th day of April 2008 or 04/07/2008. So the answer is 04/07/2008. \n",
      "\n",
      "Q: Today is Christmas Eve of 1937. What is the date yesterday in MM/DD/YYYY? A: If today is Chrstmas Eve of 1937, then today is 12/24/1937. Yesterday is 1 day in the past of today, which is 12/23/1937. So the answer is 12/23/1937.\n",
      "\n",
      "Q: Jane is celebrating the last day of Jan 2012. What is the date one week from today in MM/DD/YYYY? A: If today is the last day of Jan 2012, then today is 01/31/2012. One week from today is 7 day in the future of today, which is the 7th day of February 2012, or 02/07/2012. So the answer is 02/07/2012.\n",
      "\n",
      "Q: The day before yesterday was 11/23/1933. What is the date tomorrow in MM/DD/YYYY? A: If the day before yesterday was 11/23/1933, then yesterday is 11/24/1933. Today is 11/25/1933. Tomorrow is 1 day in the future of today, which is 11/26/1933. So the answer is 11/26/1933.\n",
      "\n",
      "Q: It was Sept. 1st, 2021 a week ago. What is the date one year ago from today in MM/DD/YYYY?\n",
      "A:\u001b[32m If it was Sept. 1st, 2021 a week ago, then today is Sept. 1st, 2022. One year ago from today is 1 year in the past of today, which is Sept. 1st, 2021. So the answer is 09/01/2021.\n",
      "\n",
      "\u001b[0m "
     ]
    },
    {
     "name": "stderr",
     "output_type": "stream",
     "text": [
      "The attention mask and the pad token id were not set. As a consequence, you may observe unexpected behavior. Please pass your input's `attention_mask` to obtain reliable results.\n",
      "Setting `pad_token_id` to `eos_token_id`:128001 for open-end generation.\n"
     ]
    },
    {
     "name": "stdout",
     "output_type": "stream",
     "text": [
      "Q: In the US, Thanksgiving is on the fourth Thursday of November. Today is the US Thanksgiving of 2001. What is the date today in MM/DD/YYYY? A: The first day of November 2001 or 11/01/2001 is a Thursday, so the first Thursday is on 11/01/2001. The second is on 11/08/2001. The third is on 11/15/2001. So the fourth is on 11/22/2001. So the answer is 11/22/2001.\n",
      "\n",
      "Q: Jane scheduled 3 apointments with 5 poeple for tomorrow (Tue, 7/9/1972). What is the date one year ago from today in MM/DD/YYYY? A: If yesterday is 7/9/1972, then today is 7/8/1972, and one year ago from today is 7/8/1971. So the answer is 7/8/1971.\n",
      "\n",
      "Q: Yesterday, Jan 21, 2011, Jane ate 2 pizzas and 5 wings. What is the date one week from today in MM/DD/YYYY? A: If yesterday is 01/21/2011, then today is 01/22/2011, and one week from today is 7 days in the future of today, which is 01/29/2011. So the answer is 01/29/2011.\n",
      "\n",
      "Q: Today is the second day of the third month of 1966. What is the date one week ago from today in MM/DD/YYYY? A: If today is in the third month of 1966, then today is in March 1966. Also, today is the second day of March, so today is 03/02/1966. One week ago from today is 7 days in the past of today, which is the 5th last day of February 1966. Since there are 28 days in February 1996, the 5th last day of February 1966 is 02/23/1966. So the answer is 02/23/1966.\n",
      "\n",
      "Q: Today, 8/3/1997, is a day that we will never forget. What is the date one week from today in MM/DD/YYYY? A: If today is 8/3/1997, then one week from today is 7 days in the future of today, which is 8/10/1997. So the answer is 8/10/1997.\n",
      "\n",
      "Q: This is the last day of 1899. What is the date one week ago from today in MM/DD/YYYY? A: If today is the last day of 1899, then today is 12/31/1899. One week ago from today is 7 days in the past of today, which is 12/24/1899. So the answer is 12/24/1899.\n",
      "\n",
      "Q: Today is the last day of the first quarter of 2008. What is the date one week from today in MM/DD/YYYY? A: One quarter is 3 months, so the first quarter is January, February, and March. Then, the last day of the first quarter of 2008 is the last day of March, which is 03/31/2008. One week from today is 7 days in the future of today, which is the 7th day of April 2008 or 04/07/2008. So the answer is 04/07/2008. \n",
      "\n",
      "Q: Today is Christmas Eve of 1937. What is the date yesterday in MM/DD/YYYY? A: If today is Chrstmas Eve of 1937, then today is 12/24/1937. Yesterday is 1 day in the past of today, which is 12/23/1937. So the answer is 12/23/1937.\n",
      "\n",
      "Q: Jane is celebrating the last day of Jan 2012. What is the date one week from today in MM/DD/YYYY? A: If today is the last day of Jan 2012, then today is 01/31/2012. One week from today is 7 day in the future of today, which is the 7th day of February 2012, or 02/07/2012. So the answer is 02/07/2012.\n",
      "\n",
      "Q: The day before yesterday was 11/23/1933. What is the date tomorrow in MM/DD/YYYY? A: If the day before yesterday was 11/23/1933, then yesterday is 11/24/1933. Today is 11/25/1933. Tomorrow is 1 day in the future of today, which is 11/26/1933. So the answer is 11/26/1933.\n",
      "\n",
      "Q: Tomorrow is 11/12/2019. What is the date 24 hours later in MM/DD/YYYY?\n",
      "A:\u001b[32m If tomorrow is 11/12/2019, then 24 hours later is 1 day in the future of tomorrow, which is 11/13/2019. So the answer is 11/13/2019.\n",
      "\n",
      "\u001b[0m "
     ]
    },
    {
     "name": "stderr",
     "output_type": "stream",
     "text": [
      "The attention mask and the pad token id were not set. As a consequence, you may observe unexpected behavior. Please pass your input's `attention_mask` to obtain reliable results.\n",
      "Setting `pad_token_id` to `eos_token_id`:128001 for open-end generation.\n"
     ]
    },
    {
     "name": "stdout",
     "output_type": "stream",
     "text": [
      "Q: In the US, Thanksgiving is on the fourth Thursday of November. Today is the US Thanksgiving of 2001. What is the date today in MM/DD/YYYY? A: The first day of November 2001 or 11/01/2001 is a Thursday, so the first Thursday is on 11/01/2001. The second is on 11/08/2001. The third is on 11/15/2001. So the fourth is on 11/22/2001. So the answer is 11/22/2001.\n",
      "\n",
      "Q: Jane scheduled 3 apointments with 5 poeple for tomorrow (Tue, 7/9/1972). What is the date one year ago from today in MM/DD/YYYY? A: If yesterday is 7/9/1972, then today is 7/8/1972, and one year ago from today is 7/8/1971. So the answer is 7/8/1971.\n",
      "\n",
      "Q: Yesterday, Jan 21, 2011, Jane ate 2 pizzas and 5 wings. What is the date one week from today in MM/DD/YYYY? A: If yesterday is 01/21/2011, then today is 01/22/2011, and one week from today is 7 days in the future of today, which is 01/29/2011. So the answer is 01/29/2011.\n",
      "\n",
      "Q: Today is the second day of the third month of 1966. What is the date one week ago from today in MM/DD/YYYY? A: If today is in the third month of 1966, then today is in March 1966. Also, today is the second day of March, so today is 03/02/1966. One week ago from today is 7 days in the past of today, which is the 5th last day of February 1966. Since there are 28 days in February 1996, the 5th last day of February 1966 is 02/23/1966. So the answer is 02/23/1966.\n",
      "\n",
      "Q: Today, 8/3/1997, is a day that we will never forget. What is the date one week from today in MM/DD/YYYY? A: If today is 8/3/1997, then one week from today is 7 days in the future of today, which is 8/10/1997. So the answer is 8/10/1997.\n",
      "\n",
      "Q: This is the last day of 1899. What is the date one week ago from today in MM/DD/YYYY? A: If today is the last day of 1899, then today is 12/31/1899. One week ago from today is 7 days in the past of today, which is 12/24/1899. So the answer is 12/24/1899.\n",
      "\n",
      "Q: Today is the last day of the first quarter of 2008. What is the date one week from today in MM/DD/YYYY? A: One quarter is 3 months, so the first quarter is January, February, and March. Then, the last day of the first quarter of 2008 is the last day of March, which is 03/31/2008. One week from today is 7 days in the future of today, which is the 7th day of April 2008 or 04/07/2008. So the answer is 04/07/2008. \n",
      "\n",
      "Q: Today is Christmas Eve of 1937. What is the date yesterday in MM/DD/YYYY? A: If today is Chrstmas Eve of 1937, then today is 12/24/1937. Yesterday is 1 day in the past of today, which is 12/23/1937. So the answer is 12/23/1937.\n",
      "\n",
      "Q: Jane is celebrating the last day of Jan 2012. What is the date one week from today in MM/DD/YYYY? A: If today is the last day of Jan 2012, then today is 01/31/2012. One week from today is 7 day in the future of today, which is the 7th day of February 2012, or 02/07/2012. So the answer is 02/07/2012.\n",
      "\n",
      "Q: The day before yesterday was 11/23/1933. What is the date tomorrow in MM/DD/YYYY? A: If the day before yesterday was 11/23/1933, then yesterday is 11/24/1933. Today is 11/25/1933. Tomorrow is 1 day in the future of today, which is 11/26/1933. So the answer is 11/26/1933.\n",
      "\n",
      "Q: The first day of 2019 is a Tuesday, and today is the first Monday of 2019. What is the date 10 days ago in MM/DD/YYYY?\n",
      "A:\u001b[32m If the first day of 2019 is a Tuesday, then the first Monday of 2019 is 1 week in the past of the first day of 2019, which is 01/07/2019. 10 days ago from today is 10 days in the past of today, which is 12/28/2018. So the answer is 12/28/2018.\n",
      "\n",
      "\u001b[0m "
     ]
    },
    {
     "name": "stderr",
     "output_type": "stream",
     "text": [
      "The attention mask and the pad token id were not set. As a consequence, you may observe unexpected behavior. Please pass your input's `attention_mask` to obtain reliable results.\n",
      "Setting `pad_token_id` to `eos_token_id`:128001 for open-end generation.\n"
     ]
    },
    {
     "name": "stdout",
     "output_type": "stream",
     "text": [
      "Q: In the US, Thanksgiving is on the fourth Thursday of November. Today is the US Thanksgiving of 2001. What is the date today in MM/DD/YYYY? A: The first day of November 2001 or 11/01/2001 is a Thursday, so the first Thursday is on 11/01/2001. The second is on 11/08/2001. The third is on 11/15/2001. So the fourth is on 11/22/2001. So the answer is 11/22/2001.\n",
      "\n",
      "Q: Jane scheduled 3 apointments with 5 poeple for tomorrow (Tue, 7/9/1972). What is the date one year ago from today in MM/DD/YYYY? A: If yesterday is 7/9/1972, then today is 7/8/1972, and one year ago from today is 7/8/1971. So the answer is 7/8/1971.\n",
      "\n",
      "Q: Yesterday, Jan 21, 2011, Jane ate 2 pizzas and 5 wings. What is the date one week from today in MM/DD/YYYY? A: If yesterday is 01/21/2011, then today is 01/22/2011, and one week from today is 7 days in the future of today, which is 01/29/2011. So the answer is 01/29/2011.\n",
      "\n",
      "Q: Today is the second day of the third month of 1966. What is the date one week ago from today in MM/DD/YYYY? A: If today is in the third month of 1966, then today is in March 1966. Also, today is the second day of March, so today is 03/02/1966. One week ago from today is 7 days in the past of today, which is the 5th last day of February 1966. Since there are 28 days in February 1996, the 5th last day of February 1966 is 02/23/1966. So the answer is 02/23/1966.\n",
      "\n",
      "Q: Today, 8/3/1997, is a day that we will never forget. What is the date one week from today in MM/DD/YYYY? A: If today is 8/3/1997, then one week from today is 7 days in the future of today, which is 8/10/1997. So the answer is 8/10/1997.\n",
      "\n",
      "Q: This is the last day of 1899. What is the date one week ago from today in MM/DD/YYYY? A: If today is the last day of 1899, then today is 12/31/1899. One week ago from today is 7 days in the past of today, which is 12/24/1899. So the answer is 12/24/1899.\n",
      "\n",
      "Q: Today is the last day of the first quarter of 2008. What is the date one week from today in MM/DD/YYYY? A: One quarter is 3 months, so the first quarter is January, February, and March. Then, the last day of the first quarter of 2008 is the last day of March, which is 03/31/2008. One week from today is 7 days in the future of today, which is the 7th day of April 2008 or 04/07/2008. So the answer is 04/07/2008. \n",
      "\n",
      "Q: Today is Christmas Eve of 1937. What is the date yesterday in MM/DD/YYYY? A: If today is Chrstmas Eve of 1937, then today is 12/24/1937. Yesterday is 1 day in the past of today, which is 12/23/1937. So the answer is 12/23/1937.\n",
      "\n",
      "Q: Jane is celebrating the last day of Jan 2012. What is the date one week from today in MM/DD/YYYY? A: If today is the last day of Jan 2012, then today is 01/31/2012. One week from today is 7 day in the future of today, which is the 7th day of February 2012, or 02/07/2012. So the answer is 02/07/2012.\n",
      "\n",
      "Q: The day before yesterday was 11/23/1933. What is the date tomorrow in MM/DD/YYYY? A: If the day before yesterday was 11/23/1933, then yesterday is 11/24/1933. Today is 11/25/1933. Tomorrow is 1 day in the future of today, which is 11/26/1933. So the answer is 11/26/1933.\n",
      "\n",
      "Q: Today is Christmas Eve of 1937. What is the date tomorrow in MM/DD/YYYY?\n",
      "A:\u001b[32m If today is Christmas Eve of 1937, then today is 12/24/1937. Tomorrow is 1 day in the future of today, which is 12/25/1937. So the answer is 12/25/1937.\n",
      "\n",
      "\u001b[0m "
     ]
    },
    {
     "name": "stderr",
     "output_type": "stream",
     "text": [
      "The attention mask and the pad token id were not set. As a consequence, you may observe unexpected behavior. Please pass your input's `attention_mask` to obtain reliable results.\n",
      "Setting `pad_token_id` to `eos_token_id`:128001 for open-end generation.\n"
     ]
    },
    {
     "name": "stdout",
     "output_type": "stream",
     "text": [
      "Q: In the US, Thanksgiving is on the fourth Thursday of November. Today is the US Thanksgiving of 2001. What is the date today in MM/DD/YYYY? A: The first day of November 2001 or 11/01/2001 is a Thursday, so the first Thursday is on 11/01/2001. The second is on 11/08/2001. The third is on 11/15/2001. So the fourth is on 11/22/2001. So the answer is 11/22/2001.\n",
      "\n",
      "Q: Jane scheduled 3 apointments with 5 poeple for tomorrow (Tue, 7/9/1972). What is the date one year ago from today in MM/DD/YYYY? A: If yesterday is 7/9/1972, then today is 7/8/1972, and one year ago from today is 7/8/1971. So the answer is 7/8/1971.\n",
      "\n",
      "Q: Yesterday, Jan 21, 2011, Jane ate 2 pizzas and 5 wings. What is the date one week from today in MM/DD/YYYY? A: If yesterday is 01/21/2011, then today is 01/22/2011, and one week from today is 7 days in the future of today, which is 01/29/2011. So the answer is 01/29/2011.\n",
      "\n",
      "Q: Today is the second day of the third month of 1966. What is the date one week ago from today in MM/DD/YYYY? A: If today is in the third month of 1966, then today is in March 1966. Also, today is the second day of March, so today is 03/02/1966. One week ago from today is 7 days in the past of today, which is the 5th last day of February 1966. Since there are 28 days in February 1996, the 5th last day of February 1966 is 02/23/1966. So the answer is 02/23/1966.\n",
      "\n",
      "Q: Today, 8/3/1997, is a day that we will never forget. What is the date one week from today in MM/DD/YYYY? A: If today is 8/3/1997, then one week from today is 7 days in the future of today, which is 8/10/1997. So the answer is 8/10/1997.\n",
      "\n",
      "Q: This is the last day of 1899. What is the date one week ago from today in MM/DD/YYYY? A: If today is the last day of 1899, then today is 12/31/1899. One week ago from today is 7 days in the past of today, which is 12/24/1899. So the answer is 12/24/1899.\n",
      "\n",
      "Q: Today is the last day of the first quarter of 2008. What is the date one week from today in MM/DD/YYYY? A: One quarter is 3 months, so the first quarter is January, February, and March. Then, the last day of the first quarter of 2008 is the last day of March, which is 03/31/2008. One week from today is 7 days in the future of today, which is the 7th day of April 2008 or 04/07/2008. So the answer is 04/07/2008. \n",
      "\n",
      "Q: Today is Christmas Eve of 1937. What is the date yesterday in MM/DD/YYYY? A: If today is Chrstmas Eve of 1937, then today is 12/24/1937. Yesterday is 1 day in the past of today, which is 12/23/1937. So the answer is 12/23/1937.\n",
      "\n",
      "Q: Jane is celebrating the last day of Jan 2012. What is the date one week from today in MM/DD/YYYY? A: If today is the last day of Jan 2012, then today is 01/31/2012. One week from today is 7 day in the future of today, which is the 7th day of February 2012, or 02/07/2012. So the answer is 02/07/2012.\n",
      "\n",
      "Q: The day before yesterday was 11/23/1933. What is the date tomorrow in MM/DD/YYYY? A: If the day before yesterday was 11/23/1933, then yesterday is 11/24/1933. Today is 11/25/1933. Tomorrow is 1 day in the future of today, which is 11/26/1933. So the answer is 11/26/1933.\n",
      "\n",
      "Q: The concert was scheduled to be on 06/01/1943, but was delayed by one day to today. What is the date one week ago from today in MM/DD/YYYY?\n",
      "A:\u001b[32m If the concert was originally scheduled to be on 06/01/1943, then one week ago from today is 7 days in the past of today, which is 05/25/1943. So the answer is 05/25/1943.\n",
      "\n",
      "\u001b[0m "
     ]
    },
    {
     "name": "stderr",
     "output_type": "stream",
     "text": [
      "The attention mask and the pad token id were not set. As a consequence, you may observe unexpected behavior. Please pass your input's `attention_mask` to obtain reliable results.\n",
      "Setting `pad_token_id` to `eos_token_id`:128001 for open-end generation.\n"
     ]
    },
    {
     "name": "stdout",
     "output_type": "stream",
     "text": [
      "Q: In the US, Thanksgiving is on the fourth Thursday of November. Today is the US Thanksgiving of 2001. What is the date today in MM/DD/YYYY? A: The first day of November 2001 or 11/01/2001 is a Thursday, so the first Thursday is on 11/01/2001. The second is on 11/08/2001. The third is on 11/15/2001. So the fourth is on 11/22/2001. So the answer is 11/22/2001.\n",
      "\n",
      "Q: Jane scheduled 3 apointments with 5 poeple for tomorrow (Tue, 7/9/1972). What is the date one year ago from today in MM/DD/YYYY? A: If yesterday is 7/9/1972, then today is 7/8/1972, and one year ago from today is 7/8/1971. So the answer is 7/8/1971.\n",
      "\n",
      "Q: Yesterday, Jan 21, 2011, Jane ate 2 pizzas and 5 wings. What is the date one week from today in MM/DD/YYYY? A: If yesterday is 01/21/2011, then today is 01/22/2011, and one week from today is 7 days in the future of today, which is 01/29/2011. So the answer is 01/29/2011.\n",
      "\n",
      "Q: Today is the second day of the third month of 1966. What is the date one week ago from today in MM/DD/YYYY? A: If today is in the third month of 1966, then today is in March 1966. Also, today is the second day of March, so today is 03/02/1966. One week ago from today is 7 days in the past of today, which is the 5th last day of February 1966. Since there are 28 days in February 1996, the 5th last day of February 1966 is 02/23/1966. So the answer is 02/23/1966.\n",
      "\n",
      "Q: Today, 8/3/1997, is a day that we will never forget. What is the date one week from today in MM/DD/YYYY? A: If today is 8/3/1997, then one week from today is 7 days in the future of today, which is 8/10/1997. So the answer is 8/10/1997.\n",
      "\n",
      "Q: This is the last day of 1899. What is the date one week ago from today in MM/DD/YYYY? A: If today is the last day of 1899, then today is 12/31/1899. One week ago from today is 7 days in the past of today, which is 12/24/1899. So the answer is 12/24/1899.\n",
      "\n",
      "Q: Today is the last day of the first quarter of 2008. What is the date one week from today in MM/DD/YYYY? A: One quarter is 3 months, so the first quarter is January, February, and March. Then, the last day of the first quarter of 2008 is the last day of March, which is 03/31/2008. One week from today is 7 days in the future of today, which is the 7th day of April 2008 or 04/07/2008. So the answer is 04/07/2008. \n",
      "\n",
      "Q: Today is Christmas Eve of 1937. What is the date yesterday in MM/DD/YYYY? A: If today is Chrstmas Eve of 1937, then today is 12/24/1937. Yesterday is 1 day in the past of today, which is 12/23/1937. So the answer is 12/23/1937.\n",
      "\n",
      "Q: Jane is celebrating the last day of Jan 2012. What is the date one week from today in MM/DD/YYYY? A: If today is the last day of Jan 2012, then today is 01/31/2012. One week from today is 7 day in the future of today, which is the 7th day of February 2012, or 02/07/2012. So the answer is 02/07/2012.\n",
      "\n",
      "Q: The day before yesterday was 11/23/1933. What is the date tomorrow in MM/DD/YYYY? A: If the day before yesterday was 11/23/1933, then yesterday is 11/24/1933. Today is 11/25/1933. Tomorrow is 1 day in the future of today, which is 11/26/1933. So the answer is 11/26/1933.\n",
      "\n",
      "Q: Jane was born on the last day of Feburary in 2000. Today is her 16-year-old birthday. What is the date tomorrow in MM/DD/YYYY?\n",
      "A:\u001b[32m If Jane was born on the last day of February in 2000, then she was born on 02/29/2000. Since 2000 is a leap year, there is a 29th day in February. Today is her 16-year-old birthday, so today is 02/29/2016. Tomorrow is 1 day in the future of today, which is 03/01/2016. So the answer is 03/01/2016.\n",
      "\u001b[0m "
     ]
    },
    {
     "name": "stderr",
     "output_type": "stream",
     "text": [
      "The attention mask and the pad token id were not set. As a consequence, you may observe unexpected behavior. Please pass your input's `attention_mask` to obtain reliable results.\n",
      "Setting `pad_token_id` to `eos_token_id`:128001 for open-end generation.\n"
     ]
    },
    {
     "name": "stdout",
     "output_type": "stream",
     "text": [
      "Q: In the US, Thanksgiving is on the fourth Thursday of November. Today is the US Thanksgiving of 2001. What is the date today in MM/DD/YYYY? A: The first day of November 2001 or 11/01/2001 is a Thursday, so the first Thursday is on 11/01/2001. The second is on 11/08/2001. The third is on 11/15/2001. So the fourth is on 11/22/2001. So the answer is 11/22/2001.\n",
      "\n",
      "Q: Jane scheduled 3 apointments with 5 poeple for tomorrow (Tue, 7/9/1972). What is the date one year ago from today in MM/DD/YYYY? A: If yesterday is 7/9/1972, then today is 7/8/1972, and one year ago from today is 7/8/1971. So the answer is 7/8/1971.\n",
      "\n",
      "Q: Yesterday, Jan 21, 2011, Jane ate 2 pizzas and 5 wings. What is the date one week from today in MM/DD/YYYY? A: If yesterday is 01/21/2011, then today is 01/22/2011, and one week from today is 7 days in the future of today, which is 01/29/2011. So the answer is 01/29/2011.\n",
      "\n",
      "Q: Today is the second day of the third month of 1966. What is the date one week ago from today in MM/DD/YYYY? A: If today is in the third month of 1966, then today is in March 1966. Also, today is the second day of March, so today is 03/02/1966. One week ago from today is 7 days in the past of today, which is the 5th last day of February 1966. Since there are 28 days in February 1996, the 5th last day of February 1966 is 02/23/1966. So the answer is 02/23/1966.\n",
      "\n",
      "Q: Today, 8/3/1997, is a day that we will never forget. What is the date one week from today in MM/DD/YYYY? A: If today is 8/3/1997, then one week from today is 7 days in the future of today, which is 8/10/1997. So the answer is 8/10/1997.\n",
      "\n",
      "Q: This is the last day of 1899. What is the date one week ago from today in MM/DD/YYYY? A: If today is the last day of 1899, then today is 12/31/1899. One week ago from today is 7 days in the past of today, which is 12/24/1899. So the answer is 12/24/1899.\n",
      "\n",
      "Q: Today is the last day of the first quarter of 2008. What is the date one week from today in MM/DD/YYYY? A: One quarter is 3 months, so the first quarter is January, February, and March. Then, the last day of the first quarter of 2008 is the last day of March, which is 03/31/2008. One week from today is 7 days in the future of today, which is the 7th day of April 2008 or 04/07/2008. So the answer is 04/07/2008. \n",
      "\n",
      "Q: Today is Christmas Eve of 1937. What is the date yesterday in MM/DD/YYYY? A: If today is Chrstmas Eve of 1937, then today is 12/24/1937. Yesterday is 1 day in the past of today, which is 12/23/1937. So the answer is 12/23/1937.\n",
      "\n",
      "Q: Jane is celebrating the last day of Jan 2012. What is the date one week from today in MM/DD/YYYY? A: If today is the last day of Jan 2012, then today is 01/31/2012. One week from today is 7 day in the future of today, which is the 7th day of February 2012, or 02/07/2012. So the answer is 02/07/2012.\n",
      "\n",
      "Q: The day before yesterday was 11/23/1933. What is the date tomorrow in MM/DD/YYYY? A: If the day before yesterday was 11/23/1933, then yesterday is 11/24/1933. Today is 11/25/1933. Tomorrow is 1 day in the future of today, which is 11/26/1933. So the answer is 11/26/1933.\n",
      "\n",
      "Q: This is the last day of 1899. What is the date yesterday in MM/DD/YYYY?\n",
      "A:\u001b[32m If today is the last day of 1899, then today is 12/31/1899. Yesterday is 1 day in the past of today, which is 12/30/1899. So the answer is 12/30/1899.\n",
      "\n",
      "\u001b[0m "
     ]
    },
    {
     "name": "stderr",
     "output_type": "stream",
     "text": [
      "The attention mask and the pad token id were not set. As a consequence, you may observe unexpected behavior. Please pass your input's `attention_mask` to obtain reliable results.\n",
      "Setting `pad_token_id` to `eos_token_id`:128001 for open-end generation.\n"
     ]
    },
    {
     "name": "stdout",
     "output_type": "stream",
     "text": [
      "Q: In the US, Thanksgiving is on the fourth Thursday of November. Today is the US Thanksgiving of 2001. What is the date today in MM/DD/YYYY? A: The first day of November 2001 or 11/01/2001 is a Thursday, so the first Thursday is on 11/01/2001. The second is on 11/08/2001. The third is on 11/15/2001. So the fourth is on 11/22/2001. So the answer is 11/22/2001.\n",
      "\n",
      "Q: Jane scheduled 3 apointments with 5 poeple for tomorrow (Tue, 7/9/1972). What is the date one year ago from today in MM/DD/YYYY? A: If yesterday is 7/9/1972, then today is 7/8/1972, and one year ago from today is 7/8/1971. So the answer is 7/8/1971.\n",
      "\n",
      "Q: Yesterday, Jan 21, 2011, Jane ate 2 pizzas and 5 wings. What is the date one week from today in MM/DD/YYYY? A: If yesterday is 01/21/2011, then today is 01/22/2011, and one week from today is 7 days in the future of today, which is 01/29/2011. So the answer is 01/29/2011.\n",
      "\n",
      "Q: Today is the second day of the third month of 1966. What is the date one week ago from today in MM/DD/YYYY? A: If today is in the third month of 1966, then today is in March 1966. Also, today is the second day of March, so today is 03/02/1966. One week ago from today is 7 days in the past of today, which is the 5th last day of February 1966. Since there are 28 days in February 1996, the 5th last day of February 1966 is 02/23/1966. So the answer is 02/23/1966.\n",
      "\n",
      "Q: Today, 8/3/1997, is a day that we will never forget. What is the date one week from today in MM/DD/YYYY? A: If today is 8/3/1997, then one week from today is 7 days in the future of today, which is 8/10/1997. So the answer is 8/10/1997.\n",
      "\n",
      "Q: This is the last day of 1899. What is the date one week ago from today in MM/DD/YYYY? A: If today is the last day of 1899, then today is 12/31/1899. One week ago from today is 7 days in the past of today, which is 12/24/1899. So the answer is 12/24/1899.\n",
      "\n",
      "Q: Today is the last day of the first quarter of 2008. What is the date one week from today in MM/DD/YYYY? A: One quarter is 3 months, so the first quarter is January, February, and March. Then, the last day of the first quarter of 2008 is the last day of March, which is 03/31/2008. One week from today is 7 days in the future of today, which is the 7th day of April 2008 or 04/07/2008. So the answer is 04/07/2008. \n",
      "\n",
      "Q: Today is Christmas Eve of 1937. What is the date yesterday in MM/DD/YYYY? A: If today is Chrstmas Eve of 1937, then today is 12/24/1937. Yesterday is 1 day in the past of today, which is 12/23/1937. So the answer is 12/23/1937.\n",
      "\n",
      "Q: Jane is celebrating the last day of Jan 2012. What is the date one week from today in MM/DD/YYYY? A: If today is the last day of Jan 2012, then today is 01/31/2012. One week from today is 7 day in the future of today, which is the 7th day of February 2012, or 02/07/2012. So the answer is 02/07/2012.\n",
      "\n",
      "Q: The day before yesterday was 11/23/1933. What is the date tomorrow in MM/DD/YYYY? A: If the day before yesterday was 11/23/1933, then yesterday is 11/24/1933. Today is 11/25/1933. Tomorrow is 1 day in the future of today, which is 11/26/1933. So the answer is 11/26/1933.\n",
      "\n",
      "Q: Jane got her job in 2016. Today is her 3-year work anniversary. She still remember that on Dec 2, her second day at work, she spilled coffee on her laptop. What is the date 24 hours later in MM/DD/YYYY?\n",
      "A:\u001b[32m If today is her 3-year work anniversary, then today is 12/02/2019. 24 hours later is 1 day in the future of today, which is 12/03/2019. So the answer is 12/03/2019.\n",
      "\n",
      "\u001b[0m "
     ]
    },
    {
     "name": "stderr",
     "output_type": "stream",
     "text": [
      "The attention mask and the pad token id were not set. As a consequence, you may observe unexpected behavior. Please pass your input's `attention_mask` to obtain reliable results.\n",
      "Setting `pad_token_id` to `eos_token_id`:128001 for open-end generation.\n"
     ]
    },
    {
     "name": "stdout",
     "output_type": "stream",
     "text": [
      "Q: In the US, Thanksgiving is on the fourth Thursday of November. Today is the US Thanksgiving of 2001. What is the date today in MM/DD/YYYY? A: The first day of November 2001 or 11/01/2001 is a Thursday, so the first Thursday is on 11/01/2001. The second is on 11/08/2001. The third is on 11/15/2001. So the fourth is on 11/22/2001. So the answer is 11/22/2001.\n",
      "\n",
      "Q: Jane scheduled 3 apointments with 5 poeple for tomorrow (Tue, 7/9/1972). What is the date one year ago from today in MM/DD/YYYY? A: If yesterday is 7/9/1972, then today is 7/8/1972, and one year ago from today is 7/8/1971. So the answer is 7/8/1971.\n",
      "\n",
      "Q: Yesterday, Jan 21, 2011, Jane ate 2 pizzas and 5 wings. What is the date one week from today in MM/DD/YYYY? A: If yesterday is 01/21/2011, then today is 01/22/2011, and one week from today is 7 days in the future of today, which is 01/29/2011. So the answer is 01/29/2011.\n",
      "\n",
      "Q: Today is the second day of the third month of 1966. What is the date one week ago from today in MM/DD/YYYY? A: If today is in the third month of 1966, then today is in March 1966. Also, today is the second day of March, so today is 03/02/1966. One week ago from today is 7 days in the past of today, which is the 5th last day of February 1966. Since there are 28 days in February 1996, the 5th last day of February 1966 is 02/23/1966. So the answer is 02/23/1966.\n",
      "\n",
      "Q: Today, 8/3/1997, is a day that we will never forget. What is the date one week from today in MM/DD/YYYY? A: If today is 8/3/1997, then one week from today is 7 days in the future of today, which is 8/10/1997. So the answer is 8/10/1997.\n",
      "\n",
      "Q: This is the last day of 1899. What is the date one week ago from today in MM/DD/YYYY? A: If today is the last day of 1899, then today is 12/31/1899. One week ago from today is 7 days in the past of today, which is 12/24/1899. So the answer is 12/24/1899.\n",
      "\n",
      "Q: Today is the last day of the first quarter of 2008. What is the date one week from today in MM/DD/YYYY? A: One quarter is 3 months, so the first quarter is January, February, and March. Then, the last day of the first quarter of 2008 is the last day of March, which is 03/31/2008. One week from today is 7 days in the future of today, which is the 7th day of April 2008 or 04/07/2008. So the answer is 04/07/2008. \n",
      "\n",
      "Q: Today is Christmas Eve of 1937. What is the date yesterday in MM/DD/YYYY? A: If today is Chrstmas Eve of 1937, then today is 12/24/1937. Yesterday is 1 day in the past of today, which is 12/23/1937. So the answer is 12/23/1937.\n",
      "\n",
      "Q: Jane is celebrating the last day of Jan 2012. What is the date one week from today in MM/DD/YYYY? A: If today is the last day of Jan 2012, then today is 01/31/2012. One week from today is 7 day in the future of today, which is the 7th day of February 2012, or 02/07/2012. So the answer is 02/07/2012.\n",
      "\n",
      "Q: The day before yesterday was 11/23/1933. What is the date tomorrow in MM/DD/YYYY? A: If the day before yesterday was 11/23/1933, then yesterday is 11/24/1933. Today is 11/25/1933. Tomorrow is 1 day in the future of today, which is 11/26/1933. So the answer is 11/26/1933.\n",
      "\n",
      "Q: Jane and John married on Jan 2, 1958. Today is their golden wedding anniversary. What is the date one year ago from today in MM/DD/YYYY?\n",
      "A:\u001b[32m If today is their golden wedding anniversary, then today is 01/02/2008. One year ago from today is 01/02/2007. So the answer is 01/02/2007.\n",
      "\n",
      "\u001b[0m "
     ]
    },
    {
     "name": "stderr",
     "output_type": "stream",
     "text": [
      "The attention mask and the pad token id were not set. As a consequence, you may observe unexpected behavior. Please pass your input's `attention_mask` to obtain reliable results.\n",
      "Setting `pad_token_id` to `eos_token_id`:128001 for open-end generation.\n"
     ]
    },
    {
     "name": "stdout",
     "output_type": "stream",
     "text": [
      "Q: In the US, Thanksgiving is on the fourth Thursday of November. Today is the US Thanksgiving of 2001. What is the date today in MM/DD/YYYY? A: The first day of November 2001 or 11/01/2001 is a Thursday, so the first Thursday is on 11/01/2001. The second is on 11/08/2001. The third is on 11/15/2001. So the fourth is on 11/22/2001. So the answer is 11/22/2001.\n",
      "\n",
      "Q: Jane scheduled 3 apointments with 5 poeple for tomorrow (Tue, 7/9/1972). What is the date one year ago from today in MM/DD/YYYY? A: If yesterday is 7/9/1972, then today is 7/8/1972, and one year ago from today is 7/8/1971. So the answer is 7/8/1971.\n",
      "\n",
      "Q: Yesterday, Jan 21, 2011, Jane ate 2 pizzas and 5 wings. What is the date one week from today in MM/DD/YYYY? A: If yesterday is 01/21/2011, then today is 01/22/2011, and one week from today is 7 days in the future of today, which is 01/29/2011. So the answer is 01/29/2011.\n",
      "\n",
      "Q: Today is the second day of the third month of 1966. What is the date one week ago from today in MM/DD/YYYY? A: If today is in the third month of 1966, then today is in March 1966. Also, today is the second day of March, so today is 03/02/1966. One week ago from today is 7 days in the past of today, which is the 5th last day of February 1966. Since there are 28 days in February 1996, the 5th last day of February 1966 is 02/23/1966. So the answer is 02/23/1966.\n",
      "\n",
      "Q: Today, 8/3/1997, is a day that we will never forget. What is the date one week from today in MM/DD/YYYY? A: If today is 8/3/1997, then one week from today is 7 days in the future of today, which is 8/10/1997. So the answer is 8/10/1997.\n",
      "\n",
      "Q: This is the last day of 1899. What is the date one week ago from today in MM/DD/YYYY? A: If today is the last day of 1899, then today is 12/31/1899. One week ago from today is 7 days in the past of today, which is 12/24/1899. So the answer is 12/24/1899.\n",
      "\n",
      "Q: Today is the last day of the first quarter of 2008. What is the date one week from today in MM/DD/YYYY? A: One quarter is 3 months, so the first quarter is January, February, and March. Then, the last day of the first quarter of 2008 is the last day of March, which is 03/31/2008. One week from today is 7 days in the future of today, which is the 7th day of April 2008 or 04/07/2008. So the answer is 04/07/2008. \n",
      "\n",
      "Q: Today is Christmas Eve of 1937. What is the date yesterday in MM/DD/YYYY? A: If today is Chrstmas Eve of 1937, then today is 12/24/1937. Yesterday is 1 day in the past of today, which is 12/23/1937. So the answer is 12/23/1937.\n",
      "\n",
      "Q: Jane is celebrating the last day of Jan 2012. What is the date one week from today in MM/DD/YYYY? A: If today is the last day of Jan 2012, then today is 01/31/2012. One week from today is 7 day in the future of today, which is the 7th day of February 2012, or 02/07/2012. So the answer is 02/07/2012.\n",
      "\n",
      "Q: The day before yesterday was 11/23/1933. What is the date tomorrow in MM/DD/YYYY? A: If the day before yesterday was 11/23/1933, then yesterday is 11/24/1933. Today is 11/25/1933. Tomorrow is 1 day in the future of today, which is 11/26/1933. So the answer is 11/26/1933.\n",
      "\n",
      "Q: Jane was born on the last day of Feburary in 2001. Today is her 16-year-old birthday. What is the date 10 days ago in MM/DD/YYYY?\n",
      "A:\u001b[32m If Jane was born on the last day of February in 2001, then she was born on 02/28/2001. Today is her 16-year-old birthday, so today is 02/28/2017. 10 days ago from today is 7 days in the past of today, which is 02/20/2017. Then, 3 more days in the past of 02/20/2017 is 02/17/2017\u001b[0m "
     ]
    },
    {
     "name": "stderr",
     "output_type": "stream",
     "text": [
      "The attention mask and the pad token id were not set. As a consequence, you may observe unexpected behavior. Please pass your input's `attention_mask` to obtain reliable results.\n",
      "Setting `pad_token_id` to `eos_token_id`:128001 for open-end generation.\n"
     ]
    },
    {
     "name": "stdout",
     "output_type": "stream",
     "text": [
      "Q: In the US, Thanksgiving is on the fourth Thursday of November. Today is the US Thanksgiving of 2001. What is the date today in MM/DD/YYYY? A: The first day of November 2001 or 11/01/2001 is a Thursday, so the first Thursday is on 11/01/2001. The second is on 11/08/2001. The third is on 11/15/2001. So the fourth is on 11/22/2001. So the answer is 11/22/2001.\n",
      "\n",
      "Q: Jane scheduled 3 apointments with 5 poeple for tomorrow (Tue, 7/9/1972). What is the date one year ago from today in MM/DD/YYYY? A: If yesterday is 7/9/1972, then today is 7/8/1972, and one year ago from today is 7/8/1971. So the answer is 7/8/1971.\n",
      "\n",
      "Q: Yesterday, Jan 21, 2011, Jane ate 2 pizzas and 5 wings. What is the date one week from today in MM/DD/YYYY? A: If yesterday is 01/21/2011, then today is 01/22/2011, and one week from today is 7 days in the future of today, which is 01/29/2011. So the answer is 01/29/2011.\n",
      "\n",
      "Q: Today is the second day of the third month of 1966. What is the date one week ago from today in MM/DD/YYYY? A: If today is in the third month of 1966, then today is in March 1966. Also, today is the second day of March, so today is 03/02/1966. One week ago from today is 7 days in the past of today, which is the 5th last day of February 1966. Since there are 28 days in February 1996, the 5th last day of February 1966 is 02/23/1966. So the answer is 02/23/1966.\n",
      "\n",
      "Q: Today, 8/3/1997, is a day that we will never forget. What is the date one week from today in MM/DD/YYYY? A: If today is 8/3/1997, then one week from today is 7 days in the future of today, which is 8/10/1997. So the answer is 8/10/1997.\n",
      "\n",
      "Q: This is the last day of 1899. What is the date one week ago from today in MM/DD/YYYY? A: If today is the last day of 1899, then today is 12/31/1899. One week ago from today is 7 days in the past of today, which is 12/24/1899. So the answer is 12/24/1899.\n",
      "\n",
      "Q: Today is the last day of the first quarter of 2008. What is the date one week from today in MM/DD/YYYY? A: One quarter is 3 months, so the first quarter is January, February, and March. Then, the last day of the first quarter of 2008 is the last day of March, which is 03/31/2008. One week from today is 7 days in the future of today, which is the 7th day of April 2008 or 04/07/2008. So the answer is 04/07/2008. \n",
      "\n",
      "Q: Today is Christmas Eve of 1937. What is the date yesterday in MM/DD/YYYY? A: If today is Chrstmas Eve of 1937, then today is 12/24/1937. Yesterday is 1 day in the past of today, which is 12/23/1937. So the answer is 12/23/1937.\n",
      "\n",
      "Q: Jane is celebrating the last day of Jan 2012. What is the date one week from today in MM/DD/YYYY? A: If today is the last day of Jan 2012, then today is 01/31/2012. One week from today is 7 day in the future of today, which is the 7th day of February 2012, or 02/07/2012. So the answer is 02/07/2012.\n",
      "\n",
      "Q: The day before yesterday was 11/23/1933. What is the date tomorrow in MM/DD/YYYY? A: If the day before yesterday was 11/23/1933, then yesterday is 11/24/1933. Today is 11/25/1933. Tomorrow is 1 day in the future of today, which is 11/26/1933. So the answer is 11/26/1933.\n",
      "\n",
      "Q: Tomorrow is 11/12/2019. What is the date one week from today in MM/DD/YYYY?\n",
      "A:\u001b[32m If tomorrow is 11/12/2019, then today is 11/11/2019. One week from today is 7 days in the future of today, which is 11/18/2019. So the answer is 11/18/2019.\n",
      "\n",
      "\u001b[0m "
     ]
    },
    {
     "name": "stderr",
     "output_type": "stream",
     "text": [
      "The attention mask and the pad token id were not set. As a consequence, you may observe unexpected behavior. Please pass your input's `attention_mask` to obtain reliable results.\n",
      "Setting `pad_token_id` to `eos_token_id`:128001 for open-end generation.\n"
     ]
    },
    {
     "name": "stdout",
     "output_type": "stream",
     "text": [
      "Q: In the US, Thanksgiving is on the fourth Thursday of November. Today is the US Thanksgiving of 2001. What is the date today in MM/DD/YYYY? A: The first day of November 2001 or 11/01/2001 is a Thursday, so the first Thursday is on 11/01/2001. The second is on 11/08/2001. The third is on 11/15/2001. So the fourth is on 11/22/2001. So the answer is 11/22/2001.\n",
      "\n",
      "Q: Jane scheduled 3 apointments with 5 poeple for tomorrow (Tue, 7/9/1972). What is the date one year ago from today in MM/DD/YYYY? A: If yesterday is 7/9/1972, then today is 7/8/1972, and one year ago from today is 7/8/1971. So the answer is 7/8/1971.\n",
      "\n",
      "Q: Yesterday, Jan 21, 2011, Jane ate 2 pizzas and 5 wings. What is the date one week from today in MM/DD/YYYY? A: If yesterday is 01/21/2011, then today is 01/22/2011, and one week from today is 7 days in the future of today, which is 01/29/2011. So the answer is 01/29/2011.\n",
      "\n",
      "Q: Today is the second day of the third month of 1966. What is the date one week ago from today in MM/DD/YYYY? A: If today is in the third month of 1966, then today is in March 1966. Also, today is the second day of March, so today is 03/02/1966. One week ago from today is 7 days in the past of today, which is the 5th last day of February 1966. Since there are 28 days in February 1996, the 5th last day of February 1966 is 02/23/1966. So the answer is 02/23/1966.\n",
      "\n",
      "Q: Today, 8/3/1997, is a day that we will never forget. What is the date one week from today in MM/DD/YYYY? A: If today is 8/3/1997, then one week from today is 7 days in the future of today, which is 8/10/1997. So the answer is 8/10/1997.\n",
      "\n",
      "Q: This is the last day of 1899. What is the date one week ago from today in MM/DD/YYYY? A: If today is the last day of 1899, then today is 12/31/1899. One week ago from today is 7 days in the past of today, which is 12/24/1899. So the answer is 12/24/1899.\n",
      "\n",
      "Q: Today is the last day of the first quarter of 2008. What is the date one week from today in MM/DD/YYYY? A: One quarter is 3 months, so the first quarter is January, February, and March. Then, the last day of the first quarter of 2008 is the last day of March, which is 03/31/2008. One week from today is 7 days in the future of today, which is the 7th day of April 2008 or 04/07/2008. So the answer is 04/07/2008. \n",
      "\n",
      "Q: Today is Christmas Eve of 1937. What is the date yesterday in MM/DD/YYYY? A: If today is Chrstmas Eve of 1937, then today is 12/24/1937. Yesterday is 1 day in the past of today, which is 12/23/1937. So the answer is 12/23/1937.\n",
      "\n",
      "Q: Jane is celebrating the last day of Jan 2012. What is the date one week from today in MM/DD/YYYY? A: If today is the last day of Jan 2012, then today is 01/31/2012. One week from today is 7 day in the future of today, which is the 7th day of February 2012, or 02/07/2012. So the answer is 02/07/2012.\n",
      "\n",
      "Q: The day before yesterday was 11/23/1933. What is the date tomorrow in MM/DD/YYYY? A: If the day before yesterday was 11/23/1933, then yesterday is 11/24/1933. Today is 11/25/1933. Tomorrow is 1 day in the future of today, which is 11/26/1933. So the answer is 11/26/1933.\n",
      "\n",
      "Q: Today is Apr 10, 1985. Jane's appointment will be 3 days later. What is the date tomorrow in MM/DD/YYYY?\n",
      "A:\u001b[32m If today is 04/10/1985, then tomorrow is 1 day in the future of today, which is 04/11/1985. 3 days later from today is 04/13/1985. So the answer is 04/13/1985.\n",
      "\n",
      "\u001b[0m "
     ]
    },
    {
     "name": "stderr",
     "output_type": "stream",
     "text": [
      "The attention mask and the pad token id were not set. As a consequence, you may observe unexpected behavior. Please pass your input's `attention_mask` to obtain reliable results.\n",
      "Setting `pad_token_id` to `eos_token_id`:128001 for open-end generation.\n"
     ]
    },
    {
     "name": "stdout",
     "output_type": "stream",
     "text": [
      "Q: In the US, Thanksgiving is on the fourth Thursday of November. Today is the US Thanksgiving of 2001. What is the date today in MM/DD/YYYY? A: The first day of November 2001 or 11/01/2001 is a Thursday, so the first Thursday is on 11/01/2001. The second is on 11/08/2001. The third is on 11/15/2001. So the fourth is on 11/22/2001. So the answer is 11/22/2001.\n",
      "\n",
      "Q: Jane scheduled 3 apointments with 5 poeple for tomorrow (Tue, 7/9/1972). What is the date one year ago from today in MM/DD/YYYY? A: If yesterday is 7/9/1972, then today is 7/8/1972, and one year ago from today is 7/8/1971. So the answer is 7/8/1971.\n",
      "\n",
      "Q: Yesterday, Jan 21, 2011, Jane ate 2 pizzas and 5 wings. What is the date one week from today in MM/DD/YYYY? A: If yesterday is 01/21/2011, then today is 01/22/2011, and one week from today is 7 days in the future of today, which is 01/29/2011. So the answer is 01/29/2011.\n",
      "\n",
      "Q: Today is the second day of the third month of 1966. What is the date one week ago from today in MM/DD/YYYY? A: If today is in the third month of 1966, then today is in March 1966. Also, today is the second day of March, so today is 03/02/1966. One week ago from today is 7 days in the past of today, which is the 5th last day of February 1966. Since there are 28 days in February 1996, the 5th last day of February 1966 is 02/23/1966. So the answer is 02/23/1966.\n",
      "\n",
      "Q: Today, 8/3/1997, is a day that we will never forget. What is the date one week from today in MM/DD/YYYY? A: If today is 8/3/1997, then one week from today is 7 days in the future of today, which is 8/10/1997. So the answer is 8/10/1997.\n",
      "\n",
      "Q: This is the last day of 1899. What is the date one week ago from today in MM/DD/YYYY? A: If today is the last day of 1899, then today is 12/31/1899. One week ago from today is 7 days in the past of today, which is 12/24/1899. So the answer is 12/24/1899.\n",
      "\n",
      "Q: Today is the last day of the first quarter of 2008. What is the date one week from today in MM/DD/YYYY? A: One quarter is 3 months, so the first quarter is January, February, and March. Then, the last day of the first quarter of 2008 is the last day of March, which is 03/31/2008. One week from today is 7 days in the future of today, which is the 7th day of April 2008 or 04/07/2008. So the answer is 04/07/2008. \n",
      "\n",
      "Q: Today is Christmas Eve of 1937. What is the date yesterday in MM/DD/YYYY? A: If today is Chrstmas Eve of 1937, then today is 12/24/1937. Yesterday is 1 day in the past of today, which is 12/23/1937. So the answer is 12/23/1937.\n",
      "\n",
      "Q: Jane is celebrating the last day of Jan 2012. What is the date one week from today in MM/DD/YYYY? A: If today is the last day of Jan 2012, then today is 01/31/2012. One week from today is 7 day in the future of today, which is the 7th day of February 2012, or 02/07/2012. So the answer is 02/07/2012.\n",
      "\n",
      "Q: The day before yesterday was 11/23/1933. What is the date tomorrow in MM/DD/YYYY? A: If the day before yesterday was 11/23/1933, then yesterday is 11/24/1933. Today is 11/25/1933. Tomorrow is 1 day in the future of today, which is 11/26/1933. So the answer is 11/26/1933.\n",
      "\n",
      "Q: This is the last day of 1899. What is the date one year ago from today in MM/DD/YYYY?\n",
      "A:\u001b[32m If today is the last day of 1899, then today is 12/31/1899. One year ago from today is 12/31/1898. So the answer is 12/31/1898.\n",
      "\n",
      "\u001b[0m "
     ]
    },
    {
     "name": "stderr",
     "output_type": "stream",
     "text": [
      "The attention mask and the pad token id were not set. As a consequence, you may observe unexpected behavior. Please pass your input's `attention_mask` to obtain reliable results.\n",
      "Setting `pad_token_id` to `eos_token_id`:128001 for open-end generation.\n"
     ]
    },
    {
     "name": "stdout",
     "output_type": "stream",
     "text": [
      "Q: In the US, Thanksgiving is on the fourth Thursday of November. Today is the US Thanksgiving of 2001. What is the date today in MM/DD/YYYY? A: The first day of November 2001 or 11/01/2001 is a Thursday, so the first Thursday is on 11/01/2001. The second is on 11/08/2001. The third is on 11/15/2001. So the fourth is on 11/22/2001. So the answer is 11/22/2001.\n",
      "\n",
      "Q: Jane scheduled 3 apointments with 5 poeple for tomorrow (Tue, 7/9/1972). What is the date one year ago from today in MM/DD/YYYY? A: If yesterday is 7/9/1972, then today is 7/8/1972, and one year ago from today is 7/8/1971. So the answer is 7/8/1971.\n",
      "\n",
      "Q: Yesterday, Jan 21, 2011, Jane ate 2 pizzas and 5 wings. What is the date one week from today in MM/DD/YYYY? A: If yesterday is 01/21/2011, then today is 01/22/2011, and one week from today is 7 days in the future of today, which is 01/29/2011. So the answer is 01/29/2011.\n",
      "\n",
      "Q: Today is the second day of the third month of 1966. What is the date one week ago from today in MM/DD/YYYY? A: If today is in the third month of 1966, then today is in March 1966. Also, today is the second day of March, so today is 03/02/1966. One week ago from today is 7 days in the past of today, which is the 5th last day of February 1966. Since there are 28 days in February 1996, the 5th last day of February 1966 is 02/23/1966. So the answer is 02/23/1966.\n",
      "\n",
      "Q: Today, 8/3/1997, is a day that we will never forget. What is the date one week from today in MM/DD/YYYY? A: If today is 8/3/1997, then one week from today is 7 days in the future of today, which is 8/10/1997. So the answer is 8/10/1997.\n",
      "\n",
      "Q: This is the last day of 1899. What is the date one week ago from today in MM/DD/YYYY? A: If today is the last day of 1899, then today is 12/31/1899. One week ago from today is 7 days in the past of today, which is 12/24/1899. So the answer is 12/24/1899.\n",
      "\n",
      "Q: Today is the last day of the first quarter of 2008. What is the date one week from today in MM/DD/YYYY? A: One quarter is 3 months, so the first quarter is January, February, and March. Then, the last day of the first quarter of 2008 is the last day of March, which is 03/31/2008. One week from today is 7 days in the future of today, which is the 7th day of April 2008 or 04/07/2008. So the answer is 04/07/2008. \n",
      "\n",
      "Q: Today is Christmas Eve of 1937. What is the date yesterday in MM/DD/YYYY? A: If today is Chrstmas Eve of 1937, then today is 12/24/1937. Yesterday is 1 day in the past of today, which is 12/23/1937. So the answer is 12/23/1937.\n",
      "\n",
      "Q: Jane is celebrating the last day of Jan 2012. What is the date one week from today in MM/DD/YYYY? A: If today is the last day of Jan 2012, then today is 01/31/2012. One week from today is 7 day in the future of today, which is the 7th day of February 2012, or 02/07/2012. So the answer is 02/07/2012.\n",
      "\n",
      "Q: The day before yesterday was 11/23/1933. What is the date tomorrow in MM/DD/YYYY? A: If the day before yesterday was 11/23/1933, then yesterday is 11/24/1933. Today is 11/25/1933. Tomorrow is 1 day in the future of today, which is 11/26/1933. So the answer is 11/26/1933.\n",
      "\n",
      "Q: 2015 is coming in 36 hours. What is the date today in MM/DD/YYYY?\n",
      "A:\u001b[32m If 2015 is coming in 36 hours, then today is 12/31/2014. So the answer is 12/31/2014.\n",
      "\n",
      "\u001b[0m "
     ]
    },
    {
     "name": "stderr",
     "output_type": "stream",
     "text": [
      "The attention mask and the pad token id were not set. As a consequence, you may observe unexpected behavior. Please pass your input's `attention_mask` to obtain reliable results.\n",
      "Setting `pad_token_id` to `eos_token_id`:128001 for open-end generation.\n"
     ]
    },
    {
     "name": "stdout",
     "output_type": "stream",
     "text": [
      "Q: In the US, Thanksgiving is on the fourth Thursday of November. Today is the US Thanksgiving of 2001. What is the date today in MM/DD/YYYY? A: The first day of November 2001 or 11/01/2001 is a Thursday, so the first Thursday is on 11/01/2001. The second is on 11/08/2001. The third is on 11/15/2001. So the fourth is on 11/22/2001. So the answer is 11/22/2001.\n",
      "\n",
      "Q: Jane scheduled 3 apointments with 5 poeple for tomorrow (Tue, 7/9/1972). What is the date one year ago from today in MM/DD/YYYY? A: If yesterday is 7/9/1972, then today is 7/8/1972, and one year ago from today is 7/8/1971. So the answer is 7/8/1971.\n",
      "\n",
      "Q: Yesterday, Jan 21, 2011, Jane ate 2 pizzas and 5 wings. What is the date one week from today in MM/DD/YYYY? A: If yesterday is 01/21/2011, then today is 01/22/2011, and one week from today is 7 days in the future of today, which is 01/29/2011. So the answer is 01/29/2011.\n",
      "\n",
      "Q: Today is the second day of the third month of 1966. What is the date one week ago from today in MM/DD/YYYY? A: If today is in the third month of 1966, then today is in March 1966. Also, today is the second day of March, so today is 03/02/1966. One week ago from today is 7 days in the past of today, which is the 5th last day of February 1966. Since there are 28 days in February 1996, the 5th last day of February 1966 is 02/23/1966. So the answer is 02/23/1966.\n",
      "\n",
      "Q: Today, 8/3/1997, is a day that we will never forget. What is the date one week from today in MM/DD/YYYY? A: If today is 8/3/1997, then one week from today is 7 days in the future of today, which is 8/10/1997. So the answer is 8/10/1997.\n",
      "\n",
      "Q: This is the last day of 1899. What is the date one week ago from today in MM/DD/YYYY? A: If today is the last day of 1899, then today is 12/31/1899. One week ago from today is 7 days in the past of today, which is 12/24/1899. So the answer is 12/24/1899.\n",
      "\n",
      "Q: Today is the last day of the first quarter of 2008. What is the date one week from today in MM/DD/YYYY? A: One quarter is 3 months, so the first quarter is January, February, and March. Then, the last day of the first quarter of 2008 is the last day of March, which is 03/31/2008. One week from today is 7 days in the future of today, which is the 7th day of April 2008 or 04/07/2008. So the answer is 04/07/2008. \n",
      "\n",
      "Q: Today is Christmas Eve of 1937. What is the date yesterday in MM/DD/YYYY? A: If today is Chrstmas Eve of 1937, then today is 12/24/1937. Yesterday is 1 day in the past of today, which is 12/23/1937. So the answer is 12/23/1937.\n",
      "\n",
      "Q: Jane is celebrating the last day of Jan 2012. What is the date one week from today in MM/DD/YYYY? A: If today is the last day of Jan 2012, then today is 01/31/2012. One week from today is 7 day in the future of today, which is the 7th day of February 2012, or 02/07/2012. So the answer is 02/07/2012.\n",
      "\n",
      "Q: The day before yesterday was 11/23/1933. What is the date tomorrow in MM/DD/YYYY? A: If the day before yesterday was 11/23/1933, then yesterday is 11/24/1933. Today is 11/25/1933. Tomorrow is 1 day in the future of today, which is 11/26/1933. So the answer is 11/26/1933.\n",
      "\n",
      "Q: Today is Sep 9, 1909. What is the date yesterday in MM/DD/YYYY?\n",
      "A:\u001b[32m If today is Sep 9, 1909, then yesterday is 1 day in the past of today, which is Sep 8, 1909. So the answer is 09/08/1909.\n",
      "\n",
      "\u001b[0m "
     ]
    },
    {
     "name": "stderr",
     "output_type": "stream",
     "text": [
      "The attention mask and the pad token id were not set. As a consequence, you may observe unexpected behavior. Please pass your input's `attention_mask` to obtain reliable results.\n",
      "Setting `pad_token_id` to `eos_token_id`:128001 for open-end generation.\n"
     ]
    },
    {
     "name": "stdout",
     "output_type": "stream",
     "text": [
      "Q: In the US, Thanksgiving is on the fourth Thursday of November. Today is the US Thanksgiving of 2001. What is the date today in MM/DD/YYYY? A: The first day of November 2001 or 11/01/2001 is a Thursday, so the first Thursday is on 11/01/2001. The second is on 11/08/2001. The third is on 11/15/2001. So the fourth is on 11/22/2001. So the answer is 11/22/2001.\n",
      "\n",
      "Q: Jane scheduled 3 apointments with 5 poeple for tomorrow (Tue, 7/9/1972). What is the date one year ago from today in MM/DD/YYYY? A: If yesterday is 7/9/1972, then today is 7/8/1972, and one year ago from today is 7/8/1971. So the answer is 7/8/1971.\n",
      "\n",
      "Q: Yesterday, Jan 21, 2011, Jane ate 2 pizzas and 5 wings. What is the date one week from today in MM/DD/YYYY? A: If yesterday is 01/21/2011, then today is 01/22/2011, and one week from today is 7 days in the future of today, which is 01/29/2011. So the answer is 01/29/2011.\n",
      "\n",
      "Q: Today is the second day of the third month of 1966. What is the date one week ago from today in MM/DD/YYYY? A: If today is in the third month of 1966, then today is in March 1966. Also, today is the second day of March, so today is 03/02/1966. One week ago from today is 7 days in the past of today, which is the 5th last day of February 1966. Since there are 28 days in February 1996, the 5th last day of February 1966 is 02/23/1966. So the answer is 02/23/1966.\n",
      "\n",
      "Q: Today, 8/3/1997, is a day that we will never forget. What is the date one week from today in MM/DD/YYYY? A: If today is 8/3/1997, then one week from today is 7 days in the future of today, which is 8/10/1997. So the answer is 8/10/1997.\n",
      "\n",
      "Q: This is the last day of 1899. What is the date one week ago from today in MM/DD/YYYY? A: If today is the last day of 1899, then today is 12/31/1899. One week ago from today is 7 days in the past of today, which is 12/24/1899. So the answer is 12/24/1899.\n",
      "\n",
      "Q: Today is the last day of the first quarter of 2008. What is the date one week from today in MM/DD/YYYY? A: One quarter is 3 months, so the first quarter is January, February, and March. Then, the last day of the first quarter of 2008 is the last day of March, which is 03/31/2008. One week from today is 7 days in the future of today, which is the 7th day of April 2008 or 04/07/2008. So the answer is 04/07/2008. \n",
      "\n",
      "Q: Today is Christmas Eve of 1937. What is the date yesterday in MM/DD/YYYY? A: If today is Chrstmas Eve of 1937, then today is 12/24/1937. Yesterday is 1 day in the past of today, which is 12/23/1937. So the answer is 12/23/1937.\n",
      "\n",
      "Q: Jane is celebrating the last day of Jan 2012. What is the date one week from today in MM/DD/YYYY? A: If today is the last day of Jan 2012, then today is 01/31/2012. One week from today is 7 day in the future of today, which is the 7th day of February 2012, or 02/07/2012. So the answer is 02/07/2012.\n",
      "\n",
      "Q: The day before yesterday was 11/23/1933. What is the date tomorrow in MM/DD/YYYY? A: If the day before yesterday was 11/23/1933, then yesterday is 11/24/1933. Today is 11/25/1933. Tomorrow is 1 day in the future of today, which is 11/26/1933. So the answer is 11/26/1933.\n",
      "\n",
      "Q: Jane thinks today is 6/18/2019, but John thinks today is 6/19/2019. John is correct. What is the date 24 hours later in MM/DD/YYYY?\n",
      "A:\u001b[32m If John is correct, then today is 6/19/2019. 24 hours later is 1 day in the future of today, which is 6/20/2019. So the answer is 6/20/2019.\n",
      "\n",
      "\u001b[0m "
     ]
    },
    {
     "name": "stderr",
     "output_type": "stream",
     "text": [
      "The attention mask and the pad token id were not set. As a consequence, you may observe unexpected behavior. Please pass your input's `attention_mask` to obtain reliable results.\n",
      "Setting `pad_token_id` to `eos_token_id`:128001 for open-end generation.\n"
     ]
    },
    {
     "name": "stdout",
     "output_type": "stream",
     "text": [
      "Q: In the US, Thanksgiving is on the fourth Thursday of November. Today is the US Thanksgiving of 2001. What is the date today in MM/DD/YYYY? A: The first day of November 2001 or 11/01/2001 is a Thursday, so the first Thursday is on 11/01/2001. The second is on 11/08/2001. The third is on 11/15/2001. So the fourth is on 11/22/2001. So the answer is 11/22/2001.\n",
      "\n",
      "Q: Jane scheduled 3 apointments with 5 poeple for tomorrow (Tue, 7/9/1972). What is the date one year ago from today in MM/DD/YYYY? A: If yesterday is 7/9/1972, then today is 7/8/1972, and one year ago from today is 7/8/1971. So the answer is 7/8/1971.\n",
      "\n",
      "Q: Yesterday, Jan 21, 2011, Jane ate 2 pizzas and 5 wings. What is the date one week from today in MM/DD/YYYY? A: If yesterday is 01/21/2011, then today is 01/22/2011, and one week from today is 7 days in the future of today, which is 01/29/2011. So the answer is 01/29/2011.\n",
      "\n",
      "Q: Today is the second day of the third month of 1966. What is the date one week ago from today in MM/DD/YYYY? A: If today is in the third month of 1966, then today is in March 1966. Also, today is the second day of March, so today is 03/02/1966. One week ago from today is 7 days in the past of today, which is the 5th last day of February 1966. Since there are 28 days in February 1996, the 5th last day of February 1966 is 02/23/1966. So the answer is 02/23/1966.\n",
      "\n",
      "Q: Today, 8/3/1997, is a day that we will never forget. What is the date one week from today in MM/DD/YYYY? A: If today is 8/3/1997, then one week from today is 7 days in the future of today, which is 8/10/1997. So the answer is 8/10/1997.\n",
      "\n",
      "Q: This is the last day of 1899. What is the date one week ago from today in MM/DD/YYYY? A: If today is the last day of 1899, then today is 12/31/1899. One week ago from today is 7 days in the past of today, which is 12/24/1899. So the answer is 12/24/1899.\n",
      "\n",
      "Q: Today is the last day of the first quarter of 2008. What is the date one week from today in MM/DD/YYYY? A: One quarter is 3 months, so the first quarter is January, February, and March. Then, the last day of the first quarter of 2008 is the last day of March, which is 03/31/2008. One week from today is 7 days in the future of today, which is the 7th day of April 2008 or 04/07/2008. So the answer is 04/07/2008. \n",
      "\n",
      "Q: Today is Christmas Eve of 1937. What is the date yesterday in MM/DD/YYYY? A: If today is Chrstmas Eve of 1937, then today is 12/24/1937. Yesterday is 1 day in the past of today, which is 12/23/1937. So the answer is 12/23/1937.\n",
      "\n",
      "Q: Jane is celebrating the last day of Jan 2012. What is the date one week from today in MM/DD/YYYY? A: If today is the last day of Jan 2012, then today is 01/31/2012. One week from today is 7 day in the future of today, which is the 7th day of February 2012, or 02/07/2012. So the answer is 02/07/2012.\n",
      "\n",
      "Q: The day before yesterday was 11/23/1933. What is the date tomorrow in MM/DD/YYYY? A: If the day before yesterday was 11/23/1933, then yesterday is 11/24/1933. Today is 11/25/1933. Tomorrow is 1 day in the future of today, which is 11/26/1933. So the answer is 11/26/1933.\n",
      "\n",
      "Q: May 6, 1992 is like yesterday to Jane, but that is actually ten years ago. What is the date 24 hours later in MM/DD/YYYY?\n",
      "A:\u001b[32m If May 6, 1992 is 10 years ago, then today is May 6, 2002. 24 hours later is 1 day in the future of today, which is May 7, 2002. So the answer is 05/07/2002.\n",
      "\n",
      "\u001b[0m "
     ]
    },
    {
     "name": "stderr",
     "output_type": "stream",
     "text": [
      "The attention mask and the pad token id were not set. As a consequence, you may observe unexpected behavior. Please pass your input's `attention_mask` to obtain reliable results.\n",
      "Setting `pad_token_id` to `eos_token_id`:128001 for open-end generation.\n"
     ]
    },
    {
     "name": "stdout",
     "output_type": "stream",
     "text": [
      "Q: In the US, Thanksgiving is on the fourth Thursday of November. Today is the US Thanksgiving of 2001. What is the date today in MM/DD/YYYY? A: The first day of November 2001 or 11/01/2001 is a Thursday, so the first Thursday is on 11/01/2001. The second is on 11/08/2001. The third is on 11/15/2001. So the fourth is on 11/22/2001. So the answer is 11/22/2001.\n",
      "\n",
      "Q: Jane scheduled 3 apointments with 5 poeple for tomorrow (Tue, 7/9/1972). What is the date one year ago from today in MM/DD/YYYY? A: If yesterday is 7/9/1972, then today is 7/8/1972, and one year ago from today is 7/8/1971. So the answer is 7/8/1971.\n",
      "\n",
      "Q: Yesterday, Jan 21, 2011, Jane ate 2 pizzas and 5 wings. What is the date one week from today in MM/DD/YYYY? A: If yesterday is 01/21/2011, then today is 01/22/2011, and one week from today is 7 days in the future of today, which is 01/29/2011. So the answer is 01/29/2011.\n",
      "\n",
      "Q: Today is the second day of the third month of 1966. What is the date one week ago from today in MM/DD/YYYY? A: If today is in the third month of 1966, then today is in March 1966. Also, today is the second day of March, so today is 03/02/1966. One week ago from today is 7 days in the past of today, which is the 5th last day of February 1966. Since there are 28 days in February 1996, the 5th last day of February 1966 is 02/23/1966. So the answer is 02/23/1966.\n",
      "\n",
      "Q: Today, 8/3/1997, is a day that we will never forget. What is the date one week from today in MM/DD/YYYY? A: If today is 8/3/1997, then one week from today is 7 days in the future of today, which is 8/10/1997. So the answer is 8/10/1997.\n",
      "\n",
      "Q: This is the last day of 1899. What is the date one week ago from today in MM/DD/YYYY? A: If today is the last day of 1899, then today is 12/31/1899. One week ago from today is 7 days in the past of today, which is 12/24/1899. So the answer is 12/24/1899.\n",
      "\n",
      "Q: Today is the last day of the first quarter of 2008. What is the date one week from today in MM/DD/YYYY? A: One quarter is 3 months, so the first quarter is January, February, and March. Then, the last day of the first quarter of 2008 is the last day of March, which is 03/31/2008. One week from today is 7 days in the future of today, which is the 7th day of April 2008 or 04/07/2008. So the answer is 04/07/2008. \n",
      "\n",
      "Q: Today is Christmas Eve of 1937. What is the date yesterday in MM/DD/YYYY? A: If today is Chrstmas Eve of 1937, then today is 12/24/1937. Yesterday is 1 day in the past of today, which is 12/23/1937. So the answer is 12/23/1937.\n",
      "\n",
      "Q: Jane is celebrating the last day of Jan 2012. What is the date one week from today in MM/DD/YYYY? A: If today is the last day of Jan 2012, then today is 01/31/2012. One week from today is 7 day in the future of today, which is the 7th day of February 2012, or 02/07/2012. So the answer is 02/07/2012.\n",
      "\n",
      "Q: The day before yesterday was 11/23/1933. What is the date tomorrow in MM/DD/YYYY? A: If the day before yesterday was 11/23/1933, then yesterday is 11/24/1933. Today is 11/25/1933. Tomorrow is 1 day in the future of today, which is 11/26/1933. So the answer is 11/26/1933.\n",
      "\n",
      "Q: Today is Christmas Eve of 1937. What is the date one week ago from today in MM/DD/YYYY?\n",
      "A:\u001b[32m If today is Christmas Eve of 1937, then today is 12/24/1937. One week ago from today is 7 days in the past of today, which is 12/17/1937. So the answer is 12/17/1937.\n",
      "\n",
      "\u001b[0m "
     ]
    },
    {
     "name": "stderr",
     "output_type": "stream",
     "text": [
      "The attention mask and the pad token id were not set. As a consequence, you may observe unexpected behavior. Please pass your input's `attention_mask` to obtain reliable results.\n",
      "Setting `pad_token_id` to `eos_token_id`:128001 for open-end generation.\n"
     ]
    },
    {
     "name": "stdout",
     "output_type": "stream",
     "text": [
      "Q: In the US, Thanksgiving is on the fourth Thursday of November. Today is the US Thanksgiving of 2001. What is the date today in MM/DD/YYYY? A: The first day of November 2001 or 11/01/2001 is a Thursday, so the first Thursday is on 11/01/2001. The second is on 11/08/2001. The third is on 11/15/2001. So the fourth is on 11/22/2001. So the answer is 11/22/2001.\n",
      "\n",
      "Q: Jane scheduled 3 apointments with 5 poeple for tomorrow (Tue, 7/9/1972). What is the date one year ago from today in MM/DD/YYYY? A: If yesterday is 7/9/1972, then today is 7/8/1972, and one year ago from today is 7/8/1971. So the answer is 7/8/1971.\n",
      "\n",
      "Q: Yesterday, Jan 21, 2011, Jane ate 2 pizzas and 5 wings. What is the date one week from today in MM/DD/YYYY? A: If yesterday is 01/21/2011, then today is 01/22/2011, and one week from today is 7 days in the future of today, which is 01/29/2011. So the answer is 01/29/2011.\n",
      "\n",
      "Q: Today is the second day of the third month of 1966. What is the date one week ago from today in MM/DD/YYYY? A: If today is in the third month of 1966, then today is in March 1966. Also, today is the second day of March, so today is 03/02/1966. One week ago from today is 7 days in the past of today, which is the 5th last day of February 1966. Since there are 28 days in February 1996, the 5th last day of February 1966 is 02/23/1966. So the answer is 02/23/1966.\n",
      "\n",
      "Q: Today, 8/3/1997, is a day that we will never forget. What is the date one week from today in MM/DD/YYYY? A: If today is 8/3/1997, then one week from today is 7 days in the future of today, which is 8/10/1997. So the answer is 8/10/1997.\n",
      "\n",
      "Q: This is the last day of 1899. What is the date one week ago from today in MM/DD/YYYY? A: If today is the last day of 1899, then today is 12/31/1899. One week ago from today is 7 days in the past of today, which is 12/24/1899. So the answer is 12/24/1899.\n",
      "\n",
      "Q: Today is the last day of the first quarter of 2008. What is the date one week from today in MM/DD/YYYY? A: One quarter is 3 months, so the first quarter is January, February, and March. Then, the last day of the first quarter of 2008 is the last day of March, which is 03/31/2008. One week from today is 7 days in the future of today, which is the 7th day of April 2008 or 04/07/2008. So the answer is 04/07/2008. \n",
      "\n",
      "Q: Today is Christmas Eve of 1937. What is the date yesterday in MM/DD/YYYY? A: If today is Chrstmas Eve of 1937, then today is 12/24/1937. Yesterday is 1 day in the past of today, which is 12/23/1937. So the answer is 12/23/1937.\n",
      "\n",
      "Q: Jane is celebrating the last day of Jan 2012. What is the date one week from today in MM/DD/YYYY? A: If today is the last day of Jan 2012, then today is 01/31/2012. One week from today is 7 day in the future of today, which is the 7th day of February 2012, or 02/07/2012. So the answer is 02/07/2012.\n",
      "\n",
      "Q: The day before yesterday was 11/23/1933. What is the date tomorrow in MM/DD/YYYY? A: If the day before yesterday was 11/23/1933, then yesterday is 11/24/1933. Today is 11/25/1933. Tomorrow is 1 day in the future of today, which is 11/26/1933. So the answer is 11/26/1933.\n",
      "\n",
      "Q: Today is Apr 10, 1985. Jane's appointment will be 3 days later. What is the date one year ago from today in MM/DD/YYYY?\n",
      "A:\u001b[32m If today is 04/10/1985, then one year ago from today is 04/10/1984. So the answer is 04/10/1984.\n",
      "\n",
      "\u001b[0m "
     ]
    },
    {
     "name": "stderr",
     "output_type": "stream",
     "text": [
      "The attention mask and the pad token id were not set. As a consequence, you may observe unexpected behavior. Please pass your input's `attention_mask` to obtain reliable results.\n",
      "Setting `pad_token_id` to `eos_token_id`:128001 for open-end generation.\n"
     ]
    },
    {
     "name": "stdout",
     "output_type": "stream",
     "text": [
      "Q: In the US, Thanksgiving is on the fourth Thursday of November. Today is the US Thanksgiving of 2001. What is the date today in MM/DD/YYYY? A: The first day of November 2001 or 11/01/2001 is a Thursday, so the first Thursday is on 11/01/2001. The second is on 11/08/2001. The third is on 11/15/2001. So the fourth is on 11/22/2001. So the answer is 11/22/2001.\n",
      "\n",
      "Q: Jane scheduled 3 apointments with 5 poeple for tomorrow (Tue, 7/9/1972). What is the date one year ago from today in MM/DD/YYYY? A: If yesterday is 7/9/1972, then today is 7/8/1972, and one year ago from today is 7/8/1971. So the answer is 7/8/1971.\n",
      "\n",
      "Q: Yesterday, Jan 21, 2011, Jane ate 2 pizzas and 5 wings. What is the date one week from today in MM/DD/YYYY? A: If yesterday is 01/21/2011, then today is 01/22/2011, and one week from today is 7 days in the future of today, which is 01/29/2011. So the answer is 01/29/2011.\n",
      "\n",
      "Q: Today is the second day of the third month of 1966. What is the date one week ago from today in MM/DD/YYYY? A: If today is in the third month of 1966, then today is in March 1966. Also, today is the second day of March, so today is 03/02/1966. One week ago from today is 7 days in the past of today, which is the 5th last day of February 1966. Since there are 28 days in February 1996, the 5th last day of February 1966 is 02/23/1966. So the answer is 02/23/1966.\n",
      "\n",
      "Q: Today, 8/3/1997, is a day that we will never forget. What is the date one week from today in MM/DD/YYYY? A: If today is 8/3/1997, then one week from today is 7 days in the future of today, which is 8/10/1997. So the answer is 8/10/1997.\n",
      "\n",
      "Q: This is the last day of 1899. What is the date one week ago from today in MM/DD/YYYY? A: If today is the last day of 1899, then today is 12/31/1899. One week ago from today is 7 days in the past of today, which is 12/24/1899. So the answer is 12/24/1899.\n",
      "\n",
      "Q: Today is the last day of the first quarter of 2008. What is the date one week from today in MM/DD/YYYY? A: One quarter is 3 months, so the first quarter is January, February, and March. Then, the last day of the first quarter of 2008 is the last day of March, which is 03/31/2008. One week from today is 7 days in the future of today, which is the 7th day of April 2008 or 04/07/2008. So the answer is 04/07/2008. \n",
      "\n",
      "Q: Today is Christmas Eve of 1937. What is the date yesterday in MM/DD/YYYY? A: If today is Chrstmas Eve of 1937, then today is 12/24/1937. Yesterday is 1 day in the past of today, which is 12/23/1937. So the answer is 12/23/1937.\n",
      "\n",
      "Q: Jane is celebrating the last day of Jan 2012. What is the date one week from today in MM/DD/YYYY? A: If today is the last day of Jan 2012, then today is 01/31/2012. One week from today is 7 day in the future of today, which is the 7th day of February 2012, or 02/07/2012. So the answer is 02/07/2012.\n",
      "\n",
      "Q: The day before yesterday was 11/23/1933. What is the date tomorrow in MM/DD/YYYY? A: If the day before yesterday was 11/23/1933, then yesterday is 11/24/1933. Today is 11/25/1933. Tomorrow is 1 day in the future of today, which is 11/26/1933. So the answer is 11/26/1933.\n",
      "\n",
      "Q: Jane thinks today is 6/18/2019, but John thinks today is 6/19/2019. Jane is correct. What is the date yesterday in MM/DD/YYYY?\n",
      "A:\u001b[32m If today is 6/18/2019, then yesterday is 1 day in the past of today, which is 6/17/2019. So the answer is 6/17/2019.\n",
      "\n",
      "\u001b[0m "
     ]
    },
    {
     "name": "stderr",
     "output_type": "stream",
     "text": [
      "The attention mask and the pad token id were not set. As a consequence, you may observe unexpected behavior. Please pass your input's `attention_mask` to obtain reliable results.\n",
      "Setting `pad_token_id` to `eos_token_id`:128001 for open-end generation.\n"
     ]
    },
    {
     "name": "stdout",
     "output_type": "stream",
     "text": [
      "Q: In the US, Thanksgiving is on the fourth Thursday of November. Today is the US Thanksgiving of 2001. What is the date today in MM/DD/YYYY? A: The first day of November 2001 or 11/01/2001 is a Thursday, so the first Thursday is on 11/01/2001. The second is on 11/08/2001. The third is on 11/15/2001. So the fourth is on 11/22/2001. So the answer is 11/22/2001.\n",
      "\n",
      "Q: Jane scheduled 3 apointments with 5 poeple for tomorrow (Tue, 7/9/1972). What is the date one year ago from today in MM/DD/YYYY? A: If yesterday is 7/9/1972, then today is 7/8/1972, and one year ago from today is 7/8/1971. So the answer is 7/8/1971.\n",
      "\n",
      "Q: Yesterday, Jan 21, 2011, Jane ate 2 pizzas and 5 wings. What is the date one week from today in MM/DD/YYYY? A: If yesterday is 01/21/2011, then today is 01/22/2011, and one week from today is 7 days in the future of today, which is 01/29/2011. So the answer is 01/29/2011.\n",
      "\n",
      "Q: Today is the second day of the third month of 1966. What is the date one week ago from today in MM/DD/YYYY? A: If today is in the third month of 1966, then today is in March 1966. Also, today is the second day of March, so today is 03/02/1966. One week ago from today is 7 days in the past of today, which is the 5th last day of February 1966. Since there are 28 days in February 1996, the 5th last day of February 1966 is 02/23/1966. So the answer is 02/23/1966.\n",
      "\n",
      "Q: Today, 8/3/1997, is a day that we will never forget. What is the date one week from today in MM/DD/YYYY? A: If today is 8/3/1997, then one week from today is 7 days in the future of today, which is 8/10/1997. So the answer is 8/10/1997.\n",
      "\n",
      "Q: This is the last day of 1899. What is the date one week ago from today in MM/DD/YYYY? A: If today is the last day of 1899, then today is 12/31/1899. One week ago from today is 7 days in the past of today, which is 12/24/1899. So the answer is 12/24/1899.\n",
      "\n",
      "Q: Today is the last day of the first quarter of 2008. What is the date one week from today in MM/DD/YYYY? A: One quarter is 3 months, so the first quarter is January, February, and March. Then, the last day of the first quarter of 2008 is the last day of March, which is 03/31/2008. One week from today is 7 days in the future of today, which is the 7th day of April 2008 or 04/07/2008. So the answer is 04/07/2008. \n",
      "\n",
      "Q: Today is Christmas Eve of 1937. What is the date yesterday in MM/DD/YYYY? A: If today is Chrstmas Eve of 1937, then today is 12/24/1937. Yesterday is 1 day in the past of today, which is 12/23/1937. So the answer is 12/23/1937.\n",
      "\n",
      "Q: Jane is celebrating the last day of Jan 2012. What is the date one week from today in MM/DD/YYYY? A: If today is the last day of Jan 2012, then today is 01/31/2012. One week from today is 7 day in the future of today, which is the 7th day of February 2012, or 02/07/2012. So the answer is 02/07/2012.\n",
      "\n",
      "Q: The day before yesterday was 11/23/1933. What is the date tomorrow in MM/DD/YYYY? A: If the day before yesterday was 11/23/1933, then yesterday is 11/24/1933. Today is 11/25/1933. Tomorrow is 1 day in the future of today, which is 11/26/1933. So the answer is 11/26/1933.\n",
      "\n",
      "Q: Jane scheduled 3 apointments with 5 poeple for tomorrow (Tue, 7/9/1972). What is the date tomorrow in MM/DD/YYYY?\n",
      "A:\u001b[32m If today is 7/8/1972, then tomorrow is 7/9/1972. So the answer is 7/9/1972.\n",
      "\n",
      "\u001b[0m "
     ]
    },
    {
     "name": "stderr",
     "output_type": "stream",
     "text": [
      "The attention mask and the pad token id were not set. As a consequence, you may observe unexpected behavior. Please pass your input's `attention_mask` to obtain reliable results.\n",
      "Setting `pad_token_id` to `eos_token_id`:128001 for open-end generation.\n"
     ]
    },
    {
     "name": "stdout",
     "output_type": "stream",
     "text": [
      "Q: In the US, Thanksgiving is on the fourth Thursday of November. Today is the US Thanksgiving of 2001. What is the date today in MM/DD/YYYY? A: The first day of November 2001 or 11/01/2001 is a Thursday, so the first Thursday is on 11/01/2001. The second is on 11/08/2001. The third is on 11/15/2001. So the fourth is on 11/22/2001. So the answer is 11/22/2001.\n",
      "\n",
      "Q: Jane scheduled 3 apointments with 5 poeple for tomorrow (Tue, 7/9/1972). What is the date one year ago from today in MM/DD/YYYY? A: If yesterday is 7/9/1972, then today is 7/8/1972, and one year ago from today is 7/8/1971. So the answer is 7/8/1971.\n",
      "\n",
      "Q: Yesterday, Jan 21, 2011, Jane ate 2 pizzas and 5 wings. What is the date one week from today in MM/DD/YYYY? A: If yesterday is 01/21/2011, then today is 01/22/2011, and one week from today is 7 days in the future of today, which is 01/29/2011. So the answer is 01/29/2011.\n",
      "\n",
      "Q: Today is the second day of the third month of 1966. What is the date one week ago from today in MM/DD/YYYY? A: If today is in the third month of 1966, then today is in March 1966. Also, today is the second day of March, so today is 03/02/1966. One week ago from today is 7 days in the past of today, which is the 5th last day of February 1966. Since there are 28 days in February 1996, the 5th last day of February 1966 is 02/23/1966. So the answer is 02/23/1966.\n",
      "\n",
      "Q: Today, 8/3/1997, is a day that we will never forget. What is the date one week from today in MM/DD/YYYY? A: If today is 8/3/1997, then one week from today is 7 days in the future of today, which is 8/10/1997. So the answer is 8/10/1997.\n",
      "\n",
      "Q: This is the last day of 1899. What is the date one week ago from today in MM/DD/YYYY? A: If today is the last day of 1899, then today is 12/31/1899. One week ago from today is 7 days in the past of today, which is 12/24/1899. So the answer is 12/24/1899.\n",
      "\n",
      "Q: Today is the last day of the first quarter of 2008. What is the date one week from today in MM/DD/YYYY? A: One quarter is 3 months, so the first quarter is January, February, and March. Then, the last day of the first quarter of 2008 is the last day of March, which is 03/31/2008. One week from today is 7 days in the future of today, which is the 7th day of April 2008 or 04/07/2008. So the answer is 04/07/2008. \n",
      "\n",
      "Q: Today is Christmas Eve of 1937. What is the date yesterday in MM/DD/YYYY? A: If today is Chrstmas Eve of 1937, then today is 12/24/1937. Yesterday is 1 day in the past of today, which is 12/23/1937. So the answer is 12/23/1937.\n",
      "\n",
      "Q: Jane is celebrating the last day of Jan 2012. What is the date one week from today in MM/DD/YYYY? A: If today is the last day of Jan 2012, then today is 01/31/2012. One week from today is 7 day in the future of today, which is the 7th day of February 2012, or 02/07/2012. So the answer is 02/07/2012.\n",
      "\n",
      "Q: The day before yesterday was 11/23/1933. What is the date tomorrow in MM/DD/YYYY? A: If the day before yesterday was 11/23/1933, then yesterday is 11/24/1933. Today is 11/25/1933. Tomorrow is 1 day in the future of today, which is 11/26/1933. So the answer is 11/26/1933.\n",
      "\n",
      "Q: Jane and John married on Jan 2, 1958. It is their 5-year anniversary today. What is the date one year ago from today in MM/DD/YYYY?\n",
      "A:\u001b[32m If today is their 5-year anniversary, then today is 01/02/1963. One year ago from today is 01/02/1962. So the answer is 01/02/1962.\n",
      "\n",
      "\u001b[0m "
     ]
    },
    {
     "name": "stderr",
     "output_type": "stream",
     "text": [
      "The attention mask and the pad token id were not set. As a consequence, you may observe unexpected behavior. Please pass your input's `attention_mask` to obtain reliable results.\n",
      "Setting `pad_token_id` to `eos_token_id`:128001 for open-end generation.\n"
     ]
    },
    {
     "name": "stdout",
     "output_type": "stream",
     "text": [
      "Q: In the US, Thanksgiving is on the fourth Thursday of November. Today is the US Thanksgiving of 2001. What is the date today in MM/DD/YYYY? A: The first day of November 2001 or 11/01/2001 is a Thursday, so the first Thursday is on 11/01/2001. The second is on 11/08/2001. The third is on 11/15/2001. So the fourth is on 11/22/2001. So the answer is 11/22/2001.\n",
      "\n",
      "Q: Jane scheduled 3 apointments with 5 poeple for tomorrow (Tue, 7/9/1972). What is the date one year ago from today in MM/DD/YYYY? A: If yesterday is 7/9/1972, then today is 7/8/1972, and one year ago from today is 7/8/1971. So the answer is 7/8/1971.\n",
      "\n",
      "Q: Yesterday, Jan 21, 2011, Jane ate 2 pizzas and 5 wings. What is the date one week from today in MM/DD/YYYY? A: If yesterday is 01/21/2011, then today is 01/22/2011, and one week from today is 7 days in the future of today, which is 01/29/2011. So the answer is 01/29/2011.\n",
      "\n",
      "Q: Today is the second day of the third month of 1966. What is the date one week ago from today in MM/DD/YYYY? A: If today is in the third month of 1966, then today is in March 1966. Also, today is the second day of March, so today is 03/02/1966. One week ago from today is 7 days in the past of today, which is the 5th last day of February 1966. Since there are 28 days in February 1996, the 5th last day of February 1966 is 02/23/1966. So the answer is 02/23/1966.\n",
      "\n",
      "Q: Today, 8/3/1997, is a day that we will never forget. What is the date one week from today in MM/DD/YYYY? A: If today is 8/3/1997, then one week from today is 7 days in the future of today, which is 8/10/1997. So the answer is 8/10/1997.\n",
      "\n",
      "Q: This is the last day of 1899. What is the date one week ago from today in MM/DD/YYYY? A: If today is the last day of 1899, then today is 12/31/1899. One week ago from today is 7 days in the past of today, which is 12/24/1899. So the answer is 12/24/1899.\n",
      "\n",
      "Q: Today is the last day of the first quarter of 2008. What is the date one week from today in MM/DD/YYYY? A: One quarter is 3 months, so the first quarter is January, February, and March. Then, the last day of the first quarter of 2008 is the last day of March, which is 03/31/2008. One week from today is 7 days in the future of today, which is the 7th day of April 2008 or 04/07/2008. So the answer is 04/07/2008. \n",
      "\n",
      "Q: Today is Christmas Eve of 1937. What is the date yesterday in MM/DD/YYYY? A: If today is Chrstmas Eve of 1937, then today is 12/24/1937. Yesterday is 1 day in the past of today, which is 12/23/1937. So the answer is 12/23/1937.\n",
      "\n",
      "Q: Jane is celebrating the last day of Jan 2012. What is the date one week from today in MM/DD/YYYY? A: If today is the last day of Jan 2012, then today is 01/31/2012. One week from today is 7 day in the future of today, which is the 7th day of February 2012, or 02/07/2012. So the answer is 02/07/2012.\n",
      "\n",
      "Q: The day before yesterday was 11/23/1933. What is the date tomorrow in MM/DD/YYYY? A: If the day before yesterday was 11/23/1933, then yesterday is 11/24/1933. Today is 11/25/1933. Tomorrow is 1 day in the future of today, which is 11/26/1933. So the answer is 11/26/1933.\n",
      "\n",
      "Q: In the US, Thanksgiving is on the fourth Thursday of November. Today is the US Thanksgiving of 2001. What is the date yesterday in MM/DD/YYYY?\n",
      "A:\u001b[32m The first day of November 2001 or 11/01/2001 is a Thursday, so the first Thursday is on 11/01/2001. The second is on 11/08/2001. The third is on 11/15/2001. So the fourth is on 11/22/2001. So the answer is 11/22/2001. Yesterday is 1 day in the past of today, which is 11/2\u001b[0m "
     ]
    },
    {
     "ename": "KeyboardInterrupt",
     "evalue": "",
     "output_type": "error",
     "traceback": [
      "\u001b[0;31m---------------------------------------------------------------------------\u001b[0m",
      "\u001b[0;31mKeyboardInterrupt\u001b[0m                         Traceback (most recent call last)",
      "\u001b[1;32m/Users/yangzhou/Documents/newjobs/cottrial.ipynb Cell 9\u001b[0m line \u001b[0;36m5\n\u001b[1;32m      <a href='vscode-notebook-cell:/Users/yangzhou/Documents/newjobs/cottrial.ipynb#X11sZmlsZQ%3D%3D?line=2'>3</a>\u001b[0m inputids \u001b[39m=\u001b[39m tokenizer(inputtext, add_special_tokens \u001b[39m=\u001b[39m \u001b[39mTrue\u001b[39;00m, return_tensors \u001b[39m=\u001b[39m \u001b[39m\"\u001b[39m\u001b[39mpt\u001b[39m\u001b[39m\"\u001b[39m) \n\u001b[1;32m      <a href='vscode-notebook-cell:/Users/yangzhou/Documents/newjobs/cottrial.ipynb#X11sZmlsZQ%3D%3D?line=3'>4</a>\u001b[0m inputids[\u001b[39m\"\u001b[39m\u001b[39minput_ids\u001b[39m\u001b[39m\"\u001b[39m] \u001b[39m=\u001b[39m inputids[\u001b[39m\"\u001b[39m\u001b[39minput_ids\u001b[39m\u001b[39m\"\u001b[39m]\u001b[39m.\u001b[39mto(model\u001b[39m.\u001b[39mdevice) \n\u001b[0;32m----> <a href='vscode-notebook-cell:/Users/yangzhou/Documents/newjobs/cottrial.ipynb#X11sZmlsZQ%3D%3D?line=4'>5</a>\u001b[0m output \u001b[39m=\u001b[39m model\u001b[39m.\u001b[39;49mgenerate(inputids[\u001b[39m\"\u001b[39;49m\u001b[39minput_ids\u001b[39;49m\u001b[39m\"\u001b[39;49m], max_length \u001b[39m=\u001b[39;49m inputids[\u001b[39m\"\u001b[39;49m\u001b[39minput_ids\u001b[39;49m\u001b[39m\"\u001b[39;49m]\u001b[39m.\u001b[39;49mshape[\u001b[39m-\u001b[39;49m\u001b[39m1\u001b[39;49m] \u001b[39m+\u001b[39;49m \u001b[39m100\u001b[39;49m, do_sample \u001b[39m=\u001b[39;49m \u001b[39mFalse\u001b[39;49;00m) \n\u001b[1;32m      <a href='vscode-notebook-cell:/Users/yangzhou/Documents/newjobs/cottrial.ipynb#X11sZmlsZQ%3D%3D?line=5'>6</a>\u001b[0m \u001b[39mprint\u001b[39m(inputtext, end \u001b[39m=\u001b[39m \u001b[39m\"\u001b[39m\u001b[39m\"\u001b[39m) \n\u001b[1;32m      <a href='vscode-notebook-cell:/Users/yangzhou/Documents/newjobs/cottrial.ipynb#X11sZmlsZQ%3D%3D?line=6'>7</a>\u001b[0m anw \u001b[39m=\u001b[39m tokenizer\u001b[39m.\u001b[39mdecode(output[\u001b[39m0\u001b[39m][inputids[\u001b[39m\"\u001b[39m\u001b[39minput_ids\u001b[39m\u001b[39m\"\u001b[39m]\u001b[39m.\u001b[39mshape[\u001b[39m-\u001b[39m\u001b[39m1\u001b[39m] :], skip_special_tokens \u001b[39m=\u001b[39m \u001b[39mFalse\u001b[39;00m) \n",
      "File \u001b[0;32m~/anaconda3/envs/griffin/lib/python3.12/site-packages/torch/utils/_contextlib.py:115\u001b[0m, in \u001b[0;36mcontext_decorator.<locals>.decorate_context\u001b[0;34m(*args, **kwargs)\u001b[0m\n\u001b[1;32m    112\u001b[0m \u001b[39m@functools\u001b[39m\u001b[39m.\u001b[39mwraps(func)\n\u001b[1;32m    113\u001b[0m \u001b[39mdef\u001b[39;00m \u001b[39mdecorate_context\u001b[39m(\u001b[39m*\u001b[39margs, \u001b[39m*\u001b[39m\u001b[39m*\u001b[39mkwargs):\n\u001b[1;32m    114\u001b[0m     \u001b[39mwith\u001b[39;00m ctx_factory():\n\u001b[0;32m--> 115\u001b[0m         \u001b[39mreturn\u001b[39;00m func(\u001b[39m*\u001b[39;49margs, \u001b[39m*\u001b[39;49m\u001b[39m*\u001b[39;49mkwargs)\n",
      "File \u001b[0;32m~/anaconda3/envs/griffin/lib/python3.12/site-packages/transformers/generation/utils.py:1544\u001b[0m, in \u001b[0;36mGenerationMixin.generate\u001b[0;34m(self, inputs, generation_config, logits_processor, stopping_criteria, prefix_allowed_tokens_fn, synced_gpus, assistant_model, streamer, negative_prompt_ids, negative_prompt_attention_mask, **kwargs)\u001b[0m\n\u001b[1;32m   1526\u001b[0m     \u001b[39mreturn\u001b[39;00m \u001b[39mself\u001b[39m\u001b[39m.\u001b[39massisted_decoding(\n\u001b[1;32m   1527\u001b[0m         input_ids,\n\u001b[1;32m   1528\u001b[0m         candidate_generator\u001b[39m=\u001b[39mcandidate_generator,\n\u001b[0;32m   (...)\u001b[0m\n\u001b[1;32m   1540\u001b[0m         \u001b[39m*\u001b[39m\u001b[39m*\u001b[39mmodel_kwargs,\n\u001b[1;32m   1541\u001b[0m     )\n\u001b[1;32m   1542\u001b[0m \u001b[39mif\u001b[39;00m generation_mode \u001b[39m==\u001b[39m GenerationMode\u001b[39m.\u001b[39mGREEDY_SEARCH:\n\u001b[1;32m   1543\u001b[0m     \u001b[39m# 11. run greedy search\u001b[39;00m\n\u001b[0;32m-> 1544\u001b[0m     \u001b[39mreturn\u001b[39;00m \u001b[39mself\u001b[39;49m\u001b[39m.\u001b[39;49mgreedy_search(\n\u001b[1;32m   1545\u001b[0m         input_ids,\n\u001b[1;32m   1546\u001b[0m         logits_processor\u001b[39m=\u001b[39;49mprepared_logits_processor,\n\u001b[1;32m   1547\u001b[0m         stopping_criteria\u001b[39m=\u001b[39;49mprepared_stopping_criteria,\n\u001b[1;32m   1548\u001b[0m         pad_token_id\u001b[39m=\u001b[39;49mgeneration_config\u001b[39m.\u001b[39;49mpad_token_id,\n\u001b[1;32m   1549\u001b[0m         eos_token_id\u001b[39m=\u001b[39;49mgeneration_config\u001b[39m.\u001b[39;49meos_token_id,\n\u001b[1;32m   1550\u001b[0m         output_scores\u001b[39m=\u001b[39;49mgeneration_config\u001b[39m.\u001b[39;49moutput_scores,\n\u001b[1;32m   1551\u001b[0m         output_logits\u001b[39m=\u001b[39;49mgeneration_config\u001b[39m.\u001b[39;49moutput_logits,\n\u001b[1;32m   1552\u001b[0m         return_dict_in_generate\u001b[39m=\u001b[39;49mgeneration_config\u001b[39m.\u001b[39;49mreturn_dict_in_generate,\n\u001b[1;32m   1553\u001b[0m         synced_gpus\u001b[39m=\u001b[39;49msynced_gpus,\n\u001b[1;32m   1554\u001b[0m         streamer\u001b[39m=\u001b[39;49mstreamer,\n\u001b[1;32m   1555\u001b[0m         \u001b[39m*\u001b[39;49m\u001b[39m*\u001b[39;49mmodel_kwargs,\n\u001b[1;32m   1556\u001b[0m     )\n\u001b[1;32m   1558\u001b[0m \u001b[39melif\u001b[39;00m generation_mode \u001b[39m==\u001b[39m GenerationMode\u001b[39m.\u001b[39mCONTRASTIVE_SEARCH:\n\u001b[1;32m   1559\u001b[0m     \u001b[39mif\u001b[39;00m \u001b[39mnot\u001b[39;00m model_kwargs[\u001b[39m\"\u001b[39m\u001b[39muse_cache\u001b[39m\u001b[39m\"\u001b[39m]:\n",
      "File \u001b[0;32m~/anaconda3/envs/griffin/lib/python3.12/site-packages/transformers/generation/utils.py:2467\u001b[0m, in \u001b[0;36mGenerationMixin.greedy_search\u001b[0;34m(self, input_ids, logits_processor, stopping_criteria, max_length, pad_token_id, eos_token_id, output_attentions, output_hidden_states, output_scores, output_logits, return_dict_in_generate, synced_gpus, streamer, **model_kwargs)\u001b[0m\n\u001b[1;32m   2464\u001b[0m         this_peer_finished \u001b[39m=\u001b[39m \u001b[39mTrue\u001b[39;00m\n\u001b[1;32m   2466\u001b[0m \u001b[39m# stop if we exceed the maximum length\u001b[39;00m\n\u001b[0;32m-> 2467\u001b[0m \u001b[39mif\u001b[39;00m stopping_criteria(input_ids, scores):\n\u001b[1;32m   2468\u001b[0m     this_peer_finished \u001b[39m=\u001b[39m \u001b[39mTrue\u001b[39;00m\n\u001b[1;32m   2470\u001b[0m \u001b[39mif\u001b[39;00m this_peer_finished \u001b[39mand\u001b[39;00m \u001b[39mnot\u001b[39;00m synced_gpus:\n",
      "File \u001b[0;32m~/anaconda3/envs/griffin/lib/python3.12/site-packages/transformers/generation/stopping_criteria.py:130\u001b[0m, in \u001b[0;36mStoppingCriteriaList.__call__\u001b[0;34m(self, input_ids, scores, **kwargs)\u001b[0m\n\u001b[1;32m    129\u001b[0m \u001b[39mclass\u001b[39;00m \u001b[39mStoppingCriteriaList\u001b[39;00m(\u001b[39mlist\u001b[39m):\n\u001b[0;32m--> 130\u001b[0m     \u001b[39m@add_start_docstrings\u001b[39m(STOPPING_CRITERIA_INPUTS_DOCSTRING)\n\u001b[1;32m    131\u001b[0m     \u001b[39mdef\u001b[39;00m \u001b[39m__call__\u001b[39m(\u001b[39mself\u001b[39m, input_ids: torch\u001b[39m.\u001b[39mLongTensor, scores: torch\u001b[39m.\u001b[39mFloatTensor, \u001b[39m*\u001b[39m\u001b[39m*\u001b[39mkwargs) \u001b[39m-\u001b[39m\u001b[39m>\u001b[39m \u001b[39mbool\u001b[39m:\n\u001b[1;32m    132\u001b[0m         \u001b[39mreturn\u001b[39;00m \u001b[39many\u001b[39m(criteria(input_ids, scores, \u001b[39m*\u001b[39m\u001b[39m*\u001b[39mkwargs) \u001b[39mfor\u001b[39;00m criteria \u001b[39min\u001b[39;00m \u001b[39mself\u001b[39m)\n\u001b[1;32m    134\u001b[0m     \u001b[39m@property\u001b[39m\n\u001b[1;32m    135\u001b[0m     \u001b[39mdef\u001b[39;00m \u001b[39mmax_length\u001b[39m(\u001b[39mself\u001b[39m) \u001b[39m-\u001b[39m\u001b[39m>\u001b[39m Optional[\u001b[39mint\u001b[39m]:\n",
      "\u001b[0;31mKeyboardInterrupt\u001b[0m: "
     ]
    }
   ],
   "source": [
    "for i in range(10, len(dataset)): \n",
    "    inputtext = chainofthoughtprompt + dataset[i][\"inputs\"] \n",
    "    inputids = tokenizer(inputtext, add_special_tokens = True, return_tensors = \"pt\") \n",
    "    inputids[\"input_ids\"] = inputids[\"input_ids\"].to(model.device) \n",
    "    output = model.generate(inputids[\"input_ids\"], max_length = inputids[\"input_ids\"].shape[-1] + 100, do_sample = False) \n",
    "    print(inputtext, end = \"\") \n",
    "    anw = tokenizer.decode(output[0][inputids[\"input_ids\"].shape[-1] :], skip_special_tokens = False) \n",
    "    terminationidx = anw.find(\"Q: \") \n",
    "    # print(terminationidx) \n",
    "    print(colored(anw[: terminationidx], \"green\"), end = \" \") "
   ]
  },
  {
   "cell_type": "code",
   "execution_count": 49,
   "metadata": {},
   "outputs": [
    {
     "name": "stderr",
     "output_type": "stream",
     "text": [
      "/home/yangzho6/anaconda3/envs/griffin/lib/python3.12/site-packages/datasets/load.py:1486: FutureWarning: The repository for tasksource/bigbench contains custom code which must be executed to correctly load the dataset. You can inspect the repository content at https://hf.co/datasets/tasksource/bigbench\n",
      "You can avoid this message in future by passing the argument `trust_remote_code=True`.\n",
      "Passing `trust_remote_code=True` will be mandatory to load this dataset from the next major release of `datasets`.\n",
      "  warnings.warn(\n"
     ]
    },
    {
     "data": {
      "application/vnd.jupyter.widget-view+json": {
       "model_id": "5d96ffdbb09143169092c402956b6581",
       "version_major": 2,
       "version_minor": 0
      },
      "text/plain": [
       "Generating train split: 0 examples [00:00, ? examples/s]"
      ]
     },
     "metadata": {},
     "output_type": "display_data"
    },
    {
     "data": {
      "application/vnd.jupyter.widget-view+json": {
       "model_id": "2f5c2821c090484fa48bb1ca4c69be25",
       "version_major": 2,
       "version_minor": 0
      },
      "text/plain": [
       "Generating validation split: 0 examples [00:00, ? examples/s]"
      ]
     },
     "metadata": {},
     "output_type": "display_data"
    }
   ],
   "source": [
    "dataset = load_dataset(\"tasksource/bigbench\", \"sports_understanding\") "
   ]
  },
  {
   "cell_type": "code",
   "execution_count": 50,
   "metadata": {},
   "outputs": [],
   "source": [
    "dataset = concatenate_datasets([dataset[\"train\"], dataset[\"validation\"]]) "
   ]
  },
  {
   "cell_type": "code",
   "execution_count": 51,
   "metadata": {},
   "outputs": [],
   "source": [
    "chainofthoughtprompt = \"Q: Determine whether the following statement or statements are plausible or implausible: Statement: Marouane Fellaini scored a freekick Plausible/implausible? \\\n",
    "A: Marouane Fellaini is a Belgian professional soccer player, and freekicks are a common way to score goals in soccer. So the answer is plausible. \\\n",
    "\\n\\n\\\n",
    "Q: Determine whether the following statement or statements are plausible or implausible: Statement: Javi Martinez comitted a three second violation Plausible/implausible? \\\n",
    "A: Javi Martinez is a Spanish professional soccer player, and three second violations are a common rule in basketball. So the answer is implausible. \\\n",
    "\\n\\n\\\n",
    "Q: Determine whether the following statement or statements are plausible or implausible: Statement: Gerard Pique watched the pitch go by in the National League Championship Series Plausible/implausible? \\\n",
    "A: Gerard Pique is a Spanish professional soccer player, and the National League Championship Series is a baseball event. So the answer is implausible. \\\n",
    "\\n\\n\\\n",
    "Q: Determine whether the following statement or statements are plausible or implausible: Statement: Julio Jones was called for the goal tend Plausible/implausible? \\\n",
    "A: Julio Jones is an American professional football player, and goal tend is a common rule in basketball. So the answer is implausible. \\\n",
    "\\n\\n\\\n",
    "Q: Determine whether the following statement or statements are plausible or implausible: Statement: Lionel Messi scored a touchdown Plausible/implausible? \\\n",
    "A: Lionel Messi is an Argentine professional soccer player, and touchdowns are a common way to score points in American football. So the answer is implausible. \\\n",
    "\\n\\n\\\n",
    "Q: Determine whether the following statement or statements are plausible or implausible: Statement: Cooper Kupp scored in the third period in the Stanley Cup Plausible/implausible? \\\n",
    "A: Cooper Kupp is an American professional football player, and the Stanley Cup is a ice hockey event. So the answer is implausible. \\\n",
    "\\n\\n\\\n",
    "Q: Determine whether the following statement or statements are plausible or implausible: Statement: Pierre-Luc Dubois passed the puck Plausible/implausible? \\\n",
    "A: Pierre-Luc Dubois is a Canadian professional ice hockey player, and passing the puck is a common action in ice hockey. So the answer is plausible. \\\n",
    "\\n\\n\\\n",
    "Q: Determine whether the following statement or statements are plausible or implausible: Statement: Yordan Alvarez grounded out to second base Plausible/implausible? \\\n",
    "A: Yordan Alvarez is a Cuban professional baseball player, and grounding out to second base is a common way to make an out in baseball. So the answer is plausible. \\\n",
    "\\n\\n\\\n",
    "Q: Determine whether the following statement or statements are plausible or implausible: Statement: George Springer committed a blocking foul Plausible/implausible? \\\n",
    "A: George Springer is an American professional baseball player, and blocking fouls are a common rule in basketball. So the answer is implausible. \\\n",
    "\\n\\n\\\n",
    "Q: Determine whether the following statement or statements are plausible or implausible: Statement: Baker Mayfield hit nothing but net Plausible/implausible? \\\n",
    "A: Baker Mayfield is an American professional football player, and hitting nothing but net is a common way to score in basketball. So the answer is implausible. \\\n",
    "\\n\\n\" \n"
   ]
  },
  {
   "cell_type": "code",
   "execution_count": 53,
   "metadata": {},
   "outputs": [
    {
     "name": "stderr",
     "output_type": "stream",
     "text": [
      "/home/yangzho6/anaconda3/envs/griffin/lib/python3.12/site-packages/transformers/generation/configuration_utils.py:410: UserWarning: `do_sample` is set to `False`. However, `temperature` is set to `0.6` -- this flag is only used in sample-based generation modes. You should set `do_sample=True` or unset `temperature`.\n",
      "  warnings.warn(\n",
      "/home/yangzho6/anaconda3/envs/griffin/lib/python3.12/site-packages/transformers/generation/configuration_utils.py:415: UserWarning: `do_sample` is set to `False`. However, `top_p` is set to `0.9` -- this flag is only used in sample-based generation modes. You should set `do_sample=True` or unset `top_p`.\n",
      "  warnings.warn(\n",
      "The attention mask and the pad token id were not set. As a consequence, you may observe unexpected behavior. Please pass your input's `attention_mask` to obtain reliable results.\n",
      "Setting `pad_token_id` to `eos_token_id`:128001 for open-end generation.\n",
      "The attention mask and the pad token id were not set. As a consequence, you may observe unexpected behavior. Please pass your input's `attention_mask` to obtain reliable results.\n",
      "Setting `pad_token_id` to `eos_token_id`:128001 for open-end generation.\n"
     ]
    },
    {
     "name": "stdout",
     "output_type": "stream",
     "text": [
      "Q: Determine whether the following statement or statements are plausible or implausible: Statement: Marouane Fellaini scored a freekick Plausible/implausible? A: Marouane Fellaini is a Belgian professional soccer player, and freekicks are a common way to score goals in soccer. So the answer is plausible. \n",
      "\n",
      "Q: Determine whether the following statement or statements are plausible or implausible: Statement: Javi Martinez comitted a three second violation Plausible/implausible? A: Javi Martinez is a Spanish professional soccer player, and three second violations are a common rule in basketball. So the answer is implausible. \n",
      "\n",
      "Q: Determine whether the following statement or statements are plausible or implausible: Statement: Gerard Pique watched the pitch go by in the National League Championship Series Plausible/implausible? A: Gerard Pique is a Spanish professional soccer player, and the National League Championship Series is a baseball event. So the answer is implausible. \n",
      "\n",
      "Q: Determine whether the following statement or statements are plausible or implausible: Statement: Julio Jones was called for the goal tend Plausible/implausible? A: Julio Jones is an American professional football player, and goal tend is a common rule in basketball. So the answer is implausible. \n",
      "\n",
      "Q: Determine whether the following statement or statements are plausible or implausible: Statement: Lionel Messi scored a touchdown Plausible/implausible? A: Lionel Messi is an Argentine professional soccer player, and touchdowns are a common way to score points in American football. So the answer is implausible. \n",
      "\n",
      "Q: Determine whether the following statement or statements are plausible or implausible: Statement: Cooper Kupp scored in the third period in the Stanley Cup Plausible/implausible? A: Cooper Kupp is an American professional football player, and the Stanley Cup is a ice hockey event. So the answer is implausible. \n",
      "\n",
      "Q: Determine whether the following statement or statements are plausible or implausible: Statement: Pierre-Luc Dubois passed the puck Plausible/implausible? A: Pierre-Luc Dubois is a Canadian professional ice hockey player, and passing the puck is a common action in ice hockey. So the answer is plausible. \n",
      "\n",
      "Q: Determine whether the following statement or statements are plausible or implausible: Statement: Yordan Alvarez grounded out to second base Plausible/implausible? A: Yordan Alvarez is a Cuban professional baseball player, and grounding out to second base is a common way to make an out in baseball. So the answer is plausible. \n",
      "\n",
      "Q: Determine whether the following statement or statements are plausible or implausible: Statement: George Springer committed a blocking foul Plausible/implausible? A: George Springer is an American professional baseball player, and blocking fouls are a common rule in basketball. So the answer is implausible. \n",
      "\n",
      "Q: Determine whether the following statement or statements are plausible or implausible: Statement: Baker Mayfield hit nothing but net Plausible/implausible? A: Baker Mayfield is an American professional football player, and hitting nothing but net is a common way to score in basketball. So the answer is implausible. \n",
      "\n",
      "Q: Determine whether the following statement or statements are plausible or implausible:\n",
      "Statement: Baker Mayfield hit nothing but net\n",
      "Plausible/implausible?A: \u001b[32m Baker Mayfield is an American professional football player, and hitting nothing but net is a common way to score in basketball. So the answer is implausible. \n",
      "\n",
      "\u001b[0m "
     ]
    },
    {
     "name": "stderr",
     "output_type": "stream",
     "text": [
      "The attention mask and the pad token id were not set. As a consequence, you may observe unexpected behavior. Please pass your input's `attention_mask` to obtain reliable results.\n",
      "Setting `pad_token_id` to `eos_token_id`:128001 for open-end generation.\n"
     ]
    },
    {
     "name": "stdout",
     "output_type": "stream",
     "text": [
      "Q: Determine whether the following statement or statements are plausible or implausible: Statement: Marouane Fellaini scored a freekick Plausible/implausible? A: Marouane Fellaini is a Belgian professional soccer player, and freekicks are a common way to score goals in soccer. So the answer is plausible. \n",
      "\n",
      "Q: Determine whether the following statement or statements are plausible or implausible: Statement: Javi Martinez comitted a three second violation Plausible/implausible? A: Javi Martinez is a Spanish professional soccer player, and three second violations are a common rule in basketball. So the answer is implausible. \n",
      "\n",
      "Q: Determine whether the following statement or statements are plausible or implausible: Statement: Gerard Pique watched the pitch go by in the National League Championship Series Plausible/implausible? A: Gerard Pique is a Spanish professional soccer player, and the National League Championship Series is a baseball event. So the answer is implausible. \n",
      "\n",
      "Q: Determine whether the following statement or statements are plausible or implausible: Statement: Julio Jones was called for the goal tend Plausible/implausible? A: Julio Jones is an American professional football player, and goal tend is a common rule in basketball. So the answer is implausible. \n",
      "\n",
      "Q: Determine whether the following statement or statements are plausible or implausible: Statement: Lionel Messi scored a touchdown Plausible/implausible? A: Lionel Messi is an Argentine professional soccer player, and touchdowns are a common way to score points in American football. So the answer is implausible. \n",
      "\n",
      "Q: Determine whether the following statement or statements are plausible or implausible: Statement: Cooper Kupp scored in the third period in the Stanley Cup Plausible/implausible? A: Cooper Kupp is an American professional football player, and the Stanley Cup is a ice hockey event. So the answer is implausible. \n",
      "\n",
      "Q: Determine whether the following statement or statements are plausible or implausible: Statement: Pierre-Luc Dubois passed the puck Plausible/implausible? A: Pierre-Luc Dubois is a Canadian professional ice hockey player, and passing the puck is a common action in ice hockey. So the answer is plausible. \n",
      "\n",
      "Q: Determine whether the following statement or statements are plausible or implausible: Statement: Yordan Alvarez grounded out to second base Plausible/implausible? A: Yordan Alvarez is a Cuban professional baseball player, and grounding out to second base is a common way to make an out in baseball. So the answer is plausible. \n",
      "\n",
      "Q: Determine whether the following statement or statements are plausible or implausible: Statement: George Springer committed a blocking foul Plausible/implausible? A: George Springer is an American professional baseball player, and blocking fouls are a common rule in basketball. So the answer is implausible. \n",
      "\n",
      "Q: Determine whether the following statement or statements are plausible or implausible: Statement: Baker Mayfield hit nothing but net Plausible/implausible? A: Baker Mayfield is an American professional football player, and hitting nothing but net is a common way to score in basketball. So the answer is implausible. \n",
      "\n",
      "Q: Determine whether the following statement or statements are plausible or implausible:\n",
      "Statement: Kris Letang lost control of the puck\n",
      "Plausible/implausible?A: \u001b[32m Kris Letang is a Canadian professional ice hockey player, and losing control of the puck is a common action in ice hockey. So the answer is plausible. \n",
      "\n",
      "\u001b[0m "
     ]
    },
    {
     "name": "stderr",
     "output_type": "stream",
     "text": [
      "The attention mask and the pad token id were not set. As a consequence, you may observe unexpected behavior. Please pass your input's `attention_mask` to obtain reliable results.\n",
      "Setting `pad_token_id` to `eos_token_id`:128001 for open-end generation.\n"
     ]
    },
    {
     "name": "stdout",
     "output_type": "stream",
     "text": [
      "Q: Determine whether the following statement or statements are plausible or implausible: Statement: Marouane Fellaini scored a freekick Plausible/implausible? A: Marouane Fellaini is a Belgian professional soccer player, and freekicks are a common way to score goals in soccer. So the answer is plausible. \n",
      "\n",
      "Q: Determine whether the following statement or statements are plausible or implausible: Statement: Javi Martinez comitted a three second violation Plausible/implausible? A: Javi Martinez is a Spanish professional soccer player, and three second violations are a common rule in basketball. So the answer is implausible. \n",
      "\n",
      "Q: Determine whether the following statement or statements are plausible or implausible: Statement: Gerard Pique watched the pitch go by in the National League Championship Series Plausible/implausible? A: Gerard Pique is a Spanish professional soccer player, and the National League Championship Series is a baseball event. So the answer is implausible. \n",
      "\n",
      "Q: Determine whether the following statement or statements are plausible or implausible: Statement: Julio Jones was called for the goal tend Plausible/implausible? A: Julio Jones is an American professional football player, and goal tend is a common rule in basketball. So the answer is implausible. \n",
      "\n",
      "Q: Determine whether the following statement or statements are plausible or implausible: Statement: Lionel Messi scored a touchdown Plausible/implausible? A: Lionel Messi is an Argentine professional soccer player, and touchdowns are a common way to score points in American football. So the answer is implausible. \n",
      "\n",
      "Q: Determine whether the following statement or statements are plausible or implausible: Statement: Cooper Kupp scored in the third period in the Stanley Cup Plausible/implausible? A: Cooper Kupp is an American professional football player, and the Stanley Cup is a ice hockey event. So the answer is implausible. \n",
      "\n",
      "Q: Determine whether the following statement or statements are plausible or implausible: Statement: Pierre-Luc Dubois passed the puck Plausible/implausible? A: Pierre-Luc Dubois is a Canadian professional ice hockey player, and passing the puck is a common action in ice hockey. So the answer is plausible. \n",
      "\n",
      "Q: Determine whether the following statement or statements are plausible or implausible: Statement: Yordan Alvarez grounded out to second base Plausible/implausible? A: Yordan Alvarez is a Cuban professional baseball player, and grounding out to second base is a common way to make an out in baseball. So the answer is plausible. \n",
      "\n",
      "Q: Determine whether the following statement or statements are plausible or implausible: Statement: George Springer committed a blocking foul Plausible/implausible? A: George Springer is an American professional baseball player, and blocking fouls are a common rule in basketball. So the answer is implausible. \n",
      "\n",
      "Q: Determine whether the following statement or statements are plausible or implausible: Statement: Baker Mayfield hit nothing but net Plausible/implausible? A: Baker Mayfield is an American professional football player, and hitting nothing but net is a common way to score in basketball. So the answer is implausible. \n",
      "\n",
      "Q: Determine whether the following statement or statements are plausible or implausible:\n",
      "Statement: Fernandinho converted the first down\n",
      "Plausible/implausible?A: \u001b[32m Fernandinho is a Brazilian professional soccer player, and converting the first down is a common rule in American football. So the answer is implausible. \n",
      "\n",
      "\u001b[0m "
     ]
    },
    {
     "name": "stderr",
     "output_type": "stream",
     "text": [
      "The attention mask and the pad token id were not set. As a consequence, you may observe unexpected behavior. Please pass your input's `attention_mask` to obtain reliable results.\n",
      "Setting `pad_token_id` to `eos_token_id`:128001 for open-end generation.\n"
     ]
    },
    {
     "name": "stdout",
     "output_type": "stream",
     "text": [
      "Q: Determine whether the following statement or statements are plausible or implausible: Statement: Marouane Fellaini scored a freekick Plausible/implausible? A: Marouane Fellaini is a Belgian professional soccer player, and freekicks are a common way to score goals in soccer. So the answer is plausible. \n",
      "\n",
      "Q: Determine whether the following statement or statements are plausible or implausible: Statement: Javi Martinez comitted a three second violation Plausible/implausible? A: Javi Martinez is a Spanish professional soccer player, and three second violations are a common rule in basketball. So the answer is implausible. \n",
      "\n",
      "Q: Determine whether the following statement or statements are plausible or implausible: Statement: Gerard Pique watched the pitch go by in the National League Championship Series Plausible/implausible? A: Gerard Pique is a Spanish professional soccer player, and the National League Championship Series is a baseball event. So the answer is implausible. \n",
      "\n",
      "Q: Determine whether the following statement or statements are plausible or implausible: Statement: Julio Jones was called for the goal tend Plausible/implausible? A: Julio Jones is an American professional football player, and goal tend is a common rule in basketball. So the answer is implausible. \n",
      "\n",
      "Q: Determine whether the following statement or statements are plausible or implausible: Statement: Lionel Messi scored a touchdown Plausible/implausible? A: Lionel Messi is an Argentine professional soccer player, and touchdowns are a common way to score points in American football. So the answer is implausible. \n",
      "\n",
      "Q: Determine whether the following statement or statements are plausible or implausible: Statement: Cooper Kupp scored in the third period in the Stanley Cup Plausible/implausible? A: Cooper Kupp is an American professional football player, and the Stanley Cup is a ice hockey event. So the answer is implausible. \n",
      "\n",
      "Q: Determine whether the following statement or statements are plausible or implausible: Statement: Pierre-Luc Dubois passed the puck Plausible/implausible? A: Pierre-Luc Dubois is a Canadian professional ice hockey player, and passing the puck is a common action in ice hockey. So the answer is plausible. \n",
      "\n",
      "Q: Determine whether the following statement or statements are plausible or implausible: Statement: Yordan Alvarez grounded out to second base Plausible/implausible? A: Yordan Alvarez is a Cuban professional baseball player, and grounding out to second base is a common way to make an out in baseball. So the answer is plausible. \n",
      "\n",
      "Q: Determine whether the following statement or statements are plausible or implausible: Statement: George Springer committed a blocking foul Plausible/implausible? A: George Springer is an American professional baseball player, and blocking fouls are a common rule in basketball. So the answer is implausible. \n",
      "\n",
      "Q: Determine whether the following statement or statements are plausible or implausible: Statement: Baker Mayfield hit nothing but net Plausible/implausible? A: Baker Mayfield is an American professional football player, and hitting nothing but net is a common way to score in basketball. So the answer is implausible. \n",
      "\n",
      "Q: Determine whether the following statement or statements are plausible or implausible:\n",
      "Statement: Sergio Busquets got on base\n",
      "Plausible/implausible?A: \u001b[32m Sergio Busquets is a Spanish professional soccer player, and getting on base is a common way to score in baseball. So the answer is implausible. \n",
      "\n",
      "\u001b[0m "
     ]
    },
    {
     "name": "stderr",
     "output_type": "stream",
     "text": [
      "The attention mask and the pad token id were not set. As a consequence, you may observe unexpected behavior. Please pass your input's `attention_mask` to obtain reliable results.\n",
      "Setting `pad_token_id` to `eos_token_id`:128001 for open-end generation.\n"
     ]
    },
    {
     "name": "stdout",
     "output_type": "stream",
     "text": [
      "Q: Determine whether the following statement or statements are plausible or implausible: Statement: Marouane Fellaini scored a freekick Plausible/implausible? A: Marouane Fellaini is a Belgian professional soccer player, and freekicks are a common way to score goals in soccer. So the answer is plausible. \n",
      "\n",
      "Q: Determine whether the following statement or statements are plausible or implausible: Statement: Javi Martinez comitted a three second violation Plausible/implausible? A: Javi Martinez is a Spanish professional soccer player, and three second violations are a common rule in basketball. So the answer is implausible. \n",
      "\n",
      "Q: Determine whether the following statement or statements are plausible or implausible: Statement: Gerard Pique watched the pitch go by in the National League Championship Series Plausible/implausible? A: Gerard Pique is a Spanish professional soccer player, and the National League Championship Series is a baseball event. So the answer is implausible. \n",
      "\n",
      "Q: Determine whether the following statement or statements are plausible or implausible: Statement: Julio Jones was called for the goal tend Plausible/implausible? A: Julio Jones is an American professional football player, and goal tend is a common rule in basketball. So the answer is implausible. \n",
      "\n",
      "Q: Determine whether the following statement or statements are plausible or implausible: Statement: Lionel Messi scored a touchdown Plausible/implausible? A: Lionel Messi is an Argentine professional soccer player, and touchdowns are a common way to score points in American football. So the answer is implausible. \n",
      "\n",
      "Q: Determine whether the following statement or statements are plausible or implausible: Statement: Cooper Kupp scored in the third period in the Stanley Cup Plausible/implausible? A: Cooper Kupp is an American professional football player, and the Stanley Cup is a ice hockey event. So the answer is implausible. \n",
      "\n",
      "Q: Determine whether the following statement or statements are plausible or implausible: Statement: Pierre-Luc Dubois passed the puck Plausible/implausible? A: Pierre-Luc Dubois is a Canadian professional ice hockey player, and passing the puck is a common action in ice hockey. So the answer is plausible. \n",
      "\n",
      "Q: Determine whether the following statement or statements are plausible or implausible: Statement: Yordan Alvarez grounded out to second base Plausible/implausible? A: Yordan Alvarez is a Cuban professional baseball player, and grounding out to second base is a common way to make an out in baseball. So the answer is plausible. \n",
      "\n",
      "Q: Determine whether the following statement or statements are plausible or implausible: Statement: George Springer committed a blocking foul Plausible/implausible? A: George Springer is an American professional baseball player, and blocking fouls are a common rule in basketball. So the answer is implausible. \n",
      "\n",
      "Q: Determine whether the following statement or statements are plausible or implausible: Statement: Baker Mayfield hit nothing but net Plausible/implausible? A: Baker Mayfield is an American professional football player, and hitting nothing but net is a common way to score in basketball. So the answer is implausible. \n",
      "\n",
      "Q: Determine whether the following statement or statements are plausible or implausible:\n",
      "Statement: Edwin Diaz scored a bicycle kick\n",
      "Plausible/implausible?A: \u001b[32m Edwin Diaz is a Dominican professional baseball player, and bicycle kicks are a common way to score in soccer. So the answer is implausible. \n",
      "\n",
      "\u001b[0m "
     ]
    },
    {
     "name": "stderr",
     "output_type": "stream",
     "text": [
      "The attention mask and the pad token id were not set. As a consequence, you may observe unexpected behavior. Please pass your input's `attention_mask` to obtain reliable results.\n",
      "Setting `pad_token_id` to `eos_token_id`:128001 for open-end generation.\n"
     ]
    },
    {
     "name": "stdout",
     "output_type": "stream",
     "text": [
      "Q: Determine whether the following statement or statements are plausible or implausible: Statement: Marouane Fellaini scored a freekick Plausible/implausible? A: Marouane Fellaini is a Belgian professional soccer player, and freekicks are a common way to score goals in soccer. So the answer is plausible. \n",
      "\n",
      "Q: Determine whether the following statement or statements are plausible or implausible: Statement: Javi Martinez comitted a three second violation Plausible/implausible? A: Javi Martinez is a Spanish professional soccer player, and three second violations are a common rule in basketball. So the answer is implausible. \n",
      "\n",
      "Q: Determine whether the following statement or statements are plausible or implausible: Statement: Gerard Pique watched the pitch go by in the National League Championship Series Plausible/implausible? A: Gerard Pique is a Spanish professional soccer player, and the National League Championship Series is a baseball event. So the answer is implausible. \n",
      "\n",
      "Q: Determine whether the following statement or statements are plausible or implausible: Statement: Julio Jones was called for the goal tend Plausible/implausible? A: Julio Jones is an American professional football player, and goal tend is a common rule in basketball. So the answer is implausible. \n",
      "\n",
      "Q: Determine whether the following statement or statements are plausible or implausible: Statement: Lionel Messi scored a touchdown Plausible/implausible? A: Lionel Messi is an Argentine professional soccer player, and touchdowns are a common way to score points in American football. So the answer is implausible. \n",
      "\n",
      "Q: Determine whether the following statement or statements are plausible or implausible: Statement: Cooper Kupp scored in the third period in the Stanley Cup Plausible/implausible? A: Cooper Kupp is an American professional football player, and the Stanley Cup is a ice hockey event. So the answer is implausible. \n",
      "\n",
      "Q: Determine whether the following statement or statements are plausible or implausible: Statement: Pierre-Luc Dubois passed the puck Plausible/implausible? A: Pierre-Luc Dubois is a Canadian professional ice hockey player, and passing the puck is a common action in ice hockey. So the answer is plausible. \n",
      "\n",
      "Q: Determine whether the following statement or statements are plausible or implausible: Statement: Yordan Alvarez grounded out to second base Plausible/implausible? A: Yordan Alvarez is a Cuban professional baseball player, and grounding out to second base is a common way to make an out in baseball. So the answer is plausible. \n",
      "\n",
      "Q: Determine whether the following statement or statements are plausible or implausible: Statement: George Springer committed a blocking foul Plausible/implausible? A: George Springer is an American professional baseball player, and blocking fouls are a common rule in basketball. So the answer is implausible. \n",
      "\n",
      "Q: Determine whether the following statement or statements are plausible or implausible: Statement: Baker Mayfield hit nothing but net Plausible/implausible? A: Baker Mayfield is an American professional football player, and hitting nothing but net is a common way to score in basketball. So the answer is implausible. \n",
      "\n",
      "Q: Determine whether the following statement or statements are plausible or implausible:\n",
      "Statement: Carlos Tevez fumbled the ball\n",
      "Plausible/implausible?A: \u001b[32m Carlos Tevez is an Argentine professional soccer player, and fumbling the ball is a common action in American football. So the answer is implausible. \n",
      "\n",
      "\u001b[0m "
     ]
    },
    {
     "name": "stderr",
     "output_type": "stream",
     "text": [
      "The attention mask and the pad token id were not set. As a consequence, you may observe unexpected behavior. Please pass your input's `attention_mask` to obtain reliable results.\n",
      "Setting `pad_token_id` to `eos_token_id`:128001 for open-end generation.\n"
     ]
    },
    {
     "name": "stdout",
     "output_type": "stream",
     "text": [
      "Q: Determine whether the following statement or statements are plausible or implausible: Statement: Marouane Fellaini scored a freekick Plausible/implausible? A: Marouane Fellaini is a Belgian professional soccer player, and freekicks are a common way to score goals in soccer. So the answer is plausible. \n",
      "\n",
      "Q: Determine whether the following statement or statements are plausible or implausible: Statement: Javi Martinez comitted a three second violation Plausible/implausible? A: Javi Martinez is a Spanish professional soccer player, and three second violations are a common rule in basketball. So the answer is implausible. \n",
      "\n",
      "Q: Determine whether the following statement or statements are plausible or implausible: Statement: Gerard Pique watched the pitch go by in the National League Championship Series Plausible/implausible? A: Gerard Pique is a Spanish professional soccer player, and the National League Championship Series is a baseball event. So the answer is implausible. \n",
      "\n",
      "Q: Determine whether the following statement or statements are plausible or implausible: Statement: Julio Jones was called for the goal tend Plausible/implausible? A: Julio Jones is an American professional football player, and goal tend is a common rule in basketball. So the answer is implausible. \n",
      "\n",
      "Q: Determine whether the following statement or statements are plausible or implausible: Statement: Lionel Messi scored a touchdown Plausible/implausible? A: Lionel Messi is an Argentine professional soccer player, and touchdowns are a common way to score points in American football. So the answer is implausible. \n",
      "\n",
      "Q: Determine whether the following statement or statements are plausible or implausible: Statement: Cooper Kupp scored in the third period in the Stanley Cup Plausible/implausible? A: Cooper Kupp is an American professional football player, and the Stanley Cup is a ice hockey event. So the answer is implausible. \n",
      "\n",
      "Q: Determine whether the following statement or statements are plausible or implausible: Statement: Pierre-Luc Dubois passed the puck Plausible/implausible? A: Pierre-Luc Dubois is a Canadian professional ice hockey player, and passing the puck is a common action in ice hockey. So the answer is plausible. \n",
      "\n",
      "Q: Determine whether the following statement or statements are plausible or implausible: Statement: Yordan Alvarez grounded out to second base Plausible/implausible? A: Yordan Alvarez is a Cuban professional baseball player, and grounding out to second base is a common way to make an out in baseball. So the answer is plausible. \n",
      "\n",
      "Q: Determine whether the following statement or statements are plausible or implausible: Statement: George Springer committed a blocking foul Plausible/implausible? A: George Springer is an American professional baseball player, and blocking fouls are a common rule in basketball. So the answer is implausible. \n",
      "\n",
      "Q: Determine whether the following statement or statements are plausible or implausible: Statement: Baker Mayfield hit nothing but net Plausible/implausible? A: Baker Mayfield is an American professional football player, and hitting nothing but net is a common way to score in basketball. So the answer is implausible. \n",
      "\n",
      "Q: Determine whether the following statement or statements are plausible or implausible:\n",
      "Statement: Matthew Tkachuk struck out\n",
      "Plausible/implausible?A: \u001b[32m Matthew Tkachuk is a Canadian professional ice hockey player, and striking out is a common way to make an out in baseball. So the answer is implausible. \n",
      "\n",
      "\u001b[0m "
     ]
    },
    {
     "name": "stderr",
     "output_type": "stream",
     "text": [
      "The attention mask and the pad token id were not set. As a consequence, you may observe unexpected behavior. Please pass your input's `attention_mask` to obtain reliable results.\n",
      "Setting `pad_token_id` to `eos_token_id`:128001 for open-end generation.\n"
     ]
    },
    {
     "name": "stdout",
     "output_type": "stream",
     "text": [
      "Q: Determine whether the following statement or statements are plausible or implausible: Statement: Marouane Fellaini scored a freekick Plausible/implausible? A: Marouane Fellaini is a Belgian professional soccer player, and freekicks are a common way to score goals in soccer. So the answer is plausible. \n",
      "\n",
      "Q: Determine whether the following statement or statements are plausible or implausible: Statement: Javi Martinez comitted a three second violation Plausible/implausible? A: Javi Martinez is a Spanish professional soccer player, and three second violations are a common rule in basketball. So the answer is implausible. \n",
      "\n",
      "Q: Determine whether the following statement or statements are plausible or implausible: Statement: Gerard Pique watched the pitch go by in the National League Championship Series Plausible/implausible? A: Gerard Pique is a Spanish professional soccer player, and the National League Championship Series is a baseball event. So the answer is implausible. \n",
      "\n",
      "Q: Determine whether the following statement or statements are plausible or implausible: Statement: Julio Jones was called for the goal tend Plausible/implausible? A: Julio Jones is an American professional football player, and goal tend is a common rule in basketball. So the answer is implausible. \n",
      "\n",
      "Q: Determine whether the following statement or statements are plausible or implausible: Statement: Lionel Messi scored a touchdown Plausible/implausible? A: Lionel Messi is an Argentine professional soccer player, and touchdowns are a common way to score points in American football. So the answer is implausible. \n",
      "\n",
      "Q: Determine whether the following statement or statements are plausible or implausible: Statement: Cooper Kupp scored in the third period in the Stanley Cup Plausible/implausible? A: Cooper Kupp is an American professional football player, and the Stanley Cup is a ice hockey event. So the answer is implausible. \n",
      "\n",
      "Q: Determine whether the following statement or statements are plausible or implausible: Statement: Pierre-Luc Dubois passed the puck Plausible/implausible? A: Pierre-Luc Dubois is a Canadian professional ice hockey player, and passing the puck is a common action in ice hockey. So the answer is plausible. \n",
      "\n",
      "Q: Determine whether the following statement or statements are plausible or implausible: Statement: Yordan Alvarez grounded out to second base Plausible/implausible? A: Yordan Alvarez is a Cuban professional baseball player, and grounding out to second base is a common way to make an out in baseball. So the answer is plausible. \n",
      "\n",
      "Q: Determine whether the following statement or statements are plausible or implausible: Statement: George Springer committed a blocking foul Plausible/implausible? A: George Springer is an American professional baseball player, and blocking fouls are a common rule in basketball. So the answer is implausible. \n",
      "\n",
      "Q: Determine whether the following statement or statements are plausible or implausible: Statement: Baker Mayfield hit nothing but net Plausible/implausible? A: Baker Mayfield is an American professional football player, and hitting nothing but net is a common way to score in basketball. So the answer is implausible. \n",
      "\n",
      "Q: Determine whether the following statement or statements are plausible or implausible:\n",
      "Statement: Joe Hart went for it on fourth down\n",
      "Plausible/implausible?A: \u001b[32m Joe Hart is an English professional soccer player, and going for it on fourth down is a common rule in American football. So the answer is implausible. \n",
      "\n",
      "\u001b[0m "
     ]
    },
    {
     "name": "stderr",
     "output_type": "stream",
     "text": [
      "The attention mask and the pad token id were not set. As a consequence, you may observe unexpected behavior. Please pass your input's `attention_mask` to obtain reliable results.\n",
      "Setting `pad_token_id` to `eos_token_id`:128001 for open-end generation.\n"
     ]
    },
    {
     "name": "stdout",
     "output_type": "stream",
     "text": [
      "Q: Determine whether the following statement or statements are plausible or implausible: Statement: Marouane Fellaini scored a freekick Plausible/implausible? A: Marouane Fellaini is a Belgian professional soccer player, and freekicks are a common way to score goals in soccer. So the answer is plausible. \n",
      "\n",
      "Q: Determine whether the following statement or statements are plausible or implausible: Statement: Javi Martinez comitted a three second violation Plausible/implausible? A: Javi Martinez is a Spanish professional soccer player, and three second violations are a common rule in basketball. So the answer is implausible. \n",
      "\n",
      "Q: Determine whether the following statement or statements are plausible or implausible: Statement: Gerard Pique watched the pitch go by in the National League Championship Series Plausible/implausible? A: Gerard Pique is a Spanish professional soccer player, and the National League Championship Series is a baseball event. So the answer is implausible. \n",
      "\n",
      "Q: Determine whether the following statement or statements are plausible or implausible: Statement: Julio Jones was called for the goal tend Plausible/implausible? A: Julio Jones is an American professional football player, and goal tend is a common rule in basketball. So the answer is implausible. \n",
      "\n",
      "Q: Determine whether the following statement or statements are plausible or implausible: Statement: Lionel Messi scored a touchdown Plausible/implausible? A: Lionel Messi is an Argentine professional soccer player, and touchdowns are a common way to score points in American football. So the answer is implausible. \n",
      "\n",
      "Q: Determine whether the following statement or statements are plausible or implausible: Statement: Cooper Kupp scored in the third period in the Stanley Cup Plausible/implausible? A: Cooper Kupp is an American professional football player, and the Stanley Cup is a ice hockey event. So the answer is implausible. \n",
      "\n",
      "Q: Determine whether the following statement or statements are plausible or implausible: Statement: Pierre-Luc Dubois passed the puck Plausible/implausible? A: Pierre-Luc Dubois is a Canadian professional ice hockey player, and passing the puck is a common action in ice hockey. So the answer is plausible. \n",
      "\n",
      "Q: Determine whether the following statement or statements are plausible or implausible: Statement: Yordan Alvarez grounded out to second base Plausible/implausible? A: Yordan Alvarez is a Cuban professional baseball player, and grounding out to second base is a common way to make an out in baseball. So the answer is plausible. \n",
      "\n",
      "Q: Determine whether the following statement or statements are plausible or implausible: Statement: George Springer committed a blocking foul Plausible/implausible? A: George Springer is an American professional baseball player, and blocking fouls are a common rule in basketball. So the answer is implausible. \n",
      "\n",
      "Q: Determine whether the following statement or statements are plausible or implausible: Statement: Baker Mayfield hit nothing but net Plausible/implausible? A: Baker Mayfield is an American professional football player, and hitting nothing but net is a common way to score in basketball. So the answer is implausible. \n",
      "\n",
      "Q: Determine whether the following statement or statements are plausible or implausible:\n",
      "Statement: Vincent Kompany comitted a three second violation\n",
      "Plausible/implausible?A: \u001b[32m Vincent Kompany is a Belgian professional soccer player, and three second violations are a common rule in basketball. So the answer is implausible. \n",
      "\n",
      "\u001b[0m "
     ]
    },
    {
     "name": "stderr",
     "output_type": "stream",
     "text": [
      "The attention mask and the pad token id were not set. As a consequence, you may observe unexpected behavior. Please pass your input's `attention_mask` to obtain reliable results.\n",
      "Setting `pad_token_id` to `eos_token_id`:128001 for open-end generation.\n"
     ]
    },
    {
     "name": "stdout",
     "output_type": "stream",
     "text": [
      "Q: Determine whether the following statement or statements are plausible or implausible: Statement: Marouane Fellaini scored a freekick Plausible/implausible? A: Marouane Fellaini is a Belgian professional soccer player, and freekicks are a common way to score goals in soccer. So the answer is plausible. \n",
      "\n",
      "Q: Determine whether the following statement or statements are plausible or implausible: Statement: Javi Martinez comitted a three second violation Plausible/implausible? A: Javi Martinez is a Spanish professional soccer player, and three second violations are a common rule in basketball. So the answer is implausible. \n",
      "\n",
      "Q: Determine whether the following statement or statements are plausible or implausible: Statement: Gerard Pique watched the pitch go by in the National League Championship Series Plausible/implausible? A: Gerard Pique is a Spanish professional soccer player, and the National League Championship Series is a baseball event. So the answer is implausible. \n",
      "\n",
      "Q: Determine whether the following statement or statements are plausible or implausible: Statement: Julio Jones was called for the goal tend Plausible/implausible? A: Julio Jones is an American professional football player, and goal tend is a common rule in basketball. So the answer is implausible. \n",
      "\n",
      "Q: Determine whether the following statement or statements are plausible or implausible: Statement: Lionel Messi scored a touchdown Plausible/implausible? A: Lionel Messi is an Argentine professional soccer player, and touchdowns are a common way to score points in American football. So the answer is implausible. \n",
      "\n",
      "Q: Determine whether the following statement or statements are plausible or implausible: Statement: Cooper Kupp scored in the third period in the Stanley Cup Plausible/implausible? A: Cooper Kupp is an American professional football player, and the Stanley Cup is a ice hockey event. So the answer is implausible. \n",
      "\n",
      "Q: Determine whether the following statement or statements are plausible or implausible: Statement: Pierre-Luc Dubois passed the puck Plausible/implausible? A: Pierre-Luc Dubois is a Canadian professional ice hockey player, and passing the puck is a common action in ice hockey. So the answer is plausible. \n",
      "\n",
      "Q: Determine whether the following statement or statements are plausible or implausible: Statement: Yordan Alvarez grounded out to second base Plausible/implausible? A: Yordan Alvarez is a Cuban professional baseball player, and grounding out to second base is a common way to make an out in baseball. So the answer is plausible. \n",
      "\n",
      "Q: Determine whether the following statement or statements are plausible or implausible: Statement: George Springer committed a blocking foul Plausible/implausible? A: George Springer is an American professional baseball player, and blocking fouls are a common rule in basketball. So the answer is implausible. \n",
      "\n",
      "Q: Determine whether the following statement or statements are plausible or implausible: Statement: Baker Mayfield hit nothing but net Plausible/implausible? A: Baker Mayfield is an American professional football player, and hitting nothing but net is a common way to score in basketball. So the answer is implausible. \n",
      "\n",
      "Q: Determine whether the following statement or statements are plausible or implausible:\n",
      "Statement: Stephen Curry scored a reverse layup\n",
      "Plausible/implausible?A: \u001b[32m Stephen Curry is an American professional basketball player, and reverse layups are a common way to score in basketball. So the answer is plausible. \n",
      "\n",
      "\u001b[0m "
     ]
    },
    {
     "name": "stderr",
     "output_type": "stream",
     "text": [
      "The attention mask and the pad token id were not set. As a consequence, you may observe unexpected behavior. Please pass your input's `attention_mask` to obtain reliable results.\n",
      "Setting `pad_token_id` to `eos_token_id`:128001 for open-end generation.\n"
     ]
    },
    {
     "name": "stdout",
     "output_type": "stream",
     "text": [
      "Q: Determine whether the following statement or statements are plausible or implausible: Statement: Marouane Fellaini scored a freekick Plausible/implausible? A: Marouane Fellaini is a Belgian professional soccer player, and freekicks are a common way to score goals in soccer. So the answer is plausible. \n",
      "\n",
      "Q: Determine whether the following statement or statements are plausible or implausible: Statement: Javi Martinez comitted a three second violation Plausible/implausible? A: Javi Martinez is a Spanish professional soccer player, and three second violations are a common rule in basketball. So the answer is implausible. \n",
      "\n",
      "Q: Determine whether the following statement or statements are plausible or implausible: Statement: Gerard Pique watched the pitch go by in the National League Championship Series Plausible/implausible? A: Gerard Pique is a Spanish professional soccer player, and the National League Championship Series is a baseball event. So the answer is implausible. \n",
      "\n",
      "Q: Determine whether the following statement or statements are plausible or implausible: Statement: Julio Jones was called for the goal tend Plausible/implausible? A: Julio Jones is an American professional football player, and goal tend is a common rule in basketball. So the answer is implausible. \n",
      "\n",
      "Q: Determine whether the following statement or statements are plausible or implausible: Statement: Lionel Messi scored a touchdown Plausible/implausible? A: Lionel Messi is an Argentine professional soccer player, and touchdowns are a common way to score points in American football. So the answer is implausible. \n",
      "\n",
      "Q: Determine whether the following statement or statements are plausible or implausible: Statement: Cooper Kupp scored in the third period in the Stanley Cup Plausible/implausible? A: Cooper Kupp is an American professional football player, and the Stanley Cup is a ice hockey event. So the answer is implausible. \n",
      "\n",
      "Q: Determine whether the following statement or statements are plausible or implausible: Statement: Pierre-Luc Dubois passed the puck Plausible/implausible? A: Pierre-Luc Dubois is a Canadian professional ice hockey player, and passing the puck is a common action in ice hockey. So the answer is plausible. \n",
      "\n",
      "Q: Determine whether the following statement or statements are plausible or implausible: Statement: Yordan Alvarez grounded out to second base Plausible/implausible? A: Yordan Alvarez is a Cuban professional baseball player, and grounding out to second base is a common way to make an out in baseball. So the answer is plausible. \n",
      "\n",
      "Q: Determine whether the following statement or statements are plausible or implausible: Statement: George Springer committed a blocking foul Plausible/implausible? A: George Springer is an American professional baseball player, and blocking fouls are a common rule in basketball. So the answer is implausible. \n",
      "\n",
      "Q: Determine whether the following statement or statements are plausible or implausible: Statement: Baker Mayfield hit nothing but net Plausible/implausible? A: Baker Mayfield is an American professional football player, and hitting nothing but net is a common way to score in basketball. So the answer is implausible. \n",
      "\n",
      "Q: Determine whether the following statement or statements are plausible or implausible:\n",
      "Statement: Robert Lewandowski killed the powerplay in the Stanley Cup\n",
      "Plausible/implausible?A: \u001b[32m Robert Lewandowski is a Polish professional soccer player, and the Stanley Cup is a ice hockey event. So the answer is implausible. \n",
      "\n",
      "\u001b[0m "
     ]
    },
    {
     "name": "stderr",
     "output_type": "stream",
     "text": [
      "The attention mask and the pad token id were not set. As a consequence, you may observe unexpected behavior. Please pass your input's `attention_mask` to obtain reliable results.\n",
      "Setting `pad_token_id` to `eos_token_id`:128001 for open-end generation.\n"
     ]
    },
    {
     "name": "stdout",
     "output_type": "stream",
     "text": [
      "Q: Determine whether the following statement or statements are plausible or implausible: Statement: Marouane Fellaini scored a freekick Plausible/implausible? A: Marouane Fellaini is a Belgian professional soccer player, and freekicks are a common way to score goals in soccer. So the answer is plausible. \n",
      "\n",
      "Q: Determine whether the following statement or statements are plausible or implausible: Statement: Javi Martinez comitted a three second violation Plausible/implausible? A: Javi Martinez is a Spanish professional soccer player, and three second violations are a common rule in basketball. So the answer is implausible. \n",
      "\n",
      "Q: Determine whether the following statement or statements are plausible or implausible: Statement: Gerard Pique watched the pitch go by in the National League Championship Series Plausible/implausible? A: Gerard Pique is a Spanish professional soccer player, and the National League Championship Series is a baseball event. So the answer is implausible. \n",
      "\n",
      "Q: Determine whether the following statement or statements are plausible or implausible: Statement: Julio Jones was called for the goal tend Plausible/implausible? A: Julio Jones is an American professional football player, and goal tend is a common rule in basketball. So the answer is implausible. \n",
      "\n",
      "Q: Determine whether the following statement or statements are plausible or implausible: Statement: Lionel Messi scored a touchdown Plausible/implausible? A: Lionel Messi is an Argentine professional soccer player, and touchdowns are a common way to score points in American football. So the answer is implausible. \n",
      "\n",
      "Q: Determine whether the following statement or statements are plausible or implausible: Statement: Cooper Kupp scored in the third period in the Stanley Cup Plausible/implausible? A: Cooper Kupp is an American professional football player, and the Stanley Cup is a ice hockey event. So the answer is implausible. \n",
      "\n",
      "Q: Determine whether the following statement or statements are plausible or implausible: Statement: Pierre-Luc Dubois passed the puck Plausible/implausible? A: Pierre-Luc Dubois is a Canadian professional ice hockey player, and passing the puck is a common action in ice hockey. So the answer is plausible. \n",
      "\n",
      "Q: Determine whether the following statement or statements are plausible or implausible: Statement: Yordan Alvarez grounded out to second base Plausible/implausible? A: Yordan Alvarez is a Cuban professional baseball player, and grounding out to second base is a common way to make an out in baseball. So the answer is plausible. \n",
      "\n",
      "Q: Determine whether the following statement or statements are plausible or implausible: Statement: George Springer committed a blocking foul Plausible/implausible? A: George Springer is an American professional baseball player, and blocking fouls are a common rule in basketball. So the answer is implausible. \n",
      "\n",
      "Q: Determine whether the following statement or statements are plausible or implausible: Statement: Baker Mayfield hit nothing but net Plausible/implausible? A: Baker Mayfield is an American professional football player, and hitting nothing but net is a common way to score in basketball. So the answer is implausible. \n",
      "\n",
      "Q: Determine whether the following statement or statements are plausible or implausible:\n",
      "Statement: Julius Randle headed back to the dugout\n",
      "Plausible/implausible?A: \u001b[32m Julius Randle is an American professional basketball player, and heading back to the dugout is a common action in baseball. So the answer is implausible. \n",
      "\n",
      "\u001b[0m "
     ]
    },
    {
     "name": "stderr",
     "output_type": "stream",
     "text": [
      "The attention mask and the pad token id were not set. As a consequence, you may observe unexpected behavior. Please pass your input's `attention_mask` to obtain reliable results.\n",
      "Setting `pad_token_id` to `eos_token_id`:128001 for open-end generation.\n"
     ]
    },
    {
     "name": "stdout",
     "output_type": "stream",
     "text": [
      "Q: Determine whether the following statement or statements are plausible or implausible: Statement: Marouane Fellaini scored a freekick Plausible/implausible? A: Marouane Fellaini is a Belgian professional soccer player, and freekicks are a common way to score goals in soccer. So the answer is plausible. \n",
      "\n",
      "Q: Determine whether the following statement or statements are plausible or implausible: Statement: Javi Martinez comitted a three second violation Plausible/implausible? A: Javi Martinez is a Spanish professional soccer player, and three second violations are a common rule in basketball. So the answer is implausible. \n",
      "\n",
      "Q: Determine whether the following statement or statements are plausible or implausible: Statement: Gerard Pique watched the pitch go by in the National League Championship Series Plausible/implausible? A: Gerard Pique is a Spanish professional soccer player, and the National League Championship Series is a baseball event. So the answer is implausible. \n",
      "\n",
      "Q: Determine whether the following statement or statements are plausible or implausible: Statement: Julio Jones was called for the goal tend Plausible/implausible? A: Julio Jones is an American professional football player, and goal tend is a common rule in basketball. So the answer is implausible. \n",
      "\n",
      "Q: Determine whether the following statement or statements are plausible or implausible: Statement: Lionel Messi scored a touchdown Plausible/implausible? A: Lionel Messi is an Argentine professional soccer player, and touchdowns are a common way to score points in American football. So the answer is implausible. \n",
      "\n",
      "Q: Determine whether the following statement or statements are plausible or implausible: Statement: Cooper Kupp scored in the third period in the Stanley Cup Plausible/implausible? A: Cooper Kupp is an American professional football player, and the Stanley Cup is a ice hockey event. So the answer is implausible. \n",
      "\n",
      "Q: Determine whether the following statement or statements are plausible or implausible: Statement: Pierre-Luc Dubois passed the puck Plausible/implausible? A: Pierre-Luc Dubois is a Canadian professional ice hockey player, and passing the puck is a common action in ice hockey. So the answer is plausible. \n",
      "\n",
      "Q: Determine whether the following statement or statements are plausible or implausible: Statement: Yordan Alvarez grounded out to second base Plausible/implausible? A: Yordan Alvarez is a Cuban professional baseball player, and grounding out to second base is a common way to make an out in baseball. So the answer is plausible. \n",
      "\n",
      "Q: Determine whether the following statement or statements are plausible or implausible: Statement: George Springer committed a blocking foul Plausible/implausible? A: George Springer is an American professional baseball player, and blocking fouls are a common rule in basketball. So the answer is implausible. \n",
      "\n",
      "Q: Determine whether the following statement or statements are plausible or implausible: Statement: Baker Mayfield hit nothing but net Plausible/implausible? A: Baker Mayfield is an American professional football player, and hitting nothing but net is a common way to score in basketball. So the answer is implausible. \n",
      "\n",
      "Q: Determine whether the following statement or statements are plausible or implausible:\n",
      "Statement: Kawhi Leonard took a turnaround jumper\n",
      "Plausible/implausible?A: \u001b[32m Kawhi Leonard is an American professional basketball player, and taking a turnaround jumper is a common action in basketball. So the answer is plausible. \n",
      "\n",
      "\u001b[0m "
     ]
    },
    {
     "name": "stderr",
     "output_type": "stream",
     "text": [
      "The attention mask and the pad token id were not set. As a consequence, you may observe unexpected behavior. Please pass your input's `attention_mask` to obtain reliable results.\n",
      "Setting `pad_token_id` to `eos_token_id`:128001 for open-end generation.\n"
     ]
    },
    {
     "name": "stdout",
     "output_type": "stream",
     "text": [
      "Q: Determine whether the following statement or statements are plausible or implausible: Statement: Marouane Fellaini scored a freekick Plausible/implausible? A: Marouane Fellaini is a Belgian professional soccer player, and freekicks are a common way to score goals in soccer. So the answer is plausible. \n",
      "\n",
      "Q: Determine whether the following statement or statements are plausible or implausible: Statement: Javi Martinez comitted a three second violation Plausible/implausible? A: Javi Martinez is a Spanish professional soccer player, and three second violations are a common rule in basketball. So the answer is implausible. \n",
      "\n",
      "Q: Determine whether the following statement or statements are plausible or implausible: Statement: Gerard Pique watched the pitch go by in the National League Championship Series Plausible/implausible? A: Gerard Pique is a Spanish professional soccer player, and the National League Championship Series is a baseball event. So the answer is implausible. \n",
      "\n",
      "Q: Determine whether the following statement or statements are plausible or implausible: Statement: Julio Jones was called for the goal tend Plausible/implausible? A: Julio Jones is an American professional football player, and goal tend is a common rule in basketball. So the answer is implausible. \n",
      "\n",
      "Q: Determine whether the following statement or statements are plausible or implausible: Statement: Lionel Messi scored a touchdown Plausible/implausible? A: Lionel Messi is an Argentine professional soccer player, and touchdowns are a common way to score points in American football. So the answer is implausible. \n",
      "\n",
      "Q: Determine whether the following statement or statements are plausible or implausible: Statement: Cooper Kupp scored in the third period in the Stanley Cup Plausible/implausible? A: Cooper Kupp is an American professional football player, and the Stanley Cup is a ice hockey event. So the answer is implausible. \n",
      "\n",
      "Q: Determine whether the following statement or statements are plausible or implausible: Statement: Pierre-Luc Dubois passed the puck Plausible/implausible? A: Pierre-Luc Dubois is a Canadian professional ice hockey player, and passing the puck is a common action in ice hockey. So the answer is plausible. \n",
      "\n",
      "Q: Determine whether the following statement or statements are plausible or implausible: Statement: Yordan Alvarez grounded out to second base Plausible/implausible? A: Yordan Alvarez is a Cuban professional baseball player, and grounding out to second base is a common way to make an out in baseball. So the answer is plausible. \n",
      "\n",
      "Q: Determine whether the following statement or statements are plausible or implausible: Statement: George Springer committed a blocking foul Plausible/implausible? A: George Springer is an American professional baseball player, and blocking fouls are a common rule in basketball. So the answer is implausible. \n",
      "\n",
      "Q: Determine whether the following statement or statements are plausible or implausible: Statement: Baker Mayfield hit nothing but net Plausible/implausible? A: Baker Mayfield is an American professional football player, and hitting nothing but net is a common way to score in basketball. So the answer is implausible. \n",
      "\n",
      "Q: Determine whether the following statement or statements are plausible or implausible:\n",
      "Statement: Deshaun Watson took a corner kick\n",
      "Plausible/implausible?A: \u001b[32m Deshaun Watson is an American professional football player, and corner kicks are a common way to restart play in soccer. So the answer is implausible. \n",
      "\n",
      "\u001b[0m "
     ]
    },
    {
     "name": "stderr",
     "output_type": "stream",
     "text": [
      "The attention mask and the pad token id were not set. As a consequence, you may observe unexpected behavior. Please pass your input's `attention_mask` to obtain reliable results.\n",
      "Setting `pad_token_id` to `eos_token_id`:128001 for open-end generation.\n"
     ]
    },
    {
     "name": "stdout",
     "output_type": "stream",
     "text": [
      "Q: Determine whether the following statement or statements are plausible or implausible: Statement: Marouane Fellaini scored a freekick Plausible/implausible? A: Marouane Fellaini is a Belgian professional soccer player, and freekicks are a common way to score goals in soccer. So the answer is plausible. \n",
      "\n",
      "Q: Determine whether the following statement or statements are plausible or implausible: Statement: Javi Martinez comitted a three second violation Plausible/implausible? A: Javi Martinez is a Spanish professional soccer player, and three second violations are a common rule in basketball. So the answer is implausible. \n",
      "\n",
      "Q: Determine whether the following statement or statements are plausible or implausible: Statement: Gerard Pique watched the pitch go by in the National League Championship Series Plausible/implausible? A: Gerard Pique is a Spanish professional soccer player, and the National League Championship Series is a baseball event. So the answer is implausible. \n",
      "\n",
      "Q: Determine whether the following statement or statements are plausible or implausible: Statement: Julio Jones was called for the goal tend Plausible/implausible? A: Julio Jones is an American professional football player, and goal tend is a common rule in basketball. So the answer is implausible. \n",
      "\n",
      "Q: Determine whether the following statement or statements are plausible or implausible: Statement: Lionel Messi scored a touchdown Plausible/implausible? A: Lionel Messi is an Argentine professional soccer player, and touchdowns are a common way to score points in American football. So the answer is implausible. \n",
      "\n",
      "Q: Determine whether the following statement or statements are plausible or implausible: Statement: Cooper Kupp scored in the third period in the Stanley Cup Plausible/implausible? A: Cooper Kupp is an American professional football player, and the Stanley Cup is a ice hockey event. So the answer is implausible. \n",
      "\n",
      "Q: Determine whether the following statement or statements are plausible or implausible: Statement: Pierre-Luc Dubois passed the puck Plausible/implausible? A: Pierre-Luc Dubois is a Canadian professional ice hockey player, and passing the puck is a common action in ice hockey. So the answer is plausible. \n",
      "\n",
      "Q: Determine whether the following statement or statements are plausible or implausible: Statement: Yordan Alvarez grounded out to second base Plausible/implausible? A: Yordan Alvarez is a Cuban professional baseball player, and grounding out to second base is a common way to make an out in baseball. So the answer is plausible. \n",
      "\n",
      "Q: Determine whether the following statement or statements are plausible or implausible: Statement: George Springer committed a blocking foul Plausible/implausible? A: George Springer is an American professional baseball player, and blocking fouls are a common rule in basketball. So the answer is implausible. \n",
      "\n",
      "Q: Determine whether the following statement or statements are plausible or implausible: Statement: Baker Mayfield hit nothing but net Plausible/implausible? A: Baker Mayfield is an American professional football player, and hitting nothing but net is a common way to score in basketball. So the answer is implausible. \n",
      "\n",
      "Q: Determine whether the following statement or statements are plausible or implausible:\n",
      "Statement: David Luiz shot with the left foot\n",
      "Plausible/implausible?A: \u001b[32m David Luiz is a Brazilian professional soccer player, and shooting with the left foot is a common action in soccer. So the answer is plausible. \n",
      "\n",
      "\u001b[0m "
     ]
    },
    {
     "ename": "KeyboardInterrupt",
     "evalue": "",
     "output_type": "error",
     "traceback": [
      "\u001b[0;31m---------------------------------------------------------------------------\u001b[0m",
      "\u001b[0;31mKeyboardInterrupt\u001b[0m                         Traceback (most recent call last)",
      "\u001b[1;32m/Users/yangzhou/Documents/newjobs/cottrial.ipynb Cell 13\u001b[0m line \u001b[0;36m5\n\u001b[1;32m      <a href='vscode-notebook-cell:/Users/yangzhou/Documents/newjobs/cottrial.ipynb#X20sZmlsZQ%3D%3D?line=2'>3</a>\u001b[0m inputids \u001b[39m=\u001b[39m tokenizer(inputtext, add_special_tokens \u001b[39m=\u001b[39m \u001b[39mTrue\u001b[39;00m, return_tensors \u001b[39m=\u001b[39m \u001b[39m\"\u001b[39m\u001b[39mpt\u001b[39m\u001b[39m\"\u001b[39m) \n\u001b[1;32m      <a href='vscode-notebook-cell:/Users/yangzhou/Documents/newjobs/cottrial.ipynb#X20sZmlsZQ%3D%3D?line=3'>4</a>\u001b[0m inputids[\u001b[39m\"\u001b[39m\u001b[39minput_ids\u001b[39m\u001b[39m\"\u001b[39m] \u001b[39m=\u001b[39m inputids[\u001b[39m\"\u001b[39m\u001b[39minput_ids\u001b[39m\u001b[39m\"\u001b[39m]\u001b[39m.\u001b[39mto(model\u001b[39m.\u001b[39mdevice) \n\u001b[0;32m----> <a href='vscode-notebook-cell:/Users/yangzhou/Documents/newjobs/cottrial.ipynb#X20sZmlsZQ%3D%3D?line=4'>5</a>\u001b[0m output \u001b[39m=\u001b[39m model\u001b[39m.\u001b[39;49mgenerate(inputids[\u001b[39m\"\u001b[39;49m\u001b[39minput_ids\u001b[39;49m\u001b[39m\"\u001b[39;49m], max_length \u001b[39m=\u001b[39;49m inputids[\u001b[39m\"\u001b[39;49m\u001b[39minput_ids\u001b[39;49m\u001b[39m\"\u001b[39;49m]\u001b[39m.\u001b[39;49mshape[\u001b[39m-\u001b[39;49m\u001b[39m1\u001b[39;49m] \u001b[39m+\u001b[39;49m \u001b[39m100\u001b[39;49m, do_sample \u001b[39m=\u001b[39;49m \u001b[39mFalse\u001b[39;49;00m) \n\u001b[1;32m      <a href='vscode-notebook-cell:/Users/yangzhou/Documents/newjobs/cottrial.ipynb#X20sZmlsZQ%3D%3D?line=5'>6</a>\u001b[0m \u001b[39mprint\u001b[39m(inputtext, end \u001b[39m=\u001b[39m \u001b[39m\"\u001b[39m\u001b[39m\"\u001b[39m) \n\u001b[1;32m      <a href='vscode-notebook-cell:/Users/yangzhou/Documents/newjobs/cottrial.ipynb#X20sZmlsZQ%3D%3D?line=6'>7</a>\u001b[0m anw \u001b[39m=\u001b[39m tokenizer\u001b[39m.\u001b[39mdecode(output[\u001b[39m0\u001b[39m][inputids[\u001b[39m\"\u001b[39m\u001b[39minput_ids\u001b[39m\u001b[39m\"\u001b[39m]\u001b[39m.\u001b[39mshape[\u001b[39m-\u001b[39m\u001b[39m1\u001b[39m] :], skip_special_tokens \u001b[39m=\u001b[39m \u001b[39mFalse\u001b[39;00m) \n",
      "File \u001b[0;32m~/anaconda3/envs/griffin/lib/python3.12/site-packages/torch/utils/_contextlib.py:115\u001b[0m, in \u001b[0;36mcontext_decorator.<locals>.decorate_context\u001b[0;34m(*args, **kwargs)\u001b[0m\n\u001b[1;32m    112\u001b[0m \u001b[39m@functools\u001b[39m\u001b[39m.\u001b[39mwraps(func)\n\u001b[1;32m    113\u001b[0m \u001b[39mdef\u001b[39;00m \u001b[39mdecorate_context\u001b[39m(\u001b[39m*\u001b[39margs, \u001b[39m*\u001b[39m\u001b[39m*\u001b[39mkwargs):\n\u001b[1;32m    114\u001b[0m     \u001b[39mwith\u001b[39;00m ctx_factory():\n\u001b[0;32m--> 115\u001b[0m         \u001b[39mreturn\u001b[39;00m func(\u001b[39m*\u001b[39;49margs, \u001b[39m*\u001b[39;49m\u001b[39m*\u001b[39;49mkwargs)\n",
      "File \u001b[0;32m~/anaconda3/envs/griffin/lib/python3.12/site-packages/transformers/generation/utils.py:1544\u001b[0m, in \u001b[0;36mGenerationMixin.generate\u001b[0;34m(self, inputs, generation_config, logits_processor, stopping_criteria, prefix_allowed_tokens_fn, synced_gpus, assistant_model, streamer, negative_prompt_ids, negative_prompt_attention_mask, **kwargs)\u001b[0m\n\u001b[1;32m   1526\u001b[0m     \u001b[39mreturn\u001b[39;00m \u001b[39mself\u001b[39m\u001b[39m.\u001b[39massisted_decoding(\n\u001b[1;32m   1527\u001b[0m         input_ids,\n\u001b[1;32m   1528\u001b[0m         candidate_generator\u001b[39m=\u001b[39mcandidate_generator,\n\u001b[0;32m   (...)\u001b[0m\n\u001b[1;32m   1540\u001b[0m         \u001b[39m*\u001b[39m\u001b[39m*\u001b[39mmodel_kwargs,\n\u001b[1;32m   1541\u001b[0m     )\n\u001b[1;32m   1542\u001b[0m \u001b[39mif\u001b[39;00m generation_mode \u001b[39m==\u001b[39m GenerationMode\u001b[39m.\u001b[39mGREEDY_SEARCH:\n\u001b[1;32m   1543\u001b[0m     \u001b[39m# 11. run greedy search\u001b[39;00m\n\u001b[0;32m-> 1544\u001b[0m     \u001b[39mreturn\u001b[39;00m \u001b[39mself\u001b[39;49m\u001b[39m.\u001b[39;49mgreedy_search(\n\u001b[1;32m   1545\u001b[0m         input_ids,\n\u001b[1;32m   1546\u001b[0m         logits_processor\u001b[39m=\u001b[39;49mprepared_logits_processor,\n\u001b[1;32m   1547\u001b[0m         stopping_criteria\u001b[39m=\u001b[39;49mprepared_stopping_criteria,\n\u001b[1;32m   1548\u001b[0m         pad_token_id\u001b[39m=\u001b[39;49mgeneration_config\u001b[39m.\u001b[39;49mpad_token_id,\n\u001b[1;32m   1549\u001b[0m         eos_token_id\u001b[39m=\u001b[39;49mgeneration_config\u001b[39m.\u001b[39;49meos_token_id,\n\u001b[1;32m   1550\u001b[0m         output_scores\u001b[39m=\u001b[39;49mgeneration_config\u001b[39m.\u001b[39;49moutput_scores,\n\u001b[1;32m   1551\u001b[0m         output_logits\u001b[39m=\u001b[39;49mgeneration_config\u001b[39m.\u001b[39;49moutput_logits,\n\u001b[1;32m   1552\u001b[0m         return_dict_in_generate\u001b[39m=\u001b[39;49mgeneration_config\u001b[39m.\u001b[39;49mreturn_dict_in_generate,\n\u001b[1;32m   1553\u001b[0m         synced_gpus\u001b[39m=\u001b[39;49msynced_gpus,\n\u001b[1;32m   1554\u001b[0m         streamer\u001b[39m=\u001b[39;49mstreamer,\n\u001b[1;32m   1555\u001b[0m         \u001b[39m*\u001b[39;49m\u001b[39m*\u001b[39;49mmodel_kwargs,\n\u001b[1;32m   1556\u001b[0m     )\n\u001b[1;32m   1558\u001b[0m \u001b[39melif\u001b[39;00m generation_mode \u001b[39m==\u001b[39m GenerationMode\u001b[39m.\u001b[39mCONTRASTIVE_SEARCH:\n\u001b[1;32m   1559\u001b[0m     \u001b[39mif\u001b[39;00m \u001b[39mnot\u001b[39;00m model_kwargs[\u001b[39m\"\u001b[39m\u001b[39muse_cache\u001b[39m\u001b[39m\"\u001b[39m]:\n",
      "File \u001b[0;32m~/anaconda3/envs/griffin/lib/python3.12/site-packages/transformers/generation/utils.py:2404\u001b[0m, in \u001b[0;36mGenerationMixin.greedy_search\u001b[0;34m(self, input_ids, logits_processor, stopping_criteria, max_length, pad_token_id, eos_token_id, output_attentions, output_hidden_states, output_scores, output_logits, return_dict_in_generate, synced_gpus, streamer, **model_kwargs)\u001b[0m\n\u001b[1;32m   2401\u001b[0m model_inputs \u001b[39m=\u001b[39m \u001b[39mself\u001b[39m\u001b[39m.\u001b[39mprepare_inputs_for_generation(input_ids, \u001b[39m*\u001b[39m\u001b[39m*\u001b[39mmodel_kwargs)\n\u001b[1;32m   2403\u001b[0m \u001b[39m# forward pass to get next token\u001b[39;00m\n\u001b[0;32m-> 2404\u001b[0m outputs \u001b[39m=\u001b[39m \u001b[39mself\u001b[39;49m(\n\u001b[1;32m   2405\u001b[0m     \u001b[39m*\u001b[39;49m\u001b[39m*\u001b[39;49mmodel_inputs,\n\u001b[1;32m   2406\u001b[0m     return_dict\u001b[39m=\u001b[39;49m\u001b[39mTrue\u001b[39;49;00m,\n\u001b[1;32m   2407\u001b[0m     output_attentions\u001b[39m=\u001b[39;49moutput_attentions,\n\u001b[1;32m   2408\u001b[0m     output_hidden_states\u001b[39m=\u001b[39;49moutput_hidden_states,\n\u001b[1;32m   2409\u001b[0m )\n\u001b[1;32m   2411\u001b[0m \u001b[39mif\u001b[39;00m synced_gpus \u001b[39mand\u001b[39;00m this_peer_finished:\n\u001b[1;32m   2412\u001b[0m     \u001b[39mcontinue\u001b[39;00m  \u001b[39m# don't waste resources running the code we don't need\u001b[39;00m\n",
      "File \u001b[0;32m~/anaconda3/envs/griffin/lib/python3.12/site-packages/torch/nn/modules/module.py:1511\u001b[0m, in \u001b[0;36mModule._wrapped_call_impl\u001b[0;34m(self, *args, **kwargs)\u001b[0m\n\u001b[1;32m   1509\u001b[0m     \u001b[39mreturn\u001b[39;00m \u001b[39mself\u001b[39m\u001b[39m.\u001b[39m_compiled_call_impl(\u001b[39m*\u001b[39margs, \u001b[39m*\u001b[39m\u001b[39m*\u001b[39mkwargs)  \u001b[39m# type: ignore[misc]\u001b[39;00m\n\u001b[1;32m   1510\u001b[0m \u001b[39melse\u001b[39;00m:\n\u001b[0;32m-> 1511\u001b[0m     \u001b[39mreturn\u001b[39;00m \u001b[39mself\u001b[39;49m\u001b[39m.\u001b[39;49m_call_impl(\u001b[39m*\u001b[39;49margs, \u001b[39m*\u001b[39;49m\u001b[39m*\u001b[39;49mkwargs)\n",
      "File \u001b[0;32m~/anaconda3/envs/griffin/lib/python3.12/site-packages/torch/nn/modules/module.py:1520\u001b[0m, in \u001b[0;36mModule._call_impl\u001b[0;34m(self, *args, **kwargs)\u001b[0m\n\u001b[1;32m   1515\u001b[0m \u001b[39m# If we don't have any hooks, we want to skip the rest of the logic in\u001b[39;00m\n\u001b[1;32m   1516\u001b[0m \u001b[39m# this function, and just call forward.\u001b[39;00m\n\u001b[1;32m   1517\u001b[0m \u001b[39mif\u001b[39;00m \u001b[39mnot\u001b[39;00m (\u001b[39mself\u001b[39m\u001b[39m.\u001b[39m_backward_hooks \u001b[39mor\u001b[39;00m \u001b[39mself\u001b[39m\u001b[39m.\u001b[39m_backward_pre_hooks \u001b[39mor\u001b[39;00m \u001b[39mself\u001b[39m\u001b[39m.\u001b[39m_forward_hooks \u001b[39mor\u001b[39;00m \u001b[39mself\u001b[39m\u001b[39m.\u001b[39m_forward_pre_hooks\n\u001b[1;32m   1518\u001b[0m         \u001b[39mor\u001b[39;00m _global_backward_pre_hooks \u001b[39mor\u001b[39;00m _global_backward_hooks\n\u001b[1;32m   1519\u001b[0m         \u001b[39mor\u001b[39;00m _global_forward_hooks \u001b[39mor\u001b[39;00m _global_forward_pre_hooks):\n\u001b[0;32m-> 1520\u001b[0m     \u001b[39mreturn\u001b[39;00m forward_call(\u001b[39m*\u001b[39;49margs, \u001b[39m*\u001b[39;49m\u001b[39m*\u001b[39;49mkwargs)\n\u001b[1;32m   1522\u001b[0m \u001b[39mtry\u001b[39;00m:\n\u001b[1;32m   1523\u001b[0m     result \u001b[39m=\u001b[39m \u001b[39mNone\u001b[39;00m\n",
      "File \u001b[0;32m~/anaconda3/envs/griffin/lib/python3.12/site-packages/transformers/models/llama/modeling_llama.py:1168\u001b[0m, in \u001b[0;36mLlamaForCausalLM.forward\u001b[0;34m(self, input_ids, attention_mask, position_ids, past_key_values, inputs_embeds, labels, use_cache, output_attentions, output_hidden_states, return_dict, cache_position)\u001b[0m\n\u001b[1;32m   1165\u001b[0m return_dict \u001b[39m=\u001b[39m return_dict \u001b[39mif\u001b[39;00m return_dict \u001b[39mis\u001b[39;00m \u001b[39mnot\u001b[39;00m \u001b[39mNone\u001b[39;00m \u001b[39melse\u001b[39;00m \u001b[39mself\u001b[39m\u001b[39m.\u001b[39mconfig\u001b[39m.\u001b[39muse_return_dict\n\u001b[1;32m   1167\u001b[0m \u001b[39m# decoder outputs consists of (dec_features, layer_state, dec_hidden, dec_attn)\u001b[39;00m\n\u001b[0;32m-> 1168\u001b[0m outputs \u001b[39m=\u001b[39m \u001b[39mself\u001b[39;49m\u001b[39m.\u001b[39;49mmodel(\n\u001b[1;32m   1169\u001b[0m     input_ids\u001b[39m=\u001b[39;49minput_ids,\n\u001b[1;32m   1170\u001b[0m     attention_mask\u001b[39m=\u001b[39;49mattention_mask,\n\u001b[1;32m   1171\u001b[0m     position_ids\u001b[39m=\u001b[39;49mposition_ids,\n\u001b[1;32m   1172\u001b[0m     past_key_values\u001b[39m=\u001b[39;49mpast_key_values,\n\u001b[1;32m   1173\u001b[0m     inputs_embeds\u001b[39m=\u001b[39;49minputs_embeds,\n\u001b[1;32m   1174\u001b[0m     use_cache\u001b[39m=\u001b[39;49muse_cache,\n\u001b[1;32m   1175\u001b[0m     output_attentions\u001b[39m=\u001b[39;49moutput_attentions,\n\u001b[1;32m   1176\u001b[0m     output_hidden_states\u001b[39m=\u001b[39;49moutput_hidden_states,\n\u001b[1;32m   1177\u001b[0m     return_dict\u001b[39m=\u001b[39;49mreturn_dict,\n\u001b[1;32m   1178\u001b[0m     cache_position\u001b[39m=\u001b[39;49mcache_position,\n\u001b[1;32m   1179\u001b[0m )\n\u001b[1;32m   1181\u001b[0m hidden_states \u001b[39m=\u001b[39m outputs[\u001b[39m0\u001b[39m]\n\u001b[1;32m   1182\u001b[0m \u001b[39mif\u001b[39;00m \u001b[39mself\u001b[39m\u001b[39m.\u001b[39mconfig\u001b[39m.\u001b[39mpretraining_tp \u001b[39m>\u001b[39m \u001b[39m1\u001b[39m:\n",
      "File \u001b[0;32m~/anaconda3/envs/griffin/lib/python3.12/site-packages/torch/nn/modules/module.py:1511\u001b[0m, in \u001b[0;36mModule._wrapped_call_impl\u001b[0;34m(self, *args, **kwargs)\u001b[0m\n\u001b[1;32m   1509\u001b[0m     \u001b[39mreturn\u001b[39;00m \u001b[39mself\u001b[39m\u001b[39m.\u001b[39m_compiled_call_impl(\u001b[39m*\u001b[39margs, \u001b[39m*\u001b[39m\u001b[39m*\u001b[39mkwargs)  \u001b[39m# type: ignore[misc]\u001b[39;00m\n\u001b[1;32m   1510\u001b[0m \u001b[39melse\u001b[39;00m:\n\u001b[0;32m-> 1511\u001b[0m     \u001b[39mreturn\u001b[39;00m \u001b[39mself\u001b[39;49m\u001b[39m.\u001b[39;49m_call_impl(\u001b[39m*\u001b[39;49margs, \u001b[39m*\u001b[39;49m\u001b[39m*\u001b[39;49mkwargs)\n",
      "File \u001b[0;32m~/anaconda3/envs/griffin/lib/python3.12/site-packages/torch/nn/modules/module.py:1520\u001b[0m, in \u001b[0;36mModule._call_impl\u001b[0;34m(self, *args, **kwargs)\u001b[0m\n\u001b[1;32m   1515\u001b[0m \u001b[39m# If we don't have any hooks, we want to skip the rest of the logic in\u001b[39;00m\n\u001b[1;32m   1516\u001b[0m \u001b[39m# this function, and just call forward.\u001b[39;00m\n\u001b[1;32m   1517\u001b[0m \u001b[39mif\u001b[39;00m \u001b[39mnot\u001b[39;00m (\u001b[39mself\u001b[39m\u001b[39m.\u001b[39m_backward_hooks \u001b[39mor\u001b[39;00m \u001b[39mself\u001b[39m\u001b[39m.\u001b[39m_backward_pre_hooks \u001b[39mor\u001b[39;00m \u001b[39mself\u001b[39m\u001b[39m.\u001b[39m_forward_hooks \u001b[39mor\u001b[39;00m \u001b[39mself\u001b[39m\u001b[39m.\u001b[39m_forward_pre_hooks\n\u001b[1;32m   1518\u001b[0m         \u001b[39mor\u001b[39;00m _global_backward_pre_hooks \u001b[39mor\u001b[39;00m _global_backward_hooks\n\u001b[1;32m   1519\u001b[0m         \u001b[39mor\u001b[39;00m _global_forward_hooks \u001b[39mor\u001b[39;00m _global_forward_pre_hooks):\n\u001b[0;32m-> 1520\u001b[0m     \u001b[39mreturn\u001b[39;00m forward_call(\u001b[39m*\u001b[39;49margs, \u001b[39m*\u001b[39;49m\u001b[39m*\u001b[39;49mkwargs)\n\u001b[1;32m   1522\u001b[0m \u001b[39mtry\u001b[39;00m:\n\u001b[1;32m   1523\u001b[0m     result \u001b[39m=\u001b[39m \u001b[39mNone\u001b[39;00m\n",
      "File \u001b[0;32m~/anaconda3/envs/griffin/lib/python3.12/site-packages/transformers/models/llama/modeling_llama.py:1008\u001b[0m, in \u001b[0;36mLlamaModel.forward\u001b[0;34m(self, input_ids, attention_mask, position_ids, past_key_values, inputs_embeds, use_cache, output_attentions, output_hidden_states, return_dict, cache_position)\u001b[0m\n\u001b[1;32m    997\u001b[0m     layer_outputs \u001b[39m=\u001b[39m \u001b[39mself\u001b[39m\u001b[39m.\u001b[39m_gradient_checkpointing_func(\n\u001b[1;32m    998\u001b[0m         decoder_layer\u001b[39m.\u001b[39m\u001b[39m__call__\u001b[39m,\n\u001b[1;32m    999\u001b[0m         hidden_states,\n\u001b[0;32m   (...)\u001b[0m\n\u001b[1;32m   1005\u001b[0m         cache_position,\n\u001b[1;32m   1006\u001b[0m     )\n\u001b[1;32m   1007\u001b[0m \u001b[39melse\u001b[39;00m:\n\u001b[0;32m-> 1008\u001b[0m     layer_outputs \u001b[39m=\u001b[39m decoder_layer(\n\u001b[1;32m   1009\u001b[0m         hidden_states,\n\u001b[1;32m   1010\u001b[0m         attention_mask\u001b[39m=\u001b[39;49mcausal_mask,\n\u001b[1;32m   1011\u001b[0m         position_ids\u001b[39m=\u001b[39;49mposition_ids,\n\u001b[1;32m   1012\u001b[0m         past_key_value\u001b[39m=\u001b[39;49mpast_key_values,\n\u001b[1;32m   1013\u001b[0m         output_attentions\u001b[39m=\u001b[39;49moutput_attentions,\n\u001b[1;32m   1014\u001b[0m         use_cache\u001b[39m=\u001b[39;49muse_cache,\n\u001b[1;32m   1015\u001b[0m         cache_position\u001b[39m=\u001b[39;49mcache_position,\n\u001b[1;32m   1016\u001b[0m     )\n\u001b[1;32m   1018\u001b[0m hidden_states \u001b[39m=\u001b[39m layer_outputs[\u001b[39m0\u001b[39m]\n\u001b[1;32m   1020\u001b[0m \u001b[39mif\u001b[39;00m use_cache:\n",
      "File \u001b[0;32m~/anaconda3/envs/griffin/lib/python3.12/site-packages/torch/nn/modules/module.py:1511\u001b[0m, in \u001b[0;36mModule._wrapped_call_impl\u001b[0;34m(self, *args, **kwargs)\u001b[0m\n\u001b[1;32m   1509\u001b[0m     \u001b[39mreturn\u001b[39;00m \u001b[39mself\u001b[39m\u001b[39m.\u001b[39m_compiled_call_impl(\u001b[39m*\u001b[39margs, \u001b[39m*\u001b[39m\u001b[39m*\u001b[39mkwargs)  \u001b[39m# type: ignore[misc]\u001b[39;00m\n\u001b[1;32m   1510\u001b[0m \u001b[39melse\u001b[39;00m:\n\u001b[0;32m-> 1511\u001b[0m     \u001b[39mreturn\u001b[39;00m \u001b[39mself\u001b[39;49m\u001b[39m.\u001b[39;49m_call_impl(\u001b[39m*\u001b[39;49margs, \u001b[39m*\u001b[39;49m\u001b[39m*\u001b[39;49mkwargs)\n",
      "File \u001b[0;32m~/anaconda3/envs/griffin/lib/python3.12/site-packages/torch/nn/modules/module.py:1520\u001b[0m, in \u001b[0;36mModule._call_impl\u001b[0;34m(self, *args, **kwargs)\u001b[0m\n\u001b[1;32m   1515\u001b[0m \u001b[39m# If we don't have any hooks, we want to skip the rest of the logic in\u001b[39;00m\n\u001b[1;32m   1516\u001b[0m \u001b[39m# this function, and just call forward.\u001b[39;00m\n\u001b[1;32m   1517\u001b[0m \u001b[39mif\u001b[39;00m \u001b[39mnot\u001b[39;00m (\u001b[39mself\u001b[39m\u001b[39m.\u001b[39m_backward_hooks \u001b[39mor\u001b[39;00m \u001b[39mself\u001b[39m\u001b[39m.\u001b[39m_backward_pre_hooks \u001b[39mor\u001b[39;00m \u001b[39mself\u001b[39m\u001b[39m.\u001b[39m_forward_hooks \u001b[39mor\u001b[39;00m \u001b[39mself\u001b[39m\u001b[39m.\u001b[39m_forward_pre_hooks\n\u001b[1;32m   1518\u001b[0m         \u001b[39mor\u001b[39;00m _global_backward_pre_hooks \u001b[39mor\u001b[39;00m _global_backward_hooks\n\u001b[1;32m   1519\u001b[0m         \u001b[39mor\u001b[39;00m _global_forward_hooks \u001b[39mor\u001b[39;00m _global_forward_pre_hooks):\n\u001b[0;32m-> 1520\u001b[0m     \u001b[39mreturn\u001b[39;00m forward_call(\u001b[39m*\u001b[39;49margs, \u001b[39m*\u001b[39;49m\u001b[39m*\u001b[39;49mkwargs)\n\u001b[1;32m   1522\u001b[0m \u001b[39mtry\u001b[39;00m:\n\u001b[1;32m   1523\u001b[0m     result \u001b[39m=\u001b[39m \u001b[39mNone\u001b[39;00m\n",
      "File \u001b[0;32m~/anaconda3/envs/griffin/lib/python3.12/site-packages/transformers/models/llama/modeling_llama.py:734\u001b[0m, in \u001b[0;36mLlamaDecoderLayer.forward\u001b[0;34m(self, hidden_states, attention_mask, position_ids, past_key_value, output_attentions, use_cache, cache_position, **kwargs)\u001b[0m\n\u001b[1;32m    731\u001b[0m hidden_states \u001b[39m=\u001b[39m \u001b[39mself\u001b[39m\u001b[39m.\u001b[39minput_layernorm(hidden_states)\n\u001b[1;32m    733\u001b[0m \u001b[39m# Self Attention\u001b[39;00m\n\u001b[0;32m--> 734\u001b[0m hidden_states, self_attn_weights, present_key_value \u001b[39m=\u001b[39m \u001b[39mself\u001b[39;49m\u001b[39m.\u001b[39;49mself_attn(\n\u001b[1;32m    735\u001b[0m     hidden_states\u001b[39m=\u001b[39;49mhidden_states,\n\u001b[1;32m    736\u001b[0m     attention_mask\u001b[39m=\u001b[39;49mattention_mask,\n\u001b[1;32m    737\u001b[0m     position_ids\u001b[39m=\u001b[39;49mposition_ids,\n\u001b[1;32m    738\u001b[0m     past_key_value\u001b[39m=\u001b[39;49mpast_key_value,\n\u001b[1;32m    739\u001b[0m     output_attentions\u001b[39m=\u001b[39;49moutput_attentions,\n\u001b[1;32m    740\u001b[0m     use_cache\u001b[39m=\u001b[39;49muse_cache,\n\u001b[1;32m    741\u001b[0m     cache_position\u001b[39m=\u001b[39;49mcache_position,\n\u001b[1;32m    742\u001b[0m     \u001b[39m*\u001b[39;49m\u001b[39m*\u001b[39;49mkwargs,\n\u001b[1;32m    743\u001b[0m )\n\u001b[1;32m    744\u001b[0m hidden_states \u001b[39m=\u001b[39m residual \u001b[39m+\u001b[39m hidden_states\n\u001b[1;32m    746\u001b[0m \u001b[39m# Fully Connected\u001b[39;00m\n",
      "File \u001b[0;32m~/anaconda3/envs/griffin/lib/python3.12/site-packages/torch/nn/modules/module.py:1511\u001b[0m, in \u001b[0;36mModule._wrapped_call_impl\u001b[0;34m(self, *args, **kwargs)\u001b[0m\n\u001b[1;32m   1509\u001b[0m     \u001b[39mreturn\u001b[39;00m \u001b[39mself\u001b[39m\u001b[39m.\u001b[39m_compiled_call_impl(\u001b[39m*\u001b[39margs, \u001b[39m*\u001b[39m\u001b[39m*\u001b[39mkwargs)  \u001b[39m# type: ignore[misc]\u001b[39;00m\n\u001b[1;32m   1510\u001b[0m \u001b[39melse\u001b[39;00m:\n\u001b[0;32m-> 1511\u001b[0m     \u001b[39mreturn\u001b[39;00m \u001b[39mself\u001b[39;49m\u001b[39m.\u001b[39;49m_call_impl(\u001b[39m*\u001b[39;49margs, \u001b[39m*\u001b[39;49m\u001b[39m*\u001b[39;49mkwargs)\n",
      "File \u001b[0;32m~/anaconda3/envs/griffin/lib/python3.12/site-packages/torch/nn/modules/module.py:1520\u001b[0m, in \u001b[0;36mModule._call_impl\u001b[0;34m(self, *args, **kwargs)\u001b[0m\n\u001b[1;32m   1515\u001b[0m \u001b[39m# If we don't have any hooks, we want to skip the rest of the logic in\u001b[39;00m\n\u001b[1;32m   1516\u001b[0m \u001b[39m# this function, and just call forward.\u001b[39;00m\n\u001b[1;32m   1517\u001b[0m \u001b[39mif\u001b[39;00m \u001b[39mnot\u001b[39;00m (\u001b[39mself\u001b[39m\u001b[39m.\u001b[39m_backward_hooks \u001b[39mor\u001b[39;00m \u001b[39mself\u001b[39m\u001b[39m.\u001b[39m_backward_pre_hooks \u001b[39mor\u001b[39;00m \u001b[39mself\u001b[39m\u001b[39m.\u001b[39m_forward_hooks \u001b[39mor\u001b[39;00m \u001b[39mself\u001b[39m\u001b[39m.\u001b[39m_forward_pre_hooks\n\u001b[1;32m   1518\u001b[0m         \u001b[39mor\u001b[39;00m _global_backward_pre_hooks \u001b[39mor\u001b[39;00m _global_backward_hooks\n\u001b[1;32m   1519\u001b[0m         \u001b[39mor\u001b[39;00m _global_forward_hooks \u001b[39mor\u001b[39;00m _global_forward_pre_hooks):\n\u001b[0;32m-> 1520\u001b[0m     \u001b[39mreturn\u001b[39;00m forward_call(\u001b[39m*\u001b[39;49margs, \u001b[39m*\u001b[39;49m\u001b[39m*\u001b[39;49mkwargs)\n\u001b[1;32m   1522\u001b[0m \u001b[39mtry\u001b[39;00m:\n\u001b[1;32m   1523\u001b[0m     result \u001b[39m=\u001b[39m \u001b[39mNone\u001b[39;00m\n",
      "File \u001b[0;32m~/anaconda3/envs/griffin/lib/python3.12/site-packages/transformers/models/llama/modeling_llama.py:641\u001b[0m, in \u001b[0;36mLlamaSdpaAttention.forward\u001b[0;34m(self, hidden_states, attention_mask, position_ids, past_key_value, output_attentions, use_cache, cache_position)\u001b[0m\n\u001b[1;32m    638\u001b[0m key_states \u001b[39m=\u001b[39m key_states\u001b[39m.\u001b[39mview(bsz, q_len, \u001b[39mself\u001b[39m\u001b[39m.\u001b[39mnum_key_value_heads, \u001b[39mself\u001b[39m\u001b[39m.\u001b[39mhead_dim)\u001b[39m.\u001b[39mtranspose(\u001b[39m1\u001b[39m, \u001b[39m2\u001b[39m)\n\u001b[1;32m    639\u001b[0m value_states \u001b[39m=\u001b[39m value_states\u001b[39m.\u001b[39mview(bsz, q_len, \u001b[39mself\u001b[39m\u001b[39m.\u001b[39mnum_key_value_heads, \u001b[39mself\u001b[39m\u001b[39m.\u001b[39mhead_dim)\u001b[39m.\u001b[39mtranspose(\u001b[39m1\u001b[39m, \u001b[39m2\u001b[39m)\n\u001b[0;32m--> 641\u001b[0m cos, sin \u001b[39m=\u001b[39m \u001b[39mself\u001b[39;49m\u001b[39m.\u001b[39;49mrotary_emb(value_states, position_ids)\n\u001b[1;32m    642\u001b[0m query_states, key_states \u001b[39m=\u001b[39m apply_rotary_pos_emb(query_states, key_states, cos, sin)\n\u001b[1;32m    644\u001b[0m past_key_value \u001b[39m=\u001b[39m \u001b[39mgetattr\u001b[39m(\u001b[39mself\u001b[39m, \u001b[39m\"\u001b[39m\u001b[39mpast_key_value\u001b[39m\u001b[39m\"\u001b[39m, past_key_value)\n",
      "File \u001b[0;32m~/anaconda3/envs/griffin/lib/python3.12/site-packages/torch/nn/modules/module.py:1511\u001b[0m, in \u001b[0;36mModule._wrapped_call_impl\u001b[0;34m(self, *args, **kwargs)\u001b[0m\n\u001b[1;32m   1509\u001b[0m     \u001b[39mreturn\u001b[39;00m \u001b[39mself\u001b[39m\u001b[39m.\u001b[39m_compiled_call_impl(\u001b[39m*\u001b[39margs, \u001b[39m*\u001b[39m\u001b[39m*\u001b[39mkwargs)  \u001b[39m# type: ignore[misc]\u001b[39;00m\n\u001b[1;32m   1510\u001b[0m \u001b[39melse\u001b[39;00m:\n\u001b[0;32m-> 1511\u001b[0m     \u001b[39mreturn\u001b[39;00m \u001b[39mself\u001b[39;49m\u001b[39m.\u001b[39;49m_call_impl(\u001b[39m*\u001b[39;49margs, \u001b[39m*\u001b[39;49m\u001b[39m*\u001b[39;49mkwargs)\n",
      "File \u001b[0;32m~/anaconda3/envs/griffin/lib/python3.12/site-packages/torch/nn/modules/module.py:1520\u001b[0m, in \u001b[0;36mModule._call_impl\u001b[0;34m(self, *args, **kwargs)\u001b[0m\n\u001b[1;32m   1515\u001b[0m \u001b[39m# If we don't have any hooks, we want to skip the rest of the logic in\u001b[39;00m\n\u001b[1;32m   1516\u001b[0m \u001b[39m# this function, and just call forward.\u001b[39;00m\n\u001b[1;32m   1517\u001b[0m \u001b[39mif\u001b[39;00m \u001b[39mnot\u001b[39;00m (\u001b[39mself\u001b[39m\u001b[39m.\u001b[39m_backward_hooks \u001b[39mor\u001b[39;00m \u001b[39mself\u001b[39m\u001b[39m.\u001b[39m_backward_pre_hooks \u001b[39mor\u001b[39;00m \u001b[39mself\u001b[39m\u001b[39m.\u001b[39m_forward_hooks \u001b[39mor\u001b[39;00m \u001b[39mself\u001b[39m\u001b[39m.\u001b[39m_forward_pre_hooks\n\u001b[1;32m   1518\u001b[0m         \u001b[39mor\u001b[39;00m _global_backward_pre_hooks \u001b[39mor\u001b[39;00m _global_backward_hooks\n\u001b[1;32m   1519\u001b[0m         \u001b[39mor\u001b[39;00m _global_forward_hooks \u001b[39mor\u001b[39;00m _global_forward_pre_hooks):\n\u001b[0;32m-> 1520\u001b[0m     \u001b[39mreturn\u001b[39;00m forward_call(\u001b[39m*\u001b[39;49margs, \u001b[39m*\u001b[39;49m\u001b[39m*\u001b[39;49mkwargs)\n\u001b[1;32m   1522\u001b[0m \u001b[39mtry\u001b[39;00m:\n\u001b[1;32m   1523\u001b[0m     result \u001b[39m=\u001b[39m \u001b[39mNone\u001b[39;00m\n",
      "File \u001b[0;32m~/anaconda3/envs/griffin/lib/python3.12/site-packages/transformers/models/llama/modeling_llama.py:125\u001b[0m, in \u001b[0;36mLlamaRotaryEmbedding.forward\u001b[0;34m(self, x, position_ids, seq_len)\u001b[0m\n\u001b[1;32m    123\u001b[0m \u001b[39m# x: [bs, num_attention_heads, seq_len, head_size]\u001b[39;00m\n\u001b[1;32m    124\u001b[0m inv_freq_expanded \u001b[39m=\u001b[39m \u001b[39mself\u001b[39m\u001b[39m.\u001b[39minv_freq[\u001b[39mNone\u001b[39;00m, :, \u001b[39mNone\u001b[39;00m]\u001b[39m.\u001b[39mfloat()\u001b[39m.\u001b[39mexpand(position_ids\u001b[39m.\u001b[39mshape[\u001b[39m0\u001b[39m], \u001b[39m-\u001b[39m\u001b[39m1\u001b[39m, \u001b[39m1\u001b[39m)\n\u001b[0;32m--> 125\u001b[0m position_ids_expanded \u001b[39m=\u001b[39m position_ids[:, \u001b[39mNone\u001b[39;49;00m, :]\u001b[39m.\u001b[39;49mfloat()\n\u001b[1;32m    126\u001b[0m freqs \u001b[39m=\u001b[39m (inv_freq_expanded \u001b[39m@\u001b[39m position_ids_expanded)\u001b[39m.\u001b[39mtranspose(\u001b[39m1\u001b[39m, \u001b[39m2\u001b[39m)\n\u001b[1;32m    127\u001b[0m emb \u001b[39m=\u001b[39m torch\u001b[39m.\u001b[39mcat((freqs, freqs), dim\u001b[39m=\u001b[39m\u001b[39m-\u001b[39m\u001b[39m1\u001b[39m)\n",
      "\u001b[0;31mKeyboardInterrupt\u001b[0m: "
     ]
    }
   ],
   "source": [
    "for i in range(10, len(dataset)): \n",
    "    inputtext = chainofthoughtprompt + \"Q: \" + dataset[i][\"inputs\"] + \"A: \" \n",
    "    inputids = tokenizer(inputtext, add_special_tokens = True, return_tensors = \"pt\") \n",
    "    inputids[\"input_ids\"] = inputids[\"input_ids\"].to(model.device) \n",
    "    output = model.generate(inputids[\"input_ids\"], max_length = inputids[\"input_ids\"].shape[-1] + 100, do_sample = False) \n",
    "    print(inputtext, end = \"\") \n",
    "    anw = tokenizer.decode(output[0][inputids[\"input_ids\"].shape[-1] :], skip_special_tokens = False) \n",
    "    terminationidx = anw.find(\"Q: \") \n",
    "    # print(terminationidx) \n",
    "    print(colored(anw[: terminationidx], \"green\"), end = \" \") "
   ]
  },
  {
   "cell_type": "code",
   "execution_count": 36,
   "metadata": {},
   "outputs": [],
   "source": [
    "dataset = load_dataset(\"tau/commonsense_qa\", split = \"train\") \n",
    "\n",
    "# randomly sample 10 examples \n",
    "np.random.seed(1) \n",
    "indices = np.random.choice(len(dataset), 10, replace = False) "
   ]
  },
  {
   "cell_type": "code",
   "execution_count": 37,
   "metadata": {},
   "outputs": [
    {
     "data": {
      "text/plain": [
       "array([6514,  619, 3818, 3530, 1225, 5899, 1406, 5042, 2045, 4549])"
      ]
     },
     "execution_count": 37,
     "metadata": {},
     "output_type": "execute_result"
    }
   ],
   "source": [
    "indices "
   ]
  },
  {
   "cell_type": "code",
   "execution_count": 38,
   "metadata": {},
   "outputs": [
    {
     "name": "stdout",
     "output_type": "stream",
     "text": [
      "Q: John heard a language that he could not understand. He thought that the door was shut, but he eventually realized that there was no door, and that the light source that was blinding his eyes was very familiar.  He was on his back looking at what?\n",
      "Options: (a) sky (b) lamp (c) hallway (d) dard (e) closed room\n",
      "Correct Answer: A sky\n",
      "\n",
      "Q: The sun was out and the temperature changing rapidly, it was really beginning to what?\n",
      "Options: (a) drop to zero (b) increase (c) cool down (d) dropping quickly (e) heat up\n",
      "Correct Answer: E heat up\n",
      "\n",
      "Q: When do girls eat ice cream on the couch?\n",
      "Options: (a) wash hands (b) were hungry (c) depressed (d) athlete's foot (e) cool down\n",
      "Correct Answer: C depressed\n",
      "\n",
      "Q: Dan is driving a car, though he's stopped at a light right now. What else can we assume that he's doing?\n",
      "Options: (a) listening to the radio (b) car crash (c) moving (d) get sleepy (e) going someplace\n",
      "Correct Answer: E going someplace\n",
      "\n",
      "Q: Where could you find a monkey in the wild?\n",
      "Options: (a) friend's house (b) research laboratory (c) french government (d) beach (e) madagascar\n",
      "Correct Answer: E madagascar\n",
      "\n",
      "Q: who uses a contraceptive device?\n",
      "Options: (a) pharmacy (b) bedroom (c) person (d) men (e) drug store\n",
      "Correct Answer: C person\n",
      "\n",
      "Q: Samantha decided to join the game, but there wasn't space. She had to stay on the waitlist until someone else did what?\n",
      "Options: (a) opt out (b) separate (c) opt out (d) leave (e) split apart\n",
      "Correct Answer: D leave\n",
      "\n",
      "Q: The storm was surprising, where didn't it show up for meteorologists?\n",
      "Options: (a) train (b) tropical seas (c) weather report (d) america (e) caribbean\n",
      "Correct Answer: C weather report\n",
      "\n",
      "Q: what color are rose flowers typically?\n",
      "Options: (a) vase (b) pink (c) red (d) blue (e) fragrant\n",
      "Correct Answer: C red\n",
      "\n",
      "Q: You will find many swamps in the in the southern U.S. along what geographic feature?\n",
      "Options: (a) river delta (b) michigan (c) louisiana (d) wetlands (e) alligators\n",
      "Correct Answer: A river delta\n",
      "\n"
     ]
    }
   ],
   "source": [
    "datasetsmall = dataset.select(indices) \n",
    "for i, batch in enumerate(datasetsmall): \n",
    "    # options = batch[\"choices\"] \n",
    "    options = batch[\"choices\"][\"text\"] \n",
    "    print(\"Q: {}\\nOptions: (a) {} (b) {} (c) {} (d) {} (e) {}\".format(batch[\"question\"], options[0], options[1], options[2], options[3], options[4])) \n",
    "    print(\"Correct Answer: {}\\n\".format(batch[\"answerKey\"] + \" \" + options[batch[\"choices\"][\"label\"].index(batch[\"answerKey\"])])) "
   ]
  },
  {
   "cell_type": "code",
   "execution_count": 7,
   "metadata": {},
   "outputs": [],
   "source": [
    "chainofthoughtprompt = \"Q: John heard a language that he could not understand. He thought that the door was shut, but he eventually realized that there was no door, and that the light source that was blinding his eyes was very familiar.  He was on his back looking at what?\\n\\\n",
    "Options: (a) sky (b) lamp (c) hallway (d) dard (e) closed room\\n\\n\\\n",
    "\\\n",
    "A: The answer must be a place where there are people speaking, no door, and also there is a light source that is intensively strong. lamp is a light source, but not intensively strong, hallway is a place with doors, and closed room also has some doors. Sky is the only place that has no door and a very strong light source, sun, during the day. Also, John can be on his back looking at the sky and hearing people speaking. So the answer is sky.\\n\\n\\\n",
    "\\\n",
    "Q: Q: The sun was out and the temperature changing rapidly, it was really beginning to what?\\n\\\n",
    "Options: (a) drop to zero (b) increase (c) cool down (d) dropping quickly (e) heat up\\n\\n\\\n",
    "\\\n",
    "A: The answer must be a situation when the sun is out and temperature starts to shift because of the sun rise. The sun rise makes the temperature to go up, and temperature does not drop to zero, does not cool down, and does not drop quickly. Increase is ok but not as clear as heat up. So the answer is heat up.\\n\\n\\\n",
    "\\\n",
    "Q: When do girls eat ice cream on the couch?\\n\\\n",
    "Options: (a) wash hands (b) were hungry (c) depressed (d) athlete's foot (e) cool down\\n\\n\\\n",
    "\\\n",
    "A: The answer must be a situation when eating ice cream and sitting on the couch help girls feel better. Eating ice cream and sitting on the couch are usually activies that make girls feel comfortable and pleasing. Washing hand is not related to eating ice cream. Being hungry is relevant, but ice cream is usually not the first thing to eat when hungry. Athlete's foot is not relevant to eating ice cream. When girls are cooled down, they won't do things that make them feel better. Feeling depressed is the most relevant among all and a strong reason for them to find ways to feel better by sitting on the couch and eating ice cream. So the answer is depressed.\\n\\n\\\n",
    "\\\n",
    "Q: Dan is driving a car, though he's stopped at a light right now. What else can we assume that he's doing?\\n\\\n",
    "Options: (a) listening to the radio (b) car crash (c) moving (d) get sleepy (e) going someplace\\n\\n\\\n",
    "\\\n",
    "A: The answer must be a situation that doesn't infer more than the question has given. Dan is driving a car and stopped at a light, which is a common situation when driving. Listening to the radio is a common activity when driving but cannot be infered from Dan's actions. Car crash cannot be infered from Dan's actions. Dan stopped at a light, so he is not moving. Getting sleepy cannot be infered from the question. Going someplace is always right when driving, which is what Dan is doing. So the answer is going someplace.\\n\\n\\\n",
    "\\\n",
    "Q: Where could you find a monkey in the wild?\\n\\\n",
    "Options: (a) friend's house (b) research laboratory (c) french government (d) beach (e) madagascar\\n\\n\\\n",
    "\\\n",
    "A: The answer must be a place of lots of monkeys in the wild to be found. A friend's house might have pets but not wild monkeys. A research laboratory might have monkeys but not in the wild. French government is irrelevant to finding wild monkeys, and wild monkeys usually cannot be found near the beaches. Madgascar is a place known for wild lives, including monkeys. So the answer is madagascar.\\n\\n\\\n",
    "\\\n",
    "Q: who uses a contraceptive device?\\n\\\n",
    "Options: (a) pharmacy (b) bedroom (c) person (d) men (e) drug store\\n\\n\\\n",
    "\\\n",
    "A: The answer must be refering by whom the contraceptive device is used. A pharmacy is a place where contraceptive devices are sold, but cannot be refered by who. Bedroom is also a place and cannot be refered by who, and drug store is again a place and cannot be refered to by who. Men aren't the only ones who use contraceptive devices, and person is the most general term that can be refered to by who use contraceptive devices. So the answer is person.\\n\\n\\\n",
    "\\\n",
    "Q: Samantha decided to join the game, but there wasn't space. She had to stay on the waitlist until someone else did what?\\n\\\n",
    "Options: (a) opt out (b) separate (c) opt out (d) leave (e) split apart\\n\\n\\\n",
    "\\\n",
    "A: The answer must be a situation when the number of players currently playing the game reaches the limit of the game, and someone has to exit the game for people from the waitlist to enter. Opt out is correct but repeated. Separate and split are not relevant to the players playing the game. Leave is the most relevant in the situation. So the answer is leave.\\n\\n\\\n",
    "\\\n",
    "Q: The storm was surprising, where didn't it show up for meteorologists?\\n\\\n",
    "Options: (a) train (b) tropical seas (c) weather report (d) america (e) caribbean\\n\\n\\\n",
    "\\\n",
    "A: The answer must be a place where because it didn't show up, meteorologists were surprised. A train is irrelevant to the storm and meteorologists. Tropical seas are places where storms are common, so meteorologists wouldn't be surprised. America and caribbean are general places where storms can show up or not, and meteorologists wouldn't be surprised. If the storm didn't show up in the weather report, meteorologists would be surprised when the storm came. So the answer is weather report.\\n\\n\\\n",
    "\\\n",
    "Q: what color are rose flowers typically?\\n\\\n",
    "Options: (a) vase (b) pink (c) red (d) blue (e) fragrant\\n\\n\\\n",
    "\\\n",
    "A: The answer must be a color that rose flowers typically have. A vase is not a color. Pink isn't the most typical color roses have. Blue is not a typical color roses have. Fragrant is not for describing the color of rose. Red is the most typical color that rose flowers have. So the answer is red.\\n\\n\\\n",
    "\\\n",
    "Q: You will find many swamps in the in the southern U.S. along what geographic feature?\\n\\\n",
    "Options: (a) river delta (b) michigan (c) louisiana (d) wetlands (e) alligators\\n\\n\\\n",
    "\\\n",
    "A: The answer must to a geographic feature that is common in the southern U.S. and frequently appears with swamps. Michigan and Louisiana are the states in the U.S. not geographic features. Wetlands refer to the ecosystem of swamps, but not a geographic feature. Alligators live in swamps but not geographic features. River delta is a geographic feature that commonly appears with swamps. So the answer is river delta.\\n\\n\" "
   ]
  },
  {
   "cell_type": "code",
   "execution_count": 8,
   "metadata": {},
   "outputs": [
    {
     "name": "stderr",
     "output_type": "stream",
     "text": [
      "The attention mask and the pad token id were not set. As a consequence, you may observe unexpected behavior. Please pass your input's `attention_mask` to obtain reliable results.\n",
      "Setting `pad_token_id` to `eos_token_id`:128001 for open-end generation.\n",
      "The attention mask and the pad token id were not set. As a consequence, you may observe unexpected behavior. Please pass your input's `attention_mask` to obtain reliable results.\n",
      "Setting `pad_token_id` to `eos_token_id`:128001 for open-end generation.\n"
     ]
    },
    {
     "name": "stdout",
     "output_type": "stream",
     "text": [
      "Q: John heard a language that he could not understand. He thought that the door was shut, but he eventually realized that there was no door, and that the light source that was blinding his eyes was very familiar.  He was on his back looking at what?\n",
      "Options: (a) sky (b) lamp (c) hallway (d) dard (e) closed room\n",
      "\n",
      "A: The answer must be a place where there are people speaking, no door, and also there is a light source that is intensively strong. lamp is a light source, but not intensively strong, hallway is a place with doors, and closed room also has some doors. Sky is the only place that has no door and a very strong light source, sun, during the day. Also, John can be on his back looking at the sky and hearing people speaking. So the answer is sky.\n",
      "\n",
      "Q: Q: The sun was out and the temperature changing rapidly, it was really beginning to what?\n",
      "Options: (a) drop to zero (b) increase (c) cool down (d) dropping quickly (e) heat up\n",
      "\n",
      "A: The answer must be a situation when the sun is out and temperature starts to shift because of the sun rise. The sun rise makes the temperature to go up, and temperature does not drop to zero, does not cool down, and does not drop quickly. Increase is ok but not as clear as heat up. So the answer is heat up.\n",
      "\n",
      "Q: When do girls eat ice cream on the couch?\n",
      "Options: (a) wash hands (b) were hungry (c) depressed (d) athlete's foot (e) cool down\n",
      "\n",
      "A: The answer must be a situation when eating ice cream and sitting on the couch help girls feel better. Eating ice cream and sitting on the couch are usually activies that make girls feel comfortable and pleasing. Washing hand is not related to eating ice cream. Being hungry is relevant, but ice cream is usually not the first thing to eat when hungry. Athlete's foot is not relevant to eating ice cream. When girls are cooled down, they won't do things that make them feel better. Feeling depressed is the most relevant among all and a strong reason for them to find ways to feel better by sitting on the couch and eating ice cream. So the answer is depressed.\n",
      "\n",
      "Q: Dan is driving a car, though he's stopped at a light right now. What else can we assume that he's doing?\n",
      "Options: (a) listening to the radio (b) car crash (c) moving (d) get sleepy (e) going someplace\n",
      "\n",
      "A: The answer must be a situation that doesn't infer more than the question has given. Dan is driving a car and stopped at a light, which is a common situation when driving. Listening to the radio is a common activity when driving but cannot be infered from Dan's actions. Car crash cannot be infered from Dan's actions. Dan stopped at a light, so he is not moving. Getting sleepy cannot be infered from the question. Going someplace is always right when driving, which is what Dan is doing. So the answer is going someplace.\n",
      "\n",
      "Q: Where could you find a monkey in the wild?\n",
      "Options: (a) friend's house (b) research laboratory (c) french government (d) beach (e) madagascar\n",
      "\n",
      "A: The answer must be a place of lots of monkeys in the wild to be found. A friend's house might have pets but not wild monkeys. A research laboratory might have monkeys but not in the wild. French government is irrelevant to finding wild monkeys, and wild monkeys usually cannot be found near the beaches. Madgascar is a place known for wild lives, including monkeys. So the answer is madagascar.\n",
      "\n",
      "Q: who uses a contraceptive device?\n",
      "Options: (a) pharmacy (b) bedroom (c) person (d) men (e) drug store\n",
      "\n",
      "A: The answer must be refering by whom the contraceptive device is used. A pharmacy is a place where contraceptive devices are sold, but cannot be refered by who. Bedroom is also a place and cannot be refered by who, and drug store is again a place and cannot be refered to by who. Men aren't the only ones who use contraceptive devices, and person is the most general term that can be refered to by who use contraceptive devices. So the answer is person.\n",
      "\n",
      "Q: Samantha decided to join the game, but there wasn't space. She had to stay on the waitlist until someone else did what?\n",
      "Options: (a) opt out (b) separate (c) opt out (d) leave (e) split apart\n",
      "\n",
      "A: The answer must be a situation when the number of players currently playing the game reaches the limit of the game, and someone has to exit the game for people from the waitlist to enter. Opt out is correct but repeated. Separate and split are not relevant to the players playing the game. Leave is the most relevant in the situation. So the answer is leave.\n",
      "\n",
      "Q: The storm was surprising, where didn't it show up for meteorologists?\n",
      "Options: (a) train (b) tropical seas (c) weather report (d) america (e) caribbean\n",
      "\n",
      "A: The answer must be a place where because it didn't show up, meteorologists were surprised. A train is irrelevant to the storm and meteorologists. Tropical seas are places where storms are common, so meteorologists wouldn't be surprised. America and caribbean are general places where storms can show up or not, and meteorologists wouldn't be surprised. If the storm didn't show up in the weather report, meteorologists would be surprised when the storm came. So the answer is weather report.\n",
      "\n",
      "Q: what color are rose flowers typically?\n",
      "Options: (a) vase (b) pink (c) red (d) blue (e) fragrant\n",
      "\n",
      "A: The answer must be a color that rose flowers typically have. A vase is not a color. Pink isn't the most typical color roses have. Blue is not a typical color roses have. Fragrant is not for describing the color of rose. Red is the most typical color that rose flowers have. So the answer is red.\n",
      "\n",
      "Q: You will find many swamps in the in the southern U.S. along what geographic feature?\n",
      "Options: (a) river delta (b) michigan (c) louisiana (d) wetlands (e) alligators\n",
      "\n",
      "A: The answer must to a geographic feature that is common in the southern U.S. and frequently appears with swamps. Michigan and Louisiana are the states in the U.S. not geographic features. Wetlands refer to the ecosystem of swamps, but not a geographic feature. Alligators live in swamps but not geographic features. River delta is a geographic feature that commonly appears with swamps. So the answer is river delta.\n",
      "\n",
      "Q: The townhouse was a hard sell for the realtor, it was right next to a high rise what?\n",
      "Options: (a) suburban development (b) apartment building (c) bus stop (d) michigan (e) suburbs\u001b[32m\n",
      "\n",
      "A: The answer must be a situation that makes the townhouse hard to sell. Suburban development and apartment building are not relevant to the townhouse being hard to sell. Bus stop is a place where people wait, but not a reason for the townhouse being hard to sell. Michigan is a state and not a reason for the townhouse being hard to sell. The high rise next to the townhouse is a reason for the townhouse being hard to sell, as it might be noisy or obstruct the view. So the answer is apartment building.\n",
      "\n",
      "\u001b[0m "
     ]
    },
    {
     "name": "stderr",
     "output_type": "stream",
     "text": [
      "The attention mask and the pad token id were not set. As a consequence, you may observe unexpected behavior. Please pass your input's `attention_mask` to obtain reliable results.\n",
      "Setting `pad_token_id` to `eos_token_id`:128001 for open-end generation.\n"
     ]
    },
    {
     "name": "stdout",
     "output_type": "stream",
     "text": [
      "Q: John heard a language that he could not understand. He thought that the door was shut, but he eventually realized that there was no door, and that the light source that was blinding his eyes was very familiar.  He was on his back looking at what?\n",
      "Options: (a) sky (b) lamp (c) hallway (d) dard (e) closed room\n",
      "\n",
      "A: The answer must be a place where there are people speaking, no door, and also there is a light source that is intensively strong. lamp is a light source, but not intensively strong, hallway is a place with doors, and closed room also has some doors. Sky is the only place that has no door and a very strong light source, sun, during the day. Also, John can be on his back looking at the sky and hearing people speaking. So the answer is sky.\n",
      "\n",
      "Q: Q: The sun was out and the temperature changing rapidly, it was really beginning to what?\n",
      "Options: (a) drop to zero (b) increase (c) cool down (d) dropping quickly (e) heat up\n",
      "\n",
      "A: The answer must be a situation when the sun is out and temperature starts to shift because of the sun rise. The sun rise makes the temperature to go up, and temperature does not drop to zero, does not cool down, and does not drop quickly. Increase is ok but not as clear as heat up. So the answer is heat up.\n",
      "\n",
      "Q: When do girls eat ice cream on the couch?\n",
      "Options: (a) wash hands (b) were hungry (c) depressed (d) athlete's foot (e) cool down\n",
      "\n",
      "A: The answer must be a situation when eating ice cream and sitting on the couch help girls feel better. Eating ice cream and sitting on the couch are usually activies that make girls feel comfortable and pleasing. Washing hand is not related to eating ice cream. Being hungry is relevant, but ice cream is usually not the first thing to eat when hungry. Athlete's foot is not relevant to eating ice cream. When girls are cooled down, they won't do things that make them feel better. Feeling depressed is the most relevant among all and a strong reason for them to find ways to feel better by sitting on the couch and eating ice cream. So the answer is depressed.\n",
      "\n",
      "Q: Dan is driving a car, though he's stopped at a light right now. What else can we assume that he's doing?\n",
      "Options: (a) listening to the radio (b) car crash (c) moving (d) get sleepy (e) going someplace\n",
      "\n",
      "A: The answer must be a situation that doesn't infer more than the question has given. Dan is driving a car and stopped at a light, which is a common situation when driving. Listening to the radio is a common activity when driving but cannot be infered from Dan's actions. Car crash cannot be infered from Dan's actions. Dan stopped at a light, so he is not moving. Getting sleepy cannot be infered from the question. Going someplace is always right when driving, which is what Dan is doing. So the answer is going someplace.\n",
      "\n",
      "Q: Where could you find a monkey in the wild?\n",
      "Options: (a) friend's house (b) research laboratory (c) french government (d) beach (e) madagascar\n",
      "\n",
      "A: The answer must be a place of lots of monkeys in the wild to be found. A friend's house might have pets but not wild monkeys. A research laboratory might have monkeys but not in the wild. French government is irrelevant to finding wild monkeys, and wild monkeys usually cannot be found near the beaches. Madgascar is a place known for wild lives, including monkeys. So the answer is madagascar.\n",
      "\n",
      "Q: who uses a contraceptive device?\n",
      "Options: (a) pharmacy (b) bedroom (c) person (d) men (e) drug store\n",
      "\n",
      "A: The answer must be refering by whom the contraceptive device is used. A pharmacy is a place where contraceptive devices are sold, but cannot be refered by who. Bedroom is also a place and cannot be refered by who, and drug store is again a place and cannot be refered to by who. Men aren't the only ones who use contraceptive devices, and person is the most general term that can be refered to by who use contraceptive devices. So the answer is person.\n",
      "\n",
      "Q: Samantha decided to join the game, but there wasn't space. She had to stay on the waitlist until someone else did what?\n",
      "Options: (a) opt out (b) separate (c) opt out (d) leave (e) split apart\n",
      "\n",
      "A: The answer must be a situation when the number of players currently playing the game reaches the limit of the game, and someone has to exit the game for people from the waitlist to enter. Opt out is correct but repeated. Separate and split are not relevant to the players playing the game. Leave is the most relevant in the situation. So the answer is leave.\n",
      "\n",
      "Q: The storm was surprising, where didn't it show up for meteorologists?\n",
      "Options: (a) train (b) tropical seas (c) weather report (d) america (e) caribbean\n",
      "\n",
      "A: The answer must be a place where because it didn't show up, meteorologists were surprised. A train is irrelevant to the storm and meteorologists. Tropical seas are places where storms are common, so meteorologists wouldn't be surprised. America and caribbean are general places where storms can show up or not, and meteorologists wouldn't be surprised. If the storm didn't show up in the weather report, meteorologists would be surprised when the storm came. So the answer is weather report.\n",
      "\n",
      "Q: what color are rose flowers typically?\n",
      "Options: (a) vase (b) pink (c) red (d) blue (e) fragrant\n",
      "\n",
      "A: The answer must be a color that rose flowers typically have. A vase is not a color. Pink isn't the most typical color roses have. Blue is not a typical color roses have. Fragrant is not for describing the color of rose. Red is the most typical color that rose flowers have. So the answer is red.\n",
      "\n",
      "Q: You will find many swamps in the in the southern U.S. along what geographic feature?\n",
      "Options: (a) river delta (b) michigan (c) louisiana (d) wetlands (e) alligators\n",
      "\n",
      "A: The answer must to a geographic feature that is common in the southern U.S. and frequently appears with swamps. Michigan and Louisiana are the states in the U.S. not geographic features. Wetlands refer to the ecosystem of swamps, but not a geographic feature. Alligators live in swamps but not geographic features. River delta is a geographic feature that commonly appears with swamps. So the answer is river delta.\n",
      "\n",
      "Q: There is a star at the center of what group of celestial bodies?\n",
      "Options: (a) hollywood (b) skyline (c) outer space (d) constellation (e) solar system\u001b[32m\n",
      "\n",
      "A: The answer must be a group of celestial bodies that has a star at its center. Hollywood and skyline are not groups of celestial bodies. Outer space is a general term for the vastness of space, but not a group of celestial bodies. Constellation is a group of stars, but not necessarily with a star at its center. Solar system is a group of celestial bodies that has a star at its center, the sun. So the answer is solar system.\n",
      "\n",
      "\u001b[0m "
     ]
    },
    {
     "name": "stderr",
     "output_type": "stream",
     "text": [
      "The attention mask and the pad token id were not set. As a consequence, you may observe unexpected behavior. Please pass your input's `attention_mask` to obtain reliable results.\n",
      "Setting `pad_token_id` to `eos_token_id`:128001 for open-end generation.\n"
     ]
    },
    {
     "name": "stdout",
     "output_type": "stream",
     "text": [
      "Q: John heard a language that he could not understand. He thought that the door was shut, but he eventually realized that there was no door, and that the light source that was blinding his eyes was very familiar.  He was on his back looking at what?\n",
      "Options: (a) sky (b) lamp (c) hallway (d) dard (e) closed room\n",
      "\n",
      "A: The answer must be a place where there are people speaking, no door, and also there is a light source that is intensively strong. lamp is a light source, but not intensively strong, hallway is a place with doors, and closed room also has some doors. Sky is the only place that has no door and a very strong light source, sun, during the day. Also, John can be on his back looking at the sky and hearing people speaking. So the answer is sky.\n",
      "\n",
      "Q: Q: The sun was out and the temperature changing rapidly, it was really beginning to what?\n",
      "Options: (a) drop to zero (b) increase (c) cool down (d) dropping quickly (e) heat up\n",
      "\n",
      "A: The answer must be a situation when the sun is out and temperature starts to shift because of the sun rise. The sun rise makes the temperature to go up, and temperature does not drop to zero, does not cool down, and does not drop quickly. Increase is ok but not as clear as heat up. So the answer is heat up.\n",
      "\n",
      "Q: When do girls eat ice cream on the couch?\n",
      "Options: (a) wash hands (b) were hungry (c) depressed (d) athlete's foot (e) cool down\n",
      "\n",
      "A: The answer must be a situation when eating ice cream and sitting on the couch help girls feel better. Eating ice cream and sitting on the couch are usually activies that make girls feel comfortable and pleasing. Washing hand is not related to eating ice cream. Being hungry is relevant, but ice cream is usually not the first thing to eat when hungry. Athlete's foot is not relevant to eating ice cream. When girls are cooled down, they won't do things that make them feel better. Feeling depressed is the most relevant among all and a strong reason for them to find ways to feel better by sitting on the couch and eating ice cream. So the answer is depressed.\n",
      "\n",
      "Q: Dan is driving a car, though he's stopped at a light right now. What else can we assume that he's doing?\n",
      "Options: (a) listening to the radio (b) car crash (c) moving (d) get sleepy (e) going someplace\n",
      "\n",
      "A: The answer must be a situation that doesn't infer more than the question has given. Dan is driving a car and stopped at a light, which is a common situation when driving. Listening to the radio is a common activity when driving but cannot be infered from Dan's actions. Car crash cannot be infered from Dan's actions. Dan stopped at a light, so he is not moving. Getting sleepy cannot be infered from the question. Going someplace is always right when driving, which is what Dan is doing. So the answer is going someplace.\n",
      "\n",
      "Q: Where could you find a monkey in the wild?\n",
      "Options: (a) friend's house (b) research laboratory (c) french government (d) beach (e) madagascar\n",
      "\n",
      "A: The answer must be a place of lots of monkeys in the wild to be found. A friend's house might have pets but not wild monkeys. A research laboratory might have monkeys but not in the wild. French government is irrelevant to finding wild monkeys, and wild monkeys usually cannot be found near the beaches. Madgascar is a place known for wild lives, including monkeys. So the answer is madagascar.\n",
      "\n",
      "Q: who uses a contraceptive device?\n",
      "Options: (a) pharmacy (b) bedroom (c) person (d) men (e) drug store\n",
      "\n",
      "A: The answer must be refering by whom the contraceptive device is used. A pharmacy is a place where contraceptive devices are sold, but cannot be refered by who. Bedroom is also a place and cannot be refered by who, and drug store is again a place and cannot be refered to by who. Men aren't the only ones who use contraceptive devices, and person is the most general term that can be refered to by who use contraceptive devices. So the answer is person.\n",
      "\n",
      "Q: Samantha decided to join the game, but there wasn't space. She had to stay on the waitlist until someone else did what?\n",
      "Options: (a) opt out (b) separate (c) opt out (d) leave (e) split apart\n",
      "\n",
      "A: The answer must be a situation when the number of players currently playing the game reaches the limit of the game, and someone has to exit the game for people from the waitlist to enter. Opt out is correct but repeated. Separate and split are not relevant to the players playing the game. Leave is the most relevant in the situation. So the answer is leave.\n",
      "\n",
      "Q: The storm was surprising, where didn't it show up for meteorologists?\n",
      "Options: (a) train (b) tropical seas (c) weather report (d) america (e) caribbean\n",
      "\n",
      "A: The answer must be a place where because it didn't show up, meteorologists were surprised. A train is irrelevant to the storm and meteorologists. Tropical seas are places where storms are common, so meteorologists wouldn't be surprised. America and caribbean are general places where storms can show up or not, and meteorologists wouldn't be surprised. If the storm didn't show up in the weather report, meteorologists would be surprised when the storm came. So the answer is weather report.\n",
      "\n",
      "Q: what color are rose flowers typically?\n",
      "Options: (a) vase (b) pink (c) red (d) blue (e) fragrant\n",
      "\n",
      "A: The answer must be a color that rose flowers typically have. A vase is not a color. Pink isn't the most typical color roses have. Blue is not a typical color roses have. Fragrant is not for describing the color of rose. Red is the most typical color that rose flowers have. So the answer is red.\n",
      "\n",
      "Q: You will find many swamps in the in the southern U.S. along what geographic feature?\n",
      "Options: (a) river delta (b) michigan (c) louisiana (d) wetlands (e) alligators\n",
      "\n",
      "A: The answer must to a geographic feature that is common in the southern U.S. and frequently appears with swamps. Michigan and Louisiana are the states in the U.S. not geographic features. Wetlands refer to the ecosystem of swamps, but not a geographic feature. Alligators live in swamps but not geographic features. River delta is a geographic feature that commonly appears with swamps. So the answer is river delta.\n",
      "\n",
      "Q: What were the kids doing as they looked up at the sky and clouds?\n",
      "Options: (a) ponder (b) become adults (c) wonder about (d) open door (e) distracting\u001b[32m\n",
      "\n",
      "A: The answer must be a situation where kids are looking up at the sky and clouds, which is a common activity for kids. Ponder is a verb that means to think carefully about something, but it's not a common activity for kids. Become adults is not a common activity for kids. Wonder about is a verb that means to be curious about something, which is a common activity for kids. Open door is not related to looking up at the sky and clouds. Distracting is not a common activity for kids. So the answer is wonder about.\n",
      "\n",
      "\u001b[0m "
     ]
    },
    {
     "name": "stderr",
     "output_type": "stream",
     "text": [
      "The attention mask and the pad token id were not set. As a consequence, you may observe unexpected behavior. Please pass your input's `attention_mask` to obtain reliable results.\n",
      "Setting `pad_token_id` to `eos_token_id`:128001 for open-end generation.\n"
     ]
    },
    {
     "name": "stdout",
     "output_type": "stream",
     "text": [
      "Q: John heard a language that he could not understand. He thought that the door was shut, but he eventually realized that there was no door, and that the light source that was blinding his eyes was very familiar.  He was on his back looking at what?\n",
      "Options: (a) sky (b) lamp (c) hallway (d) dard (e) closed room\n",
      "\n",
      "A: The answer must be a place where there are people speaking, no door, and also there is a light source that is intensively strong. lamp is a light source, but not intensively strong, hallway is a place with doors, and closed room also has some doors. Sky is the only place that has no door and a very strong light source, sun, during the day. Also, John can be on his back looking at the sky and hearing people speaking. So the answer is sky.\n",
      "\n",
      "Q: Q: The sun was out and the temperature changing rapidly, it was really beginning to what?\n",
      "Options: (a) drop to zero (b) increase (c) cool down (d) dropping quickly (e) heat up\n",
      "\n",
      "A: The answer must be a situation when the sun is out and temperature starts to shift because of the sun rise. The sun rise makes the temperature to go up, and temperature does not drop to zero, does not cool down, and does not drop quickly. Increase is ok but not as clear as heat up. So the answer is heat up.\n",
      "\n",
      "Q: When do girls eat ice cream on the couch?\n",
      "Options: (a) wash hands (b) were hungry (c) depressed (d) athlete's foot (e) cool down\n",
      "\n",
      "A: The answer must be a situation when eating ice cream and sitting on the couch help girls feel better. Eating ice cream and sitting on the couch are usually activies that make girls feel comfortable and pleasing. Washing hand is not related to eating ice cream. Being hungry is relevant, but ice cream is usually not the first thing to eat when hungry. Athlete's foot is not relevant to eating ice cream. When girls are cooled down, they won't do things that make them feel better. Feeling depressed is the most relevant among all and a strong reason for them to find ways to feel better by sitting on the couch and eating ice cream. So the answer is depressed.\n",
      "\n",
      "Q: Dan is driving a car, though he's stopped at a light right now. What else can we assume that he's doing?\n",
      "Options: (a) listening to the radio (b) car crash (c) moving (d) get sleepy (e) going someplace\n",
      "\n",
      "A: The answer must be a situation that doesn't infer more than the question has given. Dan is driving a car and stopped at a light, which is a common situation when driving. Listening to the radio is a common activity when driving but cannot be infered from Dan's actions. Car crash cannot be infered from Dan's actions. Dan stopped at a light, so he is not moving. Getting sleepy cannot be infered from the question. Going someplace is always right when driving, which is what Dan is doing. So the answer is going someplace.\n",
      "\n",
      "Q: Where could you find a monkey in the wild?\n",
      "Options: (a) friend's house (b) research laboratory (c) french government (d) beach (e) madagascar\n",
      "\n",
      "A: The answer must be a place of lots of monkeys in the wild to be found. A friend's house might have pets but not wild monkeys. A research laboratory might have monkeys but not in the wild. French government is irrelevant to finding wild monkeys, and wild monkeys usually cannot be found near the beaches. Madgascar is a place known for wild lives, including monkeys. So the answer is madagascar.\n",
      "\n",
      "Q: who uses a contraceptive device?\n",
      "Options: (a) pharmacy (b) bedroom (c) person (d) men (e) drug store\n",
      "\n",
      "A: The answer must be refering by whom the contraceptive device is used. A pharmacy is a place where contraceptive devices are sold, but cannot be refered by who. Bedroom is also a place and cannot be refered by who, and drug store is again a place and cannot be refered to by who. Men aren't the only ones who use contraceptive devices, and person is the most general term that can be refered to by who use contraceptive devices. So the answer is person.\n",
      "\n",
      "Q: Samantha decided to join the game, but there wasn't space. She had to stay on the waitlist until someone else did what?\n",
      "Options: (a) opt out (b) separate (c) opt out (d) leave (e) split apart\n",
      "\n",
      "A: The answer must be a situation when the number of players currently playing the game reaches the limit of the game, and someone has to exit the game for people from the waitlist to enter. Opt out is correct but repeated. Separate and split are not relevant to the players playing the game. Leave is the most relevant in the situation. So the answer is leave.\n",
      "\n",
      "Q: The storm was surprising, where didn't it show up for meteorologists?\n",
      "Options: (a) train (b) tropical seas (c) weather report (d) america (e) caribbean\n",
      "\n",
      "A: The answer must be a place where because it didn't show up, meteorologists were surprised. A train is irrelevant to the storm and meteorologists. Tropical seas are places where storms are common, so meteorologists wouldn't be surprised. America and caribbean are general places where storms can show up or not, and meteorologists wouldn't be surprised. If the storm didn't show up in the weather report, meteorologists would be surprised when the storm came. So the answer is weather report.\n",
      "\n",
      "Q: what color are rose flowers typically?\n",
      "Options: (a) vase (b) pink (c) red (d) blue (e) fragrant\n",
      "\n",
      "A: The answer must be a color that rose flowers typically have. A vase is not a color. Pink isn't the most typical color roses have. Blue is not a typical color roses have. Fragrant is not for describing the color of rose. Red is the most typical color that rose flowers have. So the answer is red.\n",
      "\n",
      "Q: You will find many swamps in the in the southern U.S. along what geographic feature?\n",
      "Options: (a) river delta (b) michigan (c) louisiana (d) wetlands (e) alligators\n",
      "\n",
      "A: The answer must to a geographic feature that is common in the southern U.S. and frequently appears with swamps. Michigan and Louisiana are the states in the U.S. not geographic features. Wetlands refer to the ecosystem of swamps, but not a geographic feature. Alligators live in swamps but not geographic features. River delta is a geographic feature that commonly appears with swamps. So the answer is river delta.\n",
      "\n",
      "Q: The person taught an advanced class only for who?\n",
      "Options: (a) own house (b) own self (c) wonderful memories (d) know truth (e) intelligent children\u001b[32m\n",
      "\n",
      "A: The answer must be a group of people that the teacher is teaching. Own house, own self, wonderful memories, and know truth are not groups of people. Intelligent children are the group of people that the teacher is teaching. So the answer is intelligent children.\n",
      "\n",
      "\u001b[0m "
     ]
    },
    {
     "name": "stderr",
     "output_type": "stream",
     "text": [
      "The attention mask and the pad token id were not set. As a consequence, you may observe unexpected behavior. Please pass your input's `attention_mask` to obtain reliable results.\n",
      "Setting `pad_token_id` to `eos_token_id`:128001 for open-end generation.\n"
     ]
    },
    {
     "name": "stdout",
     "output_type": "stream",
     "text": [
      "Q: John heard a language that he could not understand. He thought that the door was shut, but he eventually realized that there was no door, and that the light source that was blinding his eyes was very familiar.  He was on his back looking at what?\n",
      "Options: (a) sky (b) lamp (c) hallway (d) dard (e) closed room\n",
      "\n",
      "A: The answer must be a place where there are people speaking, no door, and also there is a light source that is intensively strong. lamp is a light source, but not intensively strong, hallway is a place with doors, and closed room also has some doors. Sky is the only place that has no door and a very strong light source, sun, during the day. Also, John can be on his back looking at the sky and hearing people speaking. So the answer is sky.\n",
      "\n",
      "Q: Q: The sun was out and the temperature changing rapidly, it was really beginning to what?\n",
      "Options: (a) drop to zero (b) increase (c) cool down (d) dropping quickly (e) heat up\n",
      "\n",
      "A: The answer must be a situation when the sun is out and temperature starts to shift because of the sun rise. The sun rise makes the temperature to go up, and temperature does not drop to zero, does not cool down, and does not drop quickly. Increase is ok but not as clear as heat up. So the answer is heat up.\n",
      "\n",
      "Q: When do girls eat ice cream on the couch?\n",
      "Options: (a) wash hands (b) were hungry (c) depressed (d) athlete's foot (e) cool down\n",
      "\n",
      "A: The answer must be a situation when eating ice cream and sitting on the couch help girls feel better. Eating ice cream and sitting on the couch are usually activies that make girls feel comfortable and pleasing. Washing hand is not related to eating ice cream. Being hungry is relevant, but ice cream is usually not the first thing to eat when hungry. Athlete's foot is not relevant to eating ice cream. When girls are cooled down, they won't do things that make them feel better. Feeling depressed is the most relevant among all and a strong reason for them to find ways to feel better by sitting on the couch and eating ice cream. So the answer is depressed.\n",
      "\n",
      "Q: Dan is driving a car, though he's stopped at a light right now. What else can we assume that he's doing?\n",
      "Options: (a) listening to the radio (b) car crash (c) moving (d) get sleepy (e) going someplace\n",
      "\n",
      "A: The answer must be a situation that doesn't infer more than the question has given. Dan is driving a car and stopped at a light, which is a common situation when driving. Listening to the radio is a common activity when driving but cannot be infered from Dan's actions. Car crash cannot be infered from Dan's actions. Dan stopped at a light, so he is not moving. Getting sleepy cannot be infered from the question. Going someplace is always right when driving, which is what Dan is doing. So the answer is going someplace.\n",
      "\n",
      "Q: Where could you find a monkey in the wild?\n",
      "Options: (a) friend's house (b) research laboratory (c) french government (d) beach (e) madagascar\n",
      "\n",
      "A: The answer must be a place of lots of monkeys in the wild to be found. A friend's house might have pets but not wild monkeys. A research laboratory might have monkeys but not in the wild. French government is irrelevant to finding wild monkeys, and wild monkeys usually cannot be found near the beaches. Madgascar is a place known for wild lives, including monkeys. So the answer is madagascar.\n",
      "\n",
      "Q: who uses a contraceptive device?\n",
      "Options: (a) pharmacy (b) bedroom (c) person (d) men (e) drug store\n",
      "\n",
      "A: The answer must be refering by whom the contraceptive device is used. A pharmacy is a place where contraceptive devices are sold, but cannot be refered by who. Bedroom is also a place and cannot be refered by who, and drug store is again a place and cannot be refered to by who. Men aren't the only ones who use contraceptive devices, and person is the most general term that can be refered to by who use contraceptive devices. So the answer is person.\n",
      "\n",
      "Q: Samantha decided to join the game, but there wasn't space. She had to stay on the waitlist until someone else did what?\n",
      "Options: (a) opt out (b) separate (c) opt out (d) leave (e) split apart\n",
      "\n",
      "A: The answer must be a situation when the number of players currently playing the game reaches the limit of the game, and someone has to exit the game for people from the waitlist to enter. Opt out is correct but repeated. Separate and split are not relevant to the players playing the game. Leave is the most relevant in the situation. So the answer is leave.\n",
      "\n",
      "Q: The storm was surprising, where didn't it show up for meteorologists?\n",
      "Options: (a) train (b) tropical seas (c) weather report (d) america (e) caribbean\n",
      "\n",
      "A: The answer must be a place where because it didn't show up, meteorologists were surprised. A train is irrelevant to the storm and meteorologists. Tropical seas are places where storms are common, so meteorologists wouldn't be surprised. America and caribbean are general places where storms can show up or not, and meteorologists wouldn't be surprised. If the storm didn't show up in the weather report, meteorologists would be surprised when the storm came. So the answer is weather report.\n",
      "\n",
      "Q: what color are rose flowers typically?\n",
      "Options: (a) vase (b) pink (c) red (d) blue (e) fragrant\n",
      "\n",
      "A: The answer must be a color that rose flowers typically have. A vase is not a color. Pink isn't the most typical color roses have. Blue is not a typical color roses have. Fragrant is not for describing the color of rose. Red is the most typical color that rose flowers have. So the answer is red.\n",
      "\n",
      "Q: You will find many swamps in the in the southern U.S. along what geographic feature?\n",
      "Options: (a) river delta (b) michigan (c) louisiana (d) wetlands (e) alligators\n",
      "\n",
      "A: The answer must to a geographic feature that is common in the southern U.S. and frequently appears with swamps. Michigan and Louisiana are the states in the U.S. not geographic features. Wetlands refer to the ecosystem of swamps, but not a geographic feature. Alligators live in swamps but not geographic features. River delta is a geographic feature that commonly appears with swamps. So the answer is river delta.\n",
      "\n",
      "Q: What is a likely consequence of ignorance of rules?\n",
      "Options: (a) find truth (b) hostility (c) bliss (d) accidents (e) damage\u001b[32m\n",
      "\n",
      "A: The answer must be a consequence that is likely to happen when someone doesn't know the rules. Find truth is not a consequence of ignorance of rules. Hostility is a possible consequence, but not the most likely. Bliss is not a consequence of ignorance of rules. Accidents are a possible consequence, but not the most likely. Damage is the most likely consequence of ignorance of rules. So the answer is damage.\n",
      "\n",
      "\u001b[0m "
     ]
    },
    {
     "ename": "KeyboardInterrupt",
     "evalue": "",
     "output_type": "error",
     "traceback": [
      "\u001b[0;31m---------------------------------------------------------------------------\u001b[0m",
      "\u001b[0;31mKeyboardInterrupt\u001b[0m                         Traceback (most recent call last)",
      "\u001b[1;32m/Users/yangzhou/Documents/newjobs/cottrial.ipynb Cell 19\u001b[0m line \u001b[0;36m9\n\u001b[1;32m      <a href='vscode-notebook-cell:/Users/yangzhou/Documents/newjobs/cottrial.ipynb#X24sZmlsZQ%3D%3D?line=6'>7</a>\u001b[0m inputids[\u001b[39m\"\u001b[39m\u001b[39minput_ids\u001b[39m\u001b[39m\"\u001b[39m] \u001b[39m=\u001b[39m inputids[\u001b[39m\"\u001b[39m\u001b[39minput_ids\u001b[39m\u001b[39m\"\u001b[39m]\u001b[39m.\u001b[39mto(model\u001b[39m.\u001b[39mdevice) \n\u001b[1;32m      <a href='vscode-notebook-cell:/Users/yangzhou/Documents/newjobs/cottrial.ipynb#X24sZmlsZQ%3D%3D?line=7'>8</a>\u001b[0m \u001b[39m# output = model.generate(inputids[\"input_ids\"], max_length = inputids[\"input_ids\"].shape[-1] + 100, do_sample = False) \u001b[39;00m\n\u001b[0;32m----> <a href='vscode-notebook-cell:/Users/yangzhou/Documents/newjobs/cottrial.ipynb#X24sZmlsZQ%3D%3D?line=8'>9</a>\u001b[0m output \u001b[39m=\u001b[39m model\u001b[39m.\u001b[39;49mgenerate(inputids[\u001b[39m\"\u001b[39;49m\u001b[39minput_ids\u001b[39;49m\u001b[39m\"\u001b[39;49m], max_length \u001b[39m=\u001b[39;49m inputids[\u001b[39m\"\u001b[39;49m\u001b[39minput_ids\u001b[39;49m\u001b[39m\"\u001b[39;49m]\u001b[39m.\u001b[39;49mshape[\u001b[39m-\u001b[39;49m\u001b[39m1\u001b[39;49m] \u001b[39m+\u001b[39;49m \u001b[39m200\u001b[39;49m, do_sample \u001b[39m=\u001b[39;49m \u001b[39mFalse\u001b[39;49;00m) \n\u001b[1;32m     <a href='vscode-notebook-cell:/Users/yangzhou/Documents/newjobs/cottrial.ipynb#X24sZmlsZQ%3D%3D?line=9'>10</a>\u001b[0m \u001b[39mprint\u001b[39m(inputtext, end \u001b[39m=\u001b[39m \u001b[39m\"\u001b[39m\u001b[39m\"\u001b[39m) \n\u001b[1;32m     <a href='vscode-notebook-cell:/Users/yangzhou/Documents/newjobs/cottrial.ipynb#X24sZmlsZQ%3D%3D?line=10'>11</a>\u001b[0m anw \u001b[39m=\u001b[39m tokenizer\u001b[39m.\u001b[39mdecode(output[\u001b[39m0\u001b[39m][inputids[\u001b[39m\"\u001b[39m\u001b[39minput_ids\u001b[39m\u001b[39m\"\u001b[39m]\u001b[39m.\u001b[39mshape[\u001b[39m-\u001b[39m\u001b[39m1\u001b[39m] :], skip_special_tokens \u001b[39m=\u001b[39m \u001b[39mFalse\u001b[39;00m) \n",
      "File \u001b[0;32m~/anaconda3/envs/griffin/lib/python3.12/site-packages/torch/utils/_contextlib.py:115\u001b[0m, in \u001b[0;36mcontext_decorator.<locals>.decorate_context\u001b[0;34m(*args, **kwargs)\u001b[0m\n\u001b[1;32m    112\u001b[0m \u001b[39m@functools\u001b[39m\u001b[39m.\u001b[39mwraps(func)\n\u001b[1;32m    113\u001b[0m \u001b[39mdef\u001b[39;00m \u001b[39mdecorate_context\u001b[39m(\u001b[39m*\u001b[39margs, \u001b[39m*\u001b[39m\u001b[39m*\u001b[39mkwargs):\n\u001b[1;32m    114\u001b[0m     \u001b[39mwith\u001b[39;00m ctx_factory():\n\u001b[0;32m--> 115\u001b[0m         \u001b[39mreturn\u001b[39;00m func(\u001b[39m*\u001b[39;49margs, \u001b[39m*\u001b[39;49m\u001b[39m*\u001b[39;49mkwargs)\n",
      "File \u001b[0;32m~/anaconda3/envs/griffin/lib/python3.12/site-packages/transformers/generation/utils.py:1544\u001b[0m, in \u001b[0;36mGenerationMixin.generate\u001b[0;34m(self, inputs, generation_config, logits_processor, stopping_criteria, prefix_allowed_tokens_fn, synced_gpus, assistant_model, streamer, negative_prompt_ids, negative_prompt_attention_mask, **kwargs)\u001b[0m\n\u001b[1;32m   1526\u001b[0m     \u001b[39mreturn\u001b[39;00m \u001b[39mself\u001b[39m\u001b[39m.\u001b[39massisted_decoding(\n\u001b[1;32m   1527\u001b[0m         input_ids,\n\u001b[1;32m   1528\u001b[0m         candidate_generator\u001b[39m=\u001b[39mcandidate_generator,\n\u001b[0;32m   (...)\u001b[0m\n\u001b[1;32m   1540\u001b[0m         \u001b[39m*\u001b[39m\u001b[39m*\u001b[39mmodel_kwargs,\n\u001b[1;32m   1541\u001b[0m     )\n\u001b[1;32m   1542\u001b[0m \u001b[39mif\u001b[39;00m generation_mode \u001b[39m==\u001b[39m GenerationMode\u001b[39m.\u001b[39mGREEDY_SEARCH:\n\u001b[1;32m   1543\u001b[0m     \u001b[39m# 11. run greedy search\u001b[39;00m\n\u001b[0;32m-> 1544\u001b[0m     \u001b[39mreturn\u001b[39;00m \u001b[39mself\u001b[39;49m\u001b[39m.\u001b[39;49mgreedy_search(\n\u001b[1;32m   1545\u001b[0m         input_ids,\n\u001b[1;32m   1546\u001b[0m         logits_processor\u001b[39m=\u001b[39;49mprepared_logits_processor,\n\u001b[1;32m   1547\u001b[0m         stopping_criteria\u001b[39m=\u001b[39;49mprepared_stopping_criteria,\n\u001b[1;32m   1548\u001b[0m         pad_token_id\u001b[39m=\u001b[39;49mgeneration_config\u001b[39m.\u001b[39;49mpad_token_id,\n\u001b[1;32m   1549\u001b[0m         eos_token_id\u001b[39m=\u001b[39;49mgeneration_config\u001b[39m.\u001b[39;49meos_token_id,\n\u001b[1;32m   1550\u001b[0m         output_scores\u001b[39m=\u001b[39;49mgeneration_config\u001b[39m.\u001b[39;49moutput_scores,\n\u001b[1;32m   1551\u001b[0m         output_logits\u001b[39m=\u001b[39;49mgeneration_config\u001b[39m.\u001b[39;49moutput_logits,\n\u001b[1;32m   1552\u001b[0m         return_dict_in_generate\u001b[39m=\u001b[39;49mgeneration_config\u001b[39m.\u001b[39;49mreturn_dict_in_generate,\n\u001b[1;32m   1553\u001b[0m         synced_gpus\u001b[39m=\u001b[39;49msynced_gpus,\n\u001b[1;32m   1554\u001b[0m         streamer\u001b[39m=\u001b[39;49mstreamer,\n\u001b[1;32m   1555\u001b[0m         \u001b[39m*\u001b[39;49m\u001b[39m*\u001b[39;49mmodel_kwargs,\n\u001b[1;32m   1556\u001b[0m     )\n\u001b[1;32m   1558\u001b[0m \u001b[39melif\u001b[39;00m generation_mode \u001b[39m==\u001b[39m GenerationMode\u001b[39m.\u001b[39mCONTRASTIVE_SEARCH:\n\u001b[1;32m   1559\u001b[0m     \u001b[39mif\u001b[39;00m \u001b[39mnot\u001b[39;00m model_kwargs[\u001b[39m\"\u001b[39m\u001b[39muse_cache\u001b[39m\u001b[39m\"\u001b[39m]:\n",
      "File \u001b[0;32m~/anaconda3/envs/griffin/lib/python3.12/site-packages/transformers/generation/utils.py:2404\u001b[0m, in \u001b[0;36mGenerationMixin.greedy_search\u001b[0;34m(self, input_ids, logits_processor, stopping_criteria, max_length, pad_token_id, eos_token_id, output_attentions, output_hidden_states, output_scores, output_logits, return_dict_in_generate, synced_gpus, streamer, **model_kwargs)\u001b[0m\n\u001b[1;32m   2401\u001b[0m model_inputs \u001b[39m=\u001b[39m \u001b[39mself\u001b[39m\u001b[39m.\u001b[39mprepare_inputs_for_generation(input_ids, \u001b[39m*\u001b[39m\u001b[39m*\u001b[39mmodel_kwargs)\n\u001b[1;32m   2403\u001b[0m \u001b[39m# forward pass to get next token\u001b[39;00m\n\u001b[0;32m-> 2404\u001b[0m outputs \u001b[39m=\u001b[39m \u001b[39mself\u001b[39;49m(\n\u001b[1;32m   2405\u001b[0m     \u001b[39m*\u001b[39;49m\u001b[39m*\u001b[39;49mmodel_inputs,\n\u001b[1;32m   2406\u001b[0m     return_dict\u001b[39m=\u001b[39;49m\u001b[39mTrue\u001b[39;49;00m,\n\u001b[1;32m   2407\u001b[0m     output_attentions\u001b[39m=\u001b[39;49moutput_attentions,\n\u001b[1;32m   2408\u001b[0m     output_hidden_states\u001b[39m=\u001b[39;49moutput_hidden_states,\n\u001b[1;32m   2409\u001b[0m )\n\u001b[1;32m   2411\u001b[0m \u001b[39mif\u001b[39;00m synced_gpus \u001b[39mand\u001b[39;00m this_peer_finished:\n\u001b[1;32m   2412\u001b[0m     \u001b[39mcontinue\u001b[39;00m  \u001b[39m# don't waste resources running the code we don't need\u001b[39;00m\n",
      "File \u001b[0;32m~/anaconda3/envs/griffin/lib/python3.12/site-packages/torch/nn/modules/module.py:1511\u001b[0m, in \u001b[0;36mModule._wrapped_call_impl\u001b[0;34m(self, *args, **kwargs)\u001b[0m\n\u001b[1;32m   1509\u001b[0m     \u001b[39mreturn\u001b[39;00m \u001b[39mself\u001b[39m\u001b[39m.\u001b[39m_compiled_call_impl(\u001b[39m*\u001b[39margs, \u001b[39m*\u001b[39m\u001b[39m*\u001b[39mkwargs)  \u001b[39m# type: ignore[misc]\u001b[39;00m\n\u001b[1;32m   1510\u001b[0m \u001b[39melse\u001b[39;00m:\n\u001b[0;32m-> 1511\u001b[0m     \u001b[39mreturn\u001b[39;00m \u001b[39mself\u001b[39;49m\u001b[39m.\u001b[39;49m_call_impl(\u001b[39m*\u001b[39;49margs, \u001b[39m*\u001b[39;49m\u001b[39m*\u001b[39;49mkwargs)\n",
      "File \u001b[0;32m~/anaconda3/envs/griffin/lib/python3.12/site-packages/torch/nn/modules/module.py:1520\u001b[0m, in \u001b[0;36mModule._call_impl\u001b[0;34m(self, *args, **kwargs)\u001b[0m\n\u001b[1;32m   1515\u001b[0m \u001b[39m# If we don't have any hooks, we want to skip the rest of the logic in\u001b[39;00m\n\u001b[1;32m   1516\u001b[0m \u001b[39m# this function, and just call forward.\u001b[39;00m\n\u001b[1;32m   1517\u001b[0m \u001b[39mif\u001b[39;00m \u001b[39mnot\u001b[39;00m (\u001b[39mself\u001b[39m\u001b[39m.\u001b[39m_backward_hooks \u001b[39mor\u001b[39;00m \u001b[39mself\u001b[39m\u001b[39m.\u001b[39m_backward_pre_hooks \u001b[39mor\u001b[39;00m \u001b[39mself\u001b[39m\u001b[39m.\u001b[39m_forward_hooks \u001b[39mor\u001b[39;00m \u001b[39mself\u001b[39m\u001b[39m.\u001b[39m_forward_pre_hooks\n\u001b[1;32m   1518\u001b[0m         \u001b[39mor\u001b[39;00m _global_backward_pre_hooks \u001b[39mor\u001b[39;00m _global_backward_hooks\n\u001b[1;32m   1519\u001b[0m         \u001b[39mor\u001b[39;00m _global_forward_hooks \u001b[39mor\u001b[39;00m _global_forward_pre_hooks):\n\u001b[0;32m-> 1520\u001b[0m     \u001b[39mreturn\u001b[39;00m forward_call(\u001b[39m*\u001b[39;49margs, \u001b[39m*\u001b[39;49m\u001b[39m*\u001b[39;49mkwargs)\n\u001b[1;32m   1522\u001b[0m \u001b[39mtry\u001b[39;00m:\n\u001b[1;32m   1523\u001b[0m     result \u001b[39m=\u001b[39m \u001b[39mNone\u001b[39;00m\n",
      "File \u001b[0;32m~/anaconda3/envs/griffin/lib/python3.12/site-packages/transformers/models/llama/modeling_llama.py:1168\u001b[0m, in \u001b[0;36mLlamaForCausalLM.forward\u001b[0;34m(self, input_ids, attention_mask, position_ids, past_key_values, inputs_embeds, labels, use_cache, output_attentions, output_hidden_states, return_dict, cache_position)\u001b[0m\n\u001b[1;32m   1165\u001b[0m return_dict \u001b[39m=\u001b[39m return_dict \u001b[39mif\u001b[39;00m return_dict \u001b[39mis\u001b[39;00m \u001b[39mnot\u001b[39;00m \u001b[39mNone\u001b[39;00m \u001b[39melse\u001b[39;00m \u001b[39mself\u001b[39m\u001b[39m.\u001b[39mconfig\u001b[39m.\u001b[39muse_return_dict\n\u001b[1;32m   1167\u001b[0m \u001b[39m# decoder outputs consists of (dec_features, layer_state, dec_hidden, dec_attn)\u001b[39;00m\n\u001b[0;32m-> 1168\u001b[0m outputs \u001b[39m=\u001b[39m \u001b[39mself\u001b[39;49m\u001b[39m.\u001b[39;49mmodel(\n\u001b[1;32m   1169\u001b[0m     input_ids\u001b[39m=\u001b[39;49minput_ids,\n\u001b[1;32m   1170\u001b[0m     attention_mask\u001b[39m=\u001b[39;49mattention_mask,\n\u001b[1;32m   1171\u001b[0m     position_ids\u001b[39m=\u001b[39;49mposition_ids,\n\u001b[1;32m   1172\u001b[0m     past_key_values\u001b[39m=\u001b[39;49mpast_key_values,\n\u001b[1;32m   1173\u001b[0m     inputs_embeds\u001b[39m=\u001b[39;49minputs_embeds,\n\u001b[1;32m   1174\u001b[0m     use_cache\u001b[39m=\u001b[39;49muse_cache,\n\u001b[1;32m   1175\u001b[0m     output_attentions\u001b[39m=\u001b[39;49moutput_attentions,\n\u001b[1;32m   1176\u001b[0m     output_hidden_states\u001b[39m=\u001b[39;49moutput_hidden_states,\n\u001b[1;32m   1177\u001b[0m     return_dict\u001b[39m=\u001b[39;49mreturn_dict,\n\u001b[1;32m   1178\u001b[0m     cache_position\u001b[39m=\u001b[39;49mcache_position,\n\u001b[1;32m   1179\u001b[0m )\n\u001b[1;32m   1181\u001b[0m hidden_states \u001b[39m=\u001b[39m outputs[\u001b[39m0\u001b[39m]\n\u001b[1;32m   1182\u001b[0m \u001b[39mif\u001b[39;00m \u001b[39mself\u001b[39m\u001b[39m.\u001b[39mconfig\u001b[39m.\u001b[39mpretraining_tp \u001b[39m>\u001b[39m \u001b[39m1\u001b[39m:\n",
      "File \u001b[0;32m~/anaconda3/envs/griffin/lib/python3.12/site-packages/torch/nn/modules/module.py:1511\u001b[0m, in \u001b[0;36mModule._wrapped_call_impl\u001b[0;34m(self, *args, **kwargs)\u001b[0m\n\u001b[1;32m   1509\u001b[0m     \u001b[39mreturn\u001b[39;00m \u001b[39mself\u001b[39m\u001b[39m.\u001b[39m_compiled_call_impl(\u001b[39m*\u001b[39margs, \u001b[39m*\u001b[39m\u001b[39m*\u001b[39mkwargs)  \u001b[39m# type: ignore[misc]\u001b[39;00m\n\u001b[1;32m   1510\u001b[0m \u001b[39melse\u001b[39;00m:\n\u001b[0;32m-> 1511\u001b[0m     \u001b[39mreturn\u001b[39;00m \u001b[39mself\u001b[39;49m\u001b[39m.\u001b[39;49m_call_impl(\u001b[39m*\u001b[39;49margs, \u001b[39m*\u001b[39;49m\u001b[39m*\u001b[39;49mkwargs)\n",
      "File \u001b[0;32m~/anaconda3/envs/griffin/lib/python3.12/site-packages/torch/nn/modules/module.py:1520\u001b[0m, in \u001b[0;36mModule._call_impl\u001b[0;34m(self, *args, **kwargs)\u001b[0m\n\u001b[1;32m   1515\u001b[0m \u001b[39m# If we don't have any hooks, we want to skip the rest of the logic in\u001b[39;00m\n\u001b[1;32m   1516\u001b[0m \u001b[39m# this function, and just call forward.\u001b[39;00m\n\u001b[1;32m   1517\u001b[0m \u001b[39mif\u001b[39;00m \u001b[39mnot\u001b[39;00m (\u001b[39mself\u001b[39m\u001b[39m.\u001b[39m_backward_hooks \u001b[39mor\u001b[39;00m \u001b[39mself\u001b[39m\u001b[39m.\u001b[39m_backward_pre_hooks \u001b[39mor\u001b[39;00m \u001b[39mself\u001b[39m\u001b[39m.\u001b[39m_forward_hooks \u001b[39mor\u001b[39;00m \u001b[39mself\u001b[39m\u001b[39m.\u001b[39m_forward_pre_hooks\n\u001b[1;32m   1518\u001b[0m         \u001b[39mor\u001b[39;00m _global_backward_pre_hooks \u001b[39mor\u001b[39;00m _global_backward_hooks\n\u001b[1;32m   1519\u001b[0m         \u001b[39mor\u001b[39;00m _global_forward_hooks \u001b[39mor\u001b[39;00m _global_forward_pre_hooks):\n\u001b[0;32m-> 1520\u001b[0m     \u001b[39mreturn\u001b[39;00m forward_call(\u001b[39m*\u001b[39;49margs, \u001b[39m*\u001b[39;49m\u001b[39m*\u001b[39;49mkwargs)\n\u001b[1;32m   1522\u001b[0m \u001b[39mtry\u001b[39;00m:\n\u001b[1;32m   1523\u001b[0m     result \u001b[39m=\u001b[39m \u001b[39mNone\u001b[39;00m\n",
      "File \u001b[0;32m~/anaconda3/envs/griffin/lib/python3.12/site-packages/transformers/models/llama/modeling_llama.py:1008\u001b[0m, in \u001b[0;36mLlamaModel.forward\u001b[0;34m(self, input_ids, attention_mask, position_ids, past_key_values, inputs_embeds, use_cache, output_attentions, output_hidden_states, return_dict, cache_position)\u001b[0m\n\u001b[1;32m    997\u001b[0m     layer_outputs \u001b[39m=\u001b[39m \u001b[39mself\u001b[39m\u001b[39m.\u001b[39m_gradient_checkpointing_func(\n\u001b[1;32m    998\u001b[0m         decoder_layer\u001b[39m.\u001b[39m\u001b[39m__call__\u001b[39m,\n\u001b[1;32m    999\u001b[0m         hidden_states,\n\u001b[0;32m   (...)\u001b[0m\n\u001b[1;32m   1005\u001b[0m         cache_position,\n\u001b[1;32m   1006\u001b[0m     )\n\u001b[1;32m   1007\u001b[0m \u001b[39melse\u001b[39;00m:\n\u001b[0;32m-> 1008\u001b[0m     layer_outputs \u001b[39m=\u001b[39m decoder_layer(\n\u001b[1;32m   1009\u001b[0m         hidden_states,\n\u001b[1;32m   1010\u001b[0m         attention_mask\u001b[39m=\u001b[39;49mcausal_mask,\n\u001b[1;32m   1011\u001b[0m         position_ids\u001b[39m=\u001b[39;49mposition_ids,\n\u001b[1;32m   1012\u001b[0m         past_key_value\u001b[39m=\u001b[39;49mpast_key_values,\n\u001b[1;32m   1013\u001b[0m         output_attentions\u001b[39m=\u001b[39;49moutput_attentions,\n\u001b[1;32m   1014\u001b[0m         use_cache\u001b[39m=\u001b[39;49muse_cache,\n\u001b[1;32m   1015\u001b[0m         cache_position\u001b[39m=\u001b[39;49mcache_position,\n\u001b[1;32m   1016\u001b[0m     )\n\u001b[1;32m   1018\u001b[0m hidden_states \u001b[39m=\u001b[39m layer_outputs[\u001b[39m0\u001b[39m]\n\u001b[1;32m   1020\u001b[0m \u001b[39mif\u001b[39;00m use_cache:\n",
      "File \u001b[0;32m~/anaconda3/envs/griffin/lib/python3.12/site-packages/torch/nn/modules/module.py:1511\u001b[0m, in \u001b[0;36mModule._wrapped_call_impl\u001b[0;34m(self, *args, **kwargs)\u001b[0m\n\u001b[1;32m   1509\u001b[0m     \u001b[39mreturn\u001b[39;00m \u001b[39mself\u001b[39m\u001b[39m.\u001b[39m_compiled_call_impl(\u001b[39m*\u001b[39margs, \u001b[39m*\u001b[39m\u001b[39m*\u001b[39mkwargs)  \u001b[39m# type: ignore[misc]\u001b[39;00m\n\u001b[1;32m   1510\u001b[0m \u001b[39melse\u001b[39;00m:\n\u001b[0;32m-> 1511\u001b[0m     \u001b[39mreturn\u001b[39;00m \u001b[39mself\u001b[39;49m\u001b[39m.\u001b[39;49m_call_impl(\u001b[39m*\u001b[39;49margs, \u001b[39m*\u001b[39;49m\u001b[39m*\u001b[39;49mkwargs)\n",
      "File \u001b[0;32m~/anaconda3/envs/griffin/lib/python3.12/site-packages/torch/nn/modules/module.py:1520\u001b[0m, in \u001b[0;36mModule._call_impl\u001b[0;34m(self, *args, **kwargs)\u001b[0m\n\u001b[1;32m   1515\u001b[0m \u001b[39m# If we don't have any hooks, we want to skip the rest of the logic in\u001b[39;00m\n\u001b[1;32m   1516\u001b[0m \u001b[39m# this function, and just call forward.\u001b[39;00m\n\u001b[1;32m   1517\u001b[0m \u001b[39mif\u001b[39;00m \u001b[39mnot\u001b[39;00m (\u001b[39mself\u001b[39m\u001b[39m.\u001b[39m_backward_hooks \u001b[39mor\u001b[39;00m \u001b[39mself\u001b[39m\u001b[39m.\u001b[39m_backward_pre_hooks \u001b[39mor\u001b[39;00m \u001b[39mself\u001b[39m\u001b[39m.\u001b[39m_forward_hooks \u001b[39mor\u001b[39;00m \u001b[39mself\u001b[39m\u001b[39m.\u001b[39m_forward_pre_hooks\n\u001b[1;32m   1518\u001b[0m         \u001b[39mor\u001b[39;00m _global_backward_pre_hooks \u001b[39mor\u001b[39;00m _global_backward_hooks\n\u001b[1;32m   1519\u001b[0m         \u001b[39mor\u001b[39;00m _global_forward_hooks \u001b[39mor\u001b[39;00m _global_forward_pre_hooks):\n\u001b[0;32m-> 1520\u001b[0m     \u001b[39mreturn\u001b[39;00m forward_call(\u001b[39m*\u001b[39;49margs, \u001b[39m*\u001b[39;49m\u001b[39m*\u001b[39;49mkwargs)\n\u001b[1;32m   1522\u001b[0m \u001b[39mtry\u001b[39;00m:\n\u001b[1;32m   1523\u001b[0m     result \u001b[39m=\u001b[39m \u001b[39mNone\u001b[39;00m\n",
      "File \u001b[0;32m~/anaconda3/envs/griffin/lib/python3.12/site-packages/transformers/models/llama/modeling_llama.py:734\u001b[0m, in \u001b[0;36mLlamaDecoderLayer.forward\u001b[0;34m(self, hidden_states, attention_mask, position_ids, past_key_value, output_attentions, use_cache, cache_position, **kwargs)\u001b[0m\n\u001b[1;32m    731\u001b[0m hidden_states \u001b[39m=\u001b[39m \u001b[39mself\u001b[39m\u001b[39m.\u001b[39minput_layernorm(hidden_states)\n\u001b[1;32m    733\u001b[0m \u001b[39m# Self Attention\u001b[39;00m\n\u001b[0;32m--> 734\u001b[0m hidden_states, self_attn_weights, present_key_value \u001b[39m=\u001b[39m \u001b[39mself\u001b[39;49m\u001b[39m.\u001b[39;49mself_attn(\n\u001b[1;32m    735\u001b[0m     hidden_states\u001b[39m=\u001b[39;49mhidden_states,\n\u001b[1;32m    736\u001b[0m     attention_mask\u001b[39m=\u001b[39;49mattention_mask,\n\u001b[1;32m    737\u001b[0m     position_ids\u001b[39m=\u001b[39;49mposition_ids,\n\u001b[1;32m    738\u001b[0m     past_key_value\u001b[39m=\u001b[39;49mpast_key_value,\n\u001b[1;32m    739\u001b[0m     output_attentions\u001b[39m=\u001b[39;49moutput_attentions,\n\u001b[1;32m    740\u001b[0m     use_cache\u001b[39m=\u001b[39;49muse_cache,\n\u001b[1;32m    741\u001b[0m     cache_position\u001b[39m=\u001b[39;49mcache_position,\n\u001b[1;32m    742\u001b[0m     \u001b[39m*\u001b[39;49m\u001b[39m*\u001b[39;49mkwargs,\n\u001b[1;32m    743\u001b[0m )\n\u001b[1;32m    744\u001b[0m hidden_states \u001b[39m=\u001b[39m residual \u001b[39m+\u001b[39m hidden_states\n\u001b[1;32m    746\u001b[0m \u001b[39m# Fully Connected\u001b[39;00m\n",
      "File \u001b[0;32m~/anaconda3/envs/griffin/lib/python3.12/site-packages/torch/nn/modules/module.py:1511\u001b[0m, in \u001b[0;36mModule._wrapped_call_impl\u001b[0;34m(self, *args, **kwargs)\u001b[0m\n\u001b[1;32m   1509\u001b[0m     \u001b[39mreturn\u001b[39;00m \u001b[39mself\u001b[39m\u001b[39m.\u001b[39m_compiled_call_impl(\u001b[39m*\u001b[39margs, \u001b[39m*\u001b[39m\u001b[39m*\u001b[39mkwargs)  \u001b[39m# type: ignore[misc]\u001b[39;00m\n\u001b[1;32m   1510\u001b[0m \u001b[39melse\u001b[39;00m:\n\u001b[0;32m-> 1511\u001b[0m     \u001b[39mreturn\u001b[39;00m \u001b[39mself\u001b[39;49m\u001b[39m.\u001b[39;49m_call_impl(\u001b[39m*\u001b[39;49margs, \u001b[39m*\u001b[39;49m\u001b[39m*\u001b[39;49mkwargs)\n",
      "File \u001b[0;32m~/anaconda3/envs/griffin/lib/python3.12/site-packages/torch/nn/modules/module.py:1520\u001b[0m, in \u001b[0;36mModule._call_impl\u001b[0;34m(self, *args, **kwargs)\u001b[0m\n\u001b[1;32m   1515\u001b[0m \u001b[39m# If we don't have any hooks, we want to skip the rest of the logic in\u001b[39;00m\n\u001b[1;32m   1516\u001b[0m \u001b[39m# this function, and just call forward.\u001b[39;00m\n\u001b[1;32m   1517\u001b[0m \u001b[39mif\u001b[39;00m \u001b[39mnot\u001b[39;00m (\u001b[39mself\u001b[39m\u001b[39m.\u001b[39m_backward_hooks \u001b[39mor\u001b[39;00m \u001b[39mself\u001b[39m\u001b[39m.\u001b[39m_backward_pre_hooks \u001b[39mor\u001b[39;00m \u001b[39mself\u001b[39m\u001b[39m.\u001b[39m_forward_hooks \u001b[39mor\u001b[39;00m \u001b[39mself\u001b[39m\u001b[39m.\u001b[39m_forward_pre_hooks\n\u001b[1;32m   1518\u001b[0m         \u001b[39mor\u001b[39;00m _global_backward_pre_hooks \u001b[39mor\u001b[39;00m _global_backward_hooks\n\u001b[1;32m   1519\u001b[0m         \u001b[39mor\u001b[39;00m _global_forward_hooks \u001b[39mor\u001b[39;00m _global_forward_pre_hooks):\n\u001b[0;32m-> 1520\u001b[0m     \u001b[39mreturn\u001b[39;00m forward_call(\u001b[39m*\u001b[39;49margs, \u001b[39m*\u001b[39;49m\u001b[39m*\u001b[39;49mkwargs)\n\u001b[1;32m   1522\u001b[0m \u001b[39mtry\u001b[39;00m:\n\u001b[1;32m   1523\u001b[0m     result \u001b[39m=\u001b[39m \u001b[39mNone\u001b[39;00m\n",
      "File \u001b[0;32m~/anaconda3/envs/griffin/lib/python3.12/site-packages/transformers/models/llama/modeling_llama.py:665\u001b[0m, in \u001b[0;36mLlamaSdpaAttention.forward\u001b[0;34m(self, hidden_states, attention_mask, position_ids, past_key_value, output_attentions, use_cache, cache_position)\u001b[0m\n\u001b[1;32m    662\u001b[0m     key_states \u001b[39m=\u001b[39m key_states\u001b[39m.\u001b[39mcontiguous()\n\u001b[1;32m    663\u001b[0m     value_states \u001b[39m=\u001b[39m value_states\u001b[39m.\u001b[39mcontiguous()\n\u001b[0;32m--> 665\u001b[0m attn_output \u001b[39m=\u001b[39m torch\u001b[39m.\u001b[39;49mnn\u001b[39m.\u001b[39;49mfunctional\u001b[39m.\u001b[39;49mscaled_dot_product_attention(\n\u001b[1;32m    666\u001b[0m     query_states,\n\u001b[1;32m    667\u001b[0m     key_states,\n\u001b[1;32m    668\u001b[0m     value_states,\n\u001b[1;32m    669\u001b[0m     attn_mask\u001b[39m=\u001b[39;49mcausal_mask,\n\u001b[1;32m    670\u001b[0m     dropout_p\u001b[39m=\u001b[39;49m\u001b[39mself\u001b[39;49m\u001b[39m.\u001b[39;49mattention_dropout \u001b[39mif\u001b[39;49;00m \u001b[39mself\u001b[39;49m\u001b[39m.\u001b[39;49mtraining \u001b[39melse\u001b[39;49;00m \u001b[39m0.0\u001b[39;49m,\n\u001b[1;32m    671\u001b[0m )\n\u001b[1;32m    673\u001b[0m attn_output \u001b[39m=\u001b[39m attn_output\u001b[39m.\u001b[39mtranspose(\u001b[39m1\u001b[39m, \u001b[39m2\u001b[39m)\u001b[39m.\u001b[39mcontiguous()\n\u001b[1;32m    674\u001b[0m attn_output \u001b[39m=\u001b[39m attn_output\u001b[39m.\u001b[39mview(bsz, q_len, \u001b[39mself\u001b[39m\u001b[39m.\u001b[39mhidden_size)\n",
      "\u001b[0;31mKeyboardInterrupt\u001b[0m: "
     ]
    }
   ],
   "source": [
    "testdataset = load_dataset(\"tau/commonsense_qa\", split = \"test\") \n",
    "for i, batch in enumerate(testdataset): \n",
    "    # inputtext = chainofthoughtprompt + \"Q: \" + dataset[i][\"inputs\"] + \"A: \" \n",
    "    options = batch[\"choices\"][\"text\"] \n",
    "    inputtext = chainofthoughtprompt + \"Q: {}\\nOptions: (a) {} (b) {} (c) {} (d) {} (e) {}\".format(batch[\"question\"], options[0], options[1], options[2], options[3], options[4]) \n",
    "    inputids = tokenizer(inputtext, add_special_tokens = True, return_tensors = \"pt\") \n",
    "    inputids[\"input_ids\"] = inputids[\"input_ids\"].to(model.device) \n",
    "    # output = model.generate(inputids[\"input_ids\"], max_length = inputids[\"input_ids\"].shape[-1] + 100, do_sample = False) \n",
    "    output = model.generate(inputids[\"input_ids\"], max_length = inputids[\"input_ids\"].shape[-1] + 200, do_sample = False) \n",
    "    print(inputtext, end = \"\") \n",
    "    anw = tokenizer.decode(output[0][inputids[\"input_ids\"].shape[-1] :], skip_special_tokens = False) \n",
    "    terminationidx = anw.find(\"Q: \") \n",
    "    # print(terminationidx) \n",
    "    print(colored(anw[: terminationidx], \"green\"), end = \" \") "
   ]
  },
  {
   "cell_type": "code",
   "execution_count": 13,
   "metadata": {},
   "outputs": [],
   "source": [
    "dataset = load_dataset(\"tasksource/bigbench\", \"strategyqa\", split = \"train\") \n",
    "\n",
    "# datasetnew = concatenate_datasets([dataset[\"train\"], dataset[\"validation\"]]) "
   ]
  },
  {
   "cell_type": "code",
   "execution_count": 16,
   "metadata": {},
   "outputs": [
    {
     "name": "stdout",
     "output_type": "stream",
     "text": [
      "Q: Yes or No: Q: Can lobster breathe in the desert?\n",
      "A:\n",
      "Correct Answer: ['No. Lobsters use gills to breathe. Gills require water to breathe. There is no water in the desert.']\n",
      "\n",
      "Q: Yes or No: Q: Could Edward Snowden join MENSA?\n",
      "A:\n",
      "Correct Answer: ['Yes. Snowden scored above 145 on two separate IQ tests. The minimum accepted IQ score for MENSA on the Stanford–Binet is 132, while for the Cattell it is 148.']\n",
      "\n",
      "Q: Yes or No: Q: Would Harvey Milk have approved of Obama?\n",
      "A:\n",
      "Correct Answer: ['Yes. Obama awarded Harvey Milk a posthumous Medal of Freedom.  Obama was known for supporting marriage equality and LGBT rights.']\n",
      "\n",
      "Q: Yes or No: Q: Could a snowy owl survive in the Sonoran?\n",
      "A:\n",
      "Correct Answer: ['No. The Snowy owl is a bird native to the Arctic regions of North America. Temperatures in the North American Arctic range from -36.4F to 50F. The Sonoran is one of the hottest deserts in the world. The Sonoran Desert can get as hot as 118F.']\n",
      "\n",
      "Q: Yes or No: Q: Are the Great Lakes part of an international border?\n",
      "A:\n",
      "Correct Answer: ['Yes. The lakes are bordered on the north by Canada. The lakes are bordered on the south by United States. Canada and United States are two different countries.']\n",
      "\n",
      "Q: Yes or No: Q: Can Justin Timberlake ride Shipwreck Falls at Six Flags?\n",
      "A:\n",
      "Correct Answer: ['Yes. Shipwreck Falls is a boat ride at Six Flags. The minimum height for Shipwreck Falls is 42\". Justin Timberlake is 73\" tall.']\n",
      "\n",
      "Q: Yes or No: Q: Was animal in You're a Good Sport, Charlie Brown, hypothetically a hound?\n",
      "A:\n",
      "Correct Answer: ['Yes. A hound is a type of hunting dog used to track prey. Hounds include Basenjis, Dachsunds, and Beagles, among others. Snoopy is the dog in the Charlie Brown movies and books. Snoopy is a Beagle.']\n",
      "\n",
      "Q: Yes or No: Q: Would an American feel lost due to language barriers at Disneyland Paris?\n",
      "A:\n",
      "Correct Answer: ['No. All Disneyland Paris cast members are required to know and speak English. Travelers from England go to Disneyland Paris often without issue.']\n",
      "\n",
      "Q: Yes or No: Q: Are selfies more dangerous than plague in modern times?\n",
      "A:\n",
      "Correct Answer: ['Yes. There are an average of 7 human plague cases reported each year according to the CDC. Selfies have caused people to fall off of cliffs while trying to get the perfect picture. From October 2011 and November 2017, there were 259 selfie deaths in 137 incidents.']\n",
      "\n",
      "Q: Yes or No: Q: Would a Bulgarian priest eat a four-course meal on Christmas Eve?\n",
      "A:\n",
      "Correct Answer: ['No. A four-course meal consists of a soup, an appetizer, an entrée, and dessert. The Bulgarian Christmas Eve meal has an odd number of dishes and an odd number of people sitting around the table.']\n",
      "\n"
     ]
    }
   ],
   "source": [
    "# randomly sample 10 examples \n",
    "np.random.seed(1) \n",
    "indices = np.random.choice(len(dataset), 10, replace = False) \n",
    "\n",
    "datasetsmall = dataset.select(indices) \n",
    "for i, batch in enumerate(datasetsmall): \n",
    "    # options = batch[\"choices\"] \n",
    "    # print(\"Q: {}\\nOptions: (a) {} (b) {} (c) {} (d) {} (e) {}\".format(batch[\"question\"], options[0], options[1], options[2], options[3], options[4])) \n",
    "    # print(\"Q: {}\\nOptions: (a) {} (b) {} (c) {} (d) {} (e) {}\".format(batch[\"question\"], batch[\"choices\"][\"text\"][0], batch[\"choices\"][\"text\"][1], batch[\"choices\"][\"text\"][2], batch[\"choices\"][\"text\"][3], batch[\"choices\"][\"text\"][4])) \n",
    "    print(\"Q: Yes or No: {}\".format(batch[\"inputs\"])) \n",
    "    # print(\"Correct Answer: {}\\n\".format(batch[\"answerKey\"] + \" \" + options[batch[\"choices\"][\"label\"].index(batch[\"answerKey\"])])) \n",
    "    print(\"Correct Answer: {}\\n\".format(batch[\"targets\"])) "
   ]
  },
  {
   "cell_type": "code",
   "execution_count": 19,
   "metadata": {},
   "outputs": [],
   "source": [
    "chainofthoughtprompt = \"Q: Yes or No: Q: Can lobster breathe in the desert?\\n\\\n",
    "A: Lobsters use gills to breathe. Gills require water to breathe. There is no water in the desert. So the answer is no.\\n\\n\\\n",
    "Q: Yes or No: Q: Could Edward Snowden join MENSA\\n\\\n",
    "A: Snowden scored above 145 on two separate IQ tests. The minimum accepted IQ score for MENSA on the Stanford-Binet is 132, while for the Cattell it is 148. He passes the minimum requirement for MENSA. So the answer is yes.\\n\\n\\\n",
    "Q: Yes or No: Q: Would Harvey Milk have approved of Obama?\\n\\\n",
    "A: Obama awarded Harvey Milk a posthumous Medal of Freedom.  Obama was known for supporting marriage equality and LGBT rights. Harvey Milk would have approved of Obama. So the answer is yes.\\n\\n\\\n",
    "Q: Yes or No: Q: Could a snowy owl survive in the Sonoran?\\n\\\n",
    "A: The Snowy owl is a bird native to the Arctic regions of North America. Temperatures in the North American Arctic range from -36.4F to 50F. The Sonoran is one of the hottest deserts in the world. The Sonoran Desert can get as hot as 118F. So the answer is no.\\n\\n\\\n",
    "Q: Yes or No: Q: Are the Great Lakes part of an international border?\\n\\\n",
    "A: The lakes are bordered on the north by Canada. The lakes are bordered on the south by United States. Canada and United States are two different countries. So the answer is yes.\\n\\n\\\n",
    "Q: Yes or No: Q: Can Justin Timberlake ride Shipwreck Falls at Six Flags?\\n\\\n",
    "A: Shipwreck Falls is a boat ride at Six Flags. The minimum height for Shipwreck Falls is 42 inches. Justin Timberlake is 73 inches tall. So the answer is yes.\\n\\n\\\n",
    "Q: Yes or No: Q: Was animal in You're a Good Sport, Charlie Brown, hypothetically a hound?\\n\\\n",
    "A: A hound is a type of hunting dog used to track prey. Hounds include Basenjis, Dachsunds, and Beagles, among others. Snoopy is the dog in the Charlie Brown movies and books. Snoopy is a Beagle. Beagles are a type of hound. So the answer is yes.\\n\\n\\\n",
    "Q: Yes or No: Q: Would an American feel lost due to language barriers at Disneyland Paris?\\n\\\n",
    "A: All Disneyland Paris cast members are required to know and speak English. Travelers from England go to Disneyland Paris often without issue. Americans speak English and can communicate with the cast members at Disneyland Paris. So the answer is no.\\n\\n\\\n",
    "Q: Yes or No: Q: Are selfies more dangerous than plague in modern times?\\n\\\n",
    "A: There are an average of 7 human plague cases reported each year according to the CDC. Selfies have caused people to fall off of cliffs while trying to get the perfect picture. From October 2011 and November 2017, there were 259 selfie deaths in 137 incidents. So the answer is yes.\\n\\n\\\n",
    "Q: Yes or No: Q: Would a Bulgarian priest eat a four-course meal on Christmas Eve?\\n\\\n",
    "A: A four-course meal consists of a soup, an appetizer, an entrée, and dessert. The Bulgarian Christmas Eve meal has an odd number of dishes and an odd number of people sitting around the table. Four is an even number, not odd. So the answer is no.\\n\\n\" "
   ]
  },
  {
   "cell_type": "code",
   "execution_count": 20,
   "metadata": {},
   "outputs": [
    {
     "name": "stderr",
     "output_type": "stream",
     "text": [
      "The attention mask and the pad token id were not set. As a consequence, you may observe unexpected behavior. Please pass your input's `attention_mask` to obtain reliable results.\n",
      "Setting `pad_token_id` to `eos_token_id`:128001 for open-end generation.\n",
      "The attention mask and the pad token id were not set. As a consequence, you may observe unexpected behavior. Please pass your input's `attention_mask` to obtain reliable results.\n",
      "Setting `pad_token_id` to `eos_token_id`:128001 for open-end generation.\n"
     ]
    },
    {
     "name": "stdout",
     "output_type": "stream",
     "text": [
      "Q: Yes or No: Q: Can lobster breathe in the desert?\n",
      "A: Lobsters use gills to breathe. Gills require water to breathe. There is no water in the desert. So the answer is no.\n",
      "\n",
      "Q: Yes or No: Q: Could Edward Snowden join MENSA\n",
      "A: Snowden scored above 145 on two separate IQ tests. The minimum accepted IQ score for MENSA on the Stanford-Binet is 132, while for the Cattell it is 148. He passes the minimum requirement for MENSA. So the answer is yes.\n",
      "\n",
      "Q: Yes or No: Q: Would Harvey Milk have approved of Obama?\n",
      "A: Obama awarded Harvey Milk a posthumous Medal of Freedom.  Obama was known for supporting marriage equality and LGBT rights. Harvey Milk would have approved of Obama. So the answer is yes.\n",
      "\n",
      "Q: Yes or No: Q: Could a snowy owl survive in the Sonoran?\n",
      "A: The Snowy owl is a bird native to the Arctic regions of North America. Temperatures in the North American Arctic range from -36.4F to 50F. The Sonoran is one of the hottest deserts in the world. The Sonoran Desert can get as hot as 118F. So the answer is no.\n",
      "\n",
      "Q: Yes or No: Q: Are the Great Lakes part of an international border?\n",
      "A: The lakes are bordered on the north by Canada. The lakes are bordered on the south by United States. Canada and United States are two different countries. So the answer is yes.\n",
      "\n",
      "Q: Yes or No: Q: Can Justin Timberlake ride Shipwreck Falls at Six Flags?\n",
      "A: Shipwreck Falls is a boat ride at Six Flags. The minimum height for Shipwreck Falls is 42 inches. Justin Timberlake is 73 inches tall. So the answer is yes.\n",
      "\n",
      "Q: Yes or No: Q: Was animal in You're a Good Sport, Charlie Brown, hypothetically a hound?\n",
      "A: A hound is a type of hunting dog used to track prey. Hounds include Basenjis, Dachsunds, and Beagles, among others. Snoopy is the dog in the Charlie Brown movies and books. Snoopy is a Beagle. Beagles are a type of hound. So the answer is yes.\n",
      "\n",
      "Q: Yes or No: Q: Would an American feel lost due to language barriers at Disneyland Paris?\n",
      "A: All Disneyland Paris cast members are required to know and speak English. Travelers from England go to Disneyland Paris often without issue. Americans speak English and can communicate with the cast members at Disneyland Paris. So the answer is no.\n",
      "\n",
      "Q: Yes or No: Q: Are selfies more dangerous than plague in modern times?\n",
      "A: There are an average of 7 human plague cases reported each year according to the CDC. Selfies have caused people to fall off of cliffs while trying to get the perfect picture. From October 2011 and November 2017, there were 259 selfie deaths in 137 incidents. So the answer is yes.\n",
      "\n",
      "Q: Yes or No: Q: Would a Bulgarian priest eat a four-course meal on Christmas Eve?\n",
      "A: A four-course meal consists of a soup, an appetizer, an entrée, and dessert. The Bulgarian Christmas Eve meal has an odd number of dishes and an odd number of people sitting around the table. Four is an even number, not odd. So the answer is no.\n",
      "\n",
      "Q: Yes or No: Q: Is a person with St. Vitus's Dance likely to win a ballet competition?\n",
      "A:\u001b[32m St. Vitus's Dance is a neurological disorder that causes involuntary movements of the hands, arms, and legs. It is not related to dance ability. A person with St. Vitus's Dance would not be likely to win a ballet competition. So the answer is no.\n",
      "\n",
      "\u001b[0m "
     ]
    },
    {
     "name": "stderr",
     "output_type": "stream",
     "text": [
      "The attention mask and the pad token id were not set. As a consequence, you may observe unexpected behavior. Please pass your input's `attention_mask` to obtain reliable results.\n",
      "Setting `pad_token_id` to `eos_token_id`:128001 for open-end generation.\n"
     ]
    },
    {
     "name": "stdout",
     "output_type": "stream",
     "text": [
      "Q: Yes or No: Q: Can lobster breathe in the desert?\n",
      "A: Lobsters use gills to breathe. Gills require water to breathe. There is no water in the desert. So the answer is no.\n",
      "\n",
      "Q: Yes or No: Q: Could Edward Snowden join MENSA\n",
      "A: Snowden scored above 145 on two separate IQ tests. The minimum accepted IQ score for MENSA on the Stanford-Binet is 132, while for the Cattell it is 148. He passes the minimum requirement for MENSA. So the answer is yes.\n",
      "\n",
      "Q: Yes or No: Q: Would Harvey Milk have approved of Obama?\n",
      "A: Obama awarded Harvey Milk a posthumous Medal of Freedom.  Obama was known for supporting marriage equality and LGBT rights. Harvey Milk would have approved of Obama. So the answer is yes.\n",
      "\n",
      "Q: Yes or No: Q: Could a snowy owl survive in the Sonoran?\n",
      "A: The Snowy owl is a bird native to the Arctic regions of North America. Temperatures in the North American Arctic range from -36.4F to 50F. The Sonoran is one of the hottest deserts in the world. The Sonoran Desert can get as hot as 118F. So the answer is no.\n",
      "\n",
      "Q: Yes or No: Q: Are the Great Lakes part of an international border?\n",
      "A: The lakes are bordered on the north by Canada. The lakes are bordered on the south by United States. Canada and United States are two different countries. So the answer is yes.\n",
      "\n",
      "Q: Yes or No: Q: Can Justin Timberlake ride Shipwreck Falls at Six Flags?\n",
      "A: Shipwreck Falls is a boat ride at Six Flags. The minimum height for Shipwreck Falls is 42 inches. Justin Timberlake is 73 inches tall. So the answer is yes.\n",
      "\n",
      "Q: Yes or No: Q: Was animal in You're a Good Sport, Charlie Brown, hypothetically a hound?\n",
      "A: A hound is a type of hunting dog used to track prey. Hounds include Basenjis, Dachsunds, and Beagles, among others. Snoopy is the dog in the Charlie Brown movies and books. Snoopy is a Beagle. Beagles are a type of hound. So the answer is yes.\n",
      "\n",
      "Q: Yes or No: Q: Would an American feel lost due to language barriers at Disneyland Paris?\n",
      "A: All Disneyland Paris cast members are required to know and speak English. Travelers from England go to Disneyland Paris often without issue. Americans speak English and can communicate with the cast members at Disneyland Paris. So the answer is no.\n",
      "\n",
      "Q: Yes or No: Q: Are selfies more dangerous than plague in modern times?\n",
      "A: There are an average of 7 human plague cases reported each year according to the CDC. Selfies have caused people to fall off of cliffs while trying to get the perfect picture. From October 2011 and November 2017, there were 259 selfie deaths in 137 incidents. So the answer is yes.\n",
      "\n",
      "Q: Yes or No: Q: Would a Bulgarian priest eat a four-course meal on Christmas Eve?\n",
      "A: A four-course meal consists of a soup, an appetizer, an entrée, and dessert. The Bulgarian Christmas Eve meal has an odd number of dishes and an odd number of people sitting around the table. Four is an even number, not odd. So the answer is no.\n",
      "\n",
      "Q: Yes or No: Q: Is it impossible for pigs to use pig latin?\n",
      "A:\u001b[32m Pig Latin is a language game that involves altering words in English by moving the first consonant (or consonant cluster) to the end of the word and adding the sound \"ay\". Pigs are animals and do not have the ability to speak or use language. So the answer is yes.\n",
      "\n",
      "\u001b[0m "
     ]
    },
    {
     "name": "stderr",
     "output_type": "stream",
     "text": [
      "The attention mask and the pad token id were not set. As a consequence, you may observe unexpected behavior. Please pass your input's `attention_mask` to obtain reliable results.\n",
      "Setting `pad_token_id` to `eos_token_id`:128001 for open-end generation.\n"
     ]
    },
    {
     "name": "stdout",
     "output_type": "stream",
     "text": [
      "Q: Yes or No: Q: Can lobster breathe in the desert?\n",
      "A: Lobsters use gills to breathe. Gills require water to breathe. There is no water in the desert. So the answer is no.\n",
      "\n",
      "Q: Yes or No: Q: Could Edward Snowden join MENSA\n",
      "A: Snowden scored above 145 on two separate IQ tests. The minimum accepted IQ score for MENSA on the Stanford-Binet is 132, while for the Cattell it is 148. He passes the minimum requirement for MENSA. So the answer is yes.\n",
      "\n",
      "Q: Yes or No: Q: Would Harvey Milk have approved of Obama?\n",
      "A: Obama awarded Harvey Milk a posthumous Medal of Freedom.  Obama was known for supporting marriage equality and LGBT rights. Harvey Milk would have approved of Obama. So the answer is yes.\n",
      "\n",
      "Q: Yes or No: Q: Could a snowy owl survive in the Sonoran?\n",
      "A: The Snowy owl is a bird native to the Arctic regions of North America. Temperatures in the North American Arctic range from -36.4F to 50F. The Sonoran is one of the hottest deserts in the world. The Sonoran Desert can get as hot as 118F. So the answer is no.\n",
      "\n",
      "Q: Yes or No: Q: Are the Great Lakes part of an international border?\n",
      "A: The lakes are bordered on the north by Canada. The lakes are bordered on the south by United States. Canada and United States are two different countries. So the answer is yes.\n",
      "\n",
      "Q: Yes or No: Q: Can Justin Timberlake ride Shipwreck Falls at Six Flags?\n",
      "A: Shipwreck Falls is a boat ride at Six Flags. The minimum height for Shipwreck Falls is 42 inches. Justin Timberlake is 73 inches tall. So the answer is yes.\n",
      "\n",
      "Q: Yes or No: Q: Was animal in You're a Good Sport, Charlie Brown, hypothetically a hound?\n",
      "A: A hound is a type of hunting dog used to track prey. Hounds include Basenjis, Dachsunds, and Beagles, among others. Snoopy is the dog in the Charlie Brown movies and books. Snoopy is a Beagle. Beagles are a type of hound. So the answer is yes.\n",
      "\n",
      "Q: Yes or No: Q: Would an American feel lost due to language barriers at Disneyland Paris?\n",
      "A: All Disneyland Paris cast members are required to know and speak English. Travelers from England go to Disneyland Paris often without issue. Americans speak English and can communicate with the cast members at Disneyland Paris. So the answer is no.\n",
      "\n",
      "Q: Yes or No: Q: Are selfies more dangerous than plague in modern times?\n",
      "A: There are an average of 7 human plague cases reported each year according to the CDC. Selfies have caused people to fall off of cliffs while trying to get the perfect picture. From October 2011 and November 2017, there were 259 selfie deaths in 137 incidents. So the answer is yes.\n",
      "\n",
      "Q: Yes or No: Q: Would a Bulgarian priest eat a four-course meal on Christmas Eve?\n",
      "A: A four-course meal consists of a soup, an appetizer, an entrée, and dessert. The Bulgarian Christmas Eve meal has an odd number of dishes and an odd number of people sitting around the table. Four is an even number, not odd. So the answer is no.\n",
      "\n",
      "Q: Yes or No: Q: Would Ringo Starr avoid the pot roast at a restaurant?\n",
      "A:\u001b[32m Ringo Starr is a vegetarian. Pot roast is a meat dish. Vegetarians do not eat meat. So the answer is yes.\n",
      "\n",
      "\u001b[0m "
     ]
    },
    {
     "name": "stderr",
     "output_type": "stream",
     "text": [
      "The attention mask and the pad token id were not set. As a consequence, you may observe unexpected behavior. Please pass your input's `attention_mask` to obtain reliable results.\n",
      "Setting `pad_token_id` to `eos_token_id`:128001 for open-end generation.\n"
     ]
    },
    {
     "name": "stdout",
     "output_type": "stream",
     "text": [
      "Q: Yes or No: Q: Can lobster breathe in the desert?\n",
      "A: Lobsters use gills to breathe. Gills require water to breathe. There is no water in the desert. So the answer is no.\n",
      "\n",
      "Q: Yes or No: Q: Could Edward Snowden join MENSA\n",
      "A: Snowden scored above 145 on two separate IQ tests. The minimum accepted IQ score for MENSA on the Stanford-Binet is 132, while for the Cattell it is 148. He passes the minimum requirement for MENSA. So the answer is yes.\n",
      "\n",
      "Q: Yes or No: Q: Would Harvey Milk have approved of Obama?\n",
      "A: Obama awarded Harvey Milk a posthumous Medal of Freedom.  Obama was known for supporting marriage equality and LGBT rights. Harvey Milk would have approved of Obama. So the answer is yes.\n",
      "\n",
      "Q: Yes or No: Q: Could a snowy owl survive in the Sonoran?\n",
      "A: The Snowy owl is a bird native to the Arctic regions of North America. Temperatures in the North American Arctic range from -36.4F to 50F. The Sonoran is one of the hottest deserts in the world. The Sonoran Desert can get as hot as 118F. So the answer is no.\n",
      "\n",
      "Q: Yes or No: Q: Are the Great Lakes part of an international border?\n",
      "A: The lakes are bordered on the north by Canada. The lakes are bordered on the south by United States. Canada and United States are two different countries. So the answer is yes.\n",
      "\n",
      "Q: Yes or No: Q: Can Justin Timberlake ride Shipwreck Falls at Six Flags?\n",
      "A: Shipwreck Falls is a boat ride at Six Flags. The minimum height for Shipwreck Falls is 42 inches. Justin Timberlake is 73 inches tall. So the answer is yes.\n",
      "\n",
      "Q: Yes or No: Q: Was animal in You're a Good Sport, Charlie Brown, hypothetically a hound?\n",
      "A: A hound is a type of hunting dog used to track prey. Hounds include Basenjis, Dachsunds, and Beagles, among others. Snoopy is the dog in the Charlie Brown movies and books. Snoopy is a Beagle. Beagles are a type of hound. So the answer is yes.\n",
      "\n",
      "Q: Yes or No: Q: Would an American feel lost due to language barriers at Disneyland Paris?\n",
      "A: All Disneyland Paris cast members are required to know and speak English. Travelers from England go to Disneyland Paris often without issue. Americans speak English and can communicate with the cast members at Disneyland Paris. So the answer is no.\n",
      "\n",
      "Q: Yes or No: Q: Are selfies more dangerous than plague in modern times?\n",
      "A: There are an average of 7 human plague cases reported each year according to the CDC. Selfies have caused people to fall off of cliffs while trying to get the perfect picture. From October 2011 and November 2017, there were 259 selfie deaths in 137 incidents. So the answer is yes.\n",
      "\n",
      "Q: Yes or No: Q: Would a Bulgarian priest eat a four-course meal on Christmas Eve?\n",
      "A: A four-course meal consists of a soup, an appetizer, an entrée, and dessert. The Bulgarian Christmas Eve meal has an odd number of dishes and an odd number of people sitting around the table. Four is an even number, not odd. So the answer is no.\n",
      "\n",
      "Q: Yes or No: Q: Is 1936 Summer Olympics venue too small for a Superbowl crowd?\n",
      "A:\u001b[32m The 1936 Summer Olympics were held in Berlin, Germany. The main stadium, the Olympiastadion, has a seating capacity of 110,000. The Super Bowl has a seating capacity of around 65,000. So the answer is no.\n",
      "\n",
      "\u001b[0m "
     ]
    },
    {
     "name": "stderr",
     "output_type": "stream",
     "text": [
      "The attention mask and the pad token id were not set. As a consequence, you may observe unexpected behavior. Please pass your input's `attention_mask` to obtain reliable results.\n",
      "Setting `pad_token_id` to `eos_token_id`:128001 for open-end generation.\n"
     ]
    },
    {
     "name": "stdout",
     "output_type": "stream",
     "text": [
      "Q: Yes or No: Q: Can lobster breathe in the desert?\n",
      "A: Lobsters use gills to breathe. Gills require water to breathe. There is no water in the desert. So the answer is no.\n",
      "\n",
      "Q: Yes or No: Q: Could Edward Snowden join MENSA\n",
      "A: Snowden scored above 145 on two separate IQ tests. The minimum accepted IQ score for MENSA on the Stanford-Binet is 132, while for the Cattell it is 148. He passes the minimum requirement for MENSA. So the answer is yes.\n",
      "\n",
      "Q: Yes or No: Q: Would Harvey Milk have approved of Obama?\n",
      "A: Obama awarded Harvey Milk a posthumous Medal of Freedom.  Obama was known for supporting marriage equality and LGBT rights. Harvey Milk would have approved of Obama. So the answer is yes.\n",
      "\n",
      "Q: Yes or No: Q: Could a snowy owl survive in the Sonoran?\n",
      "A: The Snowy owl is a bird native to the Arctic regions of North America. Temperatures in the North American Arctic range from -36.4F to 50F. The Sonoran is one of the hottest deserts in the world. The Sonoran Desert can get as hot as 118F. So the answer is no.\n",
      "\n",
      "Q: Yes or No: Q: Are the Great Lakes part of an international border?\n",
      "A: The lakes are bordered on the north by Canada. The lakes are bordered on the south by United States. Canada and United States are two different countries. So the answer is yes.\n",
      "\n",
      "Q: Yes or No: Q: Can Justin Timberlake ride Shipwreck Falls at Six Flags?\n",
      "A: Shipwreck Falls is a boat ride at Six Flags. The minimum height for Shipwreck Falls is 42 inches. Justin Timberlake is 73 inches tall. So the answer is yes.\n",
      "\n",
      "Q: Yes or No: Q: Was animal in You're a Good Sport, Charlie Brown, hypothetically a hound?\n",
      "A: A hound is a type of hunting dog used to track prey. Hounds include Basenjis, Dachsunds, and Beagles, among others. Snoopy is the dog in the Charlie Brown movies and books. Snoopy is a Beagle. Beagles are a type of hound. So the answer is yes.\n",
      "\n",
      "Q: Yes or No: Q: Would an American feel lost due to language barriers at Disneyland Paris?\n",
      "A: All Disneyland Paris cast members are required to know and speak English. Travelers from England go to Disneyland Paris often without issue. Americans speak English and can communicate with the cast members at Disneyland Paris. So the answer is no.\n",
      "\n",
      "Q: Yes or No: Q: Are selfies more dangerous than plague in modern times?\n",
      "A: There are an average of 7 human plague cases reported each year according to the CDC. Selfies have caused people to fall off of cliffs while trying to get the perfect picture. From October 2011 and November 2017, there were 259 selfie deaths in 137 incidents. So the answer is yes.\n",
      "\n",
      "Q: Yes or No: Q: Would a Bulgarian priest eat a four-course meal on Christmas Eve?\n",
      "A: A four-course meal consists of a soup, an appetizer, an entrée, and dessert. The Bulgarian Christmas Eve meal has an odd number of dishes and an odd number of people sitting around the table. Four is an even number, not odd. So the answer is no.\n",
      "\n",
      "Q: Yes or No: Q: Are brown rock fish found in the waters surrounding Saint Kitts and Nevis?\n",
      "A:\u001b[32m Saint Kitts and Nevis is a small island nation in the Caribbean. The waters surrounding Saint Kitts and Nevis are home to many species of fish, including the Brown Rockfish. So the answer is yes.\n",
      "\n",
      "\u001b[0m "
     ]
    },
    {
     "name": "stderr",
     "output_type": "stream",
     "text": [
      "The attention mask and the pad token id were not set. As a consequence, you may observe unexpected behavior. Please pass your input's `attention_mask` to obtain reliable results.\n",
      "Setting `pad_token_id` to `eos_token_id`:128001 for open-end generation.\n"
     ]
    },
    {
     "name": "stdout",
     "output_type": "stream",
     "text": [
      "Q: Yes or No: Q: Can lobster breathe in the desert?\n",
      "A: Lobsters use gills to breathe. Gills require water to breathe. There is no water in the desert. So the answer is no.\n",
      "\n",
      "Q: Yes or No: Q: Could Edward Snowden join MENSA\n",
      "A: Snowden scored above 145 on two separate IQ tests. The minimum accepted IQ score for MENSA on the Stanford-Binet is 132, while for the Cattell it is 148. He passes the minimum requirement for MENSA. So the answer is yes.\n",
      "\n",
      "Q: Yes or No: Q: Would Harvey Milk have approved of Obama?\n",
      "A: Obama awarded Harvey Milk a posthumous Medal of Freedom.  Obama was known for supporting marriage equality and LGBT rights. Harvey Milk would have approved of Obama. So the answer is yes.\n",
      "\n",
      "Q: Yes or No: Q: Could a snowy owl survive in the Sonoran?\n",
      "A: The Snowy owl is a bird native to the Arctic regions of North America. Temperatures in the North American Arctic range from -36.4F to 50F. The Sonoran is one of the hottest deserts in the world. The Sonoran Desert can get as hot as 118F. So the answer is no.\n",
      "\n",
      "Q: Yes or No: Q: Are the Great Lakes part of an international border?\n",
      "A: The lakes are bordered on the north by Canada. The lakes are bordered on the south by United States. Canada and United States are two different countries. So the answer is yes.\n",
      "\n",
      "Q: Yes or No: Q: Can Justin Timberlake ride Shipwreck Falls at Six Flags?\n",
      "A: Shipwreck Falls is a boat ride at Six Flags. The minimum height for Shipwreck Falls is 42 inches. Justin Timberlake is 73 inches tall. So the answer is yes.\n",
      "\n",
      "Q: Yes or No: Q: Was animal in You're a Good Sport, Charlie Brown, hypothetically a hound?\n",
      "A: A hound is a type of hunting dog used to track prey. Hounds include Basenjis, Dachsunds, and Beagles, among others. Snoopy is the dog in the Charlie Brown movies and books. Snoopy is a Beagle. Beagles are a type of hound. So the answer is yes.\n",
      "\n",
      "Q: Yes or No: Q: Would an American feel lost due to language barriers at Disneyland Paris?\n",
      "A: All Disneyland Paris cast members are required to know and speak English. Travelers from England go to Disneyland Paris often without issue. Americans speak English and can communicate with the cast members at Disneyland Paris. So the answer is no.\n",
      "\n",
      "Q: Yes or No: Q: Are selfies more dangerous than plague in modern times?\n",
      "A: There are an average of 7 human plague cases reported each year according to the CDC. Selfies have caused people to fall off of cliffs while trying to get the perfect picture. From October 2011 and November 2017, there were 259 selfie deaths in 137 incidents. So the answer is yes.\n",
      "\n",
      "Q: Yes or No: Q: Would a Bulgarian priest eat a four-course meal on Christmas Eve?\n",
      "A: A four-course meal consists of a soup, an appetizer, an entrée, and dessert. The Bulgarian Christmas Eve meal has an odd number of dishes and an odd number of people sitting around the table. Four is an even number, not odd. So the answer is no.\n",
      "\n",
      "Q: Yes or No: Q: Is growing seedless cucumber good for a gardener with entomophobia?\n",
      "A:\u001b[32m Seedless cucumbers are often grown using a process called parthenocarpy. This process involves using a hormone to prevent the plant from producing seeds. Entomophobia is a fear of insects. Growing seedless cucumbers does not involve insects. So the answer is yes.\n",
      "\n",
      "\u001b[0m "
     ]
    },
    {
     "name": "stderr",
     "output_type": "stream",
     "text": [
      "The attention mask and the pad token id were not set. As a consequence, you may observe unexpected behavior. Please pass your input's `attention_mask` to obtain reliable results.\n",
      "Setting `pad_token_id` to `eos_token_id`:128001 for open-end generation.\n"
     ]
    },
    {
     "name": "stdout",
     "output_type": "stream",
     "text": [
      "Q: Yes or No: Q: Can lobster breathe in the desert?\n",
      "A: Lobsters use gills to breathe. Gills require water to breathe. There is no water in the desert. So the answer is no.\n",
      "\n",
      "Q: Yes or No: Q: Could Edward Snowden join MENSA\n",
      "A: Snowden scored above 145 on two separate IQ tests. The minimum accepted IQ score for MENSA on the Stanford-Binet is 132, while for the Cattell it is 148. He passes the minimum requirement for MENSA. So the answer is yes.\n",
      "\n",
      "Q: Yes or No: Q: Would Harvey Milk have approved of Obama?\n",
      "A: Obama awarded Harvey Milk a posthumous Medal of Freedom.  Obama was known for supporting marriage equality and LGBT rights. Harvey Milk would have approved of Obama. So the answer is yes.\n",
      "\n",
      "Q: Yes or No: Q: Could a snowy owl survive in the Sonoran?\n",
      "A: The Snowy owl is a bird native to the Arctic regions of North America. Temperatures in the North American Arctic range from -36.4F to 50F. The Sonoran is one of the hottest deserts in the world. The Sonoran Desert can get as hot as 118F. So the answer is no.\n",
      "\n",
      "Q: Yes or No: Q: Are the Great Lakes part of an international border?\n",
      "A: The lakes are bordered on the north by Canada. The lakes are bordered on the south by United States. Canada and United States are two different countries. So the answer is yes.\n",
      "\n",
      "Q: Yes or No: Q: Can Justin Timberlake ride Shipwreck Falls at Six Flags?\n",
      "A: Shipwreck Falls is a boat ride at Six Flags. The minimum height for Shipwreck Falls is 42 inches. Justin Timberlake is 73 inches tall. So the answer is yes.\n",
      "\n",
      "Q: Yes or No: Q: Was animal in You're a Good Sport, Charlie Brown, hypothetically a hound?\n",
      "A: A hound is a type of hunting dog used to track prey. Hounds include Basenjis, Dachsunds, and Beagles, among others. Snoopy is the dog in the Charlie Brown movies and books. Snoopy is a Beagle. Beagles are a type of hound. So the answer is yes.\n",
      "\n",
      "Q: Yes or No: Q: Would an American feel lost due to language barriers at Disneyland Paris?\n",
      "A: All Disneyland Paris cast members are required to know and speak English. Travelers from England go to Disneyland Paris often without issue. Americans speak English and can communicate with the cast members at Disneyland Paris. So the answer is no.\n",
      "\n",
      "Q: Yes or No: Q: Are selfies more dangerous than plague in modern times?\n",
      "A: There are an average of 7 human plague cases reported each year according to the CDC. Selfies have caused people to fall off of cliffs while trying to get the perfect picture. From October 2011 and November 2017, there were 259 selfie deaths in 137 incidents. So the answer is yes.\n",
      "\n",
      "Q: Yes or No: Q: Would a Bulgarian priest eat a four-course meal on Christmas Eve?\n",
      "A: A four-course meal consists of a soup, an appetizer, an entrée, and dessert. The Bulgarian Christmas Eve meal has an odd number of dishes and an odd number of people sitting around the table. Four is an even number, not odd. So the answer is no.\n",
      "\n",
      "Q: Yes or No: Q: If Martin Luther did one theses a day would he run out in half a year?\n",
      "A:\u001b[32m Martin Luther wrote 95 theses. If he wrote one thesis a day, it would take him 95 days to finish. Half a year is 183 days. So the answer is no.\n",
      "\n",
      "\u001b[0m "
     ]
    },
    {
     "name": "stderr",
     "output_type": "stream",
     "text": [
      "The attention mask and the pad token id were not set. As a consequence, you may observe unexpected behavior. Please pass your input's `attention_mask` to obtain reliable results.\n",
      "Setting `pad_token_id` to `eos_token_id`:128001 for open-end generation.\n"
     ]
    },
    {
     "name": "stdout",
     "output_type": "stream",
     "text": [
      "Q: Yes or No: Q: Can lobster breathe in the desert?\n",
      "A: Lobsters use gills to breathe. Gills require water to breathe. There is no water in the desert. So the answer is no.\n",
      "\n",
      "Q: Yes or No: Q: Could Edward Snowden join MENSA\n",
      "A: Snowden scored above 145 on two separate IQ tests. The minimum accepted IQ score for MENSA on the Stanford-Binet is 132, while for the Cattell it is 148. He passes the minimum requirement for MENSA. So the answer is yes.\n",
      "\n",
      "Q: Yes or No: Q: Would Harvey Milk have approved of Obama?\n",
      "A: Obama awarded Harvey Milk a posthumous Medal of Freedom.  Obama was known for supporting marriage equality and LGBT rights. Harvey Milk would have approved of Obama. So the answer is yes.\n",
      "\n",
      "Q: Yes or No: Q: Could a snowy owl survive in the Sonoran?\n",
      "A: The Snowy owl is a bird native to the Arctic regions of North America. Temperatures in the North American Arctic range from -36.4F to 50F. The Sonoran is one of the hottest deserts in the world. The Sonoran Desert can get as hot as 118F. So the answer is no.\n",
      "\n",
      "Q: Yes or No: Q: Are the Great Lakes part of an international border?\n",
      "A: The lakes are bordered on the north by Canada. The lakes are bordered on the south by United States. Canada and United States are two different countries. So the answer is yes.\n",
      "\n",
      "Q: Yes or No: Q: Can Justin Timberlake ride Shipwreck Falls at Six Flags?\n",
      "A: Shipwreck Falls is a boat ride at Six Flags. The minimum height for Shipwreck Falls is 42 inches. Justin Timberlake is 73 inches tall. So the answer is yes.\n",
      "\n",
      "Q: Yes or No: Q: Was animal in You're a Good Sport, Charlie Brown, hypothetically a hound?\n",
      "A: A hound is a type of hunting dog used to track prey. Hounds include Basenjis, Dachsunds, and Beagles, among others. Snoopy is the dog in the Charlie Brown movies and books. Snoopy is a Beagle. Beagles are a type of hound. So the answer is yes.\n",
      "\n",
      "Q: Yes or No: Q: Would an American feel lost due to language barriers at Disneyland Paris?\n",
      "A: All Disneyland Paris cast members are required to know and speak English. Travelers from England go to Disneyland Paris often without issue. Americans speak English and can communicate with the cast members at Disneyland Paris. So the answer is no.\n",
      "\n",
      "Q: Yes or No: Q: Are selfies more dangerous than plague in modern times?\n",
      "A: There are an average of 7 human plague cases reported each year according to the CDC. Selfies have caused people to fall off of cliffs while trying to get the perfect picture. From October 2011 and November 2017, there were 259 selfie deaths in 137 incidents. So the answer is yes.\n",
      "\n",
      "Q: Yes or No: Q: Would a Bulgarian priest eat a four-course meal on Christmas Eve?\n",
      "A: A four-course meal consists of a soup, an appetizer, an entrée, and dessert. The Bulgarian Christmas Eve meal has an odd number of dishes and an odd number of people sitting around the table. Four is an even number, not odd. So the answer is no.\n",
      "\n",
      "Q: Yes or No: Q: Is waltz less injurious than slam dance?\n",
      "A:\u001b[32m Waltz is a slow and gentle dance. Slam dance is a high-energy dance that involves slamming and pushing. Slam dance is more likely to cause injuries than waltz. So the answer is yes.\n",
      "\n",
      "\u001b[0m "
     ]
    },
    {
     "name": "stderr",
     "output_type": "stream",
     "text": [
      "The attention mask and the pad token id were not set. As a consequence, you may observe unexpected behavior. Please pass your input's `attention_mask` to obtain reliable results.\n",
      "Setting `pad_token_id` to `eos_token_id`:128001 for open-end generation.\n"
     ]
    },
    {
     "name": "stdout",
     "output_type": "stream",
     "text": [
      "Q: Yes or No: Q: Can lobster breathe in the desert?\n",
      "A: Lobsters use gills to breathe. Gills require water to breathe. There is no water in the desert. So the answer is no.\n",
      "\n",
      "Q: Yes or No: Q: Could Edward Snowden join MENSA\n",
      "A: Snowden scored above 145 on two separate IQ tests. The minimum accepted IQ score for MENSA on the Stanford-Binet is 132, while for the Cattell it is 148. He passes the minimum requirement for MENSA. So the answer is yes.\n",
      "\n",
      "Q: Yes or No: Q: Would Harvey Milk have approved of Obama?\n",
      "A: Obama awarded Harvey Milk a posthumous Medal of Freedom.  Obama was known for supporting marriage equality and LGBT rights. Harvey Milk would have approved of Obama. So the answer is yes.\n",
      "\n",
      "Q: Yes or No: Q: Could a snowy owl survive in the Sonoran?\n",
      "A: The Snowy owl is a bird native to the Arctic regions of North America. Temperatures in the North American Arctic range from -36.4F to 50F. The Sonoran is one of the hottest deserts in the world. The Sonoran Desert can get as hot as 118F. So the answer is no.\n",
      "\n",
      "Q: Yes or No: Q: Are the Great Lakes part of an international border?\n",
      "A: The lakes are bordered on the north by Canada. The lakes are bordered on the south by United States. Canada and United States are two different countries. So the answer is yes.\n",
      "\n",
      "Q: Yes or No: Q: Can Justin Timberlake ride Shipwreck Falls at Six Flags?\n",
      "A: Shipwreck Falls is a boat ride at Six Flags. The minimum height for Shipwreck Falls is 42 inches. Justin Timberlake is 73 inches tall. So the answer is yes.\n",
      "\n",
      "Q: Yes or No: Q: Was animal in You're a Good Sport, Charlie Brown, hypothetically a hound?\n",
      "A: A hound is a type of hunting dog used to track prey. Hounds include Basenjis, Dachsunds, and Beagles, among others. Snoopy is the dog in the Charlie Brown movies and books. Snoopy is a Beagle. Beagles are a type of hound. So the answer is yes.\n",
      "\n",
      "Q: Yes or No: Q: Would an American feel lost due to language barriers at Disneyland Paris?\n",
      "A: All Disneyland Paris cast members are required to know and speak English. Travelers from England go to Disneyland Paris often without issue. Americans speak English and can communicate with the cast members at Disneyland Paris. So the answer is no.\n",
      "\n",
      "Q: Yes or No: Q: Are selfies more dangerous than plague in modern times?\n",
      "A: There are an average of 7 human plague cases reported each year according to the CDC. Selfies have caused people to fall off of cliffs while trying to get the perfect picture. From October 2011 and November 2017, there were 259 selfie deaths in 137 incidents. So the answer is yes.\n",
      "\n",
      "Q: Yes or No: Q: Would a Bulgarian priest eat a four-course meal on Christmas Eve?\n",
      "A: A four-course meal consists of a soup, an appetizer, an entrée, and dessert. The Bulgarian Christmas Eve meal has an odd number of dishes and an odd number of people sitting around the table. Four is an even number, not odd. So the answer is no.\n",
      "\n",
      "Q: Yes or No: Q: Would 1943-S penny be good for making silverware?\n",
      "A:\u001b[32m The 1943-S penny is made of copper. Copper is not a silver alloy. Silverware is typically made of silver or silver-plated. So the answer is no.\n",
      "\n",
      "\u001b[0m "
     ]
    },
    {
     "name": "stderr",
     "output_type": "stream",
     "text": [
      "The attention mask and the pad token id were not set. As a consequence, you may observe unexpected behavior. Please pass your input's `attention_mask` to obtain reliable results.\n",
      "Setting `pad_token_id` to `eos_token_id`:128001 for open-end generation.\n"
     ]
    },
    {
     "name": "stdout",
     "output_type": "stream",
     "text": [
      "Q: Yes or No: Q: Can lobster breathe in the desert?\n",
      "A: Lobsters use gills to breathe. Gills require water to breathe. There is no water in the desert. So the answer is no.\n",
      "\n",
      "Q: Yes or No: Q: Could Edward Snowden join MENSA\n",
      "A: Snowden scored above 145 on two separate IQ tests. The minimum accepted IQ score for MENSA on the Stanford-Binet is 132, while for the Cattell it is 148. He passes the minimum requirement for MENSA. So the answer is yes.\n",
      "\n",
      "Q: Yes or No: Q: Would Harvey Milk have approved of Obama?\n",
      "A: Obama awarded Harvey Milk a posthumous Medal of Freedom.  Obama was known for supporting marriage equality and LGBT rights. Harvey Milk would have approved of Obama. So the answer is yes.\n",
      "\n",
      "Q: Yes or No: Q: Could a snowy owl survive in the Sonoran?\n",
      "A: The Snowy owl is a bird native to the Arctic regions of North America. Temperatures in the North American Arctic range from -36.4F to 50F. The Sonoran is one of the hottest deserts in the world. The Sonoran Desert can get as hot as 118F. So the answer is no.\n",
      "\n",
      "Q: Yes or No: Q: Are the Great Lakes part of an international border?\n",
      "A: The lakes are bordered on the north by Canada. The lakes are bordered on the south by United States. Canada and United States are two different countries. So the answer is yes.\n",
      "\n",
      "Q: Yes or No: Q: Can Justin Timberlake ride Shipwreck Falls at Six Flags?\n",
      "A: Shipwreck Falls is a boat ride at Six Flags. The minimum height for Shipwreck Falls is 42 inches. Justin Timberlake is 73 inches tall. So the answer is yes.\n",
      "\n",
      "Q: Yes or No: Q: Was animal in You're a Good Sport, Charlie Brown, hypothetically a hound?\n",
      "A: A hound is a type of hunting dog used to track prey. Hounds include Basenjis, Dachsunds, and Beagles, among others. Snoopy is the dog in the Charlie Brown movies and books. Snoopy is a Beagle. Beagles are a type of hound. So the answer is yes.\n",
      "\n",
      "Q: Yes or No: Q: Would an American feel lost due to language barriers at Disneyland Paris?\n",
      "A: All Disneyland Paris cast members are required to know and speak English. Travelers from England go to Disneyland Paris often without issue. Americans speak English and can communicate with the cast members at Disneyland Paris. So the answer is no.\n",
      "\n",
      "Q: Yes or No: Q: Are selfies more dangerous than plague in modern times?\n",
      "A: There are an average of 7 human plague cases reported each year according to the CDC. Selfies have caused people to fall off of cliffs while trying to get the perfect picture. From October 2011 and November 2017, there were 259 selfie deaths in 137 incidents. So the answer is yes.\n",
      "\n",
      "Q: Yes or No: Q: Would a Bulgarian priest eat a four-course meal on Christmas Eve?\n",
      "A: A four-course meal consists of a soup, an appetizer, an entrée, and dessert. The Bulgarian Christmas Eve meal has an odd number of dishes and an odd number of people sitting around the table. Four is an even number, not odd. So the answer is no.\n",
      "\n",
      "Q: Yes or No: Q: Would it be difficult to snowboard on Venus?\n",
      "A:\u001b[32m Venus has a thick atmosphere that traps heat, making it the hottest planet in the solar system. The surface temperature of Venus is around 462°C (863°F). Snowboarding requires snow, which is not present on Venus. So the answer is yes.\n",
      "\n",
      "\u001b[0m "
     ]
    },
    {
     "ename": "KeyboardInterrupt",
     "evalue": "",
     "output_type": "error",
     "traceback": [
      "\u001b[0;31m---------------------------------------------------------------------------\u001b[0m",
      "\u001b[0;31mKeyboardInterrupt\u001b[0m                         Traceback (most recent call last)",
      "\u001b[1;32m/Users/yangzhou/Documents/newjobs/cottrial.ipynb Cell 23\u001b[0m line \u001b[0;36m8\n\u001b[1;32m      <a href='vscode-notebook-cell:/Users/yangzhou/Documents/newjobs/cottrial.ipynb#X32sZmlsZQ%3D%3D?line=5'>6</a>\u001b[0m inputids[\u001b[39m\"\u001b[39m\u001b[39minput_ids\u001b[39m\u001b[39m\"\u001b[39m] \u001b[39m=\u001b[39m inputids[\u001b[39m\"\u001b[39m\u001b[39minput_ids\u001b[39m\u001b[39m\"\u001b[39m]\u001b[39m.\u001b[39mto(model\u001b[39m.\u001b[39mdevice) \n\u001b[1;32m      <a href='vscode-notebook-cell:/Users/yangzhou/Documents/newjobs/cottrial.ipynb#X32sZmlsZQ%3D%3D?line=6'>7</a>\u001b[0m \u001b[39m# output = model.generate(inputids[\"input_ids\"], max_length = inputids[\"input_ids\"].shape[-1] + 100, do_sample = False) \u001b[39;00m\n\u001b[0;32m----> <a href='vscode-notebook-cell:/Users/yangzhou/Documents/newjobs/cottrial.ipynb#X32sZmlsZQ%3D%3D?line=7'>8</a>\u001b[0m output \u001b[39m=\u001b[39m model\u001b[39m.\u001b[39;49mgenerate(inputids[\u001b[39m\"\u001b[39;49m\u001b[39minput_ids\u001b[39;49m\u001b[39m\"\u001b[39;49m], max_length \u001b[39m=\u001b[39;49m inputids[\u001b[39m\"\u001b[39;49m\u001b[39minput_ids\u001b[39;49m\u001b[39m\"\u001b[39;49m]\u001b[39m.\u001b[39;49mshape[\u001b[39m-\u001b[39;49m\u001b[39m1\u001b[39;49m] \u001b[39m+\u001b[39;49m \u001b[39m200\u001b[39;49m, do_sample \u001b[39m=\u001b[39;49m \u001b[39mFalse\u001b[39;49;00m) \n\u001b[1;32m      <a href='vscode-notebook-cell:/Users/yangzhou/Documents/newjobs/cottrial.ipynb#X32sZmlsZQ%3D%3D?line=8'>9</a>\u001b[0m \u001b[39mprint\u001b[39m(inputtext, end \u001b[39m=\u001b[39m \u001b[39m\"\u001b[39m\u001b[39m\"\u001b[39m) \n\u001b[1;32m     <a href='vscode-notebook-cell:/Users/yangzhou/Documents/newjobs/cottrial.ipynb#X32sZmlsZQ%3D%3D?line=9'>10</a>\u001b[0m anw \u001b[39m=\u001b[39m tokenizer\u001b[39m.\u001b[39mdecode(output[\u001b[39m0\u001b[39m][inputids[\u001b[39m\"\u001b[39m\u001b[39minput_ids\u001b[39m\u001b[39m\"\u001b[39m]\u001b[39m.\u001b[39mshape[\u001b[39m-\u001b[39m\u001b[39m1\u001b[39m] :], skip_special_tokens \u001b[39m=\u001b[39m \u001b[39mFalse\u001b[39;00m) \n",
      "File \u001b[0;32m~/anaconda3/envs/griffin/lib/python3.12/site-packages/torch/utils/_contextlib.py:115\u001b[0m, in \u001b[0;36mcontext_decorator.<locals>.decorate_context\u001b[0;34m(*args, **kwargs)\u001b[0m\n\u001b[1;32m    112\u001b[0m \u001b[39m@functools\u001b[39m\u001b[39m.\u001b[39mwraps(func)\n\u001b[1;32m    113\u001b[0m \u001b[39mdef\u001b[39;00m \u001b[39mdecorate_context\u001b[39m(\u001b[39m*\u001b[39margs, \u001b[39m*\u001b[39m\u001b[39m*\u001b[39mkwargs):\n\u001b[1;32m    114\u001b[0m     \u001b[39mwith\u001b[39;00m ctx_factory():\n\u001b[0;32m--> 115\u001b[0m         \u001b[39mreturn\u001b[39;00m func(\u001b[39m*\u001b[39;49margs, \u001b[39m*\u001b[39;49m\u001b[39m*\u001b[39;49mkwargs)\n",
      "File \u001b[0;32m~/anaconda3/envs/griffin/lib/python3.12/site-packages/transformers/generation/utils.py:1544\u001b[0m, in \u001b[0;36mGenerationMixin.generate\u001b[0;34m(self, inputs, generation_config, logits_processor, stopping_criteria, prefix_allowed_tokens_fn, synced_gpus, assistant_model, streamer, negative_prompt_ids, negative_prompt_attention_mask, **kwargs)\u001b[0m\n\u001b[1;32m   1526\u001b[0m     \u001b[39mreturn\u001b[39;00m \u001b[39mself\u001b[39m\u001b[39m.\u001b[39massisted_decoding(\n\u001b[1;32m   1527\u001b[0m         input_ids,\n\u001b[1;32m   1528\u001b[0m         candidate_generator\u001b[39m=\u001b[39mcandidate_generator,\n\u001b[0;32m   (...)\u001b[0m\n\u001b[1;32m   1540\u001b[0m         \u001b[39m*\u001b[39m\u001b[39m*\u001b[39mmodel_kwargs,\n\u001b[1;32m   1541\u001b[0m     )\n\u001b[1;32m   1542\u001b[0m \u001b[39mif\u001b[39;00m generation_mode \u001b[39m==\u001b[39m GenerationMode\u001b[39m.\u001b[39mGREEDY_SEARCH:\n\u001b[1;32m   1543\u001b[0m     \u001b[39m# 11. run greedy search\u001b[39;00m\n\u001b[0;32m-> 1544\u001b[0m     \u001b[39mreturn\u001b[39;00m \u001b[39mself\u001b[39;49m\u001b[39m.\u001b[39;49mgreedy_search(\n\u001b[1;32m   1545\u001b[0m         input_ids,\n\u001b[1;32m   1546\u001b[0m         logits_processor\u001b[39m=\u001b[39;49mprepared_logits_processor,\n\u001b[1;32m   1547\u001b[0m         stopping_criteria\u001b[39m=\u001b[39;49mprepared_stopping_criteria,\n\u001b[1;32m   1548\u001b[0m         pad_token_id\u001b[39m=\u001b[39;49mgeneration_config\u001b[39m.\u001b[39;49mpad_token_id,\n\u001b[1;32m   1549\u001b[0m         eos_token_id\u001b[39m=\u001b[39;49mgeneration_config\u001b[39m.\u001b[39;49meos_token_id,\n\u001b[1;32m   1550\u001b[0m         output_scores\u001b[39m=\u001b[39;49mgeneration_config\u001b[39m.\u001b[39;49moutput_scores,\n\u001b[1;32m   1551\u001b[0m         output_logits\u001b[39m=\u001b[39;49mgeneration_config\u001b[39m.\u001b[39;49moutput_logits,\n\u001b[1;32m   1552\u001b[0m         return_dict_in_generate\u001b[39m=\u001b[39;49mgeneration_config\u001b[39m.\u001b[39;49mreturn_dict_in_generate,\n\u001b[1;32m   1553\u001b[0m         synced_gpus\u001b[39m=\u001b[39;49msynced_gpus,\n\u001b[1;32m   1554\u001b[0m         streamer\u001b[39m=\u001b[39;49mstreamer,\n\u001b[1;32m   1555\u001b[0m         \u001b[39m*\u001b[39;49m\u001b[39m*\u001b[39;49mmodel_kwargs,\n\u001b[1;32m   1556\u001b[0m     )\n\u001b[1;32m   1558\u001b[0m \u001b[39melif\u001b[39;00m generation_mode \u001b[39m==\u001b[39m GenerationMode\u001b[39m.\u001b[39mCONTRASTIVE_SEARCH:\n\u001b[1;32m   1559\u001b[0m     \u001b[39mif\u001b[39;00m \u001b[39mnot\u001b[39;00m model_kwargs[\u001b[39m\"\u001b[39m\u001b[39muse_cache\u001b[39m\u001b[39m\"\u001b[39m]:\n",
      "File \u001b[0;32m~/anaconda3/envs/griffin/lib/python3.12/site-packages/transformers/generation/utils.py:2404\u001b[0m, in \u001b[0;36mGenerationMixin.greedy_search\u001b[0;34m(self, input_ids, logits_processor, stopping_criteria, max_length, pad_token_id, eos_token_id, output_attentions, output_hidden_states, output_scores, output_logits, return_dict_in_generate, synced_gpus, streamer, **model_kwargs)\u001b[0m\n\u001b[1;32m   2401\u001b[0m model_inputs \u001b[39m=\u001b[39m \u001b[39mself\u001b[39m\u001b[39m.\u001b[39mprepare_inputs_for_generation(input_ids, \u001b[39m*\u001b[39m\u001b[39m*\u001b[39mmodel_kwargs)\n\u001b[1;32m   2403\u001b[0m \u001b[39m# forward pass to get next token\u001b[39;00m\n\u001b[0;32m-> 2404\u001b[0m outputs \u001b[39m=\u001b[39m \u001b[39mself\u001b[39;49m(\n\u001b[1;32m   2405\u001b[0m     \u001b[39m*\u001b[39;49m\u001b[39m*\u001b[39;49mmodel_inputs,\n\u001b[1;32m   2406\u001b[0m     return_dict\u001b[39m=\u001b[39;49m\u001b[39mTrue\u001b[39;49;00m,\n\u001b[1;32m   2407\u001b[0m     output_attentions\u001b[39m=\u001b[39;49moutput_attentions,\n\u001b[1;32m   2408\u001b[0m     output_hidden_states\u001b[39m=\u001b[39;49moutput_hidden_states,\n\u001b[1;32m   2409\u001b[0m )\n\u001b[1;32m   2411\u001b[0m \u001b[39mif\u001b[39;00m synced_gpus \u001b[39mand\u001b[39;00m this_peer_finished:\n\u001b[1;32m   2412\u001b[0m     \u001b[39mcontinue\u001b[39;00m  \u001b[39m# don't waste resources running the code we don't need\u001b[39;00m\n",
      "File \u001b[0;32m~/anaconda3/envs/griffin/lib/python3.12/site-packages/torch/nn/modules/module.py:1511\u001b[0m, in \u001b[0;36mModule._wrapped_call_impl\u001b[0;34m(self, *args, **kwargs)\u001b[0m\n\u001b[1;32m   1509\u001b[0m     \u001b[39mreturn\u001b[39;00m \u001b[39mself\u001b[39m\u001b[39m.\u001b[39m_compiled_call_impl(\u001b[39m*\u001b[39margs, \u001b[39m*\u001b[39m\u001b[39m*\u001b[39mkwargs)  \u001b[39m# type: ignore[misc]\u001b[39;00m\n\u001b[1;32m   1510\u001b[0m \u001b[39melse\u001b[39;00m:\n\u001b[0;32m-> 1511\u001b[0m     \u001b[39mreturn\u001b[39;00m \u001b[39mself\u001b[39;49m\u001b[39m.\u001b[39;49m_call_impl(\u001b[39m*\u001b[39;49margs, \u001b[39m*\u001b[39;49m\u001b[39m*\u001b[39;49mkwargs)\n",
      "File \u001b[0;32m~/anaconda3/envs/griffin/lib/python3.12/site-packages/torch/nn/modules/module.py:1520\u001b[0m, in \u001b[0;36mModule._call_impl\u001b[0;34m(self, *args, **kwargs)\u001b[0m\n\u001b[1;32m   1515\u001b[0m \u001b[39m# If we don't have any hooks, we want to skip the rest of the logic in\u001b[39;00m\n\u001b[1;32m   1516\u001b[0m \u001b[39m# this function, and just call forward.\u001b[39;00m\n\u001b[1;32m   1517\u001b[0m \u001b[39mif\u001b[39;00m \u001b[39mnot\u001b[39;00m (\u001b[39mself\u001b[39m\u001b[39m.\u001b[39m_backward_hooks \u001b[39mor\u001b[39;00m \u001b[39mself\u001b[39m\u001b[39m.\u001b[39m_backward_pre_hooks \u001b[39mor\u001b[39;00m \u001b[39mself\u001b[39m\u001b[39m.\u001b[39m_forward_hooks \u001b[39mor\u001b[39;00m \u001b[39mself\u001b[39m\u001b[39m.\u001b[39m_forward_pre_hooks\n\u001b[1;32m   1518\u001b[0m         \u001b[39mor\u001b[39;00m _global_backward_pre_hooks \u001b[39mor\u001b[39;00m _global_backward_hooks\n\u001b[1;32m   1519\u001b[0m         \u001b[39mor\u001b[39;00m _global_forward_hooks \u001b[39mor\u001b[39;00m _global_forward_pre_hooks):\n\u001b[0;32m-> 1520\u001b[0m     \u001b[39mreturn\u001b[39;00m forward_call(\u001b[39m*\u001b[39;49margs, \u001b[39m*\u001b[39;49m\u001b[39m*\u001b[39;49mkwargs)\n\u001b[1;32m   1522\u001b[0m \u001b[39mtry\u001b[39;00m:\n\u001b[1;32m   1523\u001b[0m     result \u001b[39m=\u001b[39m \u001b[39mNone\u001b[39;00m\n",
      "File \u001b[0;32m~/anaconda3/envs/griffin/lib/python3.12/site-packages/transformers/models/llama/modeling_llama.py:1168\u001b[0m, in \u001b[0;36mLlamaForCausalLM.forward\u001b[0;34m(self, input_ids, attention_mask, position_ids, past_key_values, inputs_embeds, labels, use_cache, output_attentions, output_hidden_states, return_dict, cache_position)\u001b[0m\n\u001b[1;32m   1165\u001b[0m return_dict \u001b[39m=\u001b[39m return_dict \u001b[39mif\u001b[39;00m return_dict \u001b[39mis\u001b[39;00m \u001b[39mnot\u001b[39;00m \u001b[39mNone\u001b[39;00m \u001b[39melse\u001b[39;00m \u001b[39mself\u001b[39m\u001b[39m.\u001b[39mconfig\u001b[39m.\u001b[39muse_return_dict\n\u001b[1;32m   1167\u001b[0m \u001b[39m# decoder outputs consists of (dec_features, layer_state, dec_hidden, dec_attn)\u001b[39;00m\n\u001b[0;32m-> 1168\u001b[0m outputs \u001b[39m=\u001b[39m \u001b[39mself\u001b[39;49m\u001b[39m.\u001b[39;49mmodel(\n\u001b[1;32m   1169\u001b[0m     input_ids\u001b[39m=\u001b[39;49minput_ids,\n\u001b[1;32m   1170\u001b[0m     attention_mask\u001b[39m=\u001b[39;49mattention_mask,\n\u001b[1;32m   1171\u001b[0m     position_ids\u001b[39m=\u001b[39;49mposition_ids,\n\u001b[1;32m   1172\u001b[0m     past_key_values\u001b[39m=\u001b[39;49mpast_key_values,\n\u001b[1;32m   1173\u001b[0m     inputs_embeds\u001b[39m=\u001b[39;49minputs_embeds,\n\u001b[1;32m   1174\u001b[0m     use_cache\u001b[39m=\u001b[39;49muse_cache,\n\u001b[1;32m   1175\u001b[0m     output_attentions\u001b[39m=\u001b[39;49moutput_attentions,\n\u001b[1;32m   1176\u001b[0m     output_hidden_states\u001b[39m=\u001b[39;49moutput_hidden_states,\n\u001b[1;32m   1177\u001b[0m     return_dict\u001b[39m=\u001b[39;49mreturn_dict,\n\u001b[1;32m   1178\u001b[0m     cache_position\u001b[39m=\u001b[39;49mcache_position,\n\u001b[1;32m   1179\u001b[0m )\n\u001b[1;32m   1181\u001b[0m hidden_states \u001b[39m=\u001b[39m outputs[\u001b[39m0\u001b[39m]\n\u001b[1;32m   1182\u001b[0m \u001b[39mif\u001b[39;00m \u001b[39mself\u001b[39m\u001b[39m.\u001b[39mconfig\u001b[39m.\u001b[39mpretraining_tp \u001b[39m>\u001b[39m \u001b[39m1\u001b[39m:\n",
      "File \u001b[0;32m~/anaconda3/envs/griffin/lib/python3.12/site-packages/torch/nn/modules/module.py:1511\u001b[0m, in \u001b[0;36mModule._wrapped_call_impl\u001b[0;34m(self, *args, **kwargs)\u001b[0m\n\u001b[1;32m   1509\u001b[0m     \u001b[39mreturn\u001b[39;00m \u001b[39mself\u001b[39m\u001b[39m.\u001b[39m_compiled_call_impl(\u001b[39m*\u001b[39margs, \u001b[39m*\u001b[39m\u001b[39m*\u001b[39mkwargs)  \u001b[39m# type: ignore[misc]\u001b[39;00m\n\u001b[1;32m   1510\u001b[0m \u001b[39melse\u001b[39;00m:\n\u001b[0;32m-> 1511\u001b[0m     \u001b[39mreturn\u001b[39;00m \u001b[39mself\u001b[39;49m\u001b[39m.\u001b[39;49m_call_impl(\u001b[39m*\u001b[39;49margs, \u001b[39m*\u001b[39;49m\u001b[39m*\u001b[39;49mkwargs)\n",
      "File \u001b[0;32m~/anaconda3/envs/griffin/lib/python3.12/site-packages/torch/nn/modules/module.py:1520\u001b[0m, in \u001b[0;36mModule._call_impl\u001b[0;34m(self, *args, **kwargs)\u001b[0m\n\u001b[1;32m   1515\u001b[0m \u001b[39m# If we don't have any hooks, we want to skip the rest of the logic in\u001b[39;00m\n\u001b[1;32m   1516\u001b[0m \u001b[39m# this function, and just call forward.\u001b[39;00m\n\u001b[1;32m   1517\u001b[0m \u001b[39mif\u001b[39;00m \u001b[39mnot\u001b[39;00m (\u001b[39mself\u001b[39m\u001b[39m.\u001b[39m_backward_hooks \u001b[39mor\u001b[39;00m \u001b[39mself\u001b[39m\u001b[39m.\u001b[39m_backward_pre_hooks \u001b[39mor\u001b[39;00m \u001b[39mself\u001b[39m\u001b[39m.\u001b[39m_forward_hooks \u001b[39mor\u001b[39;00m \u001b[39mself\u001b[39m\u001b[39m.\u001b[39m_forward_pre_hooks\n\u001b[1;32m   1518\u001b[0m         \u001b[39mor\u001b[39;00m _global_backward_pre_hooks \u001b[39mor\u001b[39;00m _global_backward_hooks\n\u001b[1;32m   1519\u001b[0m         \u001b[39mor\u001b[39;00m _global_forward_hooks \u001b[39mor\u001b[39;00m _global_forward_pre_hooks):\n\u001b[0;32m-> 1520\u001b[0m     \u001b[39mreturn\u001b[39;00m forward_call(\u001b[39m*\u001b[39;49margs, \u001b[39m*\u001b[39;49m\u001b[39m*\u001b[39;49mkwargs)\n\u001b[1;32m   1522\u001b[0m \u001b[39mtry\u001b[39;00m:\n\u001b[1;32m   1523\u001b[0m     result \u001b[39m=\u001b[39m \u001b[39mNone\u001b[39;00m\n",
      "File \u001b[0;32m~/anaconda3/envs/griffin/lib/python3.12/site-packages/transformers/models/llama/modeling_llama.py:1008\u001b[0m, in \u001b[0;36mLlamaModel.forward\u001b[0;34m(self, input_ids, attention_mask, position_ids, past_key_values, inputs_embeds, use_cache, output_attentions, output_hidden_states, return_dict, cache_position)\u001b[0m\n\u001b[1;32m    997\u001b[0m     layer_outputs \u001b[39m=\u001b[39m \u001b[39mself\u001b[39m\u001b[39m.\u001b[39m_gradient_checkpointing_func(\n\u001b[1;32m    998\u001b[0m         decoder_layer\u001b[39m.\u001b[39m\u001b[39m__call__\u001b[39m,\n\u001b[1;32m    999\u001b[0m         hidden_states,\n\u001b[0;32m   (...)\u001b[0m\n\u001b[1;32m   1005\u001b[0m         cache_position,\n\u001b[1;32m   1006\u001b[0m     )\n\u001b[1;32m   1007\u001b[0m \u001b[39melse\u001b[39;00m:\n\u001b[0;32m-> 1008\u001b[0m     layer_outputs \u001b[39m=\u001b[39m decoder_layer(\n\u001b[1;32m   1009\u001b[0m         hidden_states,\n\u001b[1;32m   1010\u001b[0m         attention_mask\u001b[39m=\u001b[39;49mcausal_mask,\n\u001b[1;32m   1011\u001b[0m         position_ids\u001b[39m=\u001b[39;49mposition_ids,\n\u001b[1;32m   1012\u001b[0m         past_key_value\u001b[39m=\u001b[39;49mpast_key_values,\n\u001b[1;32m   1013\u001b[0m         output_attentions\u001b[39m=\u001b[39;49moutput_attentions,\n\u001b[1;32m   1014\u001b[0m         use_cache\u001b[39m=\u001b[39;49muse_cache,\n\u001b[1;32m   1015\u001b[0m         cache_position\u001b[39m=\u001b[39;49mcache_position,\n\u001b[1;32m   1016\u001b[0m     )\n\u001b[1;32m   1018\u001b[0m hidden_states \u001b[39m=\u001b[39m layer_outputs[\u001b[39m0\u001b[39m]\n\u001b[1;32m   1020\u001b[0m \u001b[39mif\u001b[39;00m use_cache:\n",
      "File \u001b[0;32m~/anaconda3/envs/griffin/lib/python3.12/site-packages/torch/nn/modules/module.py:1511\u001b[0m, in \u001b[0;36mModule._wrapped_call_impl\u001b[0;34m(self, *args, **kwargs)\u001b[0m\n\u001b[1;32m   1509\u001b[0m     \u001b[39mreturn\u001b[39;00m \u001b[39mself\u001b[39m\u001b[39m.\u001b[39m_compiled_call_impl(\u001b[39m*\u001b[39margs, \u001b[39m*\u001b[39m\u001b[39m*\u001b[39mkwargs)  \u001b[39m# type: ignore[misc]\u001b[39;00m\n\u001b[1;32m   1510\u001b[0m \u001b[39melse\u001b[39;00m:\n\u001b[0;32m-> 1511\u001b[0m     \u001b[39mreturn\u001b[39;00m \u001b[39mself\u001b[39;49m\u001b[39m.\u001b[39;49m_call_impl(\u001b[39m*\u001b[39;49margs, \u001b[39m*\u001b[39;49m\u001b[39m*\u001b[39;49mkwargs)\n",
      "File \u001b[0;32m~/anaconda3/envs/griffin/lib/python3.12/site-packages/torch/nn/modules/module.py:1520\u001b[0m, in \u001b[0;36mModule._call_impl\u001b[0;34m(self, *args, **kwargs)\u001b[0m\n\u001b[1;32m   1515\u001b[0m \u001b[39m# If we don't have any hooks, we want to skip the rest of the logic in\u001b[39;00m\n\u001b[1;32m   1516\u001b[0m \u001b[39m# this function, and just call forward.\u001b[39;00m\n\u001b[1;32m   1517\u001b[0m \u001b[39mif\u001b[39;00m \u001b[39mnot\u001b[39;00m (\u001b[39mself\u001b[39m\u001b[39m.\u001b[39m_backward_hooks \u001b[39mor\u001b[39;00m \u001b[39mself\u001b[39m\u001b[39m.\u001b[39m_backward_pre_hooks \u001b[39mor\u001b[39;00m \u001b[39mself\u001b[39m\u001b[39m.\u001b[39m_forward_hooks \u001b[39mor\u001b[39;00m \u001b[39mself\u001b[39m\u001b[39m.\u001b[39m_forward_pre_hooks\n\u001b[1;32m   1518\u001b[0m         \u001b[39mor\u001b[39;00m _global_backward_pre_hooks \u001b[39mor\u001b[39;00m _global_backward_hooks\n\u001b[1;32m   1519\u001b[0m         \u001b[39mor\u001b[39;00m _global_forward_hooks \u001b[39mor\u001b[39;00m _global_forward_pre_hooks):\n\u001b[0;32m-> 1520\u001b[0m     \u001b[39mreturn\u001b[39;00m forward_call(\u001b[39m*\u001b[39;49margs, \u001b[39m*\u001b[39;49m\u001b[39m*\u001b[39;49mkwargs)\n\u001b[1;32m   1522\u001b[0m \u001b[39mtry\u001b[39;00m:\n\u001b[1;32m   1523\u001b[0m     result \u001b[39m=\u001b[39m \u001b[39mNone\u001b[39;00m\n",
      "File \u001b[0;32m~/anaconda3/envs/griffin/lib/python3.12/site-packages/transformers/models/llama/modeling_llama.py:734\u001b[0m, in \u001b[0;36mLlamaDecoderLayer.forward\u001b[0;34m(self, hidden_states, attention_mask, position_ids, past_key_value, output_attentions, use_cache, cache_position, **kwargs)\u001b[0m\n\u001b[1;32m    731\u001b[0m hidden_states \u001b[39m=\u001b[39m \u001b[39mself\u001b[39m\u001b[39m.\u001b[39minput_layernorm(hidden_states)\n\u001b[1;32m    733\u001b[0m \u001b[39m# Self Attention\u001b[39;00m\n\u001b[0;32m--> 734\u001b[0m hidden_states, self_attn_weights, present_key_value \u001b[39m=\u001b[39m \u001b[39mself\u001b[39;49m\u001b[39m.\u001b[39;49mself_attn(\n\u001b[1;32m    735\u001b[0m     hidden_states\u001b[39m=\u001b[39;49mhidden_states,\n\u001b[1;32m    736\u001b[0m     attention_mask\u001b[39m=\u001b[39;49mattention_mask,\n\u001b[1;32m    737\u001b[0m     position_ids\u001b[39m=\u001b[39;49mposition_ids,\n\u001b[1;32m    738\u001b[0m     past_key_value\u001b[39m=\u001b[39;49mpast_key_value,\n\u001b[1;32m    739\u001b[0m     output_attentions\u001b[39m=\u001b[39;49moutput_attentions,\n\u001b[1;32m    740\u001b[0m     use_cache\u001b[39m=\u001b[39;49muse_cache,\n\u001b[1;32m    741\u001b[0m     cache_position\u001b[39m=\u001b[39;49mcache_position,\n\u001b[1;32m    742\u001b[0m     \u001b[39m*\u001b[39;49m\u001b[39m*\u001b[39;49mkwargs,\n\u001b[1;32m    743\u001b[0m )\n\u001b[1;32m    744\u001b[0m hidden_states \u001b[39m=\u001b[39m residual \u001b[39m+\u001b[39m hidden_states\n\u001b[1;32m    746\u001b[0m \u001b[39m# Fully Connected\u001b[39;00m\n",
      "File \u001b[0;32m~/anaconda3/envs/griffin/lib/python3.12/site-packages/torch/nn/modules/module.py:1511\u001b[0m, in \u001b[0;36mModule._wrapped_call_impl\u001b[0;34m(self, *args, **kwargs)\u001b[0m\n\u001b[1;32m   1509\u001b[0m     \u001b[39mreturn\u001b[39;00m \u001b[39mself\u001b[39m\u001b[39m.\u001b[39m_compiled_call_impl(\u001b[39m*\u001b[39margs, \u001b[39m*\u001b[39m\u001b[39m*\u001b[39mkwargs)  \u001b[39m# type: ignore[misc]\u001b[39;00m\n\u001b[1;32m   1510\u001b[0m \u001b[39melse\u001b[39;00m:\n\u001b[0;32m-> 1511\u001b[0m     \u001b[39mreturn\u001b[39;00m \u001b[39mself\u001b[39;49m\u001b[39m.\u001b[39;49m_call_impl(\u001b[39m*\u001b[39;49margs, \u001b[39m*\u001b[39;49m\u001b[39m*\u001b[39;49mkwargs)\n",
      "File \u001b[0;32m~/anaconda3/envs/griffin/lib/python3.12/site-packages/torch/nn/modules/module.py:1520\u001b[0m, in \u001b[0;36mModule._call_impl\u001b[0;34m(self, *args, **kwargs)\u001b[0m\n\u001b[1;32m   1515\u001b[0m \u001b[39m# If we don't have any hooks, we want to skip the rest of the logic in\u001b[39;00m\n\u001b[1;32m   1516\u001b[0m \u001b[39m# this function, and just call forward.\u001b[39;00m\n\u001b[1;32m   1517\u001b[0m \u001b[39mif\u001b[39;00m \u001b[39mnot\u001b[39;00m (\u001b[39mself\u001b[39m\u001b[39m.\u001b[39m_backward_hooks \u001b[39mor\u001b[39;00m \u001b[39mself\u001b[39m\u001b[39m.\u001b[39m_backward_pre_hooks \u001b[39mor\u001b[39;00m \u001b[39mself\u001b[39m\u001b[39m.\u001b[39m_forward_hooks \u001b[39mor\u001b[39;00m \u001b[39mself\u001b[39m\u001b[39m.\u001b[39m_forward_pre_hooks\n\u001b[1;32m   1518\u001b[0m         \u001b[39mor\u001b[39;00m _global_backward_pre_hooks \u001b[39mor\u001b[39;00m _global_backward_hooks\n\u001b[1;32m   1519\u001b[0m         \u001b[39mor\u001b[39;00m _global_forward_hooks \u001b[39mor\u001b[39;00m _global_forward_pre_hooks):\n\u001b[0;32m-> 1520\u001b[0m     \u001b[39mreturn\u001b[39;00m forward_call(\u001b[39m*\u001b[39;49margs, \u001b[39m*\u001b[39;49m\u001b[39m*\u001b[39;49mkwargs)\n\u001b[1;32m   1522\u001b[0m \u001b[39mtry\u001b[39;00m:\n\u001b[1;32m   1523\u001b[0m     result \u001b[39m=\u001b[39m \u001b[39mNone\u001b[39;00m\n",
      "File \u001b[0;32m~/anaconda3/envs/griffin/lib/python3.12/site-packages/transformers/models/llama/modeling_llama.py:644\u001b[0m, in \u001b[0;36mLlamaSdpaAttention.forward\u001b[0;34m(self, hidden_states, attention_mask, position_ids, past_key_value, output_attentions, use_cache, cache_position)\u001b[0m\n\u001b[1;32m    641\u001b[0m cos, sin \u001b[39m=\u001b[39m \u001b[39mself\u001b[39m\u001b[39m.\u001b[39mrotary_emb(value_states, position_ids)\n\u001b[1;32m    642\u001b[0m query_states, key_states \u001b[39m=\u001b[39m apply_rotary_pos_emb(query_states, key_states, cos, sin)\n\u001b[0;32m--> 644\u001b[0m past_key_value \u001b[39m=\u001b[39m \u001b[39mgetattr\u001b[39;49m(\u001b[39mself\u001b[39;49m, \u001b[39m\"\u001b[39;49m\u001b[39mpast_key_value\u001b[39;49m\u001b[39m\"\u001b[39;49m, past_key_value)\n\u001b[1;32m    646\u001b[0m \u001b[39mif\u001b[39;00m past_key_value \u001b[39mis\u001b[39;00m \u001b[39mnot\u001b[39;00m \u001b[39mNone\u001b[39;00m:\n\u001b[1;32m    647\u001b[0m     \u001b[39m# sin and cos are specific to RoPE models; position_ids needed for the static cache\u001b[39;00m\n\u001b[1;32m    648\u001b[0m     cache_kwargs \u001b[39m=\u001b[39m {\u001b[39m\"\u001b[39m\u001b[39msin\u001b[39m\u001b[39m\"\u001b[39m: sin, \u001b[39m\"\u001b[39m\u001b[39mcos\u001b[39m\u001b[39m\"\u001b[39m: cos, \u001b[39m\"\u001b[39m\u001b[39mcache_position\u001b[39m\u001b[39m\"\u001b[39m: cache_position}\n",
      "File \u001b[0;32m~/anaconda3/envs/griffin/lib/python3.12/site-packages/torch/nn/modules/module.py:1688\u001b[0m, in \u001b[0;36mModule.__getattr__\u001b[0;34m(self, name)\u001b[0m\n\u001b[1;32m   1686\u001b[0m     \u001b[39mif\u001b[39;00m name \u001b[39min\u001b[39;00m modules:\n\u001b[1;32m   1687\u001b[0m         \u001b[39mreturn\u001b[39;00m modules[name]\n\u001b[0;32m-> 1688\u001b[0m \u001b[39mraise\u001b[39;00m \u001b[39mAttributeError\u001b[39;49;00m(\u001b[39mf\u001b[39;49m\u001b[39m\"\u001b[39;49m\u001b[39m'\u001b[39;49m\u001b[39m{\u001b[39;49;00m\u001b[39mtype\u001b[39;49m(\u001b[39mself\u001b[39;49m)\u001b[39m.\u001b[39;49m\u001b[39m__name__\u001b[39;49m\u001b[39m}\u001b[39;49;00m\u001b[39m'\u001b[39;49m\u001b[39m object has no attribute \u001b[39;49m\u001b[39m'\u001b[39;49m\u001b[39m{\u001b[39;49;00mname\u001b[39m}\u001b[39;49;00m\u001b[39m'\u001b[39;49m\u001b[39m\"\u001b[39;49m)\n",
      "\u001b[0;31mKeyboardInterrupt\u001b[0m: "
     ]
    }
   ],
   "source": [
    "# testdataset = load_dataset(\"tau/commonsense_qa\", split = \"test\") \n",
    "testdataset = load_dataset(\"tasksource/bigbench\", \"strategyqa\", split = \"validation\") \n",
    "for i, batch in enumerate(testdataset): \n",
    "    inputtext = chainofthoughtprompt + \"Q: Yes or No: {}\".format(batch[\"inputs\"]) \n",
    "    inputids = tokenizer(inputtext, add_special_tokens = True, return_tensors = \"pt\") \n",
    "    inputids[\"input_ids\"] = inputids[\"input_ids\"].to(model.device) \n",
    "    # output = model.generate(inputids[\"input_ids\"], max_length = inputids[\"input_ids\"].shape[-1] + 100, do_sample = False) \n",
    "    output = model.generate(inputids[\"input_ids\"], max_length = inputids[\"input_ids\"].shape[-1] + 200, do_sample = False) \n",
    "    print(inputtext, end = \"\") \n",
    "    anw = tokenizer.decode(output[0][inputids[\"input_ids\"].shape[-1] :], skip_special_tokens = False) \n",
    "    terminationidx = anw.find(\"Q: \") \n",
    "    # print(terminationidx) \n",
    "    print(colored(anw[: terminationidx], \"green\"), end = \" \") "
   ]
  },
  {
   "cell_type": "code",
   "execution_count": null,
   "metadata": {},
   "outputs": [],
   "source": []
  }
 ],
 "metadata": {
  "kernelspec": {
   "display_name": "Python 3 (ipykernel)",
   "language": "python",
   "name": "python3"
  },
  "language_info": {
   "codemirror_mode": {
    "name": "ipython",
    "version": 3
   },
   "file_extension": ".py",
   "mimetype": "text/x-python",
   "name": "python",
   "nbconvert_exporter": "python",
   "pygments_lexer": "ipython3",
   "version": "3.12.1"
  }
 },
 "nbformat": 4,
 "nbformat_minor": 2
}
